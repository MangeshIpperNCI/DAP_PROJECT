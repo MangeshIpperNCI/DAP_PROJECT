{
 "cells": [
  {
   "cell_type": "code",
   "execution_count": null,
   "metadata": {},
   "outputs": [],
   "source": [
    "from pymongo import MongoClient\n",
    "import json\n",
    "import pandas as pd\n",
    "import numpy as np\n",
    "import psycopg2\n",
    "import csv\n",
    "import pandas.io.sql as sqlio\n",
    "import matplotlib\n",
    "import matplotlib.pyplot as plt\n",
    "from matplotlib import gridspec as gs"
   ]
  },
  {
   "cell_type": "code",
   "execution_count": null,
   "metadata": {},
   "outputs": [],
   "source": [
    "#Establish connection with MongoDB\n",
    "try :\n",
    "    client = MongoClient('localhost', 27017)\n",
    "    print(\"Connection successful!\")\n",
    "except :\n",
    "    print(\"Connection unsuccessful!\")\n",
    "#Establish connection\n",
    "# client = MongoClient('localhost', 27017)\n",
    "# db = client['mentalStateDatabase']\n",
    "# collection = db['mental+StateCollection']"
   ]
  },
  {
   "cell_type": "code",
   "execution_count": null,
   "metadata": {},
   "outputs": [],
   "source": [
    "#Read Json data\n",
    "filepath = r'C:\\Users\\Pratiksha Chate\\Desktop\\Books\\DAP\\Project\\mental_state.json'     #read JSON data\n",
    "try :\n",
    "    with open(filepath) as file:\n",
    "        file_data = json.load(file)    #load json dada\n",
    "    print(\"File loaded!\")\n",
    "except :\n",
    "    print(\"Unable to open the file!\")\n",
    "finally :\n",
    "    file.close()    #file closed\n",
    "    print(\"File closed!\")"
   ]
  },
  {
   "cell_type": "code",
   "execution_count": null,
   "metadata": {},
   "outputs": [],
   "source": [
    "try :\n",
    "    db = client['mentalStateDatabase']    # Create DB with DB name as mentalStateDatabase\n",
    "    collection = db['mentalStateCollection']    #Create collection : mentalStateCollection to store JSON data\n",
    "    collection.insert_one(file_data)          #insert the loaded file into collection\n",
    "except :\n",
    "    print(\"Cannot access DB or Collection, unable to insert file!\") #Error\n",
    "finally :\n",
    "    client.close()    #Close connection"
   ]
  },
  {
   "cell_type": "code",
   "execution_count": null,
   "metadata": {},
   "outputs": [],
   "source": [
    "getData = pd.DataFrame(list(collection.find()))    #storing the data into the dataframe\n",
    "\n",
    "columns = [] #Creating an empty list to store column names\n",
    "#Fetching Column names details from data stored in MongoDB using for loop \n",
    "for data in getData[\"meta\"]:\n",
    "    for column in data['view']['columns']:\n",
    "        columnName = column['name']\n",
    "        if columnName not in columns:\n",
    "            columns.append(columnName)\n",
    "        \n",
    "print(columns) "
   ]
  },
  {
   "cell_type": "code",
   "execution_count": null,
   "metadata": {},
   "outputs": [],
   "source": [
    "mentalStateData = pd.DataFrame(getData[\"data\"][0], columns = columns)    #Creating data frame to store data in the respective columns\n",
    "mentalStateData.head()      # Viewing the data once all the columns are stored"
   ]
  },
  {
   "cell_type": "code",
   "execution_count": null,
   "metadata": {},
   "outputs": [],
   "source": [
    "mentalStateData"
   ]
  },
  {
   "cell_type": "code",
   "execution_count": null,
   "metadata": {},
   "outputs": [],
   "source": [
    "#Dropping the first eight columns as they are relevant only when dealing with json files.\n",
    "mentalStateData.drop(mentalStateData.columns[0:8], axis = 1, inplace = True)\n",
    "pd.DataFrame().from_dict(mentalStateData)\n",
    "mentalStateData"
   ]
  },
  {
   "cell_type": "code",
   "execution_count": null,
   "metadata": {},
   "outputs": [],
   "source": [
    "#Counting the missing values in each column\n",
    "missing = pd.DataFrame(mentalStateData.isnull().sum())\n",
    "print(missing)"
   ]
  },
  {
   "cell_type": "code",
   "execution_count": null,
   "metadata": {},
   "outputs": [],
   "source": [
    "#Replacing the missing values of columns Value, Low CI, High CI with median value\n",
    "mentalStateData['Value'] = mentalStateData['Value'].fillna(mentalStateData['Value'].median(axis=0))\n",
    "mentalStateData['Low CI'] = mentalStateData['Low CI'].fillna(mentalStateData['Low CI'].median(axis=0))\n",
    "mentalStateData['High CI'] = mentalStateData['High CI'].fillna(mentalStateData['High CI'].median(axis=0))"
   ]
  },
  {
   "cell_type": "code",
   "execution_count": null,
   "metadata": {},
   "outputs": [],
   "source": [
    "missing = pd.DataFrame(mentalStateData.isnull().sum())\n",
    "print(missing)\n",
    "mentalStateData"
   ]
  },
  {
   "cell_type": "code",
   "execution_count": null,
   "metadata": {},
   "outputs": [],
   "source": [
    "# Filling in the missing value with '0.0-0.0'\n",
    "mentalStateData.loc[mentalStateData['Confidence Interval'].isnull(), 'Confidence Interval'] = \"0.0-0.0\"\n",
    "myList = [i.split('-') for i in  mentalStateData['Confidence Interval'][mentalStateData['Confidence Interval'].notnull()]]\n",
    "#print(myList)\n",
    "\n",
    "mean1 =[]    #creating an empty list for mean\n",
    "for i in myList: # For loop to iterate through mylist which holds upper and lower range value of confidence interval.\n",
    "    mean = (float(i[0]) + float(i[1]))/2     #Calculating the mean of LHS and RHS of the range\n",
    "    mean1.append(mean)                       #Append the newly calculated mean in the empty list\n",
    "mentalStateData['CIRange'] = pd.DataFrame(mean1)    #Assign the mean1 list to CIRange\n",
    "\n",
    "print(mentalStateData['CIRange'])"
   ]
  },
  {
   "cell_type": "code",
   "execution_count": null,
   "metadata": {},
   "outputs": [],
   "source": [
    "# Updating the '0.00' value with median value\n",
    "mentalStateData.loc[ mentalStateData['CIRange'] == 0 | np.isnan(mentalStateData['CIRange']), 'CIRange' ] = mentalStateData['CIRange'].median()"
   ]
  },
  {
   "cell_type": "code",
   "execution_count": null,
   "metadata": {},
   "outputs": [],
   "source": [
    "#Ensure that there are no missing value in the Confidence Interval column\n",
    "missing = pd.DataFrame(mentalStateData.isnull().sum())\n",
    "print(missing)"
   ]
  },
  {
   "cell_type": "code",
   "execution_count": null,
   "metadata": {},
   "outputs": [],
   "source": [
    "# Quartile Range column values will also be filled my the mean of the range value\n",
    "\n",
    "mentalStateData.loc[mentalStateData['Quartile Range'].isnull(), 'Quartile Range'] = \"0.0-0.0\" # Filling missing record with 0 value\n",
    "myList1 = [i.split('-') for i in  mentalStateData['Quartile Range'][mentalStateData['Quartile Range'].notnull()]]\n",
    "\n",
    "mean2 =[] # Creating an empty list\n",
    "for i in myList1:\n",
    "    mean = (float(i[0]) + float(i[1]))/2\n",
    "    #print(mean)\n",
    "    mean2.append(mean) # adding the mean of the Quartile range values to the empty mean2 list.\n",
    "    \n",
    "   \n",
    " #Creating a new  column name QR and adding the mean value of Quartile Range\n",
    "mentalStateData['QR'] = pd.DataFrame(mean2)\n",
    "\n",
    "#print(mentalStateData['QR'])"
   ]
  },
  {
   "cell_type": "code",
   "execution_count": null,
   "metadata": {},
   "outputs": [],
   "source": [
    "#Replacing 0 values with median value\n",
    "mentalStateData.loc[ mentalStateData['QR'] == 0 | np.isnan(mentalStateData['QR']), 'QR' ] = mentalStateData['QR'].median()\n",
    "#mentalStateData['QR']"
   ]
  },
  {
   "cell_type": "code",
   "execution_count": null,
   "metadata": {},
   "outputs": [],
   "source": [
    "missing = pd.DataFrame(mentalStateData.isnull().sum())\n",
    "print(missing)"
   ]
  },
  {
   "cell_type": "code",
   "execution_count": null,
   "metadata": {},
   "outputs": [],
   "source": [
    "#Dropping original Confidence Interval and Quartile Range columns as the range values have been handled and stored under new columns CIRange and QR respectively\n",
    "mentalStateData.drop(['Confidence Interval','Quartile Range'], axis = 1, inplace = True)\n",
    "pd.DataFrame().from_dict(mentalStateData)"
   ]
  },
  {
   "cell_type": "code",
   "execution_count": null,
   "metadata": {},
   "outputs": [],
   "source": [
    "mentalStateData.rename(columns={'Indicator':'Indicator','Group':'Groups','State':'State','Subgroup':'Subgroup','Phase':'Phase','Time Period':'TimePeriod','Time Period Label':'TimePeriodLabel','Time Period Start Date':'TimePeriodStartDate','Time Period End Date':'TimePeriodEndDate','Value':'Value','Low CI':'LowCI','High CI':'HighCI','CIRange':'ConfidenceInterval','QR':'QuartileRange'\n",
    "}, inplace=True)"
   ]
  },
  {
   "cell_type": "code",
   "execution_count": null,
   "metadata": {},
   "outputs": [],
   "source": [
    "mentalStateData.to_csv('mental_state.csv',index=False)"
   ]
  },
  {
   "cell_type": "code",
   "execution_count": null,
   "metadata": {},
   "outputs": [],
   "source": [
    "#Create Database in PostgresSQL\n",
    "try:\n",
    "    #Establish Connection with postgres\n",
    "    dbConnection = psycopg2.connect(user = \"postgres\",password = \"abcd1234\",host = \"localhost\",port = \"5432\")\n",
    "    print(\"Connected!\")\n",
    "    dbConnection.set_isolation_level(0) # AUTOCOMMIT\n",
    "    dbCursor = dbConnection.cursor()\n",
    "    dbCursor.execute('CREATE DATABASE mentalState;')    #Create database : mentalState query\n",
    "    dbCursor.close()\n",
    "except (Exception , psycopg2.Error) as dbError :\n",
    "    print (\"Error while connecting to PostgreSQL\", dbError)\n",
    "finally:\n",
    "    if(dbConnection): dbConnection.close()    #Close connection"
   ]
  },
  {
   "cell_type": "code",
   "execution_count": null,
   "metadata": {},
   "outputs": [],
   "source": [
    "# Creating Database Schema with correct datatypes\n",
    "createString = \"\"\"\n",
    "CREATE TABLE mentalState(\n",
    "Indicator VARCHAR,\n",
    "Groups VARCHAR,\n",
    "State VARCHAR,\n",
    "Subgroup VARCHAR,\n",
    "Phase VARCHAR,\n",
    "TimePeriod numeric(5,2),\n",
    "TimePeriodLabel VARCHAR,\n",
    "TimePeriodStartDate date,\n",
    "TimePeriodEndDate date,\n",
    "Value numeric(5,2),\n",
    "LowCI numeric(5,2),\n",
    "HighCI numeric(5,2),\n",
    "ConfidenceInterval numeric(5,2),\n",
    "QuartileRange numeric(5,2)\n",
    ");\n",
    "\"\"\""
   ]
  },
  {
   "cell_type": "code",
   "execution_count": null,
   "metadata": {},
   "outputs": [],
   "source": [
    "#Create Table in Data\n",
    "try:\n",
    "    dbConnection = psycopg2.connect(user = \"postgres\",password = \"abcd1234\",host = \"localhost\",port = \"5432\",database = \"mentalstate\")\n",
    "    dbConnection.set_isolation_level(0) # AUTOCOMMIT\n",
    "    dbCursor = dbConnection.cursor()\n",
    "    dbCursor.execute(createString)    #Execute Query\n",
    "    print(\"Table created successfully!\")\n",
    "    dbCursor.close()\n",
    "except (Exception , psycopg2.Error) as dbError :\n",
    "    print (\"Error while connecting to PostgreSQL\", dbError)\n",
    "finally:\n",
    "    if(dbConnection): dbConnection.close()    #Close connection"
   ]
  },
  {
   "cell_type": "code",
   "execution_count": null,
   "metadata": {},
   "outputs": [],
   "source": [
    "#Insert data into newly created table : mentalState in PostgreSQL\n",
    "\n",
    "try:\n",
    "    dbConnection = psycopg2.connect(user = \"postgres\",password = \"abcd1234\",host = \"localhost\",port = \"5432\",database = \"mentalstate\")\n",
    "    dbConnection.set_isolation_level(0) # AUTOCOMMIT\n",
    "   # dbCursor = dbConnection.cursor()\n",
    "    sql = \"COPY %s FROM STDIN WITH CSV HEADER DELIMITER AS ','\"\n",
    "    file = open(\"mental_state.csv\", \"r\")\n",
    "    #Inserting data from merged CSV into table in Postgres\n",
    "    with dbConnection.cursor() as cur:\n",
    "        #Avoiding uploading duplicate data!\n",
    "        cur.execute(\"truncate \" + \"mentalState\" + \";\")  \n",
    "        cur.copy_expert(sql=sql % \"mentalState\", file=file)\n",
    "        dbConnection.commit()\n",
    "    print(\"Data inserted into the dataframe!\")\n",
    "except (Exception , psycopg2.Error) as dbError :\n",
    "    print (\"Error:\", dbError)\n",
    "finally:\n",
    "    if(dbConnection): dbConnection.close()"
   ]
  },
  {
   "cell_type": "code",
   "execution_count": null,
   "metadata": {},
   "outputs": [],
   "source": [
    "#Fetch Data from the database into mentalState_dataframe\n",
    "\n",
    "sql = \"\"\"SELECT * FROM mentalState;\"\"\"\n",
    "dbConnection = psycopg2.connect(user = \"postgres\",password = \"abcd1234\",host = \"localhost\",port = \"5432\",database = \"mentalstate\")\n",
    "mentalState_dataframe = sqlio.read_sql_query(sql, dbConnection)\n",
    "#print(mentalState_dataframe)\n",
    "dbConnection.close()"
   ]
  },
  {
   "cell_type": "code",
   "execution_count": null,
   "metadata": {},
   "outputs": [],
   "source": [
    "mentalState_dataframe.info()"
   ]
  }
 ],
 "metadata": {
  "kernelspec": {
   "display_name": "Python 3",
   "language": "python",
   "name": "python3"
  },
  "language_info": {
   "codemirror_mode": {
    "name": "ipython",
    "version": 3
   },
   "file_extension": ".py",
   "mimetype": "text/x-python",
   "name": "python",
   "nbconvert_exporter": "python",
   "pygments_lexer": "ipython3",
   "version": "3.8.5"
  }
 },
 "nbformat": 4,
 "nbformat_minor": 4
}
