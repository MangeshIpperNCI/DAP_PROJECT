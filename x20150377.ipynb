{
 "cells": [
  {
   "cell_type": "markdown",
   "metadata": {},
   "source": [
    "## Table of Contents\n",
    "\n",
    "1. [Objective](#section1)<br> \n",
    "2. [Import Packages](#section2)<br> \n",
    "3. [Establish connection with MongoDB and Read JSON data](#section3)<br> \n",
    "4. [Extracting column names and store the data in the Dataframe](#section4)<br> \n",
    "5. [Data Pre-Processing](#section5)<br>      \n",
    "    - 5.1 [Remove Irrelevant Columns](#section50101)<br>      \n",
    "    - 5.2 [Handle missing values](#section50102)<br>\n",
    "    - 5.3 [Handle missing data for range of values](#section50103)<br>\n",
    "6. [Data Post-Processing](#section6) \n",
    "    - 6.1 [Update Column Names](#section601)<br>\n",
    "    - 6.2 [Save the Dataframe in a csv file ](#section602)<br>\n",
    "7. [Loading the Data to Postgresql Database](#section7)\n",
    "  - 7.1 [Establish Connection and Create Database in PostgreSQL](#section701)<br>\n",
    "  - 7.2 [Create Table Schema in PostgreSQL](#section702)<br> \n",
    "  - 7.3 [Create Table using created schema](#section703)<br>\n",
    "  - 7.4 [Insert Data into table ](#section704)<br>\n",
    "  - 7.5 [Selecting Data from Postgresql and saving it in a Dataframe](#section705)<br>\n",
    "8. [Visualization ](#section8)\n",
    "  - 8.1 [Division of Anxiety and Depressive disorder against Race ](#section801)<br>\n",
    "  - 8.2 [Mental Health v/s Age Group ](#section802)<br>\n",
    "  - 8.3 [Mental Health Based on Age and Ethnicity ](#section803)<br>\n",
    "  - 8.4 [Mental Health w.r.t. Education Level ](#section804)<br>\n",
    "  - 8.5 [Mental Health w.r.t US states](#section805)<br>\n",
    "  - 8.6 [Mental Health Based on Gender ](#section806)<br>\n"
   ]
  },
  {
   "cell_type": "markdown",
   "metadata": {},
   "source": [
    "<a id=section1></a>\n",
    "## 1. Objective\n",
    "The study aims to guage the impact of COVID-19 pandemic on the mental well-being of people for different indicators such as Anxiety and Depressive disorders with respect to various subgroups like age, sex, ethnicity, education and state on American households."
   ]
  },
  {
   "cell_type": "markdown",
   "metadata": {},
   "source": [
    "<a id=section2></a>\n",
    "## 2. Import Packages"
   ]
  },
  {
   "cell_type": "code",
   "execution_count": null,
   "metadata": {},
   "outputs": [],
   "source": [
    "from pymongo import MongoClient\n",
    "import json\n",
    "import pandas as pd\n",
    "import numpy as np\n",
    "import psycopg2\n",
    "import csv\n",
    "import pandas.io.sql as sqlio\n",
    "import matplotlib\n",
    "import matplotlib.pyplot as plt\n",
    "from matplotlib import gridspec as gs\n",
    "import plotly as pl \n",
    "import plotly.express as px\n",
    "import plotly.graph_objects as go\n",
    "from plotly.subplots import make_subplots"
   ]
  },
  {
   "cell_type": "markdown",
   "metadata": {},
   "source": [
    "<a id=section3></a>\n",
    "## 3. Establish connection with MongoDB and Read JSON data"
   ]
  },
  {
   "cell_type": "code",
   "execution_count": null,
   "metadata": {},
   "outputs": [],
   "source": [
    "#Establish connection with MongoDB\n",
    "try :\n",
    "    client = MongoClient('localhost', 27017)\n",
    "    print(\"Connection successful!\")\n",
    "except :\n",
    "    print(\"Connection unsuccessful!\")\n",
    "#Establish connection\n",
    "# client = MongoClient('localhost', 27017)\n",
    "# db = client['mentalStateDatabase']\n",
    "# collection = db['mental+StateCollection']"
   ]
  },
  {
   "cell_type": "code",
   "execution_count": null,
   "metadata": {},
   "outputs": [],
   "source": [
    "#Read Json data\n",
    "filepath = r'C:\\Users\\Pratiksha Chate\\Desktop\\Books\\DAP\\Project\\mental_state.json'     #read JSON data\n",
    "try :\n",
    "    with open(filepath) as file:\n",
    "        file_data = json.load(file)    #load json dada\n",
    "    print(\"File loaded!\")\n",
    "except :\n",
    "    print(\"Unable to open the file!\")\n",
    "finally :\n",
    "    file.close()    #file closed\n",
    "    print(\"File closed!\")"
   ]
  },
  {
   "cell_type": "code",
   "execution_count": null,
   "metadata": {},
   "outputs": [],
   "source": [
    "try :\n",
    "    db = client['mentalStateDatabase']    # Create DB with DB name as mentalStateDatabase\n",
    "    collection = db['mentalStateCollection']    #Create collection : mentalStateCollection to store JSON data\n",
    "    collection.insert_one(file_data)          #insert the loaded file into collection\n",
    "except :\n",
    "    print(\"Cannot access DB or Collection, unable to insert file!\") #Error\n",
    "finally :\n",
    "    client.close()    #Close connection"
   ]
  },
  {
   "cell_type": "markdown",
   "metadata": {},
   "source": [
    "<a id=section4></a>\n",
    "## 4. Extracting column names and store the data in the Dataframe "
   ]
  },
  {
   "cell_type": "code",
   "execution_count": null,
   "metadata": {},
   "outputs": [],
   "source": [
    "getData = pd.DataFrame(list(collection.find()))    #storing the data into the dataframe\n",
    "\n",
    "columns = [] #Creating an empty list to store column names\n",
    "#Fetching Column names details from data stored in MongoDB using for loop \n",
    "for data in getData[\"meta\"]:\n",
    "    for column in data['view']['columns']:\n",
    "        columnName = column['name']\n",
    "        if columnName not in columns:\n",
    "            columns.append(columnName)\n",
    "        \n",
    "print(columns) "
   ]
  },
  {
   "cell_type": "code",
   "execution_count": null,
   "metadata": {},
   "outputs": [],
   "source": [
    "mentalStateData = pd.DataFrame(getData[\"data\"][0], columns = columns)    #Creating data frame to store data in the respective columns\n",
    "mentalStateData.head()      # Viewing the data once all the columns are stored"
   ]
  },
  {
   "cell_type": "markdown",
   "metadata": {},
   "source": [
    "<a id=section5></a>\n",
    "## 5. Data Pre-Processing"
   ]
  },
  {
   "cell_type": "markdown",
   "metadata": {},
   "source": [
    "<a id=section50101></a>\n",
    "### 5.1  Remove Irrelevant Columns\n",
    "Identifying and Deleting the columns that are not relevant."
   ]
  },
  {
   "cell_type": "code",
   "execution_count": null,
   "metadata": {},
   "outputs": [],
   "source": [
    "#Dropping the first eight columns as they are relevant only when dealing with json files.\n",
    "mentalStateData.drop(mentalStateData.columns[0:8], axis = 1, inplace = True)\n",
    "pd.DataFrame().from_dict(mentalStateData)\n",
    "mentalStateData"
   ]
  },
  {
   "cell_type": "markdown",
   "metadata": {},
   "source": [
    "<a id=section50102></a>\n",
    "### 5.2  Handle missing values\n",
    "Identify the missing values in each column and replace with median"
   ]
  },
  {
   "cell_type": "code",
   "execution_count": null,
   "metadata": {},
   "outputs": [],
   "source": [
    "#Counting the missing values in each column\n",
    "missing = pd.DataFrame(mentalStateData.isnull().sum())\n",
    "print(missing)"
   ]
  },
  {
   "cell_type": "code",
   "execution_count": null,
   "metadata": {},
   "outputs": [],
   "source": [
    "#Replacing the missing values of columns Value, Low CI, High CI with median value\n",
    "mentalStateData['Value'] = mentalStateData['Value'].fillna(mentalStateData['Value'].median(axis=0))\n",
    "mentalStateData['Low CI'] = mentalStateData['Low CI'].fillna(mentalStateData['Low CI'].median(axis=0))\n",
    "mentalStateData['High CI'] = mentalStateData['High CI'].fillna(mentalStateData['High CI'].median(axis=0))"
   ]
  },
  {
   "cell_type": "code",
   "execution_count": null,
   "metadata": {},
   "outputs": [],
   "source": [
    "missing = pd.DataFrame(mentalStateData.isnull().sum())\n",
    "print(missing)\n",
    "mentalStateData"
   ]
  },
  {
   "cell_type": "markdown",
   "metadata": {},
   "source": [
    "<a id=section50103></a>\n",
    "### 5.3  Handle missing data for range of values\n",
    "Split the range with '-' and take the average of the lower bound and upper bound. The missing values are then handled by taking the median of the column.\n"
   ]
  },
  {
   "cell_type": "code",
   "execution_count": null,
   "metadata": {},
   "outputs": [],
   "source": [
    "# Filling in the missing value with '0.0-0.0'\n",
    "mentalStateData.loc[mentalStateData['Confidence Interval'].isnull(), 'Confidence Interval'] = \"0.0-0.0\"\n",
    "myList = [i.split('-') for i in  mentalStateData['Confidence Interval'][mentalStateData['Confidence Interval'].notnull()]]\n",
    "#print(myList)\n",
    "\n",
    "mean1 =[]    #creating an empty list for mean\n",
    "for i in myList: # For loop to iterate through mylist which holds upper and lower range value of confidence interval.\n",
    "    mean = (float(i[0]) + float(i[1]))/2     #Calculating the mean of LHS and RHS of the range\n",
    "    mean1.append(mean)                       #Append the newly calculated mean in the empty list\n",
    "mentalStateData['CIRange'] = pd.DataFrame(mean1)    #Assign the mean1 list to CIRange\n",
    "\n",
    "print(mentalStateData['CIRange'])"
   ]
  },
  {
   "cell_type": "code",
   "execution_count": null,
   "metadata": {},
   "outputs": [],
   "source": [
    "# Updating the '0.00' value with median value\n",
    "mentalStateData.loc[ mentalStateData['CIRange'] == 0 | np.isnan(mentalStateData['CIRange']), 'CIRange' ] = mentalStateData['CIRange'].median()"
   ]
  },
  {
   "cell_type": "code",
   "execution_count": null,
   "metadata": {},
   "outputs": [],
   "source": [
    "#Ensure that there are no missing value in the Confidence Interval column\n",
    "missing = pd.DataFrame(mentalStateData.isnull().sum())\n",
    "print(missing)"
   ]
  },
  {
   "cell_type": "code",
   "execution_count": null,
   "metadata": {},
   "outputs": [],
   "source": [
    "# Quartile Range column values will also be filled my the mean of the range value\n",
    "\n",
    "mentalStateData.loc[mentalStateData['Quartile Range'].isnull(), 'Quartile Range'] = \"0.0-0.0\" # Filling missing record with 0 value\n",
    "myList1 = [i.split('-') for i in  mentalStateData['Quartile Range'][mentalStateData['Quartile Range'].notnull()]]\n",
    "\n",
    "mean2 =[] # Creating an empty list\n",
    "for i in myList1:\n",
    "    mean = (float(i[0]) + float(i[1]))/2\n",
    "    #print(mean)\n",
    "    mean2.append(mean) # adding the mean of the Quartile range values to the empty mean2 list.\n",
    "    \n",
    "   \n",
    " #Creating a new  column name QR and adding the mean value of Quartile Range\n",
    "mentalStateData['QR'] = pd.DataFrame(mean2)\n",
    "\n",
    "#print(mentalStateData['QR'])"
   ]
  },
  {
   "cell_type": "code",
   "execution_count": null,
   "metadata": {},
   "outputs": [],
   "source": [
    "#Replacing 0 values with median value\n",
    "mentalStateData.loc[ mentalStateData['QR'] == 0 | np.isnan(mentalStateData['QR']), 'QR' ] = mentalStateData['QR'].median()\n",
    "#mentalStateData['QR']"
   ]
  },
  {
   "cell_type": "code",
   "execution_count": null,
   "metadata": {},
   "outputs": [],
   "source": [
    "missing = pd.DataFrame(mentalStateData.isnull().sum())\n",
    "print(missing)"
   ]
  },
  {
   "cell_type": "code",
   "execution_count": null,
   "metadata": {},
   "outputs": [],
   "source": [
    "#Dropping original Confidence Interval and Quartile Range columns as the range values have been handled and stored under new columns CIRange and QR respectively\n",
    "mentalStateData.drop(['Confidence Interval','Quartile Range'], axis = 1, inplace = True)\n",
    "pd.DataFrame().from_dict(mentalStateData)"
   ]
  },
  {
   "cell_type": "markdown",
   "metadata": {},
   "source": [
    "<a id=section6></a>\n",
    "## 6. Data Post-Processing\n"
   ]
  },
  {
   "cell_type": "markdown",
   "metadata": {},
   "source": [
    "<a id=section601></a>\n",
    "## 6 .1 Update Column Names\n",
    "Rename Columns to ensure required formatting before loading the data to postgreSQL"
   ]
  },
  {
   "cell_type": "code",
   "execution_count": null,
   "metadata": {},
   "outputs": [],
   "source": [
    "mentalStateData.rename(columns={'Indicator':'Indicator','Group':'Groups','State':'State','Subgroup':'Subgroup','Phase':'Phase','Time Period':'TimePeriod','Time Period Label':'TimePeriodLabel','Time Period Start Date':'TimePeriodStartDate','Time Period End Date':'TimePeriodEndDate','Value':'Value','Low CI':'LowCI','High CI':'HighCI','CIRange':'ConfidenceInterval','QR':'QuartileRange'\n",
    "}, inplace=True)"
   ]
  },
  {
   "cell_type": "markdown",
   "metadata": {},
   "source": [
    "## 6.2 Save the Dataframe in a csv file <a id=section602></a>"
   ]
  },
  {
   "cell_type": "code",
   "execution_count": null,
   "metadata": {},
   "outputs": [],
   "source": [
    "mentalStateData.to_csv('mental_state.csv',index=False)"
   ]
  },
  {
   "cell_type": "markdown",
   "metadata": {},
   "source": [
    "## 7. Loading the Data to PostgreSQL Database<a id=section7></a>"
   ]
  },
  {
   "cell_type": "markdown",
   "metadata": {},
   "source": [
    "## 7.1 Establish Connection and Create Database in PostgreSQL <a id=section701></a>"
   ]
  },
  {
   "cell_type": "code",
   "execution_count": null,
   "metadata": {},
   "outputs": [],
   "source": [
    "#Create Database in PostgresSQL\n",
    "try:\n",
    "    #Establish Connection with postgres\n",
    "    dbConnection = psycopg2.connect(user = \"postgres\",password = \"abcd1234\",host = \"localhost\",port = \"5432\")\n",
    "    print(\"Connected!\")\n",
    "    dbConnection.set_isolation_level(0) # AUTOCOMMIT\n",
    "    dbCursor = dbConnection.cursor()\n",
    "    dbCursor.execute('CREATE DATABASE mentalState;')    #Create database : mentalState query\n",
    "    dbCursor.close()\n",
    "except (Exception , psycopg2.Error) as dbError :\n",
    "    print (\"Error while connecting to PostgreSQL\", dbError)\n",
    "finally:\n",
    "    if(dbConnection): dbConnection.close()    #Close connection"
   ]
  },
  {
   "cell_type": "markdown",
   "metadata": {},
   "source": [
    "## 7.2 Create Table Schema in PostgreSQL <a id=section702></a>"
   ]
  },
  {
   "cell_type": "code",
   "execution_count": null,
   "metadata": {},
   "outputs": [],
   "source": [
    "# Creating Database Schema with correct datatypes\n",
    "createString = \"\"\"\n",
    "CREATE TABLE mentalState(\n",
    "Indicator VARCHAR,\n",
    "Groups VARCHAR,\n",
    "State VARCHAR,\n",
    "Subgroup VARCHAR,\n",
    "Phase VARCHAR,\n",
    "TimePeriod numeric(5,2),\n",
    "TimePeriodLabel VARCHAR,\n",
    "TimePeriodStartDate date,\n",
    "TimePeriodEndDate date,\n",
    "Value numeric(5,2),\n",
    "LowCI numeric(5,2),\n",
    "HighCI numeric(5,2),\n",
    "ConfidenceInterval numeric(5,2),\n",
    "QuartileRange numeric(5,2)\n",
    ");\n",
    "\"\"\""
   ]
  },
  {
   "cell_type": "markdown",
   "metadata": {},
   "source": [
    "## 7.3 Create Table using created schema <a id=section703></a>"
   ]
  },
  {
   "cell_type": "code",
   "execution_count": null,
   "metadata": {},
   "outputs": [],
   "source": [
    "#Create Table in Data\n",
    "try:\n",
    "    dbConnection = psycopg2.connect(user = \"postgres\",password = \"abcd1234\",host = \"localhost\",port = \"5432\",database = \"mentalstate\")\n",
    "    dbConnection.set_isolation_level(0) # AUTOCOMMIT\n",
    "    dbCursor = dbConnection.cursor()\n",
    "    dbCursor.execute(createString)    #Execute Query\n",
    "    print(\"Table created successfully!\")\n",
    "    dbCursor.close()\n",
    "except (Exception , psycopg2.Error) as dbError :\n",
    "    print (\"Error while connecting to PostgreSQL\", dbError)\n",
    "finally:\n",
    "    if(dbConnection): dbConnection.close()    #Close connection"
   ]
  },
  {
   "cell_type": "markdown",
   "metadata": {},
   "source": [
    "## 7.4 Insert Data into table <a id=section704></a>"
   ]
  },
  {
   "cell_type": "code",
   "execution_count": null,
   "metadata": {},
   "outputs": [],
   "source": [
    "#Insert data into newly created table : mentalState in PostgreSQL\n",
    "\n",
    "try:\n",
    "    dbConnection = psycopg2.connect(user = \"postgres\",password = \"abcd1234\",host = \"localhost\",port = \"5432\",database = \"mentalstate\")\n",
    "    dbConnection.set_isolation_level(0) # AUTOCOMMIT\n",
    "   # dbCursor = dbConnection.cursor()\n",
    "    sql = \"COPY %s FROM STDIN WITH CSV HEADER DELIMITER AS ','\"\n",
    "    file = open(\"mental_state.csv\", \"r\")\n",
    "    #Inserting data from merged CSV into table in Postgres\n",
    "    with dbConnection.cursor() as cur:\n",
    "        #Avoiding uploading duplicate data!\n",
    "        cur.execute(\"truncate \" + \"mentalState\" + \";\")  \n",
    "        cur.copy_expert(sql=sql % \"mentalState\", file=file)\n",
    "        dbConnection.commit()\n",
    "    print(\"Data inserted into the dataframe!\")\n",
    "except (Exception , psycopg2.Error) as dbError :\n",
    "    print (\"Error:\", dbError)\n",
    "finally:\n",
    "    if(dbConnection): dbConnection.close()"
   ]
  },
  {
   "cell_type": "markdown",
   "metadata": {},
   "source": [
    "## 7.5 Selecting Data from Postgresql and saving it in a Dataframe <a id=section705></a>\n"
   ]
  },
  {
   "cell_type": "code",
   "execution_count": null,
   "metadata": {},
   "outputs": [],
   "source": [
    "#Fetch Data from the database into mentalState_dataframe\n",
    "\n",
    "sql = \"\"\"SELECT * FROM mentalState;\"\"\"\n",
    "dbConnection = psycopg2.connect(user = \"postgres\",password = \"abcd1234\",host = \"localhost\",port = \"5432\",database = \"mentalstate\")\n",
    "mentalState_dataframe = sqlio.read_sql_query(sql, dbConnection)\n",
    "#print(mentalState_dataframe)\n",
    "dbConnection.close()"
   ]
  },
  {
   "cell_type": "code",
   "execution_count": null,
   "metadata": {},
   "outputs": [],
   "source": [
    "mentalState_dataframe.info()"
   ]
  },
  {
   "cell_type": "markdown",
   "metadata": {},
   "source": [
    "## 8 Visualization <a id=section8></a>"
   ]
  },
  {
   "cell_type": "markdown",
   "metadata": {},
   "source": [
    "### 8.1 Division of Anxiety and Depressive disorder against Race <a id=section801></a>"
   ]
  },
  {
   "cell_type": "code",
   "execution_count": null,
   "metadata": {},
   "outputs": [],
   "source": [
    "#race2=mentalState_dataframe[(mentalState_dataframe['indicator']=='Symptoms of Depressive Disorder') & (mentalState_dataframe['groups']=='By Race/Hispanic ethnicity')].groupby(\"subgroup\")[\"value\"].mean()\n",
    "race1=mentalState_dataframe[(mentalState_dataframe['indicator']=='Symptoms of Anxiety Disorder') & (mentalState_dataframe['groups']=='By Race/Hispanic ethnicity')].groupby(\"subgroup\")[\"value\"].mean()\n",
    "race_label=mentalState_dataframe['subgroup'][(mentalState_dataframe['indicator']=='Symptoms of Anxiety Disorder') & (mentalState_dataframe['groups']=='By Race/Hispanic ethnicity')].unique()\n",
    "\n",
    "race2=mentalState_dataframe[(mentalState_dataframe['indicator']=='Symptoms of Depressive Disorder') & (mentalState_dataframe['groups']=='By Race/Hispanic ethnicity')].groupby(\"subgroup\")[\"value\"].mean()\n",
    "race_label2=mentalState_dataframe['subgroup'][(mentalState_dataframe['indicator']=='Symptoms of Depressive Disorder') & (mentalState_dataframe['groups']=='By Race/Hispanic ethnicity')].unique()\n",
    "\n",
    "race3=mentalState_dataframe[(mentalState_dataframe['indicator']=='Symptoms of Anxiety Disorder or Depressive Disorder') & (mentalState_dataframe['groups']=='By Race/Hispanic ethnicity')].groupby(\"subgroup\")[\"value\"].mean()\n",
    "race_label3=mentalState_dataframe['subgroup'][(mentalState_dataframe['indicator']=='Symptoms of Anxiety Disorder or Depressive Disorder') & (mentalState_dataframe['groups']=='By Race/Hispanic ethnicity')].unique()"
   ]
  },
  {
   "cell_type": "code",
   "execution_count": null,
   "metadata": {
    "scrolled": true
   },
   "outputs": [],
   "source": [
    "gs1 =gs.GridSpec(2, 2, width_ratios=[2,2], height_ratios=[2,2]) \n",
    "fig, ((ax1),(ax2),(ax3)) = plt.subplots(3,figsize=(25,18))\n",
    "colors = ['#ff9999','#66b3ff','#99ff99','#ffcc99','#ffbf00','#00ffff','#bfff00']\n",
    "colors = ['#ff9999','#66b3ff','#99ff99','#ffcc99','#ffbf00','#00ffff','#bfff00']\n",
    "#explsion\n",
    "explode = (0.05,0.05,0.05,0.05,0.05)\n",
    "\n",
    "centre_circle1 = plt.Circle((0,0),0.70,fc='white')\n",
    "p1= plt.subplot(gs1[0])\n",
    "p01 = plt.pie(race1, colors = colors, labels=race_label2, autopct='%1.1f%%', startangle=90, pctdistance=0.85, explode = explode)\n",
    "p01 = plt.gcf()\n",
    "# p01.add_patch(centre_circle)\n",
    "p01.gca().add_artist(centre_circle1)\n",
    "plt.title(\"Percentage of Anxiety Disorder w.r.t. Race\")\n",
    "\n",
    "\n",
    "# race2=mentalState_dataframe[(mentalState_dataframe['indicator']=='Symptoms of Depressive Disorder') & (mentalState_dataframe['groups']=='By Race/Hispanic ethnicity')].groupby(\"subgroup\")[\"value\"].mean()\n",
    "centre_circle2 = plt.Circle((0,0),0.70,fc='white')\n",
    "p2= plt.subplot(gs1[1])\n",
    "p02=plt.pie(race2, colors = colors, labels=race_label2, autopct='%1.1f%%', startangle=90, pctdistance=0.85, explode = explode)\n",
    "p02 = plt.gcf()\n",
    "p02.gca().add_artist(centre_circle2)\n",
    "plt.title(\"Percentage of Depressive Disorder w.r.t. Race\")\n",
    "\n",
    "centre_circle3 = plt.Circle((0,0),0.70,fc='white')\n",
    "p3= plt.subplot(gs1[2:4])\n",
    "p03 = plt.pie(race3, colors = colors, labels=race_label3, autopct='%1.1f%%', startangle=90, pctdistance=0.85, explode = explode)\n",
    "p03 = plt.gcf()\n",
    "p03.gca().add_artist(centre_circle3)\n",
    "plt.title(\"Percentage of Anxiety Disorder or Depressive Disorder w.r.t. Race\")\n",
    "\n"
   ]
  },
  {
   "cell_type": "markdown",
   "metadata": {},
   "source": [
    "### 8.2 Mental Health v/s  Age Group <a id=section802></a>"
   ]
  },
  {
   "cell_type": "code",
   "execution_count": null,
   "metadata": {},
   "outputs": [],
   "source": [
    "ms1 = mentalState_dataframe[(mentalState_dataframe['indicator']=='Symptoms of Anxiety Disorder')&(mentalState_dataframe['groups']=='By Age')].groupby(\"subgroup\", as_index=False)[\"value\"].mean()\n",
    "ms1['value'] = ms1['value'].apply(np.ceil)\n",
    "ms2 = mentalState_dataframe[(mentalState_dataframe['indicator']=='Symptoms of Depressive Disorder') & (mentalState_dataframe['groups']=='By Age')].groupby(\"subgroup\", as_index=False)[\"value\"].mean()\n",
    "ms2['value'] = ms2['value'].apply(np.ceil)\n",
    "ms3 = mentalState_dataframe[(mentalState_dataframe['indicator']=='Symptoms of Anxiety Disorder or Depressive Disorder') & (mentalState_dataframe['groups']=='By Age')].groupby(\"subgroup\", as_index=False)[\"value\"].mean()\n",
    "ms3['value'] = ms3['value'].apply(np.ceil)"
   ]
  },
  {
   "cell_type": "code",
   "execution_count": null,
   "metadata": {},
   "outputs": [],
   "source": [
    "fig = go.Figure()\n",
    "\n",
    "fig.add_trace(go.Bar(\n",
    "    x=ms1['subgroup'],\n",
    "    y=ms1['value'],\n",
    "    name='Symptoms of Anxiety Disorder',\n",
    "    marker_color='#49255c', text= ms1['value'],textposition='auto'\n",
    "))\n",
    "\n",
    "fig.add_trace(go.Bar(\n",
    "    x=ms2['subgroup'],\n",
    "    y=ms2['value'],\n",
    "    name='Depressive Disorder',\n",
    "    marker_color='#ce3e5c', text= ms2['value'], textposition='auto' \n",
    "))\n",
    "\n",
    "fig.add_trace(go.Bar(\n",
    "    x=ms3['subgroup'],\n",
    "    y=ms3['value'],\n",
    "    name='Anxiety or Depressive Disorder',\n",
    "    marker_color='#ffa600', text= ms3['value'], textposition='auto' \n",
    "))\n",
    "\n",
    "fig.update_layout(barmode = 'stack',margin=dict(l=30, r=30, t=30, b=30),\n",
    "    title={'text': \"Mental Health v/s Age Group\",'y':1,'x':0.38,'xanchor': 'center', 'yanchor': 'top'})\n",
    "\n",
    "fig.show()"
   ]
  },
  {
   "cell_type": "markdown",
   "metadata": {},
   "source": [
    "### 8.3 Mental Health Based on Age and Ethnicity <a id=section803></a>"
   ]
  },
  {
   "cell_type": "code",
   "execution_count": null,
   "metadata": {},
   "outputs": [],
   "source": [
    "age=mentalState_dataframe[(mentalState_dataframe['indicator']=='Symptoms of Anxiety Disorder') & (mentalState_dataframe['groups']=='By Age')].groupby(\"subgroup\", as_index = False)[\"value\"].mean()\n",
    "race=mentalState_dataframe[(mentalState_dataframe['indicator']=='Symptoms of Depressive Disorder') & (mentalState_dataframe['groups']=='By Race/Hispanic ethnicity')].groupby(\"subgroup\", as_index = False)[\"value\"].mean()"
   ]
  },
  {
   "cell_type": "code",
   "execution_count": null,
   "metadata": {},
   "outputs": [],
   "source": [
    "fig = make_subplots(rows=1, cols=2, shared_yaxes=True,subplot_titles=(\"Symptoms of Anxiety Disorder vs Age\",\"Symptoms of Depressive Disorder vs Ethnicity\"))\n",
    "\n",
    "fig.add_trace(go.Bar(x=age[\"subgroup\"],y=age[\"value\"],\n",
    "                    marker=dict(color=[4, 5, 6], coloraxis=\"coloraxis\")),\n",
    "              1, 1)\n",
    "\n",
    "fig.add_trace(go.Bar(x=race[\"subgroup\"],y=race[\"value\"],\n",
    "                    marker=dict(color=[2, 3, 5], coloraxis=\"coloraxis\")),\n",
    "              1, 2)\n",
    "\n",
    "fig.update_layout(coloraxis=dict(colorscale='Bluered_r'), showlegend=False,title={'text': \"Mental Health Based on Age and Ethnicity\",'y':0.95,'x':0.45,'xanchor': 'center', 'yanchor': 'top'})\n",
    "fig.show()"
   ]
  },
  {
   "cell_type": "markdown",
   "metadata": {},
   "source": [
    "### 8.4 Mental Health w.r.t. Education Level <a id=section804></a>"
   ]
  },
  {
   "cell_type": "code",
   "execution_count": null,
   "metadata": {},
   "outputs": [],
   "source": [
    "education_totals1=mentalState_dataframe[(mentalState_dataframe['indicator']=='Symptoms of Anxiety Disorder') & (mentalState_dataframe['groups']=='By Education')].groupby(\"subgroup\", as_index=False)[\"value\"].mean()\n",
    "education_totals1['value'] = education_totals1['value'].apply(np.ceil)\n",
    "\n",
    "education_totals2=mentalState_dataframe[(mentalState_dataframe['indicator']=='Symptoms of Anxiety Disorder or Depressive Disorder') & (mentalState_dataframe['groups']=='By Education')].groupby(\"subgroup\",as_index=False)[\"value\"].mean()\n",
    "education_totals2['value'] = education_totals2['value'].apply(np.ceil)\n",
    "\n",
    "education_totals3=mentalState_dataframe[(mentalState_dataframe['indicator']=='Symptoms of Depressive Disorder') & (mentalState_dataframe['groups']=='By Education')].groupby(\"subgroup\",as_index=False)[\"value\"].mean()\n",
    "education_totals3['value'] = education_totals3['value'].apply(np.ceil)"
   ]
  },
  {
   "cell_type": "code",
   "execution_count": null,
   "metadata": {},
   "outputs": [],
   "source": [
    "#Creating Bar plots using plotly\n",
    "fig = go.Figure()\n",
    "fig.add_trace(go.Bar(\n",
    "    x=education_totals1[\"subgroup\"],\n",
    "    y=education_totals1[\"value\"],\n",
    "    name='Symptoms of Anxiety Disorder',\n",
    "    marker_color='#CD853F', text= education_totals1[\"value\"],\n",
    "            textposition='auto'\n",
    "))\n",
    "fig.add_trace(go.Bar(\n",
    "   x=education_totals2[\"subgroup\"],\n",
    "    y=education_totals2[\"value\"],\n",
    "    name='Symptoms of Anxiety Disorder or Depressive Disorder',\n",
    "    marker_color='silver', text= education_totals2[\"value\"], textposition='auto'\n",
    "))\n",
    "fig.add_trace(go.Bar(\n",
    "   x=education_totals3[\"subgroup\"],\n",
    "    y=education_totals3[\"value\"],\n",
    "    name='Symptoms of Depressive Disorder',\n",
    "    marker_color='gold', text= education_totals3[\"value\"], textposition='auto'\n",
    "))\n",
    "\n",
    "fig.update_layout(barmode = 'group',\n",
    "    title={'text': \"Comparison of Indicators w.r.t Education Level\",'y':0.9,'x':0.45,'xanchor': 'center', 'yanchor': 'top'})\n",
    "\n",
    "fig.show()"
   ]
  },
  {
   "cell_type": "markdown",
   "metadata": {},
   "source": [
    "### 8.5 Mental Health w.r.t US States <a id=section805></a>"
   ]
  },
  {
   "cell_type": "code",
   "execution_count": null,
   "metadata": {},
   "outputs": [],
   "source": [
    "state_totals=mentalState_dataframe[(mentalState_dataframe['indicator']=='Symptoms of Depressive Disorder') & (mentalState_dataframe['groups']=='By State')].groupby(\"subgroup\")[\"value\"].mean().sort_values()\n",
    "plt.rcParams[\"figure.figsize\"] = (30,20)\n",
    "state_totals.plot(kind=\"barh\", fontsize=20,label='By State')\n",
    "\n",
    "for index, value in enumerate(state_totals):\n",
    "    plt.text(value, index, str(round(value,2)))"
   ]
  },
  {
   "cell_type": "markdown",
   "metadata": {},
   "source": [
    "### 8.6 Mental Health Based on Gender <a id=section806></a>"
   ]
  },
  {
   "cell_type": "code",
   "execution_count": null,
   "metadata": {},
   "outputs": [],
   "source": [
    "male_total = mentalState_dataframe[(mentalState_dataframe['groups']=='By Sex') & (mentalState_dataframe['subgroup']=='Male')].groupby(\"indicator\", as_index= False)[\"value\"].mean()\n",
    "male_total['value'] = male_total['value'].apply(np.ceil)\n",
    "female_total = mentalState_dataframe[(mentalState_dataframe['groups']=='By Sex') & (mentalState_dataframe['subgroup']=='Female')].groupby(\"indicator\",as_index= False)[\"value\"].mean()\n",
    "female_total['value'] = female_total['value'].apply(np.ceil)"
   ]
  },
  {
   "cell_type": "code",
   "execution_count": null,
   "metadata": {},
   "outputs": [],
   "source": [
    "\n",
    "#Creating Bar plots using plotly\n",
    "fig = go.Figure()\n",
    "fig.add_trace(go.Bar(\n",
    "    x=male_total[\"indicator\"],\n",
    "    y=male_total[\"value\"],\n",
    "    name='Male',\n",
    "    marker_color='#2e2f5c', text= male_total[\"value\"],\n",
    "            textposition='auto'\n",
    "))\n",
    "fig.add_trace(go.Bar(\n",
    "    x=female_total[\"indicator\"],\n",
    "    y=female_total[\"value\"],\n",
    "    name='Female',\n",
    "    marker_color='#c7416d', text= female_total[\"value\"], textposition='auto'\n",
    "))\n",
    "\n",
    "\n",
    "fig.update_layout(barmode = 'group',\n",
    "    title={'text': \"Mental Health based on Gender\",'y':0.9,'x':0.45,'xanchor': 'center', 'yanchor': 'top'})\n",
    "\n",
    "fig.show()"
   ]
  }
 ],
 "metadata": {
  "kernelspec": {
   "display_name": "Python 3",
   "language": "python",
   "name": "python3"
  },
  "language_info": {
   "codemirror_mode": {
    "name": "ipython",
    "version": 3
   },
   "file_extension": ".py",
   "mimetype": "text/x-python",
   "name": "python",
   "nbconvert_exporter": "python",
   "pygments_lexer": "ipython3",
   "version": "3.8.5"
  }
 },
 "nbformat": 4,
 "nbformat_minor": 4
}
