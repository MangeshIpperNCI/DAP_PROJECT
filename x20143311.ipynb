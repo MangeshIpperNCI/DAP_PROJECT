{
 "cells": [
  {
   "cell_type": "code",
   "execution_count": 2,
   "metadata": {},
   "outputs": [],
   "source": [
    "#Importing JSON and MongoClient Library\n",
    "import json\n",
    "from pymongo import MongoClient\n",
    "import os"
   ]
  },
  {
   "cell_type": "code",
   "execution_count": 3,
   "metadata": {},
   "outputs": [],
   "source": [
    "#Establishing Connection with Mongo Server and Creating Database and Assigning Collection Name\n",
    "client = MongoClient('localhost', 27017)\n",
    "db = client['COVID']\n",
    "collection_covid = db['COVID_HOSPITAL']"
   ]
  },
  {
   "cell_type": "code",
   "execution_count": 5,
   "metadata": {},
   "outputs": [],
   "source": [
    "#Opening the COVID JSON File and reading the data and storing the data within the defined Collection Name\n",
    "os.chdir('/Users/adityaraj/Desktop/Database and Analytics Programming Folder/CA Project/')\n",
    "with open('COVID-19 Reported Patient Impact and Hospital Capacity by State Timeseries.json') as f:\n",
    "    file_data = json.load(f)\n",
    "\n",
    "collection_covid.insert_one(file_data)\n",
    "client.close()"
   ]
  },
  {
   "cell_type": "code",
   "execution_count": null,
   "metadata": {},
   "outputs": [],
   "source": [
    "#Extracting Column Names from the Columns tag within JSON file and storing into a 'cols' list\n",
    "\n",
    "getData = pd.DataFrame(list(collection_covid.find())) \n",
    "cols = []\n",
    "\n",
    "for data in getData[\"meta\"]:\n",
    "    for column in data['view']['columns']:\n",
    "        columnName = column['name']\n",
    "        if columnName not in cols:\n",
    "            cols.append(columnName)\n",
    "        \n",
    "print(cols)"
   ]
  }
 ],
 "metadata": {
  "kernelspec": {
   "display_name": "Python 3",
   "language": "python",
   "name": "python3"
  },
  "language_info": {
   "codemirror_mode": {
    "name": "ipython",
    "version": 3
   },
   "file_extension": ".py",
   "mimetype": "text/x-python",
   "name": "python",
   "nbconvert_exporter": "python",
   "pygments_lexer": "ipython3",
   "version": "3.8.5"
  }
 },
 "nbformat": 4,
 "nbformat_minor": 4
}
