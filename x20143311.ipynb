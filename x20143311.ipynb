{
 "cells": [
  {
   "cell_type": "code",
   "execution_count": 2,
   "metadata": {},
   "outputs": [],
   "source": [
    "#Importing JSON and MongoClient Library\n",
    "import json\n",
    "from pymongo import MongoClient"
   ]
  },
  {
   "cell_type": "code",
   "execution_count": 3,
   "metadata": {},
   "outputs": [],
   "source": [
    "#Establishing Connection with Mongo Server and Creating Database and Assigning Collection Name\n",
    "client = MongoClient('localhost', 27017)\n",
    "db = client['Demo']\n",
    "collection_covid = db['Covid']"
   ]
  },
  {
   "cell_type": "code",
   "execution_count": 5,
   "metadata": {},
   "outputs": [],
   "source": [
    "#Opening the COVID JSON File and reading the data and storing the data within the defined Collection Name\n",
    "import os\n",
    "os.chdir('/Users/adityaraj/Desktop/Database and Analytics Programming Folder/CA Project/')\n",
    "with open('COVID-19 Reported Patient Impact and Hospital Capacity by State Timeseries.json') as f:\n",
    "    file_data = json.load(f)\n",
    "\n",
    "collection_covid.insert_one(file_data)\n",
    "client.close()"
   ]
  },
  {
   "cell_type": "code",
   "execution_count": null,
   "metadata": {},
   "outputs": [],
   "source": []
  }
 ],
 "metadata": {
  "kernelspec": {
   "display_name": "Python 3",
   "language": "python",
   "name": "python3"
  },
  "language_info": {
   "codemirror_mode": {
    "name": "ipython",
    "version": 3
   },
   "file_extension": ".py",
   "mimetype": "text/x-python",
   "name": "python",
   "nbconvert_exporter": "python",
   "pygments_lexer": "ipython3",
   "version": "3.8.5"
  }
 },
 "nbformat": 4,
 "nbformat_minor": 4
}
