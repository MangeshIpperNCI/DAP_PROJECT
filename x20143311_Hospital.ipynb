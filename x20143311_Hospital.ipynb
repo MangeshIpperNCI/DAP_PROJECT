{
 "cells": [
  {
   "cell_type": "markdown",
   "metadata": {},
   "source": [
    "## Table of Contents\n",
    "\n",
    "1. [Objective](#section1)<br> \n",
    "2. [Importing Python Libraries](#section2)<br> \n",
    "3. [Establishing Connection with MongoDB and Loading JSON File](#section3)<br> \n",
    "4. [Storing the MongoDB Collection Data in a Dataframe ](#section4)<br> \n",
    "5. [Data Processing](#section5)<br>\n",
    "    - 5.1 [Removing Meta-Data Columns](#section50101)<br>     \n",
    "    - 5.2 [Type-casting Date and State Variable into Date and String Datatype](#section50102)<br>\n",
    "    - 5.3 [Split Geostate Code to Extract Longitude and Latitude](#section50103)<br> \n",
    "    - 5.4 [Treatment of Columns with Missing Values](#section50104)<br>\n",
    "    - 5.5 [Retrieve State Description from Lookup CSV file](#section50105)<br>\n",
    "    - 5.6 [Writing the new dataframe into a CSV file with all the data operations and modifications](#section50106)<br>      \n",
    "6. [Establish connection with PostgreSQL, Create Database and Table Schema](#section6) <br>\n",
    "7. [Visualization and Data Preparation](#section7)"
   ]
  },
  {
   "cell_type": "markdown",
   "metadata": {},
   "source": [
    "<a id=section1></a>\n",
    "## Objective\n",
    "The end-objective is to evaluate the impact of COVID-19 on hsopitals across United States during the period of March-2020 to March 2021. We can intricately analyze the parameters like COVID Admissions, Critical Staff Shortage , Inpatient Beds, ICU occupancy, Adult and Pediatric Bifurcations across different states.   "
   ]
  },
  {
   "cell_type": "markdown",
   "metadata": {},
   "source": [
    "<a id=section2></a>\n",
    "## 2. Importing Python Libraries"
   ]
  },
  {
   "cell_type": "code",
   "execution_count": 32,
   "metadata": {},
   "outputs": [],
   "source": [
    "# Importing Required Python Libraries\n",
    "import json\n",
    "from pymongo import MongoClient\n",
    "import pandas as pd\n",
    "import numpy as np\n",
    "import os\n",
    "import fuzzymatcher\n",
    "import csv\n",
    "%matplotlib inline\n",
    "import matplotlib.pyplot as plt\n",
    "import datetime\n",
    "import plotly.express as px\n",
    "import seaborn as sns\n",
    "import pandas.io.sql as sqlio\n",
    "import psycopg2"
   ]
  },
  {
   "cell_type": "markdown",
   "metadata": {},
   "source": [
    "<a id=section3></a>\n",
    "## 3. Establishing Connection with MongoDB and Loading JSON File"
   ]
  },
  {
   "cell_type": "code",
   "execution_count": 33,
   "metadata": {},
   "outputs": [
    {
     "name": "stdout",
     "output_type": "stream",
     "text": [
      "Connected!\n"
     ]
    }
   ],
   "source": [
    "#Establishing Connection with Mongo Server\n",
    "try:\n",
    "    client = MongoClient('localhost', 27017)\n",
    "    print(\"Connected!\")\n",
    "except:\n",
    "    print(\"Unable to connect to MongoDB instance\")"
   ]
  },
  {
   "cell_type": "code",
   "execution_count": 34,
   "metadata": {},
   "outputs": [],
   "source": [
    "# Setting up the working directory\n",
    "#os.chdir('/Users/adityaraj/Desktop/Database and Analytics Programming Folder/CA Project/')\n",
    "#Opening the COVID JSON File and reading the data and storing the data within the defined Collection Name\n",
    "try:\n",
    "    with open('COVID-19 Reported Patient Impact and Hospital Capacity by State Timeseries.json') as f:\n",
    "        file_data = json.load(f)\n",
    "except FileNotFoundError:\n",
    "    print(\"File not found at the location\")\n",
    "except:\n",
    "    print(\"Error in Processing File\")\n",
    "client.close()"
   ]
  },
  {
   "cell_type": "code",
   "execution_count": 35,
   "metadata": {},
   "outputs": [],
   "source": [
    "#Creating an instance on MongoDB and initializing DB and connection parameters, Inserting a file into the New collection\n",
    "\n",
    "db = client['COVID']\n",
    "collection_covid = db['COVID_HOSPITAL']\n",
    "\n",
    "try:\n",
    "    collection_covid.insert_one(file_data) #Inserting the loaded json file in line 2 to MongoDB\n",
    "    print(\"Connection Successful!\")\n",
    "except:\n",
    "    collection_covid.insert(file_data) #Inserting the loaded json file in line 2 to MongoDB\n",
    "    print(\"Connection Successful!\")\n",
    "    #print(\"Unable to Connect to MongoDB\")\n",
    "\n",
    "\n",
    "client.close()"
   ]
  },
  {
   "cell_type": "code",
   "execution_count": 36,
   "metadata": {
    "scrolled": true
   },
   "outputs": [
    {
     "name": "stdout",
     "output_type": "stream",
     "text": [
      "['sid', 'id', 'position', 'created_at', 'created_meta', 'updated_at', 'updated_meta', 'meta', 'state', 'date', 'critical_staffing_shortage_today_yes', 'critical_staffing_shortage_today_no', 'critical_staffing_shortage_today_not_reported', 'critical_staffing_shortage_anticipated_within_week_yes', 'critical_staffing_shortage_anticipated_within_week_no', 'critical_staffing_shortage_anticipated_within_week_not_reported', 'hospital_onset_covid', 'hospital_onset_covid_coverage', 'inpatient_beds', 'inpatient_beds_coverage', 'inpatient_beds_used', 'inpatient_beds_used_coverage', 'inpatient_beds_used_covid', 'inpatient_beds_used_covid_coverage', 'previous_day_admission_adult_covid_confirmed', 'previous_day_admission_adult_covid_confirmed_coverage', 'previous_day_admission_adult_covid_suspected', 'previous_day_admission_adult_covid_suspected_coverage', 'previous_day_admission_pediatric_covid_confirmed', 'previous_day_admission_pediatric_covid_confirmed_coverage', 'previous_day_admission_pediatric_covid_suspected', 'previous_day_admission_pediatric_covid_suspected_coverage', 'staffed_adult_icu_bed_occupancy', 'staffed_adult_icu_bed_occupancy_coverage', 'staffed_icu_adult_patients_confirmed_and_suspected_covid', 'staffed_icu_adult_patients_confirmed_and_suspected_covid_coverage', 'staffed_icu_adult_patients_confirmed_covid', 'staffed_icu_adult_patients_confirmed_covid_coverage', 'total_adult_patients_hospitalized_confirmed_and_suspected_covid', 'total_adult_patients_hospitalized_confirmed_and_suspected_covid_coverage', 'total_adult_patients_hospitalized_confirmed_covid', 'total_adult_patients_hospitalized_confirmed_covid_coverage', 'total_pediatric_patients_hospitalized_confirmed_and_suspected_covid', 'total_pediatric_patients_hospitalized_confirmed_and_suspected_covid_coverage', 'total_pediatric_patients_hospitalized_confirmed_covid', 'total_pediatric_patients_hospitalized_confirmed_covid_coverage', 'total_staffed_adult_icu_beds', 'total_staffed_adult_icu_beds_coverage', 'inpatient_beds_utilization', 'inpatient_beds_utilization_coverage', 'inpatient_beds_utilization_numerator', 'inpatient_beds_utilization_denominator', 'percent_of_inpatients_with_covid', 'percent_of_inpatients_with_covid_coverage', 'percent_of_inpatients_with_covid_numerator', 'percent_of_inpatients_with_covid_denominator', 'inpatient_bed_covid_utilization', 'inpatient_bed_covid_utilization_coverage', 'inpatient_bed_covid_utilization_numerator', 'inpatient_bed_covid_utilization_denominator', 'adult_icu_bed_covid_utilization', 'adult_icu_bed_covid_utilization_coverage', 'adult_icu_bed_covid_utilization_numerator', 'adult_icu_bed_covid_utilization_denominator', 'adult_icu_bed_utilization', 'adult_icu_bed_utilization_coverage', 'adult_icu_bed_utilization_numerator', 'adult_icu_bed_utilization_denominator', 'geocoded_state']\n"
     ]
    }
   ],
   "source": [
    "#Extracting Column Names from the Columns tag within JSON file and storing into a 'cols' list\n",
    "\n",
    "getData = pd.DataFrame(list(collection_covid.find())) \n",
    "cols = []\n",
    "\n",
    "for data in getData[\"meta\"]:\n",
    "    for column in data['view']['columns']:\n",
    "        columnName = column['name']\n",
    "        if columnName not in cols:\n",
    "            cols.append(columnName)\n",
    "        \n",
    "print(cols)"
   ]
  },
  {
   "cell_type": "markdown",
   "metadata": {},
   "source": [
    "<a id=section4></a>\n",
    "## 4. Storing the MongoDB Collection Data in a Dataframe"
   ]
  },
  {
   "cell_type": "code",
   "execution_count": 37,
   "metadata": {
    "scrolled": true
   },
   "outputs": [
    {
     "data": {
      "text/html": [
       "<div>\n",
       "<style scoped>\n",
       "    .dataframe tbody tr th:only-of-type {\n",
       "        vertical-align: middle;\n",
       "    }\n",
       "\n",
       "    .dataframe tbody tr th {\n",
       "        vertical-align: top;\n",
       "    }\n",
       "\n",
       "    .dataframe thead th {\n",
       "        text-align: right;\n",
       "    }\n",
       "</style>\n",
       "<table border=\"1\" class=\"dataframe\">\n",
       "  <thead>\n",
       "    <tr style=\"text-align: right;\">\n",
       "      <th></th>\n",
       "      <th>sid</th>\n",
       "      <th>id</th>\n",
       "      <th>position</th>\n",
       "      <th>created_at</th>\n",
       "      <th>created_meta</th>\n",
       "      <th>updated_at</th>\n",
       "      <th>updated_meta</th>\n",
       "      <th>meta</th>\n",
       "      <th>state</th>\n",
       "      <th>date</th>\n",
       "      <th>...</th>\n",
       "      <th>inpatient_bed_covid_utilization_denominator</th>\n",
       "      <th>adult_icu_bed_covid_utilization</th>\n",
       "      <th>adult_icu_bed_covid_utilization_coverage</th>\n",
       "      <th>adult_icu_bed_covid_utilization_numerator</th>\n",
       "      <th>adult_icu_bed_covid_utilization_denominator</th>\n",
       "      <th>adult_icu_bed_utilization</th>\n",
       "      <th>adult_icu_bed_utilization_coverage</th>\n",
       "      <th>adult_icu_bed_utilization_numerator</th>\n",
       "      <th>adult_icu_bed_utilization_denominator</th>\n",
       "      <th>geocoded_state</th>\n",
       "    </tr>\n",
       "  </thead>\n",
       "  <tbody>\n",
       "    <tr>\n",
       "      <th>0</th>\n",
       "      <td>row-2ws6~7xbg-x7td</td>\n",
       "      <td>00000000-0000-0000-96B1-2F449842D794</td>\n",
       "      <td>0</td>\n",
       "      <td>1616853107</td>\n",
       "      <td>None</td>\n",
       "      <td>1616853107</td>\n",
       "      <td>None</td>\n",
       "      <td>{ }</td>\n",
       "      <td>IA</td>\n",
       "      <td>2021-01-03T00:00:00</td>\n",
       "      <td>...</td>\n",
       "      <td>8024</td>\n",
       "      <td>0.17835365853658536</td>\n",
       "      <td>124</td>\n",
       "      <td>117</td>\n",
       "      <td>656</td>\n",
       "      <td>0.68</td>\n",
       "      <td>126</td>\n",
       "      <td>459</td>\n",
       "      <td>675</td>\n",
       "      <td>POINT (-93.500061 42.074659)</td>\n",
       "    </tr>\n",
       "    <tr>\n",
       "      <th>1</th>\n",
       "      <td>row-9hxe~53ka~ex4u</td>\n",
       "      <td>00000000-0000-0000-9F29-CA9CC62C6CAA</td>\n",
       "      <td>0</td>\n",
       "      <td>1616853107</td>\n",
       "      <td>None</td>\n",
       "      <td>1616853107</td>\n",
       "      <td>None</td>\n",
       "      <td>{ }</td>\n",
       "      <td>ID</td>\n",
       "      <td>2021-01-03T00:00:00</td>\n",
       "      <td>...</td>\n",
       "      <td>3644</td>\n",
       "      <td>0.23178807947019867</td>\n",
       "      <td>51</td>\n",
       "      <td>70</td>\n",
       "      <td>302</td>\n",
       "      <td>0.6245954692556634</td>\n",
       "      <td>52</td>\n",
       "      <td>193</td>\n",
       "      <td>309</td>\n",
       "      <td>POINT (-114.659366 44.389073)</td>\n",
       "    </tr>\n",
       "    <tr>\n",
       "      <th>2</th>\n",
       "      <td>row-8irx.ii9u_yemm</td>\n",
       "      <td>00000000-0000-0000-E2CD-4B54EBD757E5</td>\n",
       "      <td>0</td>\n",
       "      <td>1616853107</td>\n",
       "      <td>None</td>\n",
       "      <td>1616853107</td>\n",
       "      <td>None</td>\n",
       "      <td>{ }</td>\n",
       "      <td>IL</td>\n",
       "      <td>2021-01-03T00:00:00</td>\n",
       "      <td>...</td>\n",
       "      <td>32079</td>\n",
       "      <td>0.22763532763532762</td>\n",
       "      <td>202</td>\n",
       "      <td>799</td>\n",
       "      <td>3510</td>\n",
       "      <td>0.6284596030192899</td>\n",
       "      <td>207</td>\n",
       "      <td>2248</td>\n",
       "      <td>3577</td>\n",
       "      <td>POINT (-89.148632 40.124144)</td>\n",
       "    </tr>\n",
       "    <tr>\n",
       "      <th>3</th>\n",
       "      <td>row-dvbe_iika-mmc2</td>\n",
       "      <td>00000000-0000-0000-DDE2-94A11162072C</td>\n",
       "      <td>0</td>\n",
       "      <td>1616853107</td>\n",
       "      <td>None</td>\n",
       "      <td>1616853107</td>\n",
       "      <td>None</td>\n",
       "      <td>{ }</td>\n",
       "      <td>IN</td>\n",
       "      <td>2021-01-03T00:00:00</td>\n",
       "      <td>...</td>\n",
       "      <td>18456</td>\n",
       "      <td>0.2989206945096199</td>\n",
       "      <td>164</td>\n",
       "      <td>637</td>\n",
       "      <td>2131</td>\n",
       "      <td>0.7408256880733946</td>\n",
       "      <td>166</td>\n",
       "      <td>1615</td>\n",
       "      <td>2180</td>\n",
       "      <td>POINT (-86.2818 39.919991)</td>\n",
       "    </tr>\n",
       "    <tr>\n",
       "      <th>4</th>\n",
       "      <td>row-38b6_nv3m~rijp</td>\n",
       "      <td>00000000-0000-0000-7AD5-E5DB09B972BF</td>\n",
       "      <td>0</td>\n",
       "      <td>1616853107</td>\n",
       "      <td>None</td>\n",
       "      <td>1616853107</td>\n",
       "      <td>None</td>\n",
       "      <td>{ }</td>\n",
       "      <td>KS</td>\n",
       "      <td>2021-01-03T00:00:00</td>\n",
       "      <td>...</td>\n",
       "      <td>8738</td>\n",
       "      <td>0.31966224366706875</td>\n",
       "      <td>147</td>\n",
       "      <td>265</td>\n",
       "      <td>829</td>\n",
       "      <td>0.7403055229142186</td>\n",
       "      <td>150</td>\n",
       "      <td>630</td>\n",
       "      <td>851</td>\n",
       "      <td>POINT (-98.38018 38.484729)</td>\n",
       "    </tr>\n",
       "  </tbody>\n",
       "</table>\n",
       "<p>5 rows × 69 columns</p>\n",
       "</div>"
      ],
      "text/plain": [
       "                  sid                                    id  position  \\\n",
       "0  row-2ws6~7xbg-x7td  00000000-0000-0000-96B1-2F449842D794         0   \n",
       "1  row-9hxe~53ka~ex4u  00000000-0000-0000-9F29-CA9CC62C6CAA         0   \n",
       "2  row-8irx.ii9u_yemm  00000000-0000-0000-E2CD-4B54EBD757E5         0   \n",
       "3  row-dvbe_iika-mmc2  00000000-0000-0000-DDE2-94A11162072C         0   \n",
       "4  row-38b6_nv3m~rijp  00000000-0000-0000-7AD5-E5DB09B972BF         0   \n",
       "\n",
       "   created_at created_meta  updated_at updated_meta meta state  \\\n",
       "0  1616853107         None  1616853107         None  { }    IA   \n",
       "1  1616853107         None  1616853107         None  { }    ID   \n",
       "2  1616853107         None  1616853107         None  { }    IL   \n",
       "3  1616853107         None  1616853107         None  { }    IN   \n",
       "4  1616853107         None  1616853107         None  { }    KS   \n",
       "\n",
       "                  date  ... inpatient_bed_covid_utilization_denominator  \\\n",
       "0  2021-01-03T00:00:00  ...                                        8024   \n",
       "1  2021-01-03T00:00:00  ...                                        3644   \n",
       "2  2021-01-03T00:00:00  ...                                       32079   \n",
       "3  2021-01-03T00:00:00  ...                                       18456   \n",
       "4  2021-01-03T00:00:00  ...                                        8738   \n",
       "\n",
       "  adult_icu_bed_covid_utilization adult_icu_bed_covid_utilization_coverage  \\\n",
       "0             0.17835365853658536                                      124   \n",
       "1             0.23178807947019867                                       51   \n",
       "2             0.22763532763532762                                      202   \n",
       "3              0.2989206945096199                                      164   \n",
       "4             0.31966224366706875                                      147   \n",
       "\n",
       "  adult_icu_bed_covid_utilization_numerator  \\\n",
       "0                                       117   \n",
       "1                                        70   \n",
       "2                                       799   \n",
       "3                                       637   \n",
       "4                                       265   \n",
       "\n",
       "  adult_icu_bed_covid_utilization_denominator adult_icu_bed_utilization  \\\n",
       "0                                         656                      0.68   \n",
       "1                                         302        0.6245954692556634   \n",
       "2                                        3510        0.6284596030192899   \n",
       "3                                        2131        0.7408256880733946   \n",
       "4                                         829        0.7403055229142186   \n",
       "\n",
       "  adult_icu_bed_utilization_coverage adult_icu_bed_utilization_numerator  \\\n",
       "0                                126                                 459   \n",
       "1                                 52                                 193   \n",
       "2                                207                                2248   \n",
       "3                                166                                1615   \n",
       "4                                150                                 630   \n",
       "\n",
       "  adult_icu_bed_utilization_denominator                 geocoded_state  \n",
       "0                                   675   POINT (-93.500061 42.074659)  \n",
       "1                                   309  POINT (-114.659366 44.389073)  \n",
       "2                                  3577   POINT (-89.148632 40.124144)  \n",
       "3                                  2180     POINT (-86.2818 39.919991)  \n",
       "4                                   851    POINT (-98.38018 38.484729)  \n",
       "\n",
       "[5 rows x 69 columns]"
      ]
     },
     "execution_count": 37,
     "metadata": {},
     "output_type": "execute_result"
    }
   ],
   "source": [
    "#Store the data into a dataframe and use \"cols\" list as column names in the dataframe\n",
    "COVID_HOSPITAL = pd.DataFrame(getData[\"data\"][0], columns = cols)\n",
    "COVID_HOSPITAL.head()"
   ]
  },
  {
   "cell_type": "markdown",
   "metadata": {},
   "source": [
    "<a id=section5></a>\n",
    "## 5. Data Preprocessing"
   ]
  },
  {
   "cell_type": "markdown",
   "metadata": {},
   "source": [
    "<a id=section50101></a>\n",
    "## 5.1. Removing Meta-Data Columns"
   ]
  },
  {
   "cell_type": "code",
   "execution_count": 38,
   "metadata": {
    "scrolled": true
   },
   "outputs": [
    {
     "data": {
      "text/html": [
       "<div>\n",
       "<style scoped>\n",
       "    .dataframe tbody tr th:only-of-type {\n",
       "        vertical-align: middle;\n",
       "    }\n",
       "\n",
       "    .dataframe tbody tr th {\n",
       "        vertical-align: top;\n",
       "    }\n",
       "\n",
       "    .dataframe thead th {\n",
       "        text-align: right;\n",
       "    }\n",
       "</style>\n",
       "<table border=\"1\" class=\"dataframe\">\n",
       "  <thead>\n",
       "    <tr style=\"text-align: right;\">\n",
       "      <th></th>\n",
       "      <th>state</th>\n",
       "      <th>date</th>\n",
       "      <th>critical_staffing_shortage_today_yes</th>\n",
       "      <th>critical_staffing_shortage_today_no</th>\n",
       "      <th>critical_staffing_shortage_today_not_reported</th>\n",
       "      <th>critical_staffing_shortage_anticipated_within_week_yes</th>\n",
       "      <th>critical_staffing_shortage_anticipated_within_week_no</th>\n",
       "      <th>critical_staffing_shortage_anticipated_within_week_not_reported</th>\n",
       "      <th>hospital_onset_covid</th>\n",
       "      <th>hospital_onset_covid_coverage</th>\n",
       "      <th>...</th>\n",
       "      <th>inpatient_bed_covid_utilization_denominator</th>\n",
       "      <th>adult_icu_bed_covid_utilization</th>\n",
       "      <th>adult_icu_bed_covid_utilization_coverage</th>\n",
       "      <th>adult_icu_bed_covid_utilization_numerator</th>\n",
       "      <th>adult_icu_bed_covid_utilization_denominator</th>\n",
       "      <th>adult_icu_bed_utilization</th>\n",
       "      <th>adult_icu_bed_utilization_coverage</th>\n",
       "      <th>adult_icu_bed_utilization_numerator</th>\n",
       "      <th>adult_icu_bed_utilization_denominator</th>\n",
       "      <th>geocoded_state</th>\n",
       "    </tr>\n",
       "  </thead>\n",
       "  <tbody>\n",
       "    <tr>\n",
       "      <th>0</th>\n",
       "      <td>IA</td>\n",
       "      <td>2021-01-03T00:00:00</td>\n",
       "      <td>6</td>\n",
       "      <td>63</td>\n",
       "      <td>57</td>\n",
       "      <td>6</td>\n",
       "      <td>62</td>\n",
       "      <td>58</td>\n",
       "      <td>2</td>\n",
       "      <td>124</td>\n",
       "      <td>...</td>\n",
       "      <td>8024</td>\n",
       "      <td>0.17835365853658536</td>\n",
       "      <td>124</td>\n",
       "      <td>117</td>\n",
       "      <td>656</td>\n",
       "      <td>0.68</td>\n",
       "      <td>126</td>\n",
       "      <td>459</td>\n",
       "      <td>675</td>\n",
       "      <td>POINT (-93.500061 42.074659)</td>\n",
       "    </tr>\n",
       "    <tr>\n",
       "      <th>1</th>\n",
       "      <td>ID</td>\n",
       "      <td>2021-01-03T00:00:00</td>\n",
       "      <td>4</td>\n",
       "      <td>47</td>\n",
       "      <td>1</td>\n",
       "      <td>7</td>\n",
       "      <td>44</td>\n",
       "      <td>1</td>\n",
       "      <td>5</td>\n",
       "      <td>51</td>\n",
       "      <td>...</td>\n",
       "      <td>3644</td>\n",
       "      <td>0.23178807947019867</td>\n",
       "      <td>51</td>\n",
       "      <td>70</td>\n",
       "      <td>302</td>\n",
       "      <td>0.6245954692556634</td>\n",
       "      <td>52</td>\n",
       "      <td>193</td>\n",
       "      <td>309</td>\n",
       "      <td>POINT (-114.659366 44.389073)</td>\n",
       "    </tr>\n",
       "    <tr>\n",
       "      <th>2</th>\n",
       "      <td>IL</td>\n",
       "      <td>2021-01-03T00:00:00</td>\n",
       "      <td>19</td>\n",
       "      <td>171</td>\n",
       "      <td>17</td>\n",
       "      <td>17</td>\n",
       "      <td>173</td>\n",
       "      <td>17</td>\n",
       "      <td>73</td>\n",
       "      <td>202</td>\n",
       "      <td>...</td>\n",
       "      <td>32079</td>\n",
       "      <td>0.22763532763532762</td>\n",
       "      <td>202</td>\n",
       "      <td>799</td>\n",
       "      <td>3510</td>\n",
       "      <td>0.6284596030192899</td>\n",
       "      <td>207</td>\n",
       "      <td>2248</td>\n",
       "      <td>3577</td>\n",
       "      <td>POINT (-89.148632 40.124144)</td>\n",
       "    </tr>\n",
       "    <tr>\n",
       "      <th>3</th>\n",
       "      <td>IN</td>\n",
       "      <td>2021-01-03T00:00:00</td>\n",
       "      <td>22</td>\n",
       "      <td>142</td>\n",
       "      <td>2</td>\n",
       "      <td>29</td>\n",
       "      <td>135</td>\n",
       "      <td>2</td>\n",
       "      <td>9</td>\n",
       "      <td>164</td>\n",
       "      <td>...</td>\n",
       "      <td>18456</td>\n",
       "      <td>0.2989206945096199</td>\n",
       "      <td>164</td>\n",
       "      <td>637</td>\n",
       "      <td>2131</td>\n",
       "      <td>0.7408256880733946</td>\n",
       "      <td>166</td>\n",
       "      <td>1615</td>\n",
       "      <td>2180</td>\n",
       "      <td>POINT (-86.2818 39.919991)</td>\n",
       "    </tr>\n",
       "    <tr>\n",
       "      <th>4</th>\n",
       "      <td>KS</td>\n",
       "      <td>2021-01-03T00:00:00</td>\n",
       "      <td>10</td>\n",
       "      <td>136</td>\n",
       "      <td>4</td>\n",
       "      <td>13</td>\n",
       "      <td>133</td>\n",
       "      <td>4</td>\n",
       "      <td>14</td>\n",
       "      <td>147</td>\n",
       "      <td>...</td>\n",
       "      <td>8738</td>\n",
       "      <td>0.31966224366706875</td>\n",
       "      <td>147</td>\n",
       "      <td>265</td>\n",
       "      <td>829</td>\n",
       "      <td>0.7403055229142186</td>\n",
       "      <td>150</td>\n",
       "      <td>630</td>\n",
       "      <td>851</td>\n",
       "      <td>POINT (-98.38018 38.484729)</td>\n",
       "    </tr>\n",
       "  </tbody>\n",
       "</table>\n",
       "<p>5 rows × 61 columns</p>\n",
       "</div>"
      ],
      "text/plain": [
       "  state                 date critical_staffing_shortage_today_yes  \\\n",
       "0    IA  2021-01-03T00:00:00                                    6   \n",
       "1    ID  2021-01-03T00:00:00                                    4   \n",
       "2    IL  2021-01-03T00:00:00                                   19   \n",
       "3    IN  2021-01-03T00:00:00                                   22   \n",
       "4    KS  2021-01-03T00:00:00                                   10   \n",
       "\n",
       "  critical_staffing_shortage_today_no  \\\n",
       "0                                  63   \n",
       "1                                  47   \n",
       "2                                 171   \n",
       "3                                 142   \n",
       "4                                 136   \n",
       "\n",
       "  critical_staffing_shortage_today_not_reported  \\\n",
       "0                                            57   \n",
       "1                                             1   \n",
       "2                                            17   \n",
       "3                                             2   \n",
       "4                                             4   \n",
       "\n",
       "  critical_staffing_shortage_anticipated_within_week_yes  \\\n",
       "0                                                  6       \n",
       "1                                                  7       \n",
       "2                                                 17       \n",
       "3                                                 29       \n",
       "4                                                 13       \n",
       "\n",
       "  critical_staffing_shortage_anticipated_within_week_no  \\\n",
       "0                                                 62      \n",
       "1                                                 44      \n",
       "2                                                173      \n",
       "3                                                135      \n",
       "4                                                133      \n",
       "\n",
       "  critical_staffing_shortage_anticipated_within_week_not_reported  \\\n",
       "0                                                 58                \n",
       "1                                                  1                \n",
       "2                                                 17                \n",
       "3                                                  2                \n",
       "4                                                  4                \n",
       "\n",
       "  hospital_onset_covid hospital_onset_covid_coverage  ...  \\\n",
       "0                    2                           124  ...   \n",
       "1                    5                            51  ...   \n",
       "2                   73                           202  ...   \n",
       "3                    9                           164  ...   \n",
       "4                   14                           147  ...   \n",
       "\n",
       "  inpatient_bed_covid_utilization_denominator adult_icu_bed_covid_utilization  \\\n",
       "0                                        8024             0.17835365853658536   \n",
       "1                                        3644             0.23178807947019867   \n",
       "2                                       32079             0.22763532763532762   \n",
       "3                                       18456              0.2989206945096199   \n",
       "4                                        8738             0.31966224366706875   \n",
       "\n",
       "  adult_icu_bed_covid_utilization_coverage  \\\n",
       "0                                      124   \n",
       "1                                       51   \n",
       "2                                      202   \n",
       "3                                      164   \n",
       "4                                      147   \n",
       "\n",
       "  adult_icu_bed_covid_utilization_numerator  \\\n",
       "0                                       117   \n",
       "1                                        70   \n",
       "2                                       799   \n",
       "3                                       637   \n",
       "4                                       265   \n",
       "\n",
       "  adult_icu_bed_covid_utilization_denominator adult_icu_bed_utilization  \\\n",
       "0                                         656                      0.68   \n",
       "1                                         302        0.6245954692556634   \n",
       "2                                        3510        0.6284596030192899   \n",
       "3                                        2131        0.7408256880733946   \n",
       "4                                         829        0.7403055229142186   \n",
       "\n",
       "  adult_icu_bed_utilization_coverage adult_icu_bed_utilization_numerator  \\\n",
       "0                                126                                 459   \n",
       "1                                 52                                 193   \n",
       "2                                207                                2248   \n",
       "3                                166                                1615   \n",
       "4                                150                                 630   \n",
       "\n",
       "  adult_icu_bed_utilization_denominator                 geocoded_state  \n",
       "0                                   675   POINT (-93.500061 42.074659)  \n",
       "1                                   309  POINT (-114.659366 44.389073)  \n",
       "2                                  3577   POINT (-89.148632 40.124144)  \n",
       "3                                  2180     POINT (-86.2818 39.919991)  \n",
       "4                                   851    POINT (-98.38018 38.484729)  \n",
       "\n",
       "[5 rows x 61 columns]"
      ]
     },
     "execution_count": 38,
     "metadata": {},
     "output_type": "execute_result"
    }
   ],
   "source": [
    "#We have first 8 columns related to META data, we can drop these columns from our COVID_HOSPITAL dataframe\n",
    "\n",
    "COVID_HOSPITAL.drop(COVID_HOSPITAL.columns[0:8], axis = 1, inplace = True)\n",
    "COVID_HOSPITAL.head()\n",
    "# COVID_HOSPITAL.info()"
   ]
  },
  {
   "cell_type": "markdown",
   "metadata": {},
   "source": [
    "<a id=section50102></a>\n",
    "## 5.2. Type-casting Date and State Variable into Date and String Datatype"
   ]
  },
  {
   "cell_type": "code",
   "execution_count": 39,
   "metadata": {},
   "outputs": [],
   "source": [
    "# Changing the datatype of date and state column to date and string\n",
    "COVID_HOSPITAL['date']= pd.to_datetime(COVID_HOSPITAL['date'])\n",
    "COVID_HOSPITAL['state']=COVID_HOSPITAL['state'].astype(str)"
   ]
  },
  {
   "cell_type": "markdown",
   "metadata": {},
   "source": [
    "<a id=section50103></a>\n",
    "## 5.3. Split Geostate Code to Extract Longitude and Latitude"
   ]
  },
  {
   "cell_type": "code",
   "execution_count": 40,
   "metadata": {
    "scrolled": true
   },
   "outputs": [
    {
     "data": {
      "text/html": [
       "<div>\n",
       "<style scoped>\n",
       "    .dataframe tbody tr th:only-of-type {\n",
       "        vertical-align: middle;\n",
       "    }\n",
       "\n",
       "    .dataframe tbody tr th {\n",
       "        vertical-align: top;\n",
       "    }\n",
       "\n",
       "    .dataframe thead th {\n",
       "        text-align: right;\n",
       "    }\n",
       "</style>\n",
       "<table border=\"1\" class=\"dataframe\">\n",
       "  <thead>\n",
       "    <tr style=\"text-align: right;\">\n",
       "      <th></th>\n",
       "      <th>state</th>\n",
       "      <th>date</th>\n",
       "      <th>critical_staffing_shortage_today_yes</th>\n",
       "      <th>critical_staffing_shortage_today_no</th>\n",
       "      <th>critical_staffing_shortage_today_not_reported</th>\n",
       "      <th>critical_staffing_shortage_anticipated_within_week_yes</th>\n",
       "      <th>critical_staffing_shortage_anticipated_within_week_no</th>\n",
       "      <th>critical_staffing_shortage_anticipated_within_week_not_reported</th>\n",
       "      <th>hospital_onset_covid</th>\n",
       "      <th>hospital_onset_covid_coverage</th>\n",
       "      <th>...</th>\n",
       "      <th>adult_icu_bed_covid_utilization_coverage</th>\n",
       "      <th>adult_icu_bed_covid_utilization_numerator</th>\n",
       "      <th>adult_icu_bed_covid_utilization_denominator</th>\n",
       "      <th>adult_icu_bed_utilization</th>\n",
       "      <th>adult_icu_bed_utilization_coverage</th>\n",
       "      <th>adult_icu_bed_utilization_numerator</th>\n",
       "      <th>adult_icu_bed_utilization_denominator</th>\n",
       "      <th>geocoded_state</th>\n",
       "      <th>latitude</th>\n",
       "      <th>longitude</th>\n",
       "    </tr>\n",
       "  </thead>\n",
       "  <tbody>\n",
       "    <tr>\n",
       "      <th>0</th>\n",
       "      <td>IA</td>\n",
       "      <td>2021-01-03</td>\n",
       "      <td>6</td>\n",
       "      <td>63</td>\n",
       "      <td>57</td>\n",
       "      <td>6</td>\n",
       "      <td>62</td>\n",
       "      <td>58</td>\n",
       "      <td>2</td>\n",
       "      <td>124</td>\n",
       "      <td>...</td>\n",
       "      <td>124</td>\n",
       "      <td>117</td>\n",
       "      <td>656</td>\n",
       "      <td>0.68</td>\n",
       "      <td>126</td>\n",
       "      <td>459</td>\n",
       "      <td>675</td>\n",
       "      <td>POINT (-93.500061 42.074659)</td>\n",
       "      <td>-93.500061</td>\n",
       "      <td>42.074659</td>\n",
       "    </tr>\n",
       "    <tr>\n",
       "      <th>1</th>\n",
       "      <td>ID</td>\n",
       "      <td>2021-01-03</td>\n",
       "      <td>4</td>\n",
       "      <td>47</td>\n",
       "      <td>1</td>\n",
       "      <td>7</td>\n",
       "      <td>44</td>\n",
       "      <td>1</td>\n",
       "      <td>5</td>\n",
       "      <td>51</td>\n",
       "      <td>...</td>\n",
       "      <td>51</td>\n",
       "      <td>70</td>\n",
       "      <td>302</td>\n",
       "      <td>0.6245954692556634</td>\n",
       "      <td>52</td>\n",
       "      <td>193</td>\n",
       "      <td>309</td>\n",
       "      <td>POINT (-114.659366 44.389073)</td>\n",
       "      <td>-114.659366</td>\n",
       "      <td>44.389073</td>\n",
       "    </tr>\n",
       "    <tr>\n",
       "      <th>2</th>\n",
       "      <td>IL</td>\n",
       "      <td>2021-01-03</td>\n",
       "      <td>19</td>\n",
       "      <td>171</td>\n",
       "      <td>17</td>\n",
       "      <td>17</td>\n",
       "      <td>173</td>\n",
       "      <td>17</td>\n",
       "      <td>73</td>\n",
       "      <td>202</td>\n",
       "      <td>...</td>\n",
       "      <td>202</td>\n",
       "      <td>799</td>\n",
       "      <td>3510</td>\n",
       "      <td>0.6284596030192899</td>\n",
       "      <td>207</td>\n",
       "      <td>2248</td>\n",
       "      <td>3577</td>\n",
       "      <td>POINT (-89.148632 40.124144)</td>\n",
       "      <td>-89.148632</td>\n",
       "      <td>40.124144</td>\n",
       "    </tr>\n",
       "    <tr>\n",
       "      <th>3</th>\n",
       "      <td>IN</td>\n",
       "      <td>2021-01-03</td>\n",
       "      <td>22</td>\n",
       "      <td>142</td>\n",
       "      <td>2</td>\n",
       "      <td>29</td>\n",
       "      <td>135</td>\n",
       "      <td>2</td>\n",
       "      <td>9</td>\n",
       "      <td>164</td>\n",
       "      <td>...</td>\n",
       "      <td>164</td>\n",
       "      <td>637</td>\n",
       "      <td>2131</td>\n",
       "      <td>0.7408256880733946</td>\n",
       "      <td>166</td>\n",
       "      <td>1615</td>\n",
       "      <td>2180</td>\n",
       "      <td>POINT (-86.2818 39.919991)</td>\n",
       "      <td>-86.2818</td>\n",
       "      <td>39.919991</td>\n",
       "    </tr>\n",
       "    <tr>\n",
       "      <th>4</th>\n",
       "      <td>KS</td>\n",
       "      <td>2021-01-03</td>\n",
       "      <td>10</td>\n",
       "      <td>136</td>\n",
       "      <td>4</td>\n",
       "      <td>13</td>\n",
       "      <td>133</td>\n",
       "      <td>4</td>\n",
       "      <td>14</td>\n",
       "      <td>147</td>\n",
       "      <td>...</td>\n",
       "      <td>147</td>\n",
       "      <td>265</td>\n",
       "      <td>829</td>\n",
       "      <td>0.7403055229142186</td>\n",
       "      <td>150</td>\n",
       "      <td>630</td>\n",
       "      <td>851</td>\n",
       "      <td>POINT (-98.38018 38.484729)</td>\n",
       "      <td>-98.38018</td>\n",
       "      <td>38.484729</td>\n",
       "    </tr>\n",
       "  </tbody>\n",
       "</table>\n",
       "<p>5 rows × 63 columns</p>\n",
       "</div>"
      ],
      "text/plain": [
       "  state       date critical_staffing_shortage_today_yes  \\\n",
       "0    IA 2021-01-03                                    6   \n",
       "1    ID 2021-01-03                                    4   \n",
       "2    IL 2021-01-03                                   19   \n",
       "3    IN 2021-01-03                                   22   \n",
       "4    KS 2021-01-03                                   10   \n",
       "\n",
       "  critical_staffing_shortage_today_no  \\\n",
       "0                                  63   \n",
       "1                                  47   \n",
       "2                                 171   \n",
       "3                                 142   \n",
       "4                                 136   \n",
       "\n",
       "  critical_staffing_shortage_today_not_reported  \\\n",
       "0                                            57   \n",
       "1                                             1   \n",
       "2                                            17   \n",
       "3                                             2   \n",
       "4                                             4   \n",
       "\n",
       "  critical_staffing_shortage_anticipated_within_week_yes  \\\n",
       "0                                                  6       \n",
       "1                                                  7       \n",
       "2                                                 17       \n",
       "3                                                 29       \n",
       "4                                                 13       \n",
       "\n",
       "  critical_staffing_shortage_anticipated_within_week_no  \\\n",
       "0                                                 62      \n",
       "1                                                 44      \n",
       "2                                                173      \n",
       "3                                                135      \n",
       "4                                                133      \n",
       "\n",
       "  critical_staffing_shortage_anticipated_within_week_not_reported  \\\n",
       "0                                                 58                \n",
       "1                                                  1                \n",
       "2                                                 17                \n",
       "3                                                  2                \n",
       "4                                                  4                \n",
       "\n",
       "  hospital_onset_covid hospital_onset_covid_coverage  ...  \\\n",
       "0                    2                           124  ...   \n",
       "1                    5                            51  ...   \n",
       "2                   73                           202  ...   \n",
       "3                    9                           164  ...   \n",
       "4                   14                           147  ...   \n",
       "\n",
       "  adult_icu_bed_covid_utilization_coverage  \\\n",
       "0                                      124   \n",
       "1                                       51   \n",
       "2                                      202   \n",
       "3                                      164   \n",
       "4                                      147   \n",
       "\n",
       "  adult_icu_bed_covid_utilization_numerator  \\\n",
       "0                                       117   \n",
       "1                                        70   \n",
       "2                                       799   \n",
       "3                                       637   \n",
       "4                                       265   \n",
       "\n",
       "  adult_icu_bed_covid_utilization_denominator adult_icu_bed_utilization  \\\n",
       "0                                         656                      0.68   \n",
       "1                                         302        0.6245954692556634   \n",
       "2                                        3510        0.6284596030192899   \n",
       "3                                        2131        0.7408256880733946   \n",
       "4                                         829        0.7403055229142186   \n",
       "\n",
       "  adult_icu_bed_utilization_coverage adult_icu_bed_utilization_numerator  \\\n",
       "0                                126                                 459   \n",
       "1                                 52                                 193   \n",
       "2                                207                                2248   \n",
       "3                                166                                1615   \n",
       "4                                150                                 630   \n",
       "\n",
       "  adult_icu_bed_utilization_denominator                 geocoded_state  \\\n",
       "0                                   675   POINT (-93.500061 42.074659)   \n",
       "1                                   309  POINT (-114.659366 44.389073)   \n",
       "2                                  3577   POINT (-89.148632 40.124144)   \n",
       "3                                  2180     POINT (-86.2818 39.919991)   \n",
       "4                                   851    POINT (-98.38018 38.484729)   \n",
       "\n",
       "      latitude  longitude  \n",
       "0   -93.500061  42.074659  \n",
       "1  -114.659366  44.389073  \n",
       "2   -89.148632  40.124144  \n",
       "3     -86.2818  39.919991  \n",
       "4    -98.38018  38.484729  \n",
       "\n",
       "[5 rows x 63 columns]"
      ]
     },
     "execution_count": 40,
     "metadata": {},
     "output_type": "execute_result"
    }
   ],
   "source": [
    "#Bifurcating GEOCODED_STATE into two different columns LATITUDE and LONGITUDE\n",
    "\n",
    "# Creating two empty lists for storing Latitude and Longitude traversing through each row in the dataframe\n",
    "lat = []\n",
    "lon = []\n",
    "\n",
    "# For each row in a COVID_HOSPITAL,\n",
    "for row in COVID_HOSPITAL['geocoded_state']:\n",
    "    # Using TRY Block,\n",
    "    try:\n",
    "        # Split the row by space ' ' and strip the bracket from the output and append\n",
    "        lat.append(row.split(' ')[1].strip(\"(\"))\n",
    "        # Split the row by space ' ' and strip the bracket from the output and append\n",
    "        lon.append(row.split(' ')[2].strip(\")\"))\n",
    "    # Handling Error\n",
    "    except:\n",
    "        # append a missing value to lat\n",
    "        lat.append(np.NaN)\n",
    "        # append a missing value to lon\n",
    "        lon.append(np.NaN)\n",
    "\n",
    "# Create two new columns from lat and lon\n",
    "COVID_HOSPITAL['latitude'] = lat\n",
    "COVID_HOSPITAL['longitude'] = lon\n",
    "COVID_HOSPITAL.head()"
   ]
  },
  {
   "cell_type": "markdown",
   "metadata": {},
   "source": [
    "<a id=section50104></a>\n",
    "## 5.4. Treatment of Columns with Missing Values"
   ]
  },
  {
   "cell_type": "code",
   "execution_count": 41,
   "metadata": {},
   "outputs": [
    {
     "name": "stdout",
     "output_type": "stream",
     "text": [
      "[Index(['previous_day_admission_adult_covid_confirmed',\n",
      "       'previous_day_admission_adult_covid_suspected',\n",
      "       'previous_day_admission_pediatric_covid_confirmed',\n",
      "       'previous_day_admission_pediatric_covid_suspected',\n",
      "       'staffed_adult_icu_bed_occupancy',\n",
      "       'staffed_icu_adult_patients_confirmed_and_suspected_covid',\n",
      "       'staffed_icu_adult_patients_confirmed_covid',\n",
      "       'total_adult_patients_hospitalized_confirmed_and_suspected_covid',\n",
      "       'total_adult_patients_hospitalized_confirmed_covid',\n",
      "       'total_pediatric_patients_hospitalized_confirmed_and_suspected_covid',\n",
      "       'total_pediatric_patients_hospitalized_confirmed_covid',\n",
      "       'total_staffed_adult_icu_beds', 'adult_icu_bed_covid_utilization',\n",
      "       'adult_icu_bed_covid_utilization_coverage',\n",
      "       'adult_icu_bed_covid_utilization_numerator',\n",
      "       'adult_icu_bed_covid_utilization_denominator',\n",
      "       'adult_icu_bed_utilization', 'adult_icu_bed_utilization_coverage',\n",
      "       'adult_icu_bed_utilization_numerator',\n",
      "       'adult_icu_bed_utilization_denominator'],\n",
      "      dtype='object')]\n"
     ]
    }
   ],
   "source": [
    "# Extracting the Number of columns which NULL values and its magnitude\n",
    "# Storing the list \n",
    "missing=[]\n",
    "# Checking columns in the dataframe that have more than 5000 Null Values\n",
    "missing.append(COVID_HOSPITAL.columns[COVID_HOSPITAL.isna().sum()>5000])\n",
    "print(missing)\n",
    "\n",
    "# Using the column names extracted to drop from the dataframe\n",
    "COVID_HOSPITAL.drop(['previous_day_admission_adult_covid_confirmed',\n",
    "       'previous_day_admission_adult_covid_suspected',\n",
    "       'previous_day_admission_pediatric_covid_confirmed',\n",
    "       'previous_day_admission_pediatric_covid_suspected',\n",
    "       'staffed_adult_icu_bed_occupancy',\n",
    "       'staffed_icu_adult_patients_confirmed_and_suspected_covid',\n",
    "       'staffed_icu_adult_patients_confirmed_covid',\n",
    "       'total_pediatric_patients_hospitalized_confirmed_and_suspected_covid',\n",
    "       'total_pediatric_patients_hospitalized_confirmed_covid',\n",
    "       'total_staffed_adult_icu_beds', 'adult_icu_bed_covid_utilization',\n",
    "       'adult_icu_bed_covid_utilization_coverage',\n",
    "       'adult_icu_bed_covid_utilization_numerator',\n",
    "       'adult_icu_bed_covid_utilization_denominator',\n",
    "       'adult_icu_bed_utilization', 'adult_icu_bed_utilization_coverage',\n",
    "       'adult_icu_bed_utilization_numerator',\n",
    "       'adult_icu_bed_utilization_denominator',\n",
    "       'total_adult_patients_hospitalized_confirmed_and_suspected_covid', \n",
    "       'total_adult_patients_hospitalized_confirmed_covid'], axis = 1, inplace = True)\n",
    "\n"
   ]
  },
  {
   "cell_type": "code",
   "execution_count": 42,
   "metadata": {
    "scrolled": true
   },
   "outputs": [
    {
     "name": "stdout",
     "output_type": "stream",
     "text": [
      "<class 'pandas.core.frame.DataFrame'>\n",
      "RangeIndex: 17508 entries, 0 to 17507\n",
      "Data columns (total 43 columns):\n",
      " #   Column                                                                        Non-Null Count  Dtype         \n",
      "---  ------                                                                        --------------  -----         \n",
      " 0   state                                                                         17508 non-null  object        \n",
      " 1   date                                                                          17508 non-null  datetime64[ns]\n",
      " 2   critical_staffing_shortage_today_yes                                          17508 non-null  object        \n",
      " 3   critical_staffing_shortage_today_no                                           17508 non-null  object        \n",
      " 4   critical_staffing_shortage_today_not_reported                                 17508 non-null  object        \n",
      " 5   critical_staffing_shortage_anticipated_within_week_yes                        17508 non-null  object        \n",
      " 6   critical_staffing_shortage_anticipated_within_week_no                         17508 non-null  object        \n",
      " 7   critical_staffing_shortage_anticipated_within_week_not_reported               17508 non-null  object        \n",
      " 8   hospital_onset_covid                                                          17340 non-null  object        \n",
      " 9   hospital_onset_covid_coverage                                                 17508 non-null  object        \n",
      " 10  inpatient_beds                                                                17508 non-null  object        \n",
      " 11  inpatient_beds_coverage                                                       17508 non-null  object        \n",
      " 12  inpatient_beds_used                                                           17416 non-null  object        \n",
      " 13  inpatient_beds_used_coverage                                                  17508 non-null  object        \n",
      " 14  inpatient_beds_used_covid                                                     17498 non-null  object        \n",
      " 15  inpatient_beds_used_covid_coverage                                            17508 non-null  object        \n",
      " 16  previous_day_admission_adult_covid_confirmed_coverage                         17508 non-null  object        \n",
      " 17  previous_day_admission_adult_covid_suspected_coverage                         17508 non-null  object        \n",
      " 18  previous_day_admission_pediatric_covid_confirmed_coverage                     17508 non-null  object        \n",
      " 19  previous_day_admission_pediatric_covid_suspected_coverage                     17508 non-null  object        \n",
      " 20  staffed_adult_icu_bed_occupancy_coverage                                      17508 non-null  object        \n",
      " 21  staffed_icu_adult_patients_confirmed_and_suspected_covid_coverage             17508 non-null  object        \n",
      " 22  staffed_icu_adult_patients_confirmed_covid_coverage                           17508 non-null  object        \n",
      " 23  total_adult_patients_hospitalized_confirmed_and_suspected_covid_coverage      17508 non-null  object        \n",
      " 24  total_adult_patients_hospitalized_confirmed_covid_coverage                    17508 non-null  object        \n",
      " 25  total_pediatric_patients_hospitalized_confirmed_and_suspected_covid_coverage  17508 non-null  object        \n",
      " 26  total_pediatric_patients_hospitalized_confirmed_covid_coverage                17508 non-null  object        \n",
      " 27  total_staffed_adult_icu_beds_coverage                                         17508 non-null  object        \n",
      " 28  inpatient_beds_utilization                                                    17416 non-null  object        \n",
      " 29  inpatient_beds_utilization_coverage                                           17416 non-null  object        \n",
      " 30  inpatient_beds_utilization_numerator                                          17416 non-null  object        \n",
      " 31  inpatient_beds_utilization_denominator                                        17416 non-null  object        \n",
      " 32  percent_of_inpatients_with_covid                                              17389 non-null  object        \n",
      " 33  percent_of_inpatients_with_covid_coverage                                     17416 non-null  object        \n",
      " 34  percent_of_inpatients_with_covid_numerator                                    17416 non-null  object        \n",
      " 35  percent_of_inpatients_with_covid_denominator                                  17416 non-null  object        \n",
      " 36  inpatient_bed_covid_utilization                                               17416 non-null  object        \n",
      " 37  inpatient_bed_covid_utilization_coverage                                      17416 non-null  object        \n",
      " 38  inpatient_bed_covid_utilization_numerator                                     17416 non-null  object        \n",
      " 39  inpatient_bed_covid_utilization_denominator                                   17416 non-null  object        \n",
      " 40  geocoded_state                                                                17508 non-null  object        \n",
      " 41  latitude                                                                      17508 non-null  object        \n",
      " 42  longitude                                                                     17508 non-null  object        \n",
      "dtypes: datetime64[ns](1), object(42)\n",
      "memory usage: 5.7+ MB\n"
     ]
    },
    {
     "data": {
      "text/html": [
       "<div>\n",
       "<style scoped>\n",
       "    .dataframe tbody tr th:only-of-type {\n",
       "        vertical-align: middle;\n",
       "    }\n",
       "\n",
       "    .dataframe tbody tr th {\n",
       "        vertical-align: top;\n",
       "    }\n",
       "\n",
       "    .dataframe thead th {\n",
       "        text-align: right;\n",
       "    }\n",
       "</style>\n",
       "<table border=\"1\" class=\"dataframe\">\n",
       "  <thead>\n",
       "    <tr style=\"text-align: right;\">\n",
       "      <th></th>\n",
       "      <th>state</th>\n",
       "      <th>date</th>\n",
       "      <th>critical_staffing_shortage_today_yes</th>\n",
       "      <th>critical_staffing_shortage_today_no</th>\n",
       "      <th>critical_staffing_shortage_today_not_reported</th>\n",
       "      <th>critical_staffing_shortage_anticipated_within_week_yes</th>\n",
       "      <th>critical_staffing_shortage_anticipated_within_week_no</th>\n",
       "      <th>critical_staffing_shortage_anticipated_within_week_not_reported</th>\n",
       "      <th>hospital_onset_covid</th>\n",
       "      <th>hospital_onset_covid_coverage</th>\n",
       "      <th>...</th>\n",
       "      <th>percent_of_inpatients_with_covid_coverage</th>\n",
       "      <th>percent_of_inpatients_with_covid_numerator</th>\n",
       "      <th>percent_of_inpatients_with_covid_denominator</th>\n",
       "      <th>inpatient_bed_covid_utilization</th>\n",
       "      <th>inpatient_bed_covid_utilization_coverage</th>\n",
       "      <th>inpatient_bed_covid_utilization_numerator</th>\n",
       "      <th>inpatient_bed_covid_utilization_denominator</th>\n",
       "      <th>geocoded_state</th>\n",
       "      <th>latitude</th>\n",
       "      <th>longitude</th>\n",
       "    </tr>\n",
       "  </thead>\n",
       "  <tbody>\n",
       "    <tr>\n",
       "      <th>0</th>\n",
       "      <td>IA</td>\n",
       "      <td>2021-01-03</td>\n",
       "      <td>6</td>\n",
       "      <td>63</td>\n",
       "      <td>57</td>\n",
       "      <td>6</td>\n",
       "      <td>62</td>\n",
       "      <td>58</td>\n",
       "      <td>2</td>\n",
       "      <td>124</td>\n",
       "      <td>...</td>\n",
       "      <td>124</td>\n",
       "      <td>594</td>\n",
       "      <td>4531</td>\n",
       "      <td>0.07402791625124626</td>\n",
       "      <td>124</td>\n",
       "      <td>594</td>\n",
       "      <td>8024</td>\n",
       "      <td>POINT (-93.500061 42.074659)</td>\n",
       "      <td>-93.500061</td>\n",
       "      <td>42.074659</td>\n",
       "    </tr>\n",
       "    <tr>\n",
       "      <th>1</th>\n",
       "      <td>ID</td>\n",
       "      <td>2021-01-03</td>\n",
       "      <td>4</td>\n",
       "      <td>47</td>\n",
       "      <td>1</td>\n",
       "      <td>7</td>\n",
       "      <td>44</td>\n",
       "      <td>1</td>\n",
       "      <td>5</td>\n",
       "      <td>51</td>\n",
       "      <td>...</td>\n",
       "      <td>51</td>\n",
       "      <td>356</td>\n",
       "      <td>1941</td>\n",
       "      <td>0.09769484083424808</td>\n",
       "      <td>51</td>\n",
       "      <td>356</td>\n",
       "      <td>3644</td>\n",
       "      <td>POINT (-114.659366 44.389073)</td>\n",
       "      <td>-114.659366</td>\n",
       "      <td>44.389073</td>\n",
       "    </tr>\n",
       "    <tr>\n",
       "      <th>2</th>\n",
       "      <td>IL</td>\n",
       "      <td>2021-01-03</td>\n",
       "      <td>19</td>\n",
       "      <td>171</td>\n",
       "      <td>17</td>\n",
       "      <td>17</td>\n",
       "      <td>173</td>\n",
       "      <td>17</td>\n",
       "      <td>73</td>\n",
       "      <td>202</td>\n",
       "      <td>...</td>\n",
       "      <td>202</td>\n",
       "      <td>4031</td>\n",
       "      <td>20611</td>\n",
       "      <td>0.12565853050282116</td>\n",
       "      <td>202</td>\n",
       "      <td>4031</td>\n",
       "      <td>32079</td>\n",
       "      <td>POINT (-89.148632 40.124144)</td>\n",
       "      <td>-89.148632</td>\n",
       "      <td>40.124144</td>\n",
       "    </tr>\n",
       "    <tr>\n",
       "      <th>3</th>\n",
       "      <td>IN</td>\n",
       "      <td>2021-01-03</td>\n",
       "      <td>22</td>\n",
       "      <td>142</td>\n",
       "      <td>2</td>\n",
       "      <td>29</td>\n",
       "      <td>135</td>\n",
       "      <td>2</td>\n",
       "      <td>9</td>\n",
       "      <td>164</td>\n",
       "      <td>...</td>\n",
       "      <td>164</td>\n",
       "      <td>2817</td>\n",
       "      <td>11444</td>\n",
       "      <td>0.1526332899869961</td>\n",
       "      <td>164</td>\n",
       "      <td>2817</td>\n",
       "      <td>18456</td>\n",
       "      <td>POINT (-86.2818 39.919991)</td>\n",
       "      <td>-86.2818</td>\n",
       "      <td>39.919991</td>\n",
       "    </tr>\n",
       "    <tr>\n",
       "      <th>4</th>\n",
       "      <td>KS</td>\n",
       "      <td>2021-01-03</td>\n",
       "      <td>10</td>\n",
       "      <td>136</td>\n",
       "      <td>4</td>\n",
       "      <td>13</td>\n",
       "      <td>133</td>\n",
       "      <td>4</td>\n",
       "      <td>14</td>\n",
       "      <td>147</td>\n",
       "      <td>...</td>\n",
       "      <td>147</td>\n",
       "      <td>1042</td>\n",
       "      <td>4940</td>\n",
       "      <td>0.11924925612268254</td>\n",
       "      <td>147</td>\n",
       "      <td>1042</td>\n",
       "      <td>8738</td>\n",
       "      <td>POINT (-98.38018 38.484729)</td>\n",
       "      <td>-98.38018</td>\n",
       "      <td>38.484729</td>\n",
       "    </tr>\n",
       "  </tbody>\n",
       "</table>\n",
       "<p>5 rows × 43 columns</p>\n",
       "</div>"
      ],
      "text/plain": [
       "  state       date critical_staffing_shortage_today_yes  \\\n",
       "0    IA 2021-01-03                                    6   \n",
       "1    ID 2021-01-03                                    4   \n",
       "2    IL 2021-01-03                                   19   \n",
       "3    IN 2021-01-03                                   22   \n",
       "4    KS 2021-01-03                                   10   \n",
       "\n",
       "  critical_staffing_shortage_today_no  \\\n",
       "0                                  63   \n",
       "1                                  47   \n",
       "2                                 171   \n",
       "3                                 142   \n",
       "4                                 136   \n",
       "\n",
       "  critical_staffing_shortage_today_not_reported  \\\n",
       "0                                            57   \n",
       "1                                             1   \n",
       "2                                            17   \n",
       "3                                             2   \n",
       "4                                             4   \n",
       "\n",
       "  critical_staffing_shortage_anticipated_within_week_yes  \\\n",
       "0                                                  6       \n",
       "1                                                  7       \n",
       "2                                                 17       \n",
       "3                                                 29       \n",
       "4                                                 13       \n",
       "\n",
       "  critical_staffing_shortage_anticipated_within_week_no  \\\n",
       "0                                                 62      \n",
       "1                                                 44      \n",
       "2                                                173      \n",
       "3                                                135      \n",
       "4                                                133      \n",
       "\n",
       "  critical_staffing_shortage_anticipated_within_week_not_reported  \\\n",
       "0                                                 58                \n",
       "1                                                  1                \n",
       "2                                                 17                \n",
       "3                                                  2                \n",
       "4                                                  4                \n",
       "\n",
       "  hospital_onset_covid hospital_onset_covid_coverage  ...  \\\n",
       "0                    2                           124  ...   \n",
       "1                    5                            51  ...   \n",
       "2                   73                           202  ...   \n",
       "3                    9                           164  ...   \n",
       "4                   14                           147  ...   \n",
       "\n",
       "  percent_of_inpatients_with_covid_coverage  \\\n",
       "0                                       124   \n",
       "1                                        51   \n",
       "2                                       202   \n",
       "3                                       164   \n",
       "4                                       147   \n",
       "\n",
       "  percent_of_inpatients_with_covid_numerator  \\\n",
       "0                                        594   \n",
       "1                                        356   \n",
       "2                                       4031   \n",
       "3                                       2817   \n",
       "4                                       1042   \n",
       "\n",
       "  percent_of_inpatients_with_covid_denominator  \\\n",
       "0                                         4531   \n",
       "1                                         1941   \n",
       "2                                        20611   \n",
       "3                                        11444   \n",
       "4                                         4940   \n",
       "\n",
       "  inpatient_bed_covid_utilization inpatient_bed_covid_utilization_coverage  \\\n",
       "0             0.07402791625124626                                      124   \n",
       "1             0.09769484083424808                                       51   \n",
       "2             0.12565853050282116                                      202   \n",
       "3              0.1526332899869961                                      164   \n",
       "4             0.11924925612268254                                      147   \n",
       "\n",
       "  inpatient_bed_covid_utilization_numerator  \\\n",
       "0                                       594   \n",
       "1                                       356   \n",
       "2                                      4031   \n",
       "3                                      2817   \n",
       "4                                      1042   \n",
       "\n",
       "  inpatient_bed_covid_utilization_denominator                 geocoded_state  \\\n",
       "0                                        8024   POINT (-93.500061 42.074659)   \n",
       "1                                        3644  POINT (-114.659366 44.389073)   \n",
       "2                                       32079   POINT (-89.148632 40.124144)   \n",
       "3                                       18456     POINT (-86.2818 39.919991)   \n",
       "4                                        8738    POINT (-98.38018 38.484729)   \n",
       "\n",
       "      latitude  longitude  \n",
       "0   -93.500061  42.074659  \n",
       "1  -114.659366  44.389073  \n",
       "2   -89.148632  40.124144  \n",
       "3     -86.2818  39.919991  \n",
       "4    -98.38018  38.484729  \n",
       "\n",
       "[5 rows x 43 columns]"
      ]
     },
     "execution_count": 42,
     "metadata": {},
     "output_type": "execute_result"
    }
   ],
   "source": [
    "COVID_HOSPITAL.info()\n",
    "COVID_HOSPITAL.head()"
   ]
  },
  {
   "cell_type": "code",
   "execution_count": 43,
   "metadata": {},
   "outputs": [
    {
     "name": "stdout",
     "output_type": "stream",
     "text": [
      "state                                                                             0\n",
      "date                                                                              0\n",
      "critical_staffing_shortage_today_yes                                              0\n",
      "critical_staffing_shortage_today_no                                               0\n",
      "critical_staffing_shortage_today_not_reported                                     0\n",
      "critical_staffing_shortage_anticipated_within_week_yes                            0\n",
      "critical_staffing_shortage_anticipated_within_week_no                             0\n",
      "critical_staffing_shortage_anticipated_within_week_not_reported                   0\n",
      "hospital_onset_covid                                                            168\n",
      "hospital_onset_covid_coverage                                                     0\n",
      "inpatient_beds                                                                    0\n",
      "inpatient_beds_coverage                                                           0\n",
      "inpatient_beds_used                                                              92\n",
      "inpatient_beds_used_coverage                                                      0\n",
      "inpatient_beds_used_covid                                                        10\n",
      "inpatient_beds_used_covid_coverage                                                0\n",
      "previous_day_admission_adult_covid_confirmed_coverage                             0\n",
      "previous_day_admission_adult_covid_suspected_coverage                             0\n",
      "previous_day_admission_pediatric_covid_confirmed_coverage                         0\n",
      "previous_day_admission_pediatric_covid_suspected_coverage                         0\n",
      "staffed_adult_icu_bed_occupancy_coverage                                          0\n",
      "staffed_icu_adult_patients_confirmed_and_suspected_covid_coverage                 0\n",
      "staffed_icu_adult_patients_confirmed_covid_coverage                               0\n",
      "total_adult_patients_hospitalized_confirmed_and_suspected_covid_coverage          0\n",
      "total_adult_patients_hospitalized_confirmed_covid_coverage                        0\n",
      "total_pediatric_patients_hospitalized_confirmed_and_suspected_covid_coverage      0\n",
      "total_pediatric_patients_hospitalized_confirmed_covid_coverage                    0\n",
      "total_staffed_adult_icu_beds_coverage                                             0\n",
      "inpatient_beds_utilization                                                       92\n",
      "inpatient_beds_utilization_coverage                                              92\n",
      "inpatient_beds_utilization_numerator                                             92\n",
      "inpatient_beds_utilization_denominator                                           92\n",
      "percent_of_inpatients_with_covid                                                119\n",
      "percent_of_inpatients_with_covid_coverage                                        92\n",
      "percent_of_inpatients_with_covid_numerator                                       92\n",
      "percent_of_inpatients_with_covid_denominator                                     92\n",
      "inpatient_bed_covid_utilization                                                  92\n",
      "inpatient_bed_covid_utilization_coverage                                         92\n",
      "inpatient_bed_covid_utilization_numerator                                        92\n",
      "inpatient_bed_covid_utilization_denominator                                      92\n",
      "geocoded_state                                                                    0\n",
      "latitude                                                                          0\n",
      "longitude                                                                         0\n",
      "dtype: int64\n"
     ]
    }
   ],
   "source": [
    "# Check Columns which have missing values\n",
    "missing=COVID_HOSPITAL.isna().sum()\n",
    "print(missing)"
   ]
  },
  {
   "cell_type": "code",
   "execution_count": 44,
   "metadata": {},
   "outputs": [],
   "source": [
    "# Assigning Not Available in place of NULL values\n",
    "COVID_HOSPITAL['hospital_onset_covid'].replace (np.NaN, 'Not Available', inplace=True)\n",
    "COVID_HOSPITAL['inpatient_beds_used'].replace(np.NaN, 'Not Available', inplace=True)\n",
    "COVID_HOSPITAL['inpatient_beds_used_covid'].replace(np.NaN, 'Not Available', inplace=True)\n",
    "COVID_HOSPITAL['inpatient_beds_utilization'].replace(np.NaN, 'Not Available', inplace=True)\n",
    "COVID_HOSPITAL['inpatient_beds_utilization_coverage'].replace(np.NaN, 'Not Available', inplace=True)\n",
    "COVID_HOSPITAL['inpatient_beds_utilization_numerator'].replace(np.NaN, 'Not Available', inplace=True)\n",
    "COVID_HOSPITAL['inpatient_beds_utilization_denominator'].replace(np.NaN, 'Not Available', inplace=True)\n",
    "COVID_HOSPITAL['percent_of_inpatients_with_covid'].replace(np.NaN, 'Not Available', inplace=True)\n",
    "COVID_HOSPITAL['percent_of_inpatients_with_covid_coverage'].replace(np.NaN, 'Not Available', inplace=True)\n",
    "COVID_HOSPITAL['percent_of_inpatients_with_covid_numerator'].replace(np.NaN, 'Not Available', inplace=True)\n",
    "COVID_HOSPITAL['percent_of_inpatients_with_covid_denominator'].replace(np.NaN, 'Not Available', inplace=True)\n",
    "COVID_HOSPITAL['inpatient_bed_covid_utilization'].replace(np.NaN, 'Not Available', inplace=True)\n",
    "COVID_HOSPITAL['inpatient_bed_covid_utilization_coverage'].replace(np.NaN, 'Not Available', inplace=True)\n",
    "COVID_HOSPITAL['inpatient_bed_covid_utilization_numerator'].replace(np.NaN, 'Not Available', inplace=True)\n",
    "COVID_HOSPITAL['inpatient_bed_covid_utilization_denominator'].replace(np.NaN, 'Not Available', inplace=True)"
   ]
  },
  {
   "cell_type": "code",
   "execution_count": 45,
   "metadata": {},
   "outputs": [],
   "source": [
    "# Assigning Mean Value to columns with value as 'Not Available'\n",
    "COVID_HOSPITAL['hospital_onset_covid'].replace ('Not Available', pd.to_numeric(COVID_HOSPITAL['hospital_onset_covid'][COVID_HOSPITAL['hospital_onset_covid']!='Not Available']).mean(), inplace=True)\n",
    "COVID_HOSPITAL['inpatient_beds_used'].replace ('Not Available', pd.to_numeric(COVID_HOSPITAL['inpatient_beds_used'][COVID_HOSPITAL['inpatient_beds_used']!='Not Available']).mean(), inplace=True)\n",
    "COVID_HOSPITAL['inpatient_beds_used_covid'].replace ('Not Available', pd.to_numeric(COVID_HOSPITAL['inpatient_beds_used_covid'][COVID_HOSPITAL['inpatient_beds_used_covid']!='Not Available']).mean(), inplace=True)\n",
    "COVID_HOSPITAL['inpatient_beds_utilization'].replace ('Not Available', pd.to_numeric(COVID_HOSPITAL['inpatient_beds_utilization'][COVID_HOSPITAL['inpatient_beds_utilization']!='Not Available']).mean(), inplace=True)\n",
    "COVID_HOSPITAL['inpatient_beds_utilization_coverage'].replace ('Not Available', pd.to_numeric(COVID_HOSPITAL['inpatient_beds_utilization_coverage'][COVID_HOSPITAL['inpatient_beds_utilization_coverage']!='Not Available']).mean(), inplace=True)\n",
    "COVID_HOSPITAL['inpatient_beds_utilization_numerator'].replace ('Not Available', pd.to_numeric(COVID_HOSPITAL['inpatient_beds_utilization_numerator'][COVID_HOSPITAL['inpatient_beds_utilization_numerator']!='Not Available']).mean(), inplace=True)\n",
    "COVID_HOSPITAL['inpatient_beds_utilization_denominator'].replace ('Not Available', pd.to_numeric(COVID_HOSPITAL['inpatient_beds_utilization_denominator'][COVID_HOSPITAL['inpatient_beds_utilization_denominator']!='Not Available']).mean(), inplace=True)\n",
    "COVID_HOSPITAL['percent_of_inpatients_with_covid'].replace ('Not Available', pd.to_numeric(COVID_HOSPITAL['percent_of_inpatients_with_covid'][COVID_HOSPITAL['percent_of_inpatients_with_covid']!='Not Available']).mean(), inplace=True)\n",
    "COVID_HOSPITAL['percent_of_inpatients_with_covid_coverage'].replace ('Not Available', pd.to_numeric(COVID_HOSPITAL['percent_of_inpatients_with_covid_coverage'][COVID_HOSPITAL['percent_of_inpatients_with_covid_coverage']!='Not Available']).mean(), inplace=True)\n",
    "COVID_HOSPITAL['percent_of_inpatients_with_covid_numerator'].replace ('Not Available', pd.to_numeric(COVID_HOSPITAL['percent_of_inpatients_with_covid_numerator'][COVID_HOSPITAL['percent_of_inpatients_with_covid_numerator']!='Not Available']).median(), inplace=True)\n",
    "COVID_HOSPITAL['percent_of_inpatients_with_covid_denominator'].replace ('Not Available', pd.to_numeric(COVID_HOSPITAL['percent_of_inpatients_with_covid_denominator'][COVID_HOSPITAL['percent_of_inpatients_with_covid_denominator']!='Not Available']).median(), inplace=True)\n",
    "COVID_HOSPITAL['inpatient_bed_covid_utilization'].replace ('Not Available', pd.to_numeric(COVID_HOSPITAL['inpatient_bed_covid_utilization'][COVID_HOSPITAL['inpatient_bed_covid_utilization']!='Not Available']).median(), inplace=True)\n",
    "COVID_HOSPITAL['inpatient_bed_covid_utilization_coverage'].replace ('Not Available', pd.to_numeric(COVID_HOSPITAL['inpatient_bed_covid_utilization_coverage'][COVID_HOSPITAL['inpatient_bed_covid_utilization_coverage']!='Not Available']).median(), inplace=True)\n",
    "COVID_HOSPITAL['inpatient_bed_covid_utilization_numerator'].replace ('Not Available', pd.to_numeric(COVID_HOSPITAL['inpatient_bed_covid_utilization_numerator'][COVID_HOSPITAL['inpatient_bed_covid_utilization_numerator']!='Not Available']).median(), inplace=True)\n",
    "COVID_HOSPITAL['inpatient_bed_covid_utilization_denominator'].replace ('Not Available', pd.to_numeric(COVID_HOSPITAL['inpatient_bed_covid_utilization_denominator'][COVID_HOSPITAL['inpatient_bed_covid_utilization_denominator']!='Not Available']).median(), inplace=True)"
   ]
  },
  {
   "cell_type": "code",
   "execution_count": 46,
   "metadata": {},
   "outputs": [
    {
     "name": "stdout",
     "output_type": "stream",
     "text": [
      "Series([], dtype: int64)\n"
     ]
    }
   ],
   "source": [
    "#Check if we have any other columns with any missing values\n",
    "missing=COVID_HOSPITAL.isna().sum()[COVID_HOSPITAL.isna().sum()>0]\n",
    "print(missing)\n"
   ]
  },
  {
   "cell_type": "markdown",
   "metadata": {},
   "source": [
    "<a id='section50105'></a>\n",
    "## 5.5. Retrieve State Description from Lookup CSV file"
   ]
  },
  {
   "cell_type": "code",
   "execution_count": 47,
   "metadata": {
    "scrolled": true
   },
   "outputs": [
    {
     "data": {
      "text/html": [
       "<div>\n",
       "<style scoped>\n",
       "    .dataframe tbody tr th:only-of-type {\n",
       "        vertical-align: middle;\n",
       "    }\n",
       "\n",
       "    .dataframe tbody tr th {\n",
       "        vertical-align: top;\n",
       "    }\n",
       "\n",
       "    .dataframe thead th {\n",
       "        text-align: right;\n",
       "    }\n",
       "</style>\n",
       "<table border=\"1\" class=\"dataframe\">\n",
       "  <thead>\n",
       "    <tr style=\"text-align: right;\">\n",
       "      <th></th>\n",
       "      <th>State</th>\n",
       "      <th>Code</th>\n",
       "    </tr>\n",
       "  </thead>\n",
       "  <tbody>\n",
       "    <tr>\n",
       "      <th>0</th>\n",
       "      <td>Alabama</td>\n",
       "      <td>AL</td>\n",
       "    </tr>\n",
       "    <tr>\n",
       "      <th>1</th>\n",
       "      <td>Alaska</td>\n",
       "      <td>AK</td>\n",
       "    </tr>\n",
       "    <tr>\n",
       "      <th>2</th>\n",
       "      <td>Arizona</td>\n",
       "      <td>AZ</td>\n",
       "    </tr>\n",
       "    <tr>\n",
       "      <th>3</th>\n",
       "      <td>Arkansas</td>\n",
       "      <td>AR</td>\n",
       "    </tr>\n",
       "    <tr>\n",
       "      <th>4</th>\n",
       "      <td>California</td>\n",
       "      <td>CA</td>\n",
       "    </tr>\n",
       "  </tbody>\n",
       "</table>\n",
       "</div>"
      ],
      "text/plain": [
       "        State Code\n",
       "0     Alabama   AL\n",
       "1      Alaska   AK\n",
       "2     Arizona   AZ\n",
       "3    Arkansas   AR\n",
       "4  California   CA"
      ]
     },
     "execution_count": 47,
     "metadata": {},
     "output_type": "execute_result"
    }
   ],
   "source": [
    "states=pd.read_csv('states.csv')\n",
    "states.head()"
   ]
  },
  {
   "cell_type": "code",
   "execution_count": 48,
   "metadata": {
    "scrolled": true
   },
   "outputs": [
    {
     "data": {
      "text/html": [
       "<div>\n",
       "<style scoped>\n",
       "    .dataframe tbody tr th:only-of-type {\n",
       "        vertical-align: middle;\n",
       "    }\n",
       "\n",
       "    .dataframe tbody tr th {\n",
       "        vertical-align: top;\n",
       "    }\n",
       "\n",
       "    .dataframe thead th {\n",
       "        text-align: right;\n",
       "    }\n",
       "</style>\n",
       "<table border=\"1\" class=\"dataframe\">\n",
       "  <thead>\n",
       "    <tr style=\"text-align: right;\">\n",
       "      <th></th>\n",
       "      <th>state</th>\n",
       "      <th>date</th>\n",
       "      <th>critical_staffing_shortage_today_yes</th>\n",
       "      <th>critical_staffing_shortage_today_no</th>\n",
       "      <th>critical_staffing_shortage_today_not_reported</th>\n",
       "      <th>critical_staffing_shortage_anticipated_within_week_yes</th>\n",
       "      <th>critical_staffing_shortage_anticipated_within_week_no</th>\n",
       "      <th>critical_staffing_shortage_anticipated_within_week_not_reported</th>\n",
       "      <th>hospital_onset_covid</th>\n",
       "      <th>hospital_onset_covid_coverage</th>\n",
       "      <th>...</th>\n",
       "      <th>percent_of_inpatients_with_covid_numerator</th>\n",
       "      <th>percent_of_inpatients_with_covid_denominator</th>\n",
       "      <th>inpatient_bed_covid_utilization</th>\n",
       "      <th>inpatient_bed_covid_utilization_coverage</th>\n",
       "      <th>inpatient_bed_covid_utilization_numerator</th>\n",
       "      <th>inpatient_bed_covid_utilization_denominator</th>\n",
       "      <th>geocoded_state</th>\n",
       "      <th>latitude</th>\n",
       "      <th>longitude</th>\n",
       "      <th>state_desc</th>\n",
       "    </tr>\n",
       "  </thead>\n",
       "  <tbody>\n",
       "    <tr>\n",
       "      <th>0</th>\n",
       "      <td>IA</td>\n",
       "      <td>2021-01-03</td>\n",
       "      <td>6</td>\n",
       "      <td>63</td>\n",
       "      <td>57</td>\n",
       "      <td>6</td>\n",
       "      <td>62</td>\n",
       "      <td>58</td>\n",
       "      <td>2</td>\n",
       "      <td>124</td>\n",
       "      <td>...</td>\n",
       "      <td>594</td>\n",
       "      <td>4531</td>\n",
       "      <td>0.07402791625124626</td>\n",
       "      <td>124</td>\n",
       "      <td>594</td>\n",
       "      <td>8024</td>\n",
       "      <td>POINT (-93.500061 42.074659)</td>\n",
       "      <td>-93.500061</td>\n",
       "      <td>42.074659</td>\n",
       "      <td>Iowa</td>\n",
       "    </tr>\n",
       "    <tr>\n",
       "      <th>1</th>\n",
       "      <td>ID</td>\n",
       "      <td>2021-01-03</td>\n",
       "      <td>4</td>\n",
       "      <td>47</td>\n",
       "      <td>1</td>\n",
       "      <td>7</td>\n",
       "      <td>44</td>\n",
       "      <td>1</td>\n",
       "      <td>5</td>\n",
       "      <td>51</td>\n",
       "      <td>...</td>\n",
       "      <td>356</td>\n",
       "      <td>1941</td>\n",
       "      <td>0.09769484083424808</td>\n",
       "      <td>51</td>\n",
       "      <td>356</td>\n",
       "      <td>3644</td>\n",
       "      <td>POINT (-114.659366 44.389073)</td>\n",
       "      <td>-114.659366</td>\n",
       "      <td>44.389073</td>\n",
       "      <td>Idaho</td>\n",
       "    </tr>\n",
       "    <tr>\n",
       "      <th>2</th>\n",
       "      <td>IL</td>\n",
       "      <td>2021-01-03</td>\n",
       "      <td>19</td>\n",
       "      <td>171</td>\n",
       "      <td>17</td>\n",
       "      <td>17</td>\n",
       "      <td>173</td>\n",
       "      <td>17</td>\n",
       "      <td>73</td>\n",
       "      <td>202</td>\n",
       "      <td>...</td>\n",
       "      <td>4031</td>\n",
       "      <td>20611</td>\n",
       "      <td>0.12565853050282116</td>\n",
       "      <td>202</td>\n",
       "      <td>4031</td>\n",
       "      <td>32079</td>\n",
       "      <td>POINT (-89.148632 40.124144)</td>\n",
       "      <td>-89.148632</td>\n",
       "      <td>40.124144</td>\n",
       "      <td>Illinois</td>\n",
       "    </tr>\n",
       "    <tr>\n",
       "      <th>3</th>\n",
       "      <td>IN</td>\n",
       "      <td>2021-01-03</td>\n",
       "      <td>22</td>\n",
       "      <td>142</td>\n",
       "      <td>2</td>\n",
       "      <td>29</td>\n",
       "      <td>135</td>\n",
       "      <td>2</td>\n",
       "      <td>9</td>\n",
       "      <td>164</td>\n",
       "      <td>...</td>\n",
       "      <td>2817</td>\n",
       "      <td>11444</td>\n",
       "      <td>0.1526332899869961</td>\n",
       "      <td>164</td>\n",
       "      <td>2817</td>\n",
       "      <td>18456</td>\n",
       "      <td>POINT (-86.2818 39.919991)</td>\n",
       "      <td>-86.2818</td>\n",
       "      <td>39.919991</td>\n",
       "      <td>Indiana</td>\n",
       "    </tr>\n",
       "    <tr>\n",
       "      <th>4</th>\n",
       "      <td>KS</td>\n",
       "      <td>2021-01-03</td>\n",
       "      <td>10</td>\n",
       "      <td>136</td>\n",
       "      <td>4</td>\n",
       "      <td>13</td>\n",
       "      <td>133</td>\n",
       "      <td>4</td>\n",
       "      <td>14</td>\n",
       "      <td>147</td>\n",
       "      <td>...</td>\n",
       "      <td>1042</td>\n",
       "      <td>4940</td>\n",
       "      <td>0.11924925612268254</td>\n",
       "      <td>147</td>\n",
       "      <td>1042</td>\n",
       "      <td>8738</td>\n",
       "      <td>POINT (-98.38018 38.484729)</td>\n",
       "      <td>-98.38018</td>\n",
       "      <td>38.484729</td>\n",
       "      <td>Kansas</td>\n",
       "    </tr>\n",
       "  </tbody>\n",
       "</table>\n",
       "<p>5 rows × 44 columns</p>\n",
       "</div>"
      ],
      "text/plain": [
       "  state       date critical_staffing_shortage_today_yes  \\\n",
       "0    IA 2021-01-03                                    6   \n",
       "1    ID 2021-01-03                                    4   \n",
       "2    IL 2021-01-03                                   19   \n",
       "3    IN 2021-01-03                                   22   \n",
       "4    KS 2021-01-03                                   10   \n",
       "\n",
       "  critical_staffing_shortage_today_no  \\\n",
       "0                                  63   \n",
       "1                                  47   \n",
       "2                                 171   \n",
       "3                                 142   \n",
       "4                                 136   \n",
       "\n",
       "  critical_staffing_shortage_today_not_reported  \\\n",
       "0                                            57   \n",
       "1                                             1   \n",
       "2                                            17   \n",
       "3                                             2   \n",
       "4                                             4   \n",
       "\n",
       "  critical_staffing_shortage_anticipated_within_week_yes  \\\n",
       "0                                                  6       \n",
       "1                                                  7       \n",
       "2                                                 17       \n",
       "3                                                 29       \n",
       "4                                                 13       \n",
       "\n",
       "  critical_staffing_shortage_anticipated_within_week_no  \\\n",
       "0                                                 62      \n",
       "1                                                 44      \n",
       "2                                                173      \n",
       "3                                                135      \n",
       "4                                                133      \n",
       "\n",
       "  critical_staffing_shortage_anticipated_within_week_not_reported  \\\n",
       "0                                                 58                \n",
       "1                                                  1                \n",
       "2                                                 17                \n",
       "3                                                  2                \n",
       "4                                                  4                \n",
       "\n",
       "  hospital_onset_covid hospital_onset_covid_coverage  ...  \\\n",
       "0                    2                           124  ...   \n",
       "1                    5                            51  ...   \n",
       "2                   73                           202  ...   \n",
       "3                    9                           164  ...   \n",
       "4                   14                           147  ...   \n",
       "\n",
       "  percent_of_inpatients_with_covid_numerator  \\\n",
       "0                                        594   \n",
       "1                                        356   \n",
       "2                                       4031   \n",
       "3                                       2817   \n",
       "4                                       1042   \n",
       "\n",
       "  percent_of_inpatients_with_covid_denominator  \\\n",
       "0                                         4531   \n",
       "1                                         1941   \n",
       "2                                        20611   \n",
       "3                                        11444   \n",
       "4                                         4940   \n",
       "\n",
       "  inpatient_bed_covid_utilization inpatient_bed_covid_utilization_coverage  \\\n",
       "0             0.07402791625124626                                      124   \n",
       "1             0.09769484083424808                                       51   \n",
       "2             0.12565853050282116                                      202   \n",
       "3              0.1526332899869961                                      164   \n",
       "4             0.11924925612268254                                      147   \n",
       "\n",
       "  inpatient_bed_covid_utilization_numerator  \\\n",
       "0                                       594   \n",
       "1                                       356   \n",
       "2                                      4031   \n",
       "3                                      2817   \n",
       "4                                      1042   \n",
       "\n",
       "  inpatient_bed_covid_utilization_denominator                 geocoded_state  \\\n",
       "0                                        8024   POINT (-93.500061 42.074659)   \n",
       "1                                        3644  POINT (-114.659366 44.389073)   \n",
       "2                                       32079   POINT (-89.148632 40.124144)   \n",
       "3                                       18456     POINT (-86.2818 39.919991)   \n",
       "4                                        8738    POINT (-98.38018 38.484729)   \n",
       "\n",
       "      latitude  longitude state_desc  \n",
       "0   -93.500061  42.074659       Iowa  \n",
       "1  -114.659366  44.389073      Idaho  \n",
       "2   -89.148632  40.124144   Illinois  \n",
       "3     -86.2818  39.919991    Indiana  \n",
       "4    -98.38018  38.484729     Kansas  \n",
       "\n",
       "[5 rows x 44 columns]"
      ]
     },
     "execution_count": 48,
     "metadata": {},
     "output_type": "execute_result"
    }
   ],
   "source": [
    "# Using Fuzzy Matcher \n",
    "left_on=['state']\n",
    "right_on=['Code']\n",
    "COVID = fuzzymatcher.fuzzy_left_join(COVID_HOSPITAL,\n",
    "                                            states,\n",
    "                                            left_on,\n",
    "                                            right_on,\n",
    "                                            left_id_col='state',\n",
    "                                            right_id_col='Code')\n",
    "\n",
    "COVID.drop(['best_match_score','__id_left','__id_right','Code'], axis = 1, inplace = True)\n",
    "COVID.rename(columns={'State':'state_desc'}, inplace=True)\n",
    "COVID.head()"
   ]
  },
  {
   "cell_type": "markdown",
   "metadata": {},
   "source": [
    "<a id='section50106'></a>\n",
    "## 5.6. Writing the new dataframe into a CSV file with all the data operations and modifications"
   ]
  },
  {
   "cell_type": "code",
   "execution_count": 49,
   "metadata": {},
   "outputs": [],
   "source": [
    "# Writing the new dataframe into a CSV file with all the data operations\n",
    "\n",
    "COVID.to_csv(r'COVID-19 Reported Patient Impact and Hospital Capacity by State Timeseries.csv',index=False)"
   ]
  },
  {
   "cell_type": "markdown",
   "metadata": {},
   "source": [
    "<a id=section6></a>\n",
    "## 6. Establish connection with PostgreSQL, Create Database and Table Schema\n"
   ]
  },
  {
   "cell_type": "code",
   "execution_count": 50,
   "metadata": {},
   "outputs": [
    {
     "name": "stdout",
     "output_type": "stream",
     "text": [
      "Connected!\n",
      "Error while connecting to PostgreSQL database \"covid\" already exists\n",
      "\n"
     ]
    }
   ],
   "source": [
    "\n",
    "try:\n",
    "    dbConnection = psycopg2.connect(user = \"postgres\",password = \"abcd1234\",host = \"localhost\",port = \"5432\")\n",
    "    print(\"Connected!\")\n",
    "    dbConnection.set_isolation_level(0) # AUTOCOMMIT\n",
    "    dbCursor = dbConnection.cursor()\n",
    "    dbCursor.execute('CREATE DATABASE covid;')\n",
    "    dbCursor.close()\n",
    "except (Exception , psycopg2.Error) as dbError :\n",
    "    print (\"Error while connecting to PostgreSQL\", dbError)\n",
    "finally:\n",
    "    if(dbConnection): dbConnection.close()\n"
   ]
  },
  {
   "cell_type": "code",
   "execution_count": 51,
   "metadata": {},
   "outputs": [],
   "source": [
    "createString=\"\"\"\n",
    "\n",
    "CREATE TABLE COVID_HOSPITAL (\n",
    "state\tvarchar\t,\n",
    "date\tdate\t,\n",
    "critical_staffing_shortage_today_yes\tfloat\t,\n",
    "critical_staffing_shortage_today_no\tfloat\t,\n",
    "critical_staffing_shortage_today_not_reported\tfloat\t,\n",
    "critical_staffing_shortage_anticipated_within_week_yes\tfloat\t,\n",
    "critical_staffing_shortage_anticipated_within_week_no\tfloat\t,\n",
    "critical_staffing_shortage_anticipated_within_week_not_reported\tfloat\t,\n",
    "hospital_onset_covid\tfloat\t,\n",
    "hospital_onset_covid_coverage\tfloat\t,\n",
    "inpatient_beds\tfloat\t,\n",
    "inpatient_beds_coverage\tfloat\t,\n",
    "inpatient_beds_used\tfloat\t,\n",
    "inpatient_beds_used_coverage\tfloat\t,\n",
    "inpatient_beds_used_covid\tfloat\t,\n",
    "inpatient_beds_used_covid_coverage\tfloat\t,\n",
    "previous_day_admission_adult_covid_confirmed_coverage\tfloat\t,\n",
    "previous_day_admission_adult_covid_suspected_coverage\tfloat\t,\n",
    "previous_day_admission_pediatric_covid_confirmed_coverage\tfloat\t,\n",
    "previous_day_admission_pediatric_covid_suspected_coverage\tfloat\t,\n",
    "staffed_adult_icu_bed_occupancy_coverage\tfloat\t,\n",
    "staffed_icu_adult_patients_conf_and_sus_covid_coverage\tfloat\t,\n",
    "staffed_icu_adult_patients_confirmed_covid_coverage\tfloat\t,\n",
    "total_adult_patients_hospitalized_confirmed_and_suspected_covid_coverage\tfloat\t,\n",
    "total_adult_patients_hospitalized_confirmed_covid_coverage\tfloat\t,\n",
    "total_pediatric_patients_hospital_conf_and_sus_covid_coverage\tfloat\t,\n",
    "total_pediatric_patients_hospitalized_confirmed_covid_coverage\tfloat\t,\n",
    "total_staffed_adult_icu_beds_coverage\tfloat\t,\n",
    "inpatient_beds_utilization\tfloat\t,\n",
    "inpatient_beds_utilization_coverage\tfloat\t,\n",
    "inpatient_beds_utilization_numerator\tfloat\t,\n",
    "inpatient_beds_utilization_denominator\tfloat\t,\n",
    "percent_of_inpatients_with_covid\tfloat\t,\n",
    "percent_of_inpatients_with_covid_coverage\tfloat\t,\n",
    "percent_of_inpatients_with_covid_numerator\tfloat\t,\n",
    "percent_of_inpatients_with_covid_denominator\tfloat\t,\n",
    "inpatient_bed_covid_utilization\tfloat\t,\n",
    "inpatient_bed_covid_utilization_coverage\tfloat\t,\n",
    "inpatient_bed_covid_utilization_numerator\tfloat\t,\n",
    "inpatient_bed_covid_utilization_denominator\tfloat\t,\n",
    "geocoded_state\tvarchar\t,\n",
    "latitude\tfloat\t,\n",
    "longitude\tfloat\t,\n",
    "state_desc varchar\n",
    ");\n",
    "\"\"\""
   ]
  },
  {
   "cell_type": "code",
   "execution_count": 52,
   "metadata": {},
   "outputs": [
    {
     "name": "stdout",
     "output_type": "stream",
     "text": [
      "Error while connecting to PostgreSQL relation \"covid_hospital\" already exists\n",
      "\n"
     ]
    }
   ],
   "source": [
    "try:\n",
    "    dbConnection = psycopg2.connect(user = \"postgres\",password = \"abcd1234\",host = \"localhost\",port = \"5432\",database = \"coviddb\")\n",
    "    dbConnection.set_isolation_level(0) # AUTOCOMMIT\n",
    "    dbCursor = dbConnection.cursor()\n",
    "    dbCursor.execute(createString)\n",
    "    dbCursor.close()\n",
    "except (Exception , psycopg2.Error) as dbError :\n",
    "    print (\"Error while connecting to PostgreSQL\", dbError)\n",
    "finally:\n",
    "    if(dbConnection): dbConnection.close()"
   ]
  },
  {
   "cell_type": "code",
   "execution_count": 53,
   "metadata": {},
   "outputs": [],
   "source": [
    "try:\n",
    "    dbConnection = psycopg2.connect(user = \"postgres\",password = \"abcd1234\",host = \"localhost\",port = \"5432\",database = \"coviddb\")\n",
    "    dbConnection.set_isolation_level(0) # AUTOCOMMIT\n",
    "    # dbCursor = dbConnection.cursor()\n",
    "    sql = \"COPY %s FROM STDIN WITH CSV HEADER DELIMITER AS ','\"\n",
    "    file = open(\"/Users/adityaraj/Desktop/Database and Analytics Programming Folder/CA Project/COVID-19 Reported Patient Impact and Hospital Capacity by State Timeseries.csv\", \"r\")\n",
    "    #Inserting data from merged CSV into table in Postgres\n",
    "    with dbConnection.cursor() as cur:\n",
    "\n",
    "        #Avoiding uploading duplicate data!\n",
    "        cur.execute(\"truncate \" + \"covid_hospital\" + \";\")\n",
    "        cur.copy_expert(sql=sql % \"covid_hospital\", file=file)\n",
    "        dbConnection.commit()\n",
    "except (Exception , psycopg2.Error) as dbError :\n",
    "    print (\"Error:\", dbError)\n",
    "finally:\n",
    "    if(dbConnection): dbConnection.close()"
   ]
  },
  {
   "cell_type": "code",
   "execution_count": 54,
   "metadata": {},
   "outputs": [
    {
     "name": "stdout",
     "output_type": "stream",
     "text": [
      "      state        date  critical_staffing_shortage_today_yes  \\\n",
      "0        IA  2021-01-03                                   6.0   \n",
      "1        ID  2021-01-03                                   4.0   \n",
      "2        IL  2021-01-03                                  19.0   \n",
      "3        IN  2021-01-03                                  22.0   \n",
      "4        KS  2021-01-03                                  10.0   \n",
      "...     ...         ...                                   ...   \n",
      "17503    NJ  2020-09-21                                  11.0   \n",
      "17504    NM  2020-09-21                                  13.0   \n",
      "17505    NV  2020-09-21                                   4.0   \n",
      "17506    NY  2020-09-21                                   9.0   \n",
      "17507    OH  2020-09-21                                   9.0   \n",
      "\n",
      "       critical_staffing_shortage_today_no  \\\n",
      "0                                     63.0   \n",
      "1                                     47.0   \n",
      "2                                    171.0   \n",
      "3                                    142.0   \n",
      "4                                    136.0   \n",
      "...                                    ...   \n",
      "17503                                 81.0   \n",
      "17504                                 36.0   \n",
      "17505                                 52.0   \n",
      "17506                                121.0   \n",
      "17507                                112.0   \n",
      "\n",
      "       critical_staffing_shortage_today_not_reported  \\\n",
      "0                                               57.0   \n",
      "1                                                1.0   \n",
      "2                                               17.0   \n",
      "3                                                2.0   \n",
      "4                                                4.0   \n",
      "...                                              ...   \n",
      "17503                                            1.0   \n",
      "17504                                            2.0   \n",
      "17505                                            4.0   \n",
      "17506                                           46.0   \n",
      "17507                                           90.0   \n",
      "\n",
      "       critical_staffing_shortage_anticipated_within_week_yes  \\\n",
      "0                                                    6.0        \n",
      "1                                                    7.0        \n",
      "2                                                   17.0        \n",
      "3                                                   29.0        \n",
      "4                                                   13.0        \n",
      "...                                                  ...        \n",
      "17503                                               11.0        \n",
      "17504                                               13.0        \n",
      "17505                                                5.0        \n",
      "17506                                                8.0        \n",
      "17507                                               13.0        \n",
      "\n",
      "       critical_staffing_shortage_anticipated_within_week_no  \\\n",
      "0                                                   62.0       \n",
      "1                                                   44.0       \n",
      "2                                                  173.0       \n",
      "3                                                  135.0       \n",
      "4                                                  133.0       \n",
      "...                                                  ...       \n",
      "17503                                               81.0       \n",
      "17504                                               36.0       \n",
      "17505                                               51.0       \n",
      "17506                                              122.0       \n",
      "17507                                              107.0       \n",
      "\n",
      "       critical_staffing_shortage_anticipated_within_week_not_reported  \\\n",
      "0                                                   58.0                 \n",
      "1                                                    1.0                 \n",
      "2                                                   17.0                 \n",
      "3                                                    2.0                 \n",
      "4                                                    4.0                 \n",
      "...                                                  ...                 \n",
      "17503                                                1.0                 \n",
      "17504                                                2.0                 \n",
      "17505                                                4.0                 \n",
      "17506                                               46.0                 \n",
      "17507                                               91.0                 \n",
      "\n",
      "       hospital_onset_covid  hospital_onset_covid_coverage  ...  \\\n",
      "0                       2.0                          124.0  ...   \n",
      "1                       5.0                           51.0  ...   \n",
      "2                      73.0                          202.0  ...   \n",
      "3                       9.0                          164.0  ...   \n",
      "4                      14.0                          147.0  ...   \n",
      "...                     ...                            ...  ...   \n",
      "17503                  41.0                           92.0  ...   \n",
      "17504                   1.0                           49.0  ...   \n",
      "17505                  40.0                           58.0  ...   \n",
      "17506                  29.0                          155.0  ...   \n",
      "17507                  20.0                          116.0  ...   \n",
      "\n",
      "       percent_of_inpatients_with_covid_numerator  \\\n",
      "0                                           594.0   \n",
      "1                                           356.0   \n",
      "2                                          4031.0   \n",
      "3                                          2817.0   \n",
      "4                                          1042.0   \n",
      "...                                           ...   \n",
      "17503                                       627.0   \n",
      "17504                                       122.0   \n",
      "17505                                       460.0   \n",
      "17506                                      1272.0   \n",
      "17507                                      1167.0   \n",
      "\n",
      "       percent_of_inpatients_with_covid_denominator  \\\n",
      "0                                            4531.0   \n",
      "1                                            1941.0   \n",
      "2                                           20611.0   \n",
      "3                                           11444.0   \n",
      "4                                            4940.0   \n",
      "...                                             ...   \n",
      "17503                                       15286.0   \n",
      "17504                                        2210.0   \n",
      "17505                                        5618.0   \n",
      "17506                                       30984.0   \n",
      "17507                                       19724.0   \n",
      "\n",
      "       inpatient_bed_covid_utilization  \\\n",
      "0                             0.074028   \n",
      "1                             0.097695   \n",
      "2                             0.125659   \n",
      "3                             0.152633   \n",
      "4                             0.119249   \n",
      "...                                ...   \n",
      "17503                         0.028026   \n",
      "17504                         0.034620   \n",
      "17505                         0.055900   \n",
      "17506                         0.028809   \n",
      "17507                         0.039024   \n",
      "\n",
      "       inpatient_bed_covid_utilization_coverage  \\\n",
      "0                                         124.0   \n",
      "1                                          51.0   \n",
      "2                                         202.0   \n",
      "3                                         164.0   \n",
      "4                                         147.0   \n",
      "...                                         ...   \n",
      "17503                                      91.0   \n",
      "17504                                      50.0   \n",
      "17505                                      58.0   \n",
      "17506                                     156.0   \n",
      "17507                                     206.0   \n",
      "\n",
      "       inpatient_bed_covid_utilization_numerator  \\\n",
      "0                                          594.0   \n",
      "1                                          356.0   \n",
      "2                                         4031.0   \n",
      "3                                         2817.0   \n",
      "4                                         1042.0   \n",
      "...                                          ...   \n",
      "17503                                      627.0   \n",
      "17504                                      122.0   \n",
      "17505                                      460.0   \n",
      "17506                                     1227.0   \n",
      "17507                                     1167.0   \n",
      "\n",
      "       inpatient_bed_covid_utilization_denominator  \\\n",
      "0                                           8024.0   \n",
      "1                                           3644.0   \n",
      "2                                          32079.0   \n",
      "3                                          18456.0   \n",
      "4                                           8738.0   \n",
      "...                                            ...   \n",
      "17503                                      22372.0   \n",
      "17504                                       3524.0   \n",
      "17505                                       8229.0   \n",
      "17506                                      42591.0   \n",
      "17507                                      29905.0   \n",
      "\n",
      "                      geocoded_state    latitude  longitude  state_desc  \n",
      "0       POINT (-93.500061 42.074659)  -93.500061  42.074659        Iowa  \n",
      "1      POINT (-114.659366 44.389073) -114.659366  44.389073       Idaho  \n",
      "2       POINT (-89.148632 40.124144)  -89.148632  40.124144    Illinois  \n",
      "3         POINT (-86.2818 39.919991)  -86.281800  39.919991     Indiana  \n",
      "4        POINT (-98.38018 38.484729)  -98.380180  38.484729      Kansas  \n",
      "...                              ...         ...        ...         ...  \n",
      "17503   POINT (-74.655514 40.110253)  -74.655514  40.110253  New Jersey  \n",
      "17504  POINT (-106.108388 34.421369) -106.108388  34.421369  New Mexico  \n",
      "17505  POINT (-114.916992 39.283294) -114.916992  39.283294      Nevada  \n",
      "17506    POINT (-75.59655 42.921241)  -75.596550  42.921241    New York  \n",
      "17507    POINT (-82.70936 40.415534)  -82.709360  40.415534        Ohio  \n",
      "\n",
      "[17508 rows x 44 columns]\n"
     ]
    }
   ],
   "source": [
    "#Fetch Data\n",
    "\n",
    "sql = \"\"\"SELECT * FROM covid_hospital;\"\"\"\n",
    "try:\n",
    "    dbConnection = psycopg2.connect(user = \"postgres\",password = \"abcd1234\",host = \"localhost\",port = \"5432\",database = \"coviddb\")\n",
    "    covid_dataframe = sqlio.read_sql_query(sql, dbConnection)\n",
    "    print(covid_dataframe)\n",
    "except (Exception , psycopg2.Error) as dbError :\n",
    "    print (\"Error:\", dbError)\n",
    "finally:\n",
    "    if(dbConnection): dbConnection.close()"
   ]
  },
  {
   "cell_type": "markdown",
   "metadata": {},
   "source": [
    "<a id=section7></a>\n",
    "## 7. Visualization"
   ]
  },
  {
   "cell_type": "code",
   "execution_count": 55,
   "metadata": {},
   "outputs": [],
   "source": [
    "#Data Preparation for Visualizations\n",
    "# Changing Columns into Numeric for using in Visualizations\n",
    "covid_dataframe['critical_staffing_shortage_today_yes']=pd.to_numeric(covid_dataframe['critical_staffing_shortage_today_yes'])\n",
    "covid_dataframe['critical_staffing_shortage_today_no']=pd.to_numeric(covid_dataframe['critical_staffing_shortage_today_no'])\n",
    "covid_dataframe['critical_staffing_shortage_today_not_reported']=pd.to_numeric(covid_dataframe['critical_staffing_shortage_today_not_reported'])\n",
    "covid_dataframe['critical_staffing_shortage_anticipated_within_week_yes']=pd.to_numeric(covid_dataframe['critical_staffing_shortage_anticipated_within_week_yes'])\n",
    "covid_dataframe['critical_staffing_shortage_anticipated_within_week_no']=pd.to_numeric(covid_dataframe['critical_staffing_shortage_anticipated_within_week_no'])\n",
    "covid_dataframe['critical_staffing_shortage_anticipated_within_week_not_reported']=pd.to_numeric(covid_dataframe['critical_staffing_shortage_anticipated_within_week_not_reported'])\n",
    "covid_dataframe['hospital_onset_covid']=pd.to_numeric(covid_dataframe['hospital_onset_covid'])\n",
    "covid_dataframe['hospital_onset_covid_coverage']=pd.to_numeric(covid_dataframe['hospital_onset_covid_coverage'])\n",
    "covid_dataframe['inpatient_beds']=pd.to_numeric(covid_dataframe['inpatient_beds'])\n",
    "covid_dataframe['inpatient_beds_coverage']=pd.to_numeric(covid_dataframe['inpatient_beds_coverage'])\n",
    "covid_dataframe['inpatient_beds_used']=pd.to_numeric(covid_dataframe['inpatient_beds_used'])\n",
    "covid_dataframe['inpatient_beds_used_coverage']=pd.to_numeric(covid_dataframe['inpatient_beds_used_coverage'])\n",
    "covid_dataframe['inpatient_beds_used_covid']=pd.to_numeric(covid_dataframe['inpatient_beds_used_covid'])\n",
    "covid_dataframe['inpatient_beds_used_covid_coverage']=pd.to_numeric(covid_dataframe['inpatient_beds_used_covid_coverage'])\n",
    "covid_dataframe['previous_day_admission_adult_covid_confirmed_coverage']=pd.to_numeric(covid_dataframe['previous_day_admission_adult_covid_confirmed_coverage'])\n",
    "covid_dataframe['previous_day_admission_adult_covid_suspected_coverage']=pd.to_numeric(covid_dataframe['previous_day_admission_adult_covid_suspected_coverage'])\n",
    "covid_dataframe['previous_day_admission_pediatric_covid_confirmed_coverage']=pd.to_numeric(covid_dataframe['previous_day_admission_pediatric_covid_confirmed_coverage'])\n",
    "covid_dataframe['previous_day_admission_pediatric_covid_suspected_coverage']=pd.to_numeric(covid_dataframe['previous_day_admission_pediatric_covid_suspected_coverage'])\n",
    "covid_dataframe['staffed_adult_icu_bed_occupancy_coverage']=pd.to_numeric(covid_dataframe['staffed_adult_icu_bed_occupancy_coverage'])\n",
    "covid_dataframe['staffed_icu_adult_patients_conf_and_sus_covid_coverage']=pd.to_numeric(covid_dataframe['staffed_icu_adult_patients_conf_and_sus_covid_coverage'])\n",
    "covid_dataframe['staffed_icu_adult_patients_confirmed_covid_coverage']=pd.to_numeric(covid_dataframe['staffed_icu_adult_patients_confirmed_covid_coverage'])\n",
    "covid_dataframe['total_adult_patients_hospitalized_confirmed_and_suspected_covid']=pd.to_numeric(covid_dataframe['total_adult_patients_hospitalized_confirmed_and_suspected_covid'])\n",
    "covid_dataframe['total_adult_patients_hospitalized_confirmed_covid_coverage']=pd.to_numeric(covid_dataframe['total_adult_patients_hospitalized_confirmed_covid_coverage'])\n",
    "covid_dataframe['total_pediatric_patients_hospital_conf_and_sus_covid_coverage']=pd.to_numeric(covid_dataframe['total_pediatric_patients_hospital_conf_and_sus_covid_coverage'])\n",
    "covid_dataframe['total_pediatric_patients_hospitalized_confirmed_covid_coverage']=pd.to_numeric(covid_dataframe['total_pediatric_patients_hospitalized_confirmed_covid_coverage'])\n",
    "covid_dataframe['total_staffed_adult_icu_beds_coverage']=pd.to_numeric(covid_dataframe['total_staffed_adult_icu_beds_coverage'])\n",
    "covid_dataframe['inpatient_beds_utilization']=pd.to_numeric(covid_dataframe['inpatient_beds_utilization'])\n",
    "covid_dataframe['inpatient_beds_utilization_coverage']=pd.to_numeric(covid_dataframe['inpatient_beds_utilization_coverage'])\n",
    "covid_dataframe['inpatient_beds_utilization_numerator']=pd.to_numeric(covid_dataframe['inpatient_beds_utilization_numerator'])\n",
    "covid_dataframe['inpatient_beds_utilization_denominator']=pd.to_numeric(covid_dataframe['inpatient_beds_utilization_denominator'])\n",
    "covid_dataframe['percent_of_inpatients_with_covid']=pd.to_numeric(covid_dataframe['percent_of_inpatients_with_covid'])\n",
    "covid_dataframe['percent_of_inpatients_with_covid_coverage']=pd.to_numeric(covid_dataframe['percent_of_inpatients_with_covid_coverage'])\n",
    "covid_dataframe['percent_of_inpatients_with_covid_numerator']=pd.to_numeric(covid_dataframe['percent_of_inpatients_with_covid_numerator'])\n",
    "covid_dataframe['percent_of_inpatients_with_covid_denominator']=pd.to_numeric(covid_dataframe['percent_of_inpatients_with_covid_denominator'])\n",
    "covid_dataframe['inpatient_bed_covid_utilization']=pd.to_numeric(covid_dataframe['inpatient_bed_covid_utilization'])\n",
    "covid_dataframe['inpatient_bed_covid_utilization_coverage']=pd.to_numeric(covid_dataframe['inpatient_bed_covid_utilization_coverage'])\n",
    "covid_dataframe['inpatient_bed_covid_utilization_numerator']=pd.to_numeric(covid_dataframe['inpatient_bed_covid_utilization_numerator'])\n",
    "covid_dataframe['inpatient_bed_covid_utilization_denominator']=pd.to_numeric(covid_dataframe['inpatient_bed_covid_utilization_denominator'])\n",
    "covid_dataframe['latitude']=pd.to_numeric(covid_dataframe['latitude'])\n",
    "covid_dataframe['longitude']=pd.to_numeric(covid_dataframe['longitude'])"
   ]
  },
  {
   "cell_type": "code",
   "execution_count": 56,
   "metadata": {
    "scrolled": false
   },
   "outputs": [
    {
     "data": {
      "image/png": "[encoded data removed]",
      "text/plain": [
       "<Figure size 1440x576 with 1 Axes>"
      ]
     },
     "metadata": {
      "needs_background": "light"
     },
     "output_type": "display_data"
    }
   ],
   "source": [
    "#Plotting Line Chart Visualization\n",
    "\n",
    "covid_dataframe.head()\n",
    "plt.rcParams['figure.figsize'] = (20, 8)\n",
    "covid_dataframe.plot(x=\"state_desc\", y=[\"critical_staffing_shortage_today_no\",\"critical_staffing_shortage_today_yes\"], color=['#003f5c','#ffa600'])\n",
    "plt.title('Analysis of Critical Staffing Shortage during COVID-19 Pandemic across U.S States')\n",
    "plt.show()    \n"
   ]
  },
  {
   "cell_type": "markdown",
   "metadata": {},
   "source": [
    "The above graph depicts the contrast between the shortage of critical staff at hospital and facilities across U.S States. It is observed that at no point during COVID-19 pandemic there was a shortage of critical staff reported across hospitals in the United States."
   ]
  },
  {
   "cell_type": "code",
   "execution_count": 57,
   "metadata": {},
   "outputs": [
    {
     "name": "stdout",
     "output_type": "stream",
     "text": [
      "Latest Record Date in the Dataset 2021-03-27\n",
      "Oldest Record Date in the Dataset 2020-03-03\n"
     ]
    }
   ],
   "source": [
    "#Map Visualization\n",
    "#Preparing the dataframe to store the data for visualization for the latest date\n",
    "print(\"Latest Record Date in the Dataset\",max(covid_dataframe['date'])) #Output: datetime.date(2021, 3, 27)\n",
    "print(\"Oldest Record Date in the Dataset\",min(covid_dataframe['date'])) #Output: datetime.date(2020, 3, 3)\n",
    "covid_map=covid_dataframe[covid_dataframe['date']==datetime.date(2021,3,27)]"
   ]
  },
  {
   "cell_type": "code",
   "execution_count": 58,
   "metadata": {
    "scrolled": false
   },
   "outputs": [
    {
     "data": {
      "application/vnd.plotly.v1+json": {
       "config": {
        "plotlyServerURL": "https://plot.ly"
       },
       "data": [
        {
         "coloraxis": "coloraxis",
         "hovertemplate": "inpatient_beds_utilization=%{z}<br>longitude=%{lat}<br>latitude=%{lon}<extra></extra>",
         "lat": [
          63.631126,
          32.756889,
          34.899825,
          34.293239,
          37.211164,
          38.998552,
          41.575155,
          38.904785,
          38.994926,
          28.260731,
          32.638481,
          21.361013,
          42.074659,
          44.389073,
          40.124144,
          39.919991,
          38.484729,
          37.526683,
          30.921314,
          42.151077,
          38.946466,
          45.117911,
          44.874798,
          46.349153,
          38.3675,
          32.713378,
          47.033521,
          35.52603,
          47.446305,
          41.527099,
          43.680429,
          40.110253,
          34.421369,
          39.283294,
          42.921241,
          40.415534,
          35.583449,
          43.940449,
          40.896694,
          18.215692,
          41.572574,
          33.878572,
          44.43614,
          35.842998,
          31.447238,
          39.323779,
          37.510861,
          18.060868,
          44.075252,
          47.411715,
          44.639954,
          38.642579,
          42.999627
         ],
         "lon": [
          -151.631889,
          -86.844516,
          -92.439162,
          -111.664616,
          -119.662127,
          -105.547832,
          -72.738288,
          -77.016275,
          -75.452394,
          -82.420978,
          -83.426574,
          -157.854309,
          -93.500061,
          -114.659366,
          -89.148632,
          -86.2818,
          -98.38018,
          -85.290484,
          -91.840238,
          -71.481104,
          -76.687282,
          -69.06137,
          -85.730977,
          -94.198308,
          -92.477244,
          -89.65344,
          -109.645127,
          -79.130883,
          -100.46931,
          -99.810595,
          -71.57139,
          -74.655514,
          -106.108388,
          -114.916992,
          -75.59655,
          -82.70936,
          -97.508297,
          -120.605279,
          -77.838886,
          -66.414655,
          -71.534637,
          -80.864614,
          -100.230491,
          -86.343226,
          -99.317341,
          -111.678222,
          -78.666382,
          -64.840836,
          -72.662695,
          -120.592492,
          -89.732969,
          -80.613729,
          -107.55145
         ],
         "name": "",
         "radius": 10,
         "subplot": "mapbox",
         "type": "densitymapbox",
         "z": [
          0.5970149253731343,
          0.7231693142192949,
          0.6733608336951802,
          0.6897381707173887,
          0.7528162163858295,
          0.6906395595086827,
          0.8106079251784396,
          0.7684331797235023,
          0.7532506803749622,
          0.7800172711571676,
          0.7808646039060786,
          0.7045627376425856,
          0.6158702649170587,
          0.5910318746623446,
          0.68756187130768,
          0.6364635103321998,
          0.5814242184854983,
          0.6046592489568846,
          0.6645856980703746,
          0.8295336248178222,
          0.8182648401826484,
          0.7007850241545893,
          0.7863564702373343,
          0.7630473905218956,
          0.7845797101449276,
          0.6540404040404041,
          0.648936170212766,
          0.7696143191988067,
          0.6899795501022495,
          0.6538461538461539,
          0.7167039284573619,
          0.7163152507676561,
          0.68803320267466,
          0.7093997734994337,
          0.7569354200802305,
          0.7076388461775017,
          0.688299900154307,
          0.6992836676217765,
          0.7929418251998898,
          0.6163421640600064,
          0.9447878038730944,
          0.761991341991342,
          0.5764747439067467,
          0.6767999162829635,
          0.732021461674537,
          0.5830090791180286,
          0.7429950618653942,
          0.5892857142857143,
          0.6510015408320493,
          0.6877039505658543,
          0.6243662175865565,
          0.7621467132422991,
          0.4438040345821326
         ]
        }
       ],
       "layout": {
        "coloraxis": {
         "colorbar": {
          "title": {
           "text": "inpatient_beds_utilization"
          }
         },
         "colorscale": [
          [
           0,
           "#0d0887"
          ],
          [
           0.1111111111111111,
           "#46039f"
          ],
          [
           0.2222222222222222,
           "#7201a8"
          ],
          [
           0.3333333333333333,
           "#9c179e"
          ],
          [
           0.4444444444444444,
           "#bd3786"
          ],
          [
           0.5555555555555556,
           "#d8576b"
          ],
          [
           0.6666666666666666,
           "#ed7953"
          ],
          [
           0.7777777777777778,
           "#fb9f3a"
          ],
          [
           0.8888888888888888,
           "#fdca26"
          ],
          [
           1,
           "#f0f921"
          ]
         ]
        },
        "legend": {
         "tracegroupgap": 0
        },
        "mapbox": {
         "center": {
          "lat": 39.9871347,
          "lon": -98.778533
         },
         "domain": {
          "x": [
           0,
           1
          ],
          "y": [
           0,
           1
          ]
         },
         "style": "stamen-terrain",
         "zoom": 3
        },
        "margin": {
         "t": 60
        },
        "template": {
         "data": {
          "bar": [
           {
            "error_x": {
             "color": "#2a3f5f"
            },
            "error_y": {
             "color": "#2a3f5f"
            },
            "marker": {
             "line": {
              "color": "#E5ECF6",
              "width": 0.5
             }
            },
            "type": "bar"
           }
          ],
          "barpolar": [
           {
            "marker": {
             "line": {
              "color": "#E5ECF6",
              "width": 0.5
             }
            },
            "type": "barpolar"
           }
          ],
          "carpet": [
           {
            "aaxis": {
             "endlinecolor": "#2a3f5f",
             "gridcolor": "white",
             "linecolor": "white",
             "minorgridcolor": "white",
             "startlinecolor": "#2a3f5f"
            },
            "baxis": {
             "endlinecolor": "#2a3f5f",
             "gridcolor": "white",
             "linecolor": "white",
             "minorgridcolor": "white",
             "startlinecolor": "#2a3f5f"
            },
            "type": "carpet"
           }
          ],
          "choropleth": [
           {
            "colorbar": {
             "outlinewidth": 0,
             "ticks": ""
            },
            "type": "choropleth"
           }
          ],
          "contour": [
           {
            "colorbar": {
             "outlinewidth": 0,
             "ticks": ""
            },
            "colorscale": [
             [
              0,
              "#0d0887"
             ],
             [
              0.1111111111111111,
              "#46039f"
             ],
             [
              0.2222222222222222,
              "#7201a8"
             ],
             [
              0.3333333333333333,
              "#9c179e"
             ],
             [
              0.4444444444444444,
              "#bd3786"
             ],
             [
              0.5555555555555556,
              "#d8576b"
             ],
             [
              0.6666666666666666,
              "#ed7953"
             ],
             [
              0.7777777777777778,
              "#fb9f3a"
             ],
             [
              0.8888888888888888,
              "#fdca26"
             ],
             [
              1,
              "#f0f921"
             ]
            ],
            "type": "contour"
           }
          ],
          "contourcarpet": [
           {
            "colorbar": {
             "outlinewidth": 0,
             "ticks": ""
            },
            "type": "contourcarpet"
           }
          ],
          "heatmap": [
           {
            "colorbar": {
             "outlinewidth": 0,
             "ticks": ""
            },
            "colorscale": [
             [
              0,
              "#0d0887"
             ],
             [
              0.1111111111111111,
              "#46039f"
             ],
             [
              0.2222222222222222,
              "#7201a8"
             ],
             [
              0.3333333333333333,
              "#9c179e"
             ],
             [
              0.4444444444444444,
              "#bd3786"
             ],
             [
              0.5555555555555556,
              "#d8576b"
             ],
             [
              0.6666666666666666,
              "#ed7953"
             ],
             [
              0.7777777777777778,
              "#fb9f3a"
             ],
             [
              0.8888888888888888,
              "#fdca26"
             ],
             [
              1,
              "#f0f921"
             ]
            ],
            "type": "heatmap"
           }
          ],
          "heatmapgl": [
           {
            "colorbar": {
             "outlinewidth": 0,
             "ticks": ""
            },
            "colorscale": [
             [
              0,
              "#0d0887"
             ],
             [
              0.1111111111111111,
              "#46039f"
             ],
             [
              0.2222222222222222,
              "#7201a8"
             ],
             [
              0.3333333333333333,
              "#9c179e"
             ],
             [
              0.4444444444444444,
              "#bd3786"
             ],
             [
              0.5555555555555556,
              "#d8576b"
             ],
             [
              0.6666666666666666,
              "#ed7953"
             ],
             [
              0.7777777777777778,
              "#fb9f3a"
             ],
             [
              0.8888888888888888,
              "#fdca26"
             ],
             [
              1,
              "#f0f921"
             ]
            ],
            "type": "heatmapgl"
           }
          ],
          "histogram": [
           {
            "marker": {
             "colorbar": {
              "outlinewidth": 0,
              "ticks": ""
             }
            },
            "type": "histogram"
           }
          ],
          "histogram2d": [
           {
            "colorbar": {
             "outlinewidth": 0,
             "ticks": ""
            },
            "colorscale": [
             [
              0,
              "#0d0887"
             ],
             [
              0.1111111111111111,
              "#46039f"
             ],
             [
              0.2222222222222222,
              "#7201a8"
             ],
             [
              0.3333333333333333,
              "#9c179e"
             ],
             [
              0.4444444444444444,
              "#bd3786"
             ],
             [
              0.5555555555555556,
              "#d8576b"
             ],
             [
              0.6666666666666666,
              "#ed7953"
             ],
             [
              0.7777777777777778,
              "#fb9f3a"
             ],
             [
              0.8888888888888888,
              "#fdca26"
             ],
             [
              1,
              "#f0f921"
             ]
            ],
            "type": "histogram2d"
           }
          ],
          "histogram2dcontour": [
           {
            "colorbar": {
             "outlinewidth": 0,
             "ticks": ""
            },
            "colorscale": [
             [
              0,
              "#0d0887"
             ],
             [
              0.1111111111111111,
              "#46039f"
             ],
             [
              0.2222222222222222,
              "#7201a8"
             ],
             [
              0.3333333333333333,
              "#9c179e"
             ],
             [
              0.4444444444444444,
              "#bd3786"
             ],
             [
              0.5555555555555556,
              "#d8576b"
             ],
             [
              0.6666666666666666,
              "#ed7953"
             ],
             [
              0.7777777777777778,
              "#fb9f3a"
             ],
             [
              0.8888888888888888,
              "#fdca26"
             ],
             [
              1,
              "#f0f921"
             ]
            ],
            "type": "histogram2dcontour"
           }
          ],
          "mesh3d": [
           {
            "colorbar": {
             "outlinewidth": 0,
             "ticks": ""
            },
            "type": "mesh3d"
           }
          ],
          "parcoords": [
           {
            "line": {
             "colorbar": {
              "outlinewidth": 0,
              "ticks": ""
             }
            },
            "type": "parcoords"
           }
          ],
          "pie": [
           {
            "automargin": true,
            "type": "pie"
           }
          ],
          "scatter": [
           {
            "marker": {
             "colorbar": {
              "outlinewidth": 0,
              "ticks": ""
             }
            },
            "type": "scatter"
           }
          ],
          "scatter3d": [
           {
            "line": {
             "colorbar": {
              "outlinewidth": 0,
              "ticks": ""
             }
            },
            "marker": {
             "colorbar": {
              "outlinewidth": 0,
              "ticks": ""
             }
            },
            "type": "scatter3d"
           }
          ],
          "scattercarpet": [
           {
            "marker": {
             "colorbar": {
              "outlinewidth": 0,
              "ticks": ""
             }
            },
            "type": "scattercarpet"
           }
          ],
          "scattergeo": [
           {
            "marker": {
             "colorbar": {
              "outlinewidth": 0,
              "ticks": ""
             }
            },
            "type": "scattergeo"
           }
          ],
          "scattergl": [
           {
            "marker": {
             "colorbar": {
              "outlinewidth": 0,
              "ticks": ""
             }
            },
            "type": "scattergl"
           }
          ],
          "scattermapbox": [
           {
            "marker": {
             "colorbar": {
              "outlinewidth": 0,
              "ticks": ""
             }
            },
            "type": "scattermapbox"
           }
          ],
          "scatterpolar": [
           {
            "marker": {
             "colorbar": {
              "outlinewidth": 0,
              "ticks": ""
             }
            },
            "type": "scatterpolar"
           }
          ],
          "scatterpolargl": [
           {
            "marker": {
             "colorbar": {
              "outlinewidth": 0,
              "ticks": ""
             }
            },
            "type": "scatterpolargl"
           }
          ],
          "scatterternary": [
           {
            "marker": {
             "colorbar": {
              "outlinewidth": 0,
              "ticks": ""
             }
            },
            "type": "scatterternary"
           }
          ],
          "surface": [
           {
            "colorbar": {
             "outlinewidth": 0,
             "ticks": ""
            },
            "colorscale": [
             [
              0,
              "#0d0887"
             ],
             [
              0.1111111111111111,
              "#46039f"
             ],
             [
              0.2222222222222222,
              "#7201a8"
             ],
             [
              0.3333333333333333,
              "#9c179e"
             ],
             [
              0.4444444444444444,
              "#bd3786"
             ],
             [
              0.5555555555555556,
              "#d8576b"
             ],
             [
              0.6666666666666666,
              "#ed7953"
             ],
             [
              0.7777777777777778,
              "#fb9f3a"
             ],
             [
              0.8888888888888888,
              "#fdca26"
             ],
             [
              1,
              "#f0f921"
             ]
            ],
            "type": "surface"
           }
          ],
          "table": [
           {
            "cells": {
             "fill": {
              "color": "#EBF0F8"
             },
             "line": {
              "color": "white"
             }
            },
            "header": {
             "fill": {
              "color": "#C8D4E3"
             },
             "line": {
              "color": "white"
             }
            },
            "type": "table"
           }
          ]
         },
         "layout": {
          "annotationdefaults": {
           "arrowcolor": "#2a3f5f",
           "arrowhead": 0,
           "arrowwidth": 1
          },
          "autotypenumbers": "strict",
          "coloraxis": {
           "colorbar": {
            "outlinewidth": 0,
            "ticks": ""
           }
          },
          "colorscale": {
           "diverging": [
            [
             0,
             "#8e0152"
            ],
            [
             0.1,
             "#c51b7d"
            ],
            [
             0.2,
             "#de77ae"
            ],
            [
             0.3,
             "#f1b6da"
            ],
            [
             0.4,
             "#fde0ef"
            ],
            [
             0.5,
             "#f7f7f7"
            ],
            [
             0.6,
             "#e6f5d0"
            ],
            [
             0.7,
             "#b8e186"
            ],
            [
             0.8,
             "#7fbc41"
            ],
            [
             0.9,
             "#4d9221"
            ],
            [
             1,
             "#276419"
            ]
           ],
           "sequential": [
            [
             0,
             "#0d0887"
            ],
            [
             0.1111111111111111,
             "#46039f"
            ],
            [
             0.2222222222222222,
             "#7201a8"
            ],
            [
             0.3333333333333333,
             "#9c179e"
            ],
            [
             0.4444444444444444,
             "#bd3786"
            ],
            [
             0.5555555555555556,
             "#d8576b"
            ],
            [
             0.6666666666666666,
             "#ed7953"
            ],
            [
             0.7777777777777778,
             "#fb9f3a"
            ],
            [
             0.8888888888888888,
             "#fdca26"
            ],
            [
             1,
             "#f0f921"
            ]
           ],
           "sequentialminus": [
            [
             0,
             "#0d0887"
            ],
            [
             0.1111111111111111,
             "#46039f"
            ],
            [
             0.2222222222222222,
             "#7201a8"
            ],
            [
             0.3333333333333333,
             "#9c179e"
            ],
            [
             0.4444444444444444,
             "#bd3786"
            ],
            [
             0.5555555555555556,
             "#d8576b"
            ],
            [
             0.6666666666666666,
             "#ed7953"
            ],
            [
             0.7777777777777778,
             "#fb9f3a"
            ],
            [
             0.8888888888888888,
             "#fdca26"
            ],
            [
             1,
             "#f0f921"
            ]
           ]
          },
          "colorway": [
           "#636efa",
           "#EF553B",
           "#00cc96",
           "#ab63fa",
           "#FFA15A",
           "#19d3f3",
           "#FF6692",
           "#B6E880",
           "#FF97FF",
           "#FECB52"
          ],
          "font": {
           "color": "#2a3f5f"
          },
          "geo": {
           "bgcolor": "white",
           "lakecolor": "white",
           "landcolor": "#E5ECF6",
           "showlakes": true,
           "showland": true,
           "subunitcolor": "white"
          },
          "hoverlabel": {
           "align": "left"
          },
          "hovermode": "closest",
          "mapbox": {
           "style": "light"
          },
          "paper_bgcolor": "white",
          "plot_bgcolor": "#E5ECF6",
          "polar": {
           "angularaxis": {
            "gridcolor": "white",
            "linecolor": "white",
            "ticks": ""
           },
           "bgcolor": "#E5ECF6",
           "radialaxis": {
            "gridcolor": "white",
            "linecolor": "white",
            "ticks": ""
           }
          },
          "scene": {
           "xaxis": {
            "backgroundcolor": "#E5ECF6",
            "gridcolor": "white",
            "gridwidth": 2,
            "linecolor": "white",
            "showbackground": true,
            "ticks": "",
            "zerolinecolor": "white"
           },
           "yaxis": {
            "backgroundcolor": "#E5ECF6",
            "gridcolor": "white",
            "gridwidth": 2,
            "linecolor": "white",
            "showbackground": true,
            "ticks": "",
            "zerolinecolor": "white"
           },
           "zaxis": {
            "backgroundcolor": "#E5ECF6",
            "gridcolor": "white",
            "gridwidth": 2,
            "linecolor": "white",
            "showbackground": true,
            "ticks": "",
            "zerolinecolor": "white"
           }
          },
          "shapedefaults": {
           "line": {
            "color": "#2a3f5f"
           }
          },
          "ternary": {
           "aaxis": {
            "gridcolor": "white",
            "linecolor": "white",
            "ticks": ""
           },
           "baxis": {
            "gridcolor": "white",
            "linecolor": "white",
            "ticks": ""
           },
           "bgcolor": "#E5ECF6",
           "caxis": {
            "gridcolor": "white",
            "linecolor": "white",
            "ticks": ""
           }
          },
          "title": {
           "x": 0.05
          },
          "xaxis": {
           "automargin": true,
           "gridcolor": "white",
           "linecolor": "white",
           "ticks": "",
           "title": {
            "standoff": 15
           },
           "zerolinecolor": "white",
           "zerolinewidth": 2
          },
          "yaxis": {
           "automargin": true,
           "gridcolor": "white",
           "linecolor": "white",
           "ticks": "",
           "title": {
            "standoff": 15
           },
           "zerolinecolor": "white",
           "zerolinewidth": 2
          }
         }
        },
        "title": {
         "text": "Latest Update on Inpatient Bed Utilization across United States (As of 27th March, 2021)",
         "x": 0.5
        }
       }
      },
      "text/html": [
       "<div>                            <div id=\"372e4b4f-7a16-4ab3-a00c-8258e8cb5987\" class=\"plotly-graph-div\" style=\"height:525px; width:100%;\"></div>            <script type=\"text/javascript\">                require([\"plotly\"], function(Plotly) {                    window.PLOTLYENV=window.PLOTLYENV || {};                                    if (document.getElementById(\"372e4b4f-7a16-4ab3-a00c-8258e8cb5987\")) {                    Plotly.newPlot(                        \"372e4b4f-7a16-4ab3-a00c-8258e8cb5987\",                        [{\"coloraxis\": \"coloraxis\", \"hovertemplate\": \"inpatient_beds_utilization=%{z}<br>longitude=%{lat}<br>latitude=%{lon}<extra></extra>\", \"lat\": [63.631126, 32.756889, 34.899825, 34.293239, 37.211164, 38.998552, 41.575155, 38.904785, 38.994926, 28.260731, 32.638481, 21.361013, 42.074659, 44.389073, 40.124144, 39.919991, 38.484729, 37.526683, 30.921314, 42.151077, 38.946466, 45.117911, 44.874798, 46.349153, 38.3675, 32.713378, 47.033521, 35.52603, 47.446305, 41.527099, 43.680429, 40.110253, 34.421369, 39.283294, 42.921241, 40.415534, 35.583449, 43.940449, 40.896694, 18.215692, 41.572574, 33.878572, 44.43614, 35.842998, 31.447238, 39.323779, 37.510861, 18.060868, 44.075252, 47.411715, 44.639954, 38.642579, 42.999627], \"lon\": [-151.631889, -86.844516, -92.439162, -111.664616, -119.662127, -105.547832, -72.738288, -77.016275, -75.452394, -82.420978, -83.426574, -157.854309, -93.500061, -114.659366, -89.148632, -86.2818, -98.38018, -85.290484, -91.840238, -71.481104, -76.687282, -69.06137, -85.730977, -94.198308, -92.477244, -89.65344, -109.645127, -79.130883, -100.46931, -99.810595, -71.57139, -74.655514, -106.108388, -114.916992, -75.59655, -82.70936, -97.508297, -120.605279, -77.838886, -66.414655, -71.534637, -80.864614, -100.230491, -86.343226, -99.317341, -111.678222, -78.666382, -64.840836, -72.662695, -120.592492, -89.732969, -80.613729, -107.55145], \"name\": \"\", \"radius\": 10, \"subplot\": \"mapbox\", \"type\": \"densitymapbox\", \"z\": [0.5970149253731343, 0.7231693142192949, 0.6733608336951802, 0.6897381707173887, 0.7528162163858295, 0.6906395595086827, 0.8106079251784396, 0.7684331797235023, 0.7532506803749622, 0.7800172711571676, 0.7808646039060786, 0.7045627376425856, 0.6158702649170587, 0.5910318746623446, 0.68756187130768, 0.6364635103321998, 0.5814242184854983, 0.6046592489568846, 0.6645856980703746, 0.8295336248178222, 0.8182648401826484, 0.7007850241545893, 0.7863564702373343, 0.7630473905218956, 0.7845797101449276, 0.6540404040404041, 0.648936170212766, 0.7696143191988067, 0.6899795501022495, 0.6538461538461539, 0.7167039284573619, 0.7163152507676561, 0.68803320267466, 0.7093997734994337, 0.7569354200802305, 0.7076388461775017, 0.688299900154307, 0.6992836676217765, 0.7929418251998898, 0.6163421640600064, 0.9447878038730944, 0.761991341991342, 0.5764747439067467, 0.6767999162829635, 0.732021461674537, 0.5830090791180286, 0.7429950618653942, 0.5892857142857143, 0.6510015408320493, 0.6877039505658543, 0.6243662175865565, 0.7621467132422991, 0.4438040345821326]}],                        {\"coloraxis\": {\"colorbar\": {\"title\": {\"text\": \"inpatient_beds_utilization\"}}, \"colorscale\": [[0.0, \"#0d0887\"], [0.1111111111111111, \"#46039f\"], [0.2222222222222222, \"#7201a8\"], [0.3333333333333333, \"#9c179e\"], [0.4444444444444444, \"#bd3786\"], [0.5555555555555556, \"#d8576b\"], [0.6666666666666666, \"#ed7953\"], [0.7777777777777778, \"#fb9f3a\"], [0.8888888888888888, \"#fdca26\"], [1.0, \"#f0f921\"]]}, \"legend\": {\"tracegroupgap\": 0}, \"mapbox\": {\"center\": {\"lat\": 39.9871347, \"lon\": -98.778533}, \"domain\": {\"x\": [0.0, 1.0], \"y\": [0.0, 1.0]}, \"style\": \"stamen-terrain\", \"zoom\": 3}, \"margin\": {\"t\": 60}, \"template\": {\"data\": {\"bar\": [{\"error_x\": {\"color\": \"#2a3f5f\"}, \"error_y\": {\"color\": \"#2a3f5f\"}, \"marker\": {\"line\": {\"color\": \"#E5ECF6\", \"width\": 0.5}}, \"type\": \"bar\"}], \"barpolar\": [{\"marker\": {\"line\": {\"color\": \"#E5ECF6\", \"width\": 0.5}}, \"type\": \"barpolar\"}], \"carpet\": [{\"aaxis\": {\"endlinecolor\": \"#2a3f5f\", \"gridcolor\": \"white\", \"linecolor\": \"white\", \"minorgridcolor\": \"white\", \"startlinecolor\": \"#2a3f5f\"}, \"baxis\": {\"endlinecolor\": \"#2a3f5f\", \"gridcolor\": \"white\", \"linecolor\": \"white\", \"minorgridcolor\": \"white\", \"startlinecolor\": \"#2a3f5f\"}, \"type\": \"carpet\"}], \"choropleth\": [{\"colorbar\": {\"outlinewidth\": 0, \"ticks\": \"\"}, \"type\": \"choropleth\"}], \"contour\": [{\"colorbar\": {\"outlinewidth\": 0, \"ticks\": \"\"}, \"colorscale\": [[0.0, \"#0d0887\"], [0.1111111111111111, \"#46039f\"], [0.2222222222222222, \"#7201a8\"], [0.3333333333333333, \"#9c179e\"], [0.4444444444444444, \"#bd3786\"], [0.5555555555555556, \"#d8576b\"], [0.6666666666666666, \"#ed7953\"], [0.7777777777777778, \"#fb9f3a\"], [0.8888888888888888, \"#fdca26\"], [1.0, \"#f0f921\"]], \"type\": \"contour\"}], \"contourcarpet\": [{\"colorbar\": {\"outlinewidth\": 0, \"ticks\": \"\"}, \"type\": \"contourcarpet\"}], \"heatmap\": [{\"colorbar\": {\"outlinewidth\": 0, \"ticks\": \"\"}, \"colorscale\": [[0.0, \"#0d0887\"], [0.1111111111111111, \"#46039f\"], [0.2222222222222222, \"#7201a8\"], [0.3333333333333333, \"#9c179e\"], [0.4444444444444444, \"#bd3786\"], [0.5555555555555556, \"#d8576b\"], [0.6666666666666666, \"#ed7953\"], [0.7777777777777778, \"#fb9f3a\"], [0.8888888888888888, \"#fdca26\"], [1.0, \"#f0f921\"]], \"type\": \"heatmap\"}], \"heatmapgl\": [{\"colorbar\": {\"outlinewidth\": 0, \"ticks\": \"\"}, \"colorscale\": [[0.0, \"#0d0887\"], [0.1111111111111111, \"#46039f\"], [0.2222222222222222, \"#7201a8\"], [0.3333333333333333, \"#9c179e\"], [0.4444444444444444, \"#bd3786\"], [0.5555555555555556, \"#d8576b\"], [0.6666666666666666, \"#ed7953\"], [0.7777777777777778, \"#fb9f3a\"], [0.8888888888888888, \"#fdca26\"], [1.0, \"#f0f921\"]], \"type\": \"heatmapgl\"}], \"histogram\": [{\"marker\": {\"colorbar\": {\"outlinewidth\": 0, \"ticks\": \"\"}}, \"type\": \"histogram\"}], \"histogram2d\": [{\"colorbar\": {\"outlinewidth\": 0, \"ticks\": \"\"}, \"colorscale\": [[0.0, \"#0d0887\"], [0.1111111111111111, \"#46039f\"], [0.2222222222222222, \"#7201a8\"], [0.3333333333333333, \"#9c179e\"], [0.4444444444444444, \"#bd3786\"], [0.5555555555555556, \"#d8576b\"], [0.6666666666666666, \"#ed7953\"], [0.7777777777777778, \"#fb9f3a\"], [0.8888888888888888, \"#fdca26\"], [1.0, \"#f0f921\"]], \"type\": \"histogram2d\"}], \"histogram2dcontour\": [{\"colorbar\": {\"outlinewidth\": 0, \"ticks\": \"\"}, \"colorscale\": [[0.0, \"#0d0887\"], [0.1111111111111111, \"#46039f\"], [0.2222222222222222, \"#7201a8\"], [0.3333333333333333, \"#9c179e\"], [0.4444444444444444, \"#bd3786\"], [0.5555555555555556, \"#d8576b\"], [0.6666666666666666, \"#ed7953\"], [0.7777777777777778, \"#fb9f3a\"], [0.8888888888888888, \"#fdca26\"], [1.0, \"#f0f921\"]], \"type\": \"histogram2dcontour\"}], \"mesh3d\": [{\"colorbar\": {\"outlinewidth\": 0, \"ticks\": \"\"}, \"type\": \"mesh3d\"}], \"parcoords\": [{\"line\": {\"colorbar\": {\"outlinewidth\": 0, \"ticks\": \"\"}}, \"type\": \"parcoords\"}], \"pie\": [{\"automargin\": true, \"type\": \"pie\"}], \"scatter\": [{\"marker\": {\"colorbar\": {\"outlinewidth\": 0, \"ticks\": \"\"}}, \"type\": \"scatter\"}], \"scatter3d\": [{\"line\": {\"colorbar\": {\"outlinewidth\": 0, \"ticks\": \"\"}}, \"marker\": {\"colorbar\": {\"outlinewidth\": 0, \"ticks\": \"\"}}, \"type\": \"scatter3d\"}], \"scattercarpet\": [{\"marker\": {\"colorbar\": {\"outlinewidth\": 0, \"ticks\": \"\"}}, \"type\": \"scattercarpet\"}], \"scattergeo\": [{\"marker\": {\"colorbar\": {\"outlinewidth\": 0, \"ticks\": \"\"}}, \"type\": \"scattergeo\"}], \"scattergl\": [{\"marker\": {\"colorbar\": {\"outlinewidth\": 0, \"ticks\": \"\"}}, \"type\": \"scattergl\"}], \"scattermapbox\": [{\"marker\": {\"colorbar\": {\"outlinewidth\": 0, \"ticks\": \"\"}}, \"type\": \"scattermapbox\"}], \"scatterpolar\": [{\"marker\": {\"colorbar\": {\"outlinewidth\": 0, \"ticks\": \"\"}}, \"type\": \"scatterpolar\"}], \"scatterpolargl\": [{\"marker\": {\"colorbar\": {\"outlinewidth\": 0, \"ticks\": \"\"}}, \"type\": \"scatterpolargl\"}], \"scatterternary\": [{\"marker\": {\"colorbar\": {\"outlinewidth\": 0, \"ticks\": \"\"}}, \"type\": \"scatterternary\"}], \"surface\": [{\"colorbar\": {\"outlinewidth\": 0, \"ticks\": \"\"}, \"colorscale\": [[0.0, \"#0d0887\"], [0.1111111111111111, \"#46039f\"], [0.2222222222222222, \"#7201a8\"], [0.3333333333333333, \"#9c179e\"], [0.4444444444444444, \"#bd3786\"], [0.5555555555555556, \"#d8576b\"], [0.6666666666666666, \"#ed7953\"], [0.7777777777777778, \"#fb9f3a\"], [0.8888888888888888, \"#fdca26\"], [1.0, \"#f0f921\"]], \"type\": \"surface\"}], \"table\": [{\"cells\": {\"fill\": {\"color\": \"#EBF0F8\"}, \"line\": {\"color\": \"white\"}}, \"header\": {\"fill\": {\"color\": \"#C8D4E3\"}, \"line\": {\"color\": \"white\"}}, \"type\": \"table\"}]}, \"layout\": {\"annotationdefaults\": {\"arrowcolor\": \"#2a3f5f\", \"arrowhead\": 0, \"arrowwidth\": 1}, \"autotypenumbers\": \"strict\", \"coloraxis\": {\"colorbar\": {\"outlinewidth\": 0, \"ticks\": \"\"}}, \"colorscale\": {\"diverging\": [[0, \"#8e0152\"], [0.1, \"#c51b7d\"], [0.2, \"#de77ae\"], [0.3, \"#f1b6da\"], [0.4, \"#fde0ef\"], [0.5, \"#f7f7f7\"], [0.6, \"#e6f5d0\"], [0.7, \"#b8e186\"], [0.8, \"#7fbc41\"], [0.9, \"#4d9221\"], [1, \"#276419\"]], \"sequential\": [[0.0, \"#0d0887\"], [0.1111111111111111, \"#46039f\"], [0.2222222222222222, \"#7201a8\"], [0.3333333333333333, \"#9c179e\"], [0.4444444444444444, \"#bd3786\"], [0.5555555555555556, \"#d8576b\"], [0.6666666666666666, \"#ed7953\"], [0.7777777777777778, \"#fb9f3a\"], [0.8888888888888888, \"#fdca26\"], [1.0, \"#f0f921\"]], \"sequentialminus\": [[0.0, \"#0d0887\"], [0.1111111111111111, \"#46039f\"], [0.2222222222222222, \"#7201a8\"], [0.3333333333333333, \"#9c179e\"], [0.4444444444444444, \"#bd3786\"], [0.5555555555555556, \"#d8576b\"], [0.6666666666666666, \"#ed7953\"], [0.7777777777777778, \"#fb9f3a\"], [0.8888888888888888, \"#fdca26\"], [1.0, \"#f0f921\"]]}, \"colorway\": [\"#636efa\", \"#EF553B\", \"#00cc96\", \"#ab63fa\", \"#FFA15A\", \"#19d3f3\", \"#FF6692\", \"#B6E880\", \"#FF97FF\", \"#FECB52\"], \"font\": {\"color\": \"#2a3f5f\"}, \"geo\": {\"bgcolor\": \"white\", \"lakecolor\": \"white\", \"landcolor\": \"#E5ECF6\", \"showlakes\": true, \"showland\": true, \"subunitcolor\": \"white\"}, \"hoverlabel\": {\"align\": \"left\"}, \"hovermode\": \"closest\", \"mapbox\": {\"style\": \"light\"}, \"paper_bgcolor\": \"white\", \"plot_bgcolor\": \"#E5ECF6\", \"polar\": {\"angularaxis\": {\"gridcolor\": \"white\", \"linecolor\": \"white\", \"ticks\": \"\"}, \"bgcolor\": \"#E5ECF6\", \"radialaxis\": {\"gridcolor\": \"white\", \"linecolor\": \"white\", \"ticks\": \"\"}}, \"scene\": {\"xaxis\": {\"backgroundcolor\": \"#E5ECF6\", \"gridcolor\": \"white\", \"gridwidth\": 2, \"linecolor\": \"white\", \"showbackground\": true, \"ticks\": \"\", \"zerolinecolor\": \"white\"}, \"yaxis\": {\"backgroundcolor\": \"#E5ECF6\", \"gridcolor\": \"white\", \"gridwidth\": 2, \"linecolor\": \"white\", \"showbackground\": true, \"ticks\": \"\", \"zerolinecolor\": \"white\"}, \"zaxis\": {\"backgroundcolor\": \"#E5ECF6\", \"gridcolor\": \"white\", \"gridwidth\": 2, \"linecolor\": \"white\", \"showbackground\": true, \"ticks\": \"\", \"zerolinecolor\": \"white\"}}, \"shapedefaults\": {\"line\": {\"color\": \"#2a3f5f\"}}, \"ternary\": {\"aaxis\": {\"gridcolor\": \"white\", \"linecolor\": \"white\", \"ticks\": \"\"}, \"baxis\": {\"gridcolor\": \"white\", \"linecolor\": \"white\", \"ticks\": \"\"}, \"bgcolor\": \"#E5ECF6\", \"caxis\": {\"gridcolor\": \"white\", \"linecolor\": \"white\", \"ticks\": \"\"}}, \"title\": {\"x\": 0.05}, \"xaxis\": {\"automargin\": true, \"gridcolor\": \"white\", \"linecolor\": \"white\", \"ticks\": \"\", \"title\": {\"standoff\": 15}, \"zerolinecolor\": \"white\", \"zerolinewidth\": 2}, \"yaxis\": {\"automargin\": true, \"gridcolor\": \"white\", \"linecolor\": \"white\", \"ticks\": \"\", \"title\": {\"standoff\": 15}, \"zerolinecolor\": \"white\", \"zerolinewidth\": 2}}}, \"title\": {\"text\": \"Latest Update on Inpatient Bed Utilization across United States (As of 27th March, 2021)\", \"x\": 0.5}},                        {\"responsive\": true}                    ).then(function(){\n",
       "                            \n",
       "var gd = document.getElementById('372e4b4f-7a16-4ab3-a00c-8258e8cb5987');\n",
       "var x = new MutationObserver(function (mutations, observer) {{\n",
       "        var display = window.getComputedStyle(gd).display;\n",
       "        if (!display || display === 'none') {{\n",
       "            console.log([gd, 'removed!']);\n",
       "            Plotly.purge(gd);\n",
       "            observer.disconnect();\n",
       "        }}\n",
       "}});\n",
       "\n",
       "// Listen for the removal of the full notebook cells\n",
       "var notebookContainer = gd.closest('#notebook-container');\n",
       "if (notebookContainer) {{\n",
       "    x.observe(notebookContainer, {childList: true});\n",
       "}}\n",
       "\n",
       "// Listen for the clearing of the current output cell\n",
       "var outputEl = gd.closest('.output');\n",
       "if (outputEl) {{\n",
       "    x.observe(outputEl, {childList: true});\n",
       "}}\n",
       "\n",
       "                        })                };                });            </script>        </div>"
      ]
     },
     "metadata": {},
     "output_type": "display_data"
    }
   ],
   "source": [
    "fig = px.density_mapbox(covid_map, lon='latitude', lat='longitude', z='inpatient_beds_utilization', radius=10,\n",
    "                        center=dict(lat=39.9871347, lon=-98.778533), zoom=3,\n",
    "                        mapbox_style=\"stamen-terrain\")\n",
    "fig.update_layout(title_text='Latest Update on Inpatient Bed Utilization across United States (As of 27th March, 2021)', title_x=0.5)\n",
    "fig.show()"
   ]
  },
  {
   "cell_type": "markdown",
   "metadata": {},
   "source": [
    "The map visualization above shows the inpatient beds utilization across different states of United States as of Latest Date i.e. 27th March 2021.\n"
   ]
  },
  {
   "cell_type": "code",
   "execution_count": 59,
   "metadata": {
    "scrolled": false
   },
   "outputs": [
    {
     "data": {
      "image/png": "[encoded data removed]",
      "text/plain": [
       "<Figure size 1296x576 with 1 Axes>"
      ]
     },
     "metadata": {
      "needs_background": "light"
     },
     "output_type": "display_data"
    }
   ],
   "source": [
    "# Analysis of Critical Staffing Shortage in the last 3 months across States in the U.S\n",
    "date_totals=covid_dataframe[covid_dataframe['date']>datetime.date(2021,1,27)].groupby('date', as_index=False).agg({\"critical_staffing_shortage_today_yes\": \"sum\",\"critical_staffing_shortage_today_no\": \"sum\"})\n",
    "p1 = date_totals.plot(x=\"date\", y=[\"critical_staffing_shortage_today_yes\",\"critical_staffing_shortage_today_no\"], kind=\"bar\",width=0.6, legend =True,  title=\"Critical Staffing Analysis in Last 3 Months\" ,color=['#bcac00','#305d70'])\n",
    "p1.set_xlabel(\"Dates of Observation\")\n",
    "p1.set_ylabel(\"Critical Staffing Numbers Reported (Yes/No/Not Reported)\")\n",
    "fig = plt.gcf()\n",
    "fig.set_size_inches(18,8)"
   ]
  },
  {
   "cell_type": "markdown",
   "metadata": {},
   "source": [
    "We can infer from the graph that there were no major scarce reported by hospitals in the United States observed in critical staff during the last 3 months."
   ]
  },
  {
   "cell_type": "code",
   "execution_count": 60,
   "metadata": {
    "scrolled": true
   },
   "outputs": [
    {
     "data": {
      "image/png": "[encoded data removed]",
      "text/plain": [
       "<Figure size 2160x720 with 1 Axes>"
      ]
     },
     "metadata": {
      "needs_background": "light"
     },
     "output_type": "display_data"
    }
   ],
   "source": [
    "# Horizontal Bar Chart Visualization to analyse Top 10 states that have reported COVID confirmed or suspected inpatients\n",
    "covid_onset_totals = covid_dataframe.groupby(\"state_desc\")[\"hospital_onset_covid\"].sum().sort_values().head(10)\n",
    "\n",
    "plt.rcParams[\"figure.figsize\"] = (30,10)\n",
    "covid_onset_totals.plot(kind=\"barh\", fontsize=15, title=\"Top 10 States that Reported Suspected or Confimed COVID Inpatients\", color='#00827d')\n",
    "for index, value in enumerate(covid_onset_totals):\n",
    "    plt.text(value, index, str(round(value,2)))\n"
   ]
  },
  {
   "cell_type": "code",
   "execution_count": 61,
   "metadata": {
    "scrolled": true
   },
   "outputs": [
    {
     "data": {
      "image/png": "[encoded data removed]",
      "text/plain": [
       "<Figure size 2160x720 with 1 Axes>"
      ]
     },
     "metadata": {
      "needs_background": "light"
     },
     "output_type": "display_data"
    }
   ],
   "source": [
    "# Horizontal Bar Chart Visualization to analyse Top 10 states that have reported COVID confirmed inpatients\n",
    "covid_onset_coverage_totals = covid_dataframe.groupby(\"state_desc\")[\"hospital_onset_covid_coverage\"].sum().sort_values().head(10)\n",
    "covid_onset_coverage_totals.plot(kind=\"barh\", fontsize=13, title=\" Top 10 States by Hospitals that Reported Inpatients with COVID\", color='#d04900')\n",
    "for index, value in enumerate(covid_onset_coverage_totals):\n",
    "    plt.text(value, index, str(round(value,2)))"
   ]
  },
  {
   "cell_type": "code",
   "execution_count": 62,
   "metadata": {
    "scrolled": false
   },
   "outputs": [
    {
     "data": {
      "image/png": "[encoded data removed]",
      "text/plain": [
       "<Figure size 1728x720 with 1 Axes>"
      ]
     },
     "metadata": {},
     "output_type": "display_data"
    }
   ],
   "source": [
    "\n",
    "#Read in data & create total column\n",
    "stacked_bar_data=covid_dataframe\n",
    "stacked_bar_data[\"total\"] = stacked_bar_data.total_adult_patients_hospitalized_confirmed_covid_coverage + stacked_bar_data.total_pediatric_patients_hospitalized_confirmed_covid_coverage\n",
    "\n",
    "#Set general plot properties\n",
    "sns.set_style(\"dark\")\n",
    "sns.set_context({\"figure.figsize\": (24, 10)})\n",
    "\n",
    "#Plot 1 - background - \"total\" (top) series\n",
    "sns.barplot(x = stacked_bar_data.state_desc, y = stacked_bar_data.total, color = \"#f9664e\")\n",
    "\n",
    "#Plot 2 - overlay - \"bottom\" series\n",
    "bottom_plot = sns.barplot(x = stacked_bar_data.state_desc, y = stacked_bar_data.total_pediatric_patients_hospitalized_confirmed_covid_coverage, color = \"#763c79\")\n",
    "\n",
    "\n",
    "topbar = plt.Rectangle((0,0),1,1,fc=\"#f9664e\", edgecolor = 'none')\n",
    "bottombar = plt.Rectangle((0,0),1,1,fc='#763c79',  edgecolor = 'none')\n",
    "l = plt.legend([bottombar, topbar], ['Total Reported COVID Confirmed Patients (Adult) Hospitalized', 'Total Reported COVID Confirmed Patients (Pediatric) Hospitalized'], loc=1, ncol = 2, prop={'size':16})\n",
    "l.draw_frame(False)\n",
    "\n",
    "#Optional code - Make plot look nicer\n",
    "sns.despine(left=True)\n",
    "bottom_plot.set_ylabel(\"Number of Reported Admissions in Hospital (Suspected or Confirmed COVID)\")\n",
    "bottom_plot.set_xlabel(\"U.S States\")\n",
    "bottom_plot.set_xticklabels(labels=stacked_bar_data['state_desc'].unique(),rotation=90)\n",
    "\n",
    "\n",
    "#Set fonts to consistent 16pt size\n",
    "for item in ([bottom_plot.xaxis.label, bottom_plot.yaxis.label] +\n",
    "             bottom_plot.get_xticklabels() + bottom_plot.get_yticklabels()):\n",
    "    item.set_fontsize(16)"
   ]
  },
  {
   "cell_type": "markdown",
   "metadata": {},
   "source": [
    "The plot shows the bifurcation of patients belonging to Adult and Pediatric group who have been tested positive for COVID. We can infer from the graph that Texas state shows the largest number reported confirmed cases for both adult and pediatric groups."
   ]
  }
 ],
 "metadata": {
  "kernelspec": {
   "display_name": "Python 3",
   "language": "python",
   "name": "python3"
  },
  "language_info": {
   "codemirror_mode": {
    "name": "ipython",
    "version": 3
   },
   "file_extension": ".py",
   "mimetype": "text/x-python",
   "name": "python",
   "nbconvert_exporter": "python",
   "pygments_lexer": "ipython3",
   "version": "3.7.6"
  }
 },
 "nbformat": 4,
 "nbformat_minor": 4
}
