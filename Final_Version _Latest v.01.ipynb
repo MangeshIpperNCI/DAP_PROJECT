{
 "cells": [
  {
   "cell_type": "markdown",
   "metadata": {},
   "source": [
    "# Table of Contents\n",
    "\n",
    "1. [Objective](#section1)<br>\n",
    "2. [Importing Packages](#section2)<br>\n",
    "3. [Loading Json Data file on to MongoDB](#section3)<br>\n",
    "4. [Creating Schema for all the Datasets](#section4)<br>\n",
    "5. [Creating  Master Database](#section5)\n",
    "    - 5.1 [Loading Covid Death Data in to Master Database](#section501)\n",
    "    - 5.2 [Loading Mental State Data in to Master Database](#section501)\n",
    "    - 5.3 [Loading Nursing Data in to Master Database](#section501)\n",
    "    - 5.4 [Loading Covid Hospital Data in to Master Database](#section501)\n",
    "5. [Creating Database and Required Tables](#section5)\n",
    "6. [Apply Joining and Lookup on Postgresql Database](#section6)\n",
    "\n"
   ]
  },
  {
   "cell_type": "markdown",
   "metadata": {},
   "source": [
    "## 1. Objective<a id=section1></a>\n",
    "\n",
    "In depth analysis on Covid-19 Death, Nursing Home, Mental Health and Covid Hospital datasets to indentify key insights.\n",
    "The analysis was carried out with the help of appropriate databases and libraries such as mongoDB , Postgresql, Pandas, NumPy and, Plotly."
   ]
  },
  {
   "cell_type": "markdown",
   "metadata": {},
   "source": [
    "<a id=section2></a>\n",
    "## 2. Importing Packages"
   ]
  },
  {
   "cell_type": "code",
   "execution_count": 46,
   "metadata": {},
   "outputs": [],
   "source": [
    "# Import libraries\n",
    "import pymongo as md\n",
    "from pymongo import MongoClient\n",
    "from bson import ObjectId\n",
    "import json\n",
    "import pprint\n",
    "import psycopg2\n",
    "import pandas.io.sql as sqlio\n",
    "import pandas as pd\n",
    "import plotly as pl \n",
    "import plotly.express as px\n",
    "import plotly.graph_objects as go\n",
    "\n",
    "from plotly.subplots import make_subplots"
   ]
  },
  {
   "cell_type": "markdown",
   "metadata": {},
   "source": [
    "<a id=section3></a>\n",
    "## 3. Calling al the  Required Jupyter Notebook"
   ]
  },
  {
   "cell_type": "code",
   "execution_count": 2,
   "metadata": {},
   "outputs": [],
   "source": [
    "#%run ./x19220618_DAP_NursingData_01.ipynb"
   ]
  },
  {
   "cell_type": "markdown",
   "metadata": {},
   "source": [
    "<a id=section4></a>\n",
    "## 4. Creating Schema for all the datasets"
   ]
  },
  {
   "cell_type": "code",
   "execution_count": 3,
   "metadata": {},
   "outputs": [],
   "source": [
    "createCovidTable = \"\"\"\n",
    "CREATE TABLE coviddata(\n",
    "DataAsOf date,\n",
    "StartDate date,\n",
    "EndDate date,\n",
    "Groups varchar,\n",
    "Year integer,\n",
    "Month integer,\n",
    "HHSRegion integer,\n",
    "State varchar,\n",
    "PlaceOfDeath varchar,\n",
    "AgeGroup varchar,\n",
    "COVID19Deaths numeric,\n",
    "TotalDeaths numeric,\n",
    "PneumoniaDeaths numeric,\n",
    "PneumoniaAndCOVID19Deaths numeric,\n",
    "InfluenzaDeaths numeric,\n",
    "PneumoniaInfluenzaOrCOVID19Deaths numeric\n",
    ");\n",
    "\"\"\"\n",
    "\n",
    "createMentalTable = \"\"\"\n",
    "CREATE TABLE mentalstatedata(\n",
    "Indicator VARCHAR,\n",
    "Groups VARCHAR,\n",
    "State VARCHAR,\n",
    "Subgroup VARCHAR,\n",
    "Phase VARCHAR,\n",
    "TimePeriod numeric(5,2),\n",
    "TimePeriodLabel VARCHAR,\n",
    "TimePeriodStartDate date,\n",
    "TimePeriodEndDate date,\n",
    "Value numeric(5,2),\n",
    "LowCI numeric(5,2),\n",
    "HighCI numeric(5,2),\n",
    "ConfidenceInterval numeric(5,2),\n",
    "QuartileRange numeric(5,2)\n",
    ");\n",
    "\"\"\"\n",
    "\n",
    "createNursingTable = \"\"\"\n",
    "CREATE TABLE nursingdata(\n",
    "WeekEnding date,\n",
    "ProviderName varchar,\n",
    "ProviderCity varchar,\n",
    "ResidentsTotalAdmissionsCOVID19 bigint,\n",
    "ResidentsTotalConfirmedCOVID19 bigint,\n",
    "ResidentsTotalSuspectedCOVID19 bigint,\n",
    "ResidentsWeeklyAllDeaths bigint,\n",
    "ResidentsTotalAllDeaths bigint,\n",
    "ResidentsTotalCOVID19Deaths bigint,\n",
    "NumberofAllBeds bigint,\n",
    "TotalNumberofOccupiedBeds bigint,\n",
    "StaffWeeklyConfirmedCOVID19 bigint,\n",
    "StaffTotalConfirmedCOVID19 bigint,\n",
    "StaffWeeklySuspectedCOVID19 bigint,\n",
    "StaffTotalSuspectedCOVID19 bigint,\n",
    "StaffTotalCOVID19Deaths varchar,\n",
    "ShortageofNursingStaff varchar,\n",
    "ShortageofClinicalStaff varchar,\n",
    "ShortageofAides varchar,\n",
    "ShortageofOtherStaff varchar,\n",
    "AnyCurrentSupplyofN95Masks varchar,\n",
    "OneWeekSupplyofN95Masks varchar,\n",
    "AnyCurrentSupplyofSurgicalMasks varchar,\n",
    "OneWeekSupplyofSurgicalMasks varchar,\n",
    "AnyCurrentSupplyofEyeProtection varchar,\n",
    "OneWeekSupplyofEyeProtection varchar,\n",
    "OneWeekSupplyofGowns varchar,\n",
    "AnyCurrentSupplyofHandSanitizer varchar,\n",
    "ThreeorMoreConfirmedCOVID19CasesThisWeekorInitialConfirmedCOVID19CasethisWeek varchar,\n",
    "AbletoTestorObtainResourcestoTestAllCurrentResidentsWithinNext7Days varchar,\n",
    "AbletoTestorObtainResourcestoTestAllStaffandorPersonnelWithinNext7Days varchar\n",
    ");\n",
    "\"\"\"\n",
    "\n",
    "\n",
    "createCovidHospitalTable=\"\"\"\n",
    "CREATE TABLE covidhospitaldata (\n",
    "state    varchar    ,\n",
    "date    date    ,\n",
    "critical_staffing_shortage_today_yes    float    ,\n",
    "critical_staffing_shortage_today_no    float    ,\n",
    "critical_staffing_shortage_today_not_reported    float    ,\n",
    "critical_staffing_shortage_anticipated_within_week_yes    float    ,\n",
    "critical_staffing_shortage_anticipated_within_week_no    float    ,\n",
    "critical_staffing_shortage_anticipated_within_week_not_reported    float    ,\n",
    "hospital_onset_covid    float    ,\n",
    "hospital_onset_covid_coverage    float    ,\n",
    "inpatient_beds    float    ,\n",
    "inpatient_beds_coverage    float    ,\n",
    "inpatient_beds_used    float    ,\n",
    "inpatient_beds_used_coverage    float    ,\n",
    "inpatient_beds_used_covid    float    ,\n",
    "inpatient_beds_used_covid_coverage    float    ,\n",
    "previous_day_admission_adult_covid_confirmed_coverage    float    ,\n",
    "previous_day_admission_adult_covid_suspected_coverage    float    ,\n",
    "previous_day_admission_pediatric_covid_confirmed_coverage    float    ,\n",
    "previous_day_admission_pediatric_covid_suspected_coverage    float    ,\n",
    "staffed_adult_icu_bed_occupancy_coverage    float    ,\n",
    "staffed_icu_adult_patients_confirmed_and_suspected_covid_coverage    float    ,\n",
    "staffed_icu_adult_patients_confirmed_covid_coverage    float    ,\n",
    "total_adult_patients_hospitalized_confirmed_and_suspected_covid_coverage    float    ,\n",
    "total_adult_patients_hospitalized_confirmed_covid_coverage    float    ,\n",
    "total_pediatric_patients_hospitalized_confirmed_and_suspected_covid_coverage    float    ,\n",
    "total_pediatric_patients_hospitalized_confirmed_covid_coverage    float    ,\n",
    "total_staffed_adult_icu_beds_coverage    float    ,\n",
    "inpatient_beds_utilization    float    ,\n",
    "inpatient_beds_utilization_coverage    float    ,\n",
    "inpatient_beds_utilization_numerator    float    ,\n",
    "inpatient_beds_utilization_denominator    float    ,\n",
    "percent_of_inpatients_with_covid    float    ,\n",
    "percent_of_inpatients_with_covid_coverage    float    ,\n",
    "percent_of_inpatients_with_covid_numerator    float    ,\n",
    "percent_of_inpatients_with_covid_denominator    float    ,\n",
    "inpatient_bed_covid_utilization    float    ,\n",
    "inpatient_bed_covid_utilization_coverage    float    ,\n",
    "inpatient_bed_covid_utilization_numerator    float    ,\n",
    "inpatient_bed_covid_utilization_denominator    float    ,\n",
    "geocoded_state    varchar    ,\n",
    "latitude    float    ,\n",
    "longitude    float    ,\n",
    "state_desc varchar\n",
    ");\n",
    "\"\"\""
   ]
  },
  {
   "cell_type": "markdown",
   "metadata": {},
   "source": [
    "<a id=section5></a>\n",
    "## 5 Creating  Master Database in Postgresql"
   ]
  },
  {
   "cell_type": "code",
   "execution_count": 4,
   "metadata": {},
   "outputs": [
    {
     "name": "stdout",
     "output_type": "stream",
     "text": [
      "Error while connecting to PostgreSQL database \"coviddb\" already exists\n",
      "\n"
     ]
    }
   ],
   "source": [
    "import psycopg2\n",
    "dbConnection1 = psycopg2.connect(user = \"postgres\",password = \"aa\",host = \"localhost\",port = \"5432\")\n",
    "dbConnection1.set_isolation_level(0) # AUTOCOMMIT\n",
    "dbCursor1 = dbConnection1.cursor()\n",
    "\n",
    "try:\n",
    "    dbCursor1.execute('CREATE DATABASE coviddb;')\n",
    "    dbCursor1.close()\n",
    "except (Exception , psycopg2.Error) as dbError :\n",
    "    print (\"Error while connecting to PostgreSQL\", dbError)\n",
    "finally:\n",
    "    if(dbConnection1): dbConnection1.close()"
   ]
  },
  {
   "cell_type": "code",
   "execution_count": 5,
   "metadata": {},
   "outputs": [
    {
     "name": "stdout",
     "output_type": "stream",
     "text": [
      "Error while connecting to PostgreSQL relation \"coviddata\" already exists\n",
      "\n"
     ]
    }
   ],
   "source": [
    "import psycopg2\n",
    "dbConnection1 = psycopg2.connect(user = \"postgres\",password = \"aa\",host = \"localhost\",port = \"5432\", database = 'coviddb')\n",
    "dbConnection1.set_isolation_level(0) # AUTOCOMMIT\n",
    "dbCursor1 = dbConnection1.cursor()\n",
    "\n",
    "try:\n",
    "    #dbCursor1.execute('CREATE DATABASE coviddb;')\n",
    "    dbCursor1.execute(createCovidTable)\n",
    "    dbCursor1.close()\n",
    "except (Exception , psycopg2.Error) as dbError :\n",
    "    print (\"Error while connecting to PostgreSQL\", dbError)\n",
    "finally:\n",
    "    if(dbConnection1): dbConnection1.close()"
   ]
  },
  {
   "cell_type": "markdown",
   "metadata": {},
   "source": [
    "<a id=section501></a>\n",
    "### 5.1 Loading Covid Death Data in to Master Database\n"
   ]
  },
  {
   "cell_type": "code",
   "execution_count": 6,
   "metadata": {},
   "outputs": [
    {
     "name": "stdout",
     "output_type": "stream",
     "text": [
      "Connected!\n"
     ]
    }
   ],
   "source": [
    "try:\n",
    "    dbConnection1 = psycopg2.connect(user = \"postgres\",password = \"aa\",host = \"localhost\",port = \"5432\", database = \"coviddb\")\n",
    "    print(\"Connected!\")\n",
    "    dbConnection1.set_isolation_level(0) # AUTOCOMMIT\n",
    "    sql = \"COPY %s FROM STDIN WITH CSV HEADER DELIMITER AS ','\"\n",
    "    file = open(\"covid.csv\", \"r\")\n",
    "    with dbConnection1.cursor() as cur:\n",
    "        cur.execute(\"truncate \" + \"coviddata\" + \";\")\n",
    "        cur.copy_expert(sql=sql % \"coviddata\", file=file)\n",
    "        dbConnection1.commit()       \n",
    "except (Exception , psycopg2.Error) as dbError :\n",
    "    print (\"Error:\", dbError)\n",
    "finally:\n",
    "    if(dbConnection1): dbConnection1.close()"
   ]
  },
  {
   "cell_type": "code",
   "execution_count": 7,
   "metadata": {},
   "outputs": [
    {
     "data": {
      "text/html": [
       "<div>\n",
       "<style scoped>\n",
       "    .dataframe tbody tr th:only-of-type {\n",
       "        vertical-align: middle;\n",
       "    }\n",
       "\n",
       "    .dataframe tbody tr th {\n",
       "        vertical-align: top;\n",
       "    }\n",
       "\n",
       "    .dataframe thead th {\n",
       "        text-align: right;\n",
       "    }\n",
       "</style>\n",
       "<table border=\"1\" class=\"dataframe\">\n",
       "  <thead>\n",
       "    <tr style=\"text-align: right;\">\n",
       "      <th></th>\n",
       "      <th>dataasof</th>\n",
       "      <th>startdate</th>\n",
       "      <th>enddate</th>\n",
       "      <th>groups</th>\n",
       "      <th>year</th>\n",
       "      <th>month</th>\n",
       "      <th>hhsregion</th>\n",
       "      <th>state</th>\n",
       "      <th>placeofdeath</th>\n",
       "      <th>agegroup</th>\n",
       "      <th>covid19deaths</th>\n",
       "      <th>totaldeaths</th>\n",
       "      <th>pneumoniadeaths</th>\n",
       "      <th>pneumoniaandcovid19deaths</th>\n",
       "      <th>influenzadeaths</th>\n",
       "      <th>pneumoniainfluenzaorcovid19deaths</th>\n",
       "    </tr>\n",
       "  </thead>\n",
       "  <tbody>\n",
       "    <tr>\n",
       "      <th>0</th>\n",
       "      <td>2021-03-24</td>\n",
       "      <td>2020-01-01</td>\n",
       "      <td>2021-03-20</td>\n",
       "      <td>By Total</td>\n",
       "      <td>2020</td>\n",
       "      <td>1</td>\n",
       "      <td>0</td>\n",
       "      <td>United States</td>\n",
       "      <td>Total - All Places of Death</td>\n",
       "      <td>All Ages</td>\n",
       "      <td>526027.0</td>\n",
       "      <td>4035809.0</td>\n",
       "      <td>453484.0</td>\n",
       "      <td>255848.0</td>\n",
       "      <td>9004.0</td>\n",
       "      <td>731429.0</td>\n",
       "    </tr>\n",
       "    <tr>\n",
       "      <th>1</th>\n",
       "      <td>2021-03-24</td>\n",
       "      <td>2020-01-01</td>\n",
       "      <td>2021-03-20</td>\n",
       "      <td>By Total</td>\n",
       "      <td>2020</td>\n",
       "      <td>1</td>\n",
       "      <td>0</td>\n",
       "      <td>United States</td>\n",
       "      <td>Total - All Places of Death</td>\n",
       "      <td>0-17 years</td>\n",
       "      <td>238.0</td>\n",
       "      <td>38250.0</td>\n",
       "      <td>646.0</td>\n",
       "      <td>44.0</td>\n",
       "      <td>179.0</td>\n",
       "      <td>1019.0</td>\n",
       "    </tr>\n",
       "    <tr>\n",
       "      <th>2</th>\n",
       "      <td>2021-03-24</td>\n",
       "      <td>2020-01-01</td>\n",
       "      <td>2021-03-20</td>\n",
       "      <td>By Total</td>\n",
       "      <td>2020</td>\n",
       "      <td>1</td>\n",
       "      <td>0</td>\n",
       "      <td>United States</td>\n",
       "      <td>Total - All Places of Death</td>\n",
       "      <td>18-29 years</td>\n",
       "      <td>1916.0</td>\n",
       "      <td>72834.0</td>\n",
       "      <td>2109.0</td>\n",
       "      <td>850.0</td>\n",
       "      <td>150.0</td>\n",
       "      <td>3313.0</td>\n",
       "    </tr>\n",
       "    <tr>\n",
       "      <th>3</th>\n",
       "      <td>2021-03-24</td>\n",
       "      <td>2020-01-01</td>\n",
       "      <td>2021-03-20</td>\n",
       "      <td>By Total</td>\n",
       "      <td>2020</td>\n",
       "      <td>1</td>\n",
       "      <td>0</td>\n",
       "      <td>United States</td>\n",
       "      <td>Total - All Places of Death</td>\n",
       "      <td>30-39 years</td>\n",
       "      <td>5583.0</td>\n",
       "      <td>103647.0</td>\n",
       "      <td>5088.0</td>\n",
       "      <td>2561.0</td>\n",
       "      <td>318.0</td>\n",
       "      <td>8406.0</td>\n",
       "    </tr>\n",
       "    <tr>\n",
       "      <th>4</th>\n",
       "      <td>2021-03-24</td>\n",
       "      <td>2020-01-01</td>\n",
       "      <td>2021-03-20</td>\n",
       "      <td>By Total</td>\n",
       "      <td>2020</td>\n",
       "      <td>1</td>\n",
       "      <td>0</td>\n",
       "      <td>United States</td>\n",
       "      <td>Total - All Places of Death</td>\n",
       "      <td>40-49 years</td>\n",
       "      <td>15134.0</td>\n",
       "      <td>156430.0</td>\n",
       "      <td>12934.0</td>\n",
       "      <td>7445.0</td>\n",
       "      <td>494.0</td>\n",
       "      <td>21048.0</td>\n",
       "    </tr>\n",
       "    <tr>\n",
       "      <th>...</th>\n",
       "      <td>...</td>\n",
       "      <td>...</td>\n",
       "      <td>...</td>\n",
       "      <td>...</td>\n",
       "      <td>...</td>\n",
       "      <td>...</td>\n",
       "      <td>...</td>\n",
       "      <td>...</td>\n",
       "      <td>...</td>\n",
       "      <td>...</td>\n",
       "      <td>...</td>\n",
       "      <td>...</td>\n",
       "      <td>...</td>\n",
       "      <td>...</td>\n",
       "      <td>...</td>\n",
       "      <td>...</td>\n",
       "    </tr>\n",
       "    <tr>\n",
       "      <th>33846</th>\n",
       "      <td>2021-03-24</td>\n",
       "      <td>2020-01-01</td>\n",
       "      <td>2020-01-31</td>\n",
       "      <td>By Month</td>\n",
       "      <td>2020</td>\n",
       "      <td>1</td>\n",
       "      <td>1</td>\n",
       "      <td>Vermont</td>\n",
       "      <td>Place of death unknown</td>\n",
       "      <td>50-64 years</td>\n",
       "      <td>0.0</td>\n",
       "      <td>0.0</td>\n",
       "      <td>0.0</td>\n",
       "      <td>0.0</td>\n",
       "      <td>0.0</td>\n",
       "      <td>0.0</td>\n",
       "    </tr>\n",
       "    <tr>\n",
       "      <th>33847</th>\n",
       "      <td>2021-03-24</td>\n",
       "      <td>2020-01-01</td>\n",
       "      <td>2020-01-31</td>\n",
       "      <td>By Month</td>\n",
       "      <td>2020</td>\n",
       "      <td>1</td>\n",
       "      <td>1</td>\n",
       "      <td>Vermont</td>\n",
       "      <td>Place of death unknown</td>\n",
       "      <td>65-74 years</td>\n",
       "      <td>0.0</td>\n",
       "      <td>0.0</td>\n",
       "      <td>0.0</td>\n",
       "      <td>0.0</td>\n",
       "      <td>0.0</td>\n",
       "      <td>0.0</td>\n",
       "    </tr>\n",
       "    <tr>\n",
       "      <th>33848</th>\n",
       "      <td>2021-03-24</td>\n",
       "      <td>2020-01-01</td>\n",
       "      <td>2020-01-31</td>\n",
       "      <td>By Month</td>\n",
       "      <td>2020</td>\n",
       "      <td>1</td>\n",
       "      <td>1</td>\n",
       "      <td>Vermont</td>\n",
       "      <td>Place of death unknown</td>\n",
       "      <td>75-84 years</td>\n",
       "      <td>0.0</td>\n",
       "      <td>0.0</td>\n",
       "      <td>0.0</td>\n",
       "      <td>0.0</td>\n",
       "      <td>0.0</td>\n",
       "      <td>0.0</td>\n",
       "    </tr>\n",
       "    <tr>\n",
       "      <th>33849</th>\n",
       "      <td>2021-03-24</td>\n",
       "      <td>2020-08-01</td>\n",
       "      <td>2020-08-31</td>\n",
       "      <td>By Month</td>\n",
       "      <td>2020</td>\n",
       "      <td>8</td>\n",
       "      <td>5</td>\n",
       "      <td>Wisconsin</td>\n",
       "      <td>Other</td>\n",
       "      <td>0-17 years</td>\n",
       "      <td>0.0</td>\n",
       "      <td>84.0</td>\n",
       "      <td>0.0</td>\n",
       "      <td>0.0</td>\n",
       "      <td>0.0</td>\n",
       "      <td>0.0</td>\n",
       "    </tr>\n",
       "    <tr>\n",
       "      <th>33850</th>\n",
       "      <td>2021-03-24</td>\n",
       "      <td>2020-08-01</td>\n",
       "      <td>2020-08-31</td>\n",
       "      <td>By Month</td>\n",
       "      <td>2020</td>\n",
       "      <td>8</td>\n",
       "      <td>5</td>\n",
       "      <td>Wisconsin</td>\n",
       "      <td>Other</td>\n",
       "      <td>18-29 years</td>\n",
       "      <td>0.0</td>\n",
       "      <td>32.0</td>\n",
       "      <td>0.0</td>\n",
       "      <td>0.0</td>\n",
       "      <td>0.0</td>\n",
       "      <td>0.0</td>\n",
       "    </tr>\n",
       "  </tbody>\n",
       "</table>\n",
       "<p>33851 rows × 16 columns</p>\n",
       "</div>"
      ],
      "text/plain": [
       "         dataasof   startdate     enddate    groups  year  month  hhsregion  \\\n",
       "0      2021-03-24  2020-01-01  2021-03-20  By Total  2020      1          0   \n",
       "1      2021-03-24  2020-01-01  2021-03-20  By Total  2020      1          0   \n",
       "2      2021-03-24  2020-01-01  2021-03-20  By Total  2020      1          0   \n",
       "3      2021-03-24  2020-01-01  2021-03-20  By Total  2020      1          0   \n",
       "4      2021-03-24  2020-01-01  2021-03-20  By Total  2020      1          0   \n",
       "...           ...         ...         ...       ...   ...    ...        ...   \n",
       "33846  2021-03-24  2020-01-01  2020-01-31  By Month  2020      1          1   \n",
       "33847  2021-03-24  2020-01-01  2020-01-31  By Month  2020      1          1   \n",
       "33848  2021-03-24  2020-01-01  2020-01-31  By Month  2020      1          1   \n",
       "33849  2021-03-24  2020-08-01  2020-08-31  By Month  2020      8          5   \n",
       "33850  2021-03-24  2020-08-01  2020-08-31  By Month  2020      8          5   \n",
       "\n",
       "               state                 placeofdeath     agegroup  covid19deaths  \\\n",
       "0      United States  Total - All Places of Death     All Ages       526027.0   \n",
       "1      United States  Total - All Places of Death   0-17 years          238.0   \n",
       "2      United States  Total - All Places of Death  18-29 years         1916.0   \n",
       "3      United States  Total - All Places of Death  30-39 years         5583.0   \n",
       "4      United States  Total - All Places of Death  40-49 years        15134.0   \n",
       "...              ...                          ...          ...            ...   \n",
       "33846        Vermont       Place of death unknown  50-64 years            0.0   \n",
       "33847        Vermont       Place of death unknown  65-74 years            0.0   \n",
       "33848        Vermont       Place of death unknown  75-84 years            0.0   \n",
       "33849      Wisconsin                        Other   0-17 years            0.0   \n",
       "33850      Wisconsin                        Other  18-29 years            0.0   \n",
       "\n",
       "       totaldeaths  pneumoniadeaths  pneumoniaandcovid19deaths  \\\n",
       "0        4035809.0         453484.0                   255848.0   \n",
       "1          38250.0            646.0                       44.0   \n",
       "2          72834.0           2109.0                      850.0   \n",
       "3         103647.0           5088.0                     2561.0   \n",
       "4         156430.0          12934.0                     7445.0   \n",
       "...            ...              ...                        ...   \n",
       "33846          0.0              0.0                        0.0   \n",
       "33847          0.0              0.0                        0.0   \n",
       "33848          0.0              0.0                        0.0   \n",
       "33849         84.0              0.0                        0.0   \n",
       "33850         32.0              0.0                        0.0   \n",
       "\n",
       "       influenzadeaths  pneumoniainfluenzaorcovid19deaths  \n",
       "0               9004.0                           731429.0  \n",
       "1                179.0                             1019.0  \n",
       "2                150.0                             3313.0  \n",
       "3                318.0                             8406.0  \n",
       "4                494.0                            21048.0  \n",
       "...                ...                                ...  \n",
       "33846              0.0                                0.0  \n",
       "33847              0.0                                0.0  \n",
       "33848              0.0                                0.0  \n",
       "33849              0.0                                0.0  \n",
       "33850              0.0                                0.0  \n",
       "\n",
       "[33851 rows x 16 columns]"
      ]
     },
     "execution_count": 7,
     "metadata": {},
     "output_type": "execute_result"
    }
   ],
   "source": [
    "sql1 = \"\"\"SELECT * FROM coviddata;\"\"\"\n",
    "dbConnection1 = psycopg2.connect(user = \"postgres\",password = \"aa\",host = \"localhost\",port = \"5432\",database = \"coviddb\")\n",
    "covid_dataframe = sqlio.read_sql_query(sql1, dbConnection1)\n",
    "covidTableStrData = pd.DataFrame().from_dict(covid_dataframe)\n",
    "covidTableStrData"
   ]
  },
  {
   "cell_type": "code",
   "execution_count": 8,
   "metadata": {},
   "outputs": [
    {
     "name": "stdout",
     "output_type": "stream",
     "text": [
      "dataasof\n",
      "startdate\n",
      "enddate\n",
      "groups\n",
      "year\n",
      "month\n",
      "hhsregion\n",
      "state\n",
      "placeofdeath\n",
      "agegroup\n",
      "covid19deaths\n",
      "totaldeaths\n",
      "pneumoniadeaths\n",
      "pneumoniaandcovid19deaths\n",
      "influenzadeaths\n",
      "pneumoniainfluenzaorcovid19deaths\n"
     ]
    }
   ],
   "source": [
    "for column in covidTableStrData:\n",
    "     print(column)"
   ]
  },
  {
   "cell_type": "markdown",
   "metadata": {},
   "source": [
    "<a id=section502></a>\n",
    "## 5.2 Loading  Mental State Data in to Master Database\n"
   ]
  },
  {
   "cell_type": "code",
   "execution_count": 9,
   "metadata": {},
   "outputs": [
    {
     "name": "stdout",
     "output_type": "stream",
     "text": [
      "Error while connecting to PostgreSQL relation \"mentalstatedata\" already exists\n",
      "\n"
     ]
    }
   ],
   "source": [
    "dbConnection2 = psycopg2.connect(user = \"postgres\",password = \"aa\",host = \"localhost\",port = \"5432\",database = \"coviddb\")\n",
    "dbConnection2.set_isolation_level(0) # AUTOCOMMIT\n",
    "dbCursor2 = dbConnection2.cursor()\n",
    "\n",
    "try:\n",
    "    dbCursor2.execute(createMentalTable)\n",
    "    print(\"Table Created\")\n",
    "    dbCursor2.close()\n",
    "except (Exception , psycopg2.Error) as dbError :\n",
    "    print (\"Error while connecting to PostgreSQL\", dbError)\n",
    "finally:\n",
    "    if(dbConnection2): dbConnection2.close()"
   ]
  },
  {
   "cell_type": "code",
   "execution_count": 10,
   "metadata": {},
   "outputs": [
    {
     "name": "stdout",
     "output_type": "stream",
     "text": [
      "Connected!\n"
     ]
    }
   ],
   "source": [
    "try:\n",
    "    dbConnection2 = psycopg2.connect(user = \"postgres\",password = \"aa\",host = \"localhost\",port = \"5432\", database = \"coviddb\")\n",
    "    print(\"Connected!\")\n",
    "    dbConnection2.set_isolation_level(0) # AUTOCOMMIT\n",
    "    sql = \"COPY %s FROM STDIN WITH CSV HEADER DELIMITER AS ','\"\n",
    "    file = open(\"mentalState.csv\", \"r\")\n",
    "    with dbConnection2.cursor() as cur:\n",
    "        cur.execute(\"truncate \" + \"mentalstatedata\" + \";\")\n",
    "        cur.copy_expert(sql=sql % \"mentalstatedata\", file=file)\n",
    "        dbConnection2.commit()       \n",
    "except (Exception , psycopg2.Error) as dbError :\n",
    "    print (\"Error:\", dbError)\n",
    "finally:\n",
    "    if(dbConnection2): dbConnection2.close()"
   ]
  },
  {
   "cell_type": "code",
   "execution_count": 11,
   "metadata": {
    "scrolled": true
   },
   "outputs": [
    {
     "data": {
      "text/html": [
       "<div>\n",
       "<style scoped>\n",
       "    .dataframe tbody tr th:only-of-type {\n",
       "        vertical-align: middle;\n",
       "    }\n",
       "\n",
       "    .dataframe tbody tr th {\n",
       "        vertical-align: top;\n",
       "    }\n",
       "\n",
       "    .dataframe thead th {\n",
       "        text-align: right;\n",
       "    }\n",
       "</style>\n",
       "<table border=\"1\" class=\"dataframe\">\n",
       "  <thead>\n",
       "    <tr style=\"text-align: right;\">\n",
       "      <th></th>\n",
       "      <th>indicator</th>\n",
       "      <th>groups</th>\n",
       "      <th>state</th>\n",
       "      <th>subgroup</th>\n",
       "      <th>phase</th>\n",
       "      <th>timeperiod</th>\n",
       "      <th>timeperiodlabel</th>\n",
       "      <th>timeperiodstartdate</th>\n",
       "      <th>timeperiodenddate</th>\n",
       "      <th>value</th>\n",
       "      <th>lowci</th>\n",
       "      <th>highci</th>\n",
       "      <th>confidenceinterval</th>\n",
       "      <th>quartilerange</th>\n",
       "    </tr>\n",
       "  </thead>\n",
       "  <tbody>\n",
       "    <tr>\n",
       "      <th>0</th>\n",
       "      <td>Symptoms of Depressive Disorder</td>\n",
       "      <td>National Estimate</td>\n",
       "      <td>United States</td>\n",
       "      <td>United States</td>\n",
       "      <td>1</td>\n",
       "      <td>1.0</td>\n",
       "      <td>Apr 23 - May 5</td>\n",
       "      <td>2020-04-23</td>\n",
       "      <td>2020-05-05</td>\n",
       "      <td>23.5</td>\n",
       "      <td>22.7</td>\n",
       "      <td>24.3</td>\n",
       "      <td>23.50</td>\n",
       "      <td>27.85</td>\n",
       "    </tr>\n",
       "    <tr>\n",
       "      <th>1</th>\n",
       "      <td>Symptoms of Depressive Disorder</td>\n",
       "      <td>By Age</td>\n",
       "      <td>United States</td>\n",
       "      <td>18 - 29 years</td>\n",
       "      <td>1</td>\n",
       "      <td>1.0</td>\n",
       "      <td>Apr 23 - May 5</td>\n",
       "      <td>2020-04-23</td>\n",
       "      <td>2020-05-05</td>\n",
       "      <td>32.7</td>\n",
       "      <td>30.2</td>\n",
       "      <td>35.2</td>\n",
       "      <td>32.70</td>\n",
       "      <td>27.85</td>\n",
       "    </tr>\n",
       "    <tr>\n",
       "      <th>2</th>\n",
       "      <td>Symptoms of Depressive Disorder</td>\n",
       "      <td>By Age</td>\n",
       "      <td>United States</td>\n",
       "      <td>30 - 39 years</td>\n",
       "      <td>1</td>\n",
       "      <td>1.0</td>\n",
       "      <td>Apr 23 - May 5</td>\n",
       "      <td>2020-04-23</td>\n",
       "      <td>2020-05-05</td>\n",
       "      <td>25.7</td>\n",
       "      <td>24.1</td>\n",
       "      <td>27.3</td>\n",
       "      <td>25.70</td>\n",
       "      <td>27.85</td>\n",
       "    </tr>\n",
       "    <tr>\n",
       "      <th>3</th>\n",
       "      <td>Symptoms of Depressive Disorder</td>\n",
       "      <td>By Age</td>\n",
       "      <td>United States</td>\n",
       "      <td>40 - 49 years</td>\n",
       "      <td>1</td>\n",
       "      <td>1.0</td>\n",
       "      <td>Apr 23 - May 5</td>\n",
       "      <td>2020-04-23</td>\n",
       "      <td>2020-05-05</td>\n",
       "      <td>24.8</td>\n",
       "      <td>23.3</td>\n",
       "      <td>26.2</td>\n",
       "      <td>24.75</td>\n",
       "      <td>27.85</td>\n",
       "    </tr>\n",
       "    <tr>\n",
       "      <th>4</th>\n",
       "      <td>Symptoms of Depressive Disorder</td>\n",
       "      <td>By Age</td>\n",
       "      <td>United States</td>\n",
       "      <td>50 - 59 years</td>\n",
       "      <td>1</td>\n",
       "      <td>1.0</td>\n",
       "      <td>Apr 23 - May 5</td>\n",
       "      <td>2020-04-23</td>\n",
       "      <td>2020-05-05</td>\n",
       "      <td>23.2</td>\n",
       "      <td>21.5</td>\n",
       "      <td>25.0</td>\n",
       "      <td>23.25</td>\n",
       "      <td>27.85</td>\n",
       "    </tr>\n",
       "    <tr>\n",
       "      <th>...</th>\n",
       "      <td>...</td>\n",
       "      <td>...</td>\n",
       "      <td>...</td>\n",
       "      <td>...</td>\n",
       "      <td>...</td>\n",
       "      <td>...</td>\n",
       "      <td>...</td>\n",
       "      <td>...</td>\n",
       "      <td>...</td>\n",
       "      <td>...</td>\n",
       "      <td>...</td>\n",
       "      <td>...</td>\n",
       "      <td>...</td>\n",
       "      <td>...</td>\n",
       "    </tr>\n",
       "    <tr>\n",
       "      <th>5569</th>\n",
       "      <td>Symptoms of Anxiety Disorder or Depressive Dis...</td>\n",
       "      <td>By State</td>\n",
       "      <td>Virginia</td>\n",
       "      <td>Virginia</td>\n",
       "      <td>3 (Jan 6 Ã¯Â¿Â½ Mar 15)</td>\n",
       "      <td>26.0</td>\n",
       "      <td>Mar 3 - Mar 15</td>\n",
       "      <td>2021-03-03</td>\n",
       "      <td>2021-03-15</td>\n",
       "      <td>34.3</td>\n",
       "      <td>30.5</td>\n",
       "      <td>38.2</td>\n",
       "      <td>34.35</td>\n",
       "      <td>34.70</td>\n",
       "    </tr>\n",
       "    <tr>\n",
       "      <th>5570</th>\n",
       "      <td>Symptoms of Anxiety Disorder or Depressive Dis...</td>\n",
       "      <td>By State</td>\n",
       "      <td>Washington</td>\n",
       "      <td>Washington</td>\n",
       "      <td>3 (Jan 6 Ã¯Â¿Â½ Mar 15)</td>\n",
       "      <td>26.0</td>\n",
       "      <td>Mar 3 - Mar 15</td>\n",
       "      <td>2021-03-03</td>\n",
       "      <td>2021-03-15</td>\n",
       "      <td>37.3</td>\n",
       "      <td>34.1</td>\n",
       "      <td>40.6</td>\n",
       "      <td>37.35</td>\n",
       "      <td>37.40</td>\n",
       "    </tr>\n",
       "    <tr>\n",
       "      <th>5571</th>\n",
       "      <td>Symptoms of Anxiety Disorder or Depressive Dis...</td>\n",
       "      <td>By State</td>\n",
       "      <td>West Virginia</td>\n",
       "      <td>West Virginia</td>\n",
       "      <td>3 (Jan 6 Ã¯Â¿Â½ Mar 15)</td>\n",
       "      <td>26.0</td>\n",
       "      <td>Mar 3 - Mar 15</td>\n",
       "      <td>2021-03-03</td>\n",
       "      <td>2021-03-15</td>\n",
       "      <td>43.5</td>\n",
       "      <td>36.6</td>\n",
       "      <td>50.6</td>\n",
       "      <td>43.60</td>\n",
       "      <td>43.00</td>\n",
       "    </tr>\n",
       "    <tr>\n",
       "      <th>5572</th>\n",
       "      <td>Symptoms of Anxiety Disorder or Depressive Dis...</td>\n",
       "      <td>By State</td>\n",
       "      <td>Wisconsin</td>\n",
       "      <td>Wisconsin</td>\n",
       "      <td>3 (Jan 6 Ã¯Â¿Â½ Mar 15)</td>\n",
       "      <td>26.0</td>\n",
       "      <td>Mar 3 - Mar 15</td>\n",
       "      <td>2021-03-03</td>\n",
       "      <td>2021-03-15</td>\n",
       "      <td>31.7</td>\n",
       "      <td>27.0</td>\n",
       "      <td>36.6</td>\n",
       "      <td>31.80</td>\n",
       "      <td>29.60</td>\n",
       "    </tr>\n",
       "    <tr>\n",
       "      <th>5573</th>\n",
       "      <td>Symptoms of Anxiety Disorder or Depressive Dis...</td>\n",
       "      <td>By State</td>\n",
       "      <td>Wyoming</td>\n",
       "      <td>Wyoming</td>\n",
       "      <td>3 (Jan 6 Ã¯Â¿Â½ Mar 15)</td>\n",
       "      <td>26.0</td>\n",
       "      <td>Mar 3 - Mar 15</td>\n",
       "      <td>2021-03-03</td>\n",
       "      <td>2021-03-15</td>\n",
       "      <td>36.1</td>\n",
       "      <td>31.6</td>\n",
       "      <td>40.8</td>\n",
       "      <td>36.20</td>\n",
       "      <td>37.40</td>\n",
       "    </tr>\n",
       "  </tbody>\n",
       "</table>\n",
       "<p>5574 rows × 14 columns</p>\n",
       "</div>"
      ],
      "text/plain": [
       "                                              indicator             groups  \\\n",
       "0                       Symptoms of Depressive Disorder  National Estimate   \n",
       "1                       Symptoms of Depressive Disorder             By Age   \n",
       "2                       Symptoms of Depressive Disorder             By Age   \n",
       "3                       Symptoms of Depressive Disorder             By Age   \n",
       "4                       Symptoms of Depressive Disorder             By Age   \n",
       "...                                                 ...                ...   \n",
       "5569  Symptoms of Anxiety Disorder or Depressive Dis...           By State   \n",
       "5570  Symptoms of Anxiety Disorder or Depressive Dis...           By State   \n",
       "5571  Symptoms of Anxiety Disorder or Depressive Dis...           By State   \n",
       "5572  Symptoms of Anxiety Disorder or Depressive Dis...           By State   \n",
       "5573  Symptoms of Anxiety Disorder or Depressive Dis...           By State   \n",
       "\n",
       "              state       subgroup                    phase  timeperiod  \\\n",
       "0     United States  United States                        1         1.0   \n",
       "1     United States  18 - 29 years                        1         1.0   \n",
       "2     United States  30 - 39 years                        1         1.0   \n",
       "3     United States  40 - 49 years                        1         1.0   \n",
       "4     United States  50 - 59 years                        1         1.0   \n",
       "...             ...            ...                      ...         ...   \n",
       "5569       Virginia       Virginia  3 (Jan 6 Ã¯Â¿Â½ Mar 15)        26.0   \n",
       "5570     Washington     Washington  3 (Jan 6 Ã¯Â¿Â½ Mar 15)        26.0   \n",
       "5571  West Virginia  West Virginia  3 (Jan 6 Ã¯Â¿Â½ Mar 15)        26.0   \n",
       "5572      Wisconsin      Wisconsin  3 (Jan 6 Ã¯Â¿Â½ Mar 15)        26.0   \n",
       "5573        Wyoming        Wyoming  3 (Jan 6 Ã¯Â¿Â½ Mar 15)        26.0   \n",
       "\n",
       "     timeperiodlabel timeperiodstartdate timeperiodenddate  value  lowci  \\\n",
       "0     Apr 23 - May 5          2020-04-23        2020-05-05   23.5   22.7   \n",
       "1     Apr 23 - May 5          2020-04-23        2020-05-05   32.7   30.2   \n",
       "2     Apr 23 - May 5          2020-04-23        2020-05-05   25.7   24.1   \n",
       "3     Apr 23 - May 5          2020-04-23        2020-05-05   24.8   23.3   \n",
       "4     Apr 23 - May 5          2020-04-23        2020-05-05   23.2   21.5   \n",
       "...              ...                 ...               ...    ...    ...   \n",
       "5569  Mar 3 - Mar 15          2021-03-03        2021-03-15   34.3   30.5   \n",
       "5570  Mar 3 - Mar 15          2021-03-03        2021-03-15   37.3   34.1   \n",
       "5571  Mar 3 - Mar 15          2021-03-03        2021-03-15   43.5   36.6   \n",
       "5572  Mar 3 - Mar 15          2021-03-03        2021-03-15   31.7   27.0   \n",
       "5573  Mar 3 - Mar 15          2021-03-03        2021-03-15   36.1   31.6   \n",
       "\n",
       "      highci  confidenceinterval  quartilerange  \n",
       "0       24.3               23.50          27.85  \n",
       "1       35.2               32.70          27.85  \n",
       "2       27.3               25.70          27.85  \n",
       "3       26.2               24.75          27.85  \n",
       "4       25.0               23.25          27.85  \n",
       "...      ...                 ...            ...  \n",
       "5569    38.2               34.35          34.70  \n",
       "5570    40.6               37.35          37.40  \n",
       "5571    50.6               43.60          43.00  \n",
       "5572    36.6               31.80          29.60  \n",
       "5573    40.8               36.20          37.40  \n",
       "\n",
       "[5574 rows x 14 columns]"
      ]
     },
     "execution_count": 11,
     "metadata": {},
     "output_type": "execute_result"
    }
   ],
   "source": [
    "sql2 = \"\"\"SELECT * FROM mentalstatedata;\"\"\"\n",
    "dbConnection2 = psycopg2.connect(user = \"postgres\",password = \"aa\",host = \"localhost\",port = \"5432\",database = \"coviddb\")\n",
    "mentalstate_dataframe = sqlio.read_sql_query(sql2, dbConnection2)\n",
    "mentalStateTableStrData = pd.DataFrame().from_dict(mentalstate_dataframe)\n",
    "mentalStateTableStrData"
   ]
  },
  {
   "cell_type": "code",
   "execution_count": 12,
   "metadata": {},
   "outputs": [
    {
     "name": "stdout",
     "output_type": "stream",
     "text": [
      "indicator\n",
      "groups\n",
      "state\n",
      "subgroup\n",
      "phase\n",
      "timeperiod\n",
      "timeperiodlabel\n",
      "timeperiodstartdate\n",
      "timeperiodenddate\n",
      "value\n",
      "lowci\n",
      "highci\n",
      "confidenceinterval\n",
      "quartilerange\n"
     ]
    }
   ],
   "source": [
    "for column in mentalStateTableStrData:\n",
    "     print(column)"
   ]
  },
  {
   "cell_type": "markdown",
   "metadata": {},
   "source": [
    "<a id=section503></a>\n",
    "### 5.3 Loading Nursing Data on to Master Database"
   ]
  },
  {
   "cell_type": "code",
   "execution_count": 13,
   "metadata": {},
   "outputs": [
    {
     "name": "stdout",
     "output_type": "stream",
     "text": [
      "Error while connecting to PostgreSQL relation \"nursingdata\" already exists\n",
      "\n"
     ]
    }
   ],
   "source": [
    "dbConnection3 = psycopg2.connect(user = \"postgres\",password = \"aa\",host = \"localhost\",port = \"5432\",database = \"coviddb\")\n",
    "dbConnection3.set_isolation_level(0) # AUTOCOMMIT\n",
    "dbCursor3 = dbConnection3.cursor()\n",
    "\n",
    "try:\n",
    "    #dbCursor3.execute('CREATE DATABASE nursingdatadb;')\n",
    "    dbCursor3.execute(createNursingTable)\n",
    "    print(\"Table Created\")\n",
    "    dbCursor3.close()\n",
    "except (Exception , psycopg2.Error) as dbError :\n",
    "    print (\"Error while connecting to PostgreSQL\", dbError)\n",
    "finally:\n",
    "    if(dbConnection3): dbConnection3.close()"
   ]
  },
  {
   "cell_type": "code",
   "execution_count": 14,
   "metadata": {},
   "outputs": [
    {
     "name": "stdout",
     "output_type": "stream",
     "text": [
      "Connected!\n"
     ]
    }
   ],
   "source": [
    "try:\n",
    "    dbConnection3 = psycopg2.connect(user = \"postgres\",password = \"aa\",host = \"localhost\",port = \"5432\", database = \"coviddb\")\n",
    "    print(\"Connected!\")\n",
    "    dbConnection3.set_isolation_level(0) # AUTOCOMMIT\n",
    "    sql = \"COPY %s FROM STDIN WITH CSV HEADER DELIMITER AS ','\"\n",
    "    file = open(\"FinalNData.csv\", \"r\")\n",
    "    with dbConnection3.cursor() as cur:\n",
    "        cur.execute(\"truncate \" + \"nursingdata\" + \";\")\n",
    "        cur.copy_expert(sql=sql % \"nursingdata\", file=file)\n",
    "        dbConnection3.commit()       \n",
    "except (Exception , psycopg2.Error) as dbError :\n",
    "    print (\"Error:\", dbError)\n",
    "finally:\n",
    "    if(dbConnection3): dbConnection3.close()"
   ]
  },
  {
   "cell_type": "code",
   "execution_count": 15,
   "metadata": {},
   "outputs": [
    {
     "data": {
      "text/html": [
       "<div>\n",
       "<style scoped>\n",
       "    .dataframe tbody tr th:only-of-type {\n",
       "        vertical-align: middle;\n",
       "    }\n",
       "\n",
       "    .dataframe tbody tr th {\n",
       "        vertical-align: top;\n",
       "    }\n",
       "\n",
       "    .dataframe thead th {\n",
       "        text-align: right;\n",
       "    }\n",
       "</style>\n",
       "<table border=\"1\" class=\"dataframe\">\n",
       "  <thead>\n",
       "    <tr style=\"text-align: right;\">\n",
       "      <th></th>\n",
       "      <th>weekending</th>\n",
       "      <th>providername</th>\n",
       "      <th>providercity</th>\n",
       "      <th>residentstotaladmissionscovid19</th>\n",
       "      <th>residentstotalconfirmedcovid19</th>\n",
       "      <th>residentstotalsuspectedcovid19</th>\n",
       "      <th>residentsweeklyalldeaths</th>\n",
       "      <th>residentstotalalldeaths</th>\n",
       "      <th>residentstotalcovid19deaths</th>\n",
       "      <th>numberofallbeds</th>\n",
       "      <th>...</th>\n",
       "      <th>oneweeksupplyofn95masks</th>\n",
       "      <th>anycurrentsupplyofsurgicalmasks</th>\n",
       "      <th>oneweeksupplyofsurgicalmasks</th>\n",
       "      <th>anycurrentsupplyofeyeprotection</th>\n",
       "      <th>oneweeksupplyofeyeprotection</th>\n",
       "      <th>oneweeksupplyofgowns</th>\n",
       "      <th>anycurrentsupplyofhandsanitizer</th>\n",
       "      <th>threeormoreconfirmedcovid19casesthisweekorinitialconfirmedcovid</th>\n",
       "      <th>abletotestorobtainresourcestotestallcurrentresidentswithinnext7</th>\n",
       "      <th>abletotestorobtainresourcestotestallstaffandorpersonnelwithinne</th>\n",
       "    </tr>\n",
       "  </thead>\n",
       "  <tbody>\n",
       "    <tr>\n",
       "      <th>0</th>\n",
       "      <td>2020-05-24</td>\n",
       "      <td>NORTHBRIDGE HEALTH CARE CENTER</td>\n",
       "      <td>BRIDGEPORT</td>\n",
       "      <td>25</td>\n",
       "      <td>0</td>\n",
       "      <td>0</td>\n",
       "      <td>0</td>\n",
       "      <td>0</td>\n",
       "      <td>0</td>\n",
       "      <td>0</td>\n",
       "      <td>...</td>\n",
       "      <td>Y</td>\n",
       "      <td>Y</td>\n",
       "      <td>Y</td>\n",
       "      <td>Y</td>\n",
       "      <td>Y</td>\n",
       "      <td>Y</td>\n",
       "      <td>Y</td>\n",
       "      <td>N</td>\n",
       "      <td>Y</td>\n",
       "      <td>Y</td>\n",
       "    </tr>\n",
       "    <tr>\n",
       "      <th>1</th>\n",
       "      <td>2020-05-24</td>\n",
       "      <td>ORCHARD GROVE SPECIALTY CARE CENTER, LLC</td>\n",
       "      <td>UNCASVILLE</td>\n",
       "      <td>6</td>\n",
       "      <td>28</td>\n",
       "      <td>3</td>\n",
       "      <td>0</td>\n",
       "      <td>19</td>\n",
       "      <td>7</td>\n",
       "      <td>120</td>\n",
       "      <td>...</td>\n",
       "      <td>Y</td>\n",
       "      <td>Y</td>\n",
       "      <td>Y</td>\n",
       "      <td>Y</td>\n",
       "      <td>Y</td>\n",
       "      <td>Y</td>\n",
       "      <td>Y</td>\n",
       "      <td>N</td>\n",
       "      <td>Y</td>\n",
       "      <td>Y</td>\n",
       "    </tr>\n",
       "    <tr>\n",
       "      <th>2</th>\n",
       "      <td>2020-07-19</td>\n",
       "      <td>WATROUS NURSING CENTER</td>\n",
       "      <td>MADISON</td>\n",
       "      <td>0</td>\n",
       "      <td>1</td>\n",
       "      <td>1</td>\n",
       "      <td>0</td>\n",
       "      <td>0</td>\n",
       "      <td>0</td>\n",
       "      <td>45</td>\n",
       "      <td>...</td>\n",
       "      <td>Y</td>\n",
       "      <td>Y</td>\n",
       "      <td>Y</td>\n",
       "      <td>Y</td>\n",
       "      <td>Y</td>\n",
       "      <td>Y</td>\n",
       "      <td>Y</td>\n",
       "      <td>N</td>\n",
       "      <td>Y</td>\n",
       "      <td>Y</td>\n",
       "    </tr>\n",
       "    <tr>\n",
       "      <th>3</th>\n",
       "      <td>2020-06-28</td>\n",
       "      <td>APPLE REHAB SHELTON LAKES</td>\n",
       "      <td>SHELTON</td>\n",
       "      <td>1</td>\n",
       "      <td>0</td>\n",
       "      <td>0</td>\n",
       "      <td>1</td>\n",
       "      <td>2</td>\n",
       "      <td>0</td>\n",
       "      <td>106</td>\n",
       "      <td>...</td>\n",
       "      <td>Y</td>\n",
       "      <td>Y</td>\n",
       "      <td>Y</td>\n",
       "      <td>Y</td>\n",
       "      <td>Y</td>\n",
       "      <td>Y</td>\n",
       "      <td>Y</td>\n",
       "      <td>N</td>\n",
       "      <td>Y</td>\n",
       "      <td>Y</td>\n",
       "    </tr>\n",
       "    <tr>\n",
       "      <th>4</th>\n",
       "      <td>2020-09-13</td>\n",
       "      <td>REGALCARE AT GREENWICH</td>\n",
       "      <td>GREENWICH</td>\n",
       "      <td>11</td>\n",
       "      <td>12</td>\n",
       "      <td>0</td>\n",
       "      <td>0</td>\n",
       "      <td>28</td>\n",
       "      <td>14</td>\n",
       "      <td>75</td>\n",
       "      <td>...</td>\n",
       "      <td>Y</td>\n",
       "      <td>Y</td>\n",
       "      <td>Y</td>\n",
       "      <td>Y</td>\n",
       "      <td>Y</td>\n",
       "      <td>Y</td>\n",
       "      <td>Y</td>\n",
       "      <td>N</td>\n",
       "      <td>Y</td>\n",
       "      <td>Y</td>\n",
       "    </tr>\n",
       "    <tr>\n",
       "      <th>...</th>\n",
       "      <td>...</td>\n",
       "      <td>...</td>\n",
       "      <td>...</td>\n",
       "      <td>...</td>\n",
       "      <td>...</td>\n",
       "      <td>...</td>\n",
       "      <td>...</td>\n",
       "      <td>...</td>\n",
       "      <td>...</td>\n",
       "      <td>...</td>\n",
       "      <td>...</td>\n",
       "      <td>...</td>\n",
       "      <td>...</td>\n",
       "      <td>...</td>\n",
       "      <td>...</td>\n",
       "      <td>...</td>\n",
       "      <td>...</td>\n",
       "      <td>...</td>\n",
       "      <td>...</td>\n",
       "      <td>...</td>\n",
       "      <td>...</td>\n",
       "    </tr>\n",
       "    <tr>\n",
       "      <th>9077</th>\n",
       "      <td>2020-08-23</td>\n",
       "      <td>NOTRE DAME CONVALESCENT HOME I</td>\n",
       "      <td>NORWALK</td>\n",
       "      <td>3</td>\n",
       "      <td>22</td>\n",
       "      <td>38</td>\n",
       "      <td>0</td>\n",
       "      <td>17</td>\n",
       "      <td>13</td>\n",
       "      <td>60</td>\n",
       "      <td>...</td>\n",
       "      <td>Y</td>\n",
       "      <td>Y</td>\n",
       "      <td>Y</td>\n",
       "      <td>Y</td>\n",
       "      <td>Y</td>\n",
       "      <td>Y</td>\n",
       "      <td>Y</td>\n",
       "      <td>N</td>\n",
       "      <td>Y</td>\n",
       "      <td>Y</td>\n",
       "    </tr>\n",
       "    <tr>\n",
       "      <th>9078</th>\n",
       "      <td>2021-01-24</td>\n",
       "      <td>LEDGECREST HEALTH CARE</td>\n",
       "      <td>KENSINGTON</td>\n",
       "      <td>6</td>\n",
       "      <td>26</td>\n",
       "      <td>1</td>\n",
       "      <td>0</td>\n",
       "      <td>15</td>\n",
       "      <td>5</td>\n",
       "      <td>55</td>\n",
       "      <td>...</td>\n",
       "      <td>Y</td>\n",
       "      <td>Y</td>\n",
       "      <td>Y</td>\n",
       "      <td>Y</td>\n",
       "      <td>Y</td>\n",
       "      <td>Y</td>\n",
       "      <td>Y</td>\n",
       "      <td>N</td>\n",
       "      <td>Y</td>\n",
       "      <td>Y</td>\n",
       "    </tr>\n",
       "    <tr>\n",
       "      <th>9079</th>\n",
       "      <td>2021-01-31</td>\n",
       "      <td>JOHN L. LEVITOW HEALTH CARE CENTER</td>\n",
       "      <td>ROCKY HILL</td>\n",
       "      <td>12</td>\n",
       "      <td>34</td>\n",
       "      <td>0</td>\n",
       "      <td>0</td>\n",
       "      <td>20</td>\n",
       "      <td>7</td>\n",
       "      <td>125</td>\n",
       "      <td>...</td>\n",
       "      <td>Y</td>\n",
       "      <td>Y</td>\n",
       "      <td>Y</td>\n",
       "      <td>Y</td>\n",
       "      <td>Y</td>\n",
       "      <td>Y</td>\n",
       "      <td>Y</td>\n",
       "      <td>N</td>\n",
       "      <td>Y</td>\n",
       "      <td>Y</td>\n",
       "    </tr>\n",
       "    <tr>\n",
       "      <th>9080</th>\n",
       "      <td>2020-12-06</td>\n",
       "      <td>APPLE REHAB SHELTON LAKES</td>\n",
       "      <td>SHELTON</td>\n",
       "      <td>8</td>\n",
       "      <td>21</td>\n",
       "      <td>0</td>\n",
       "      <td>1</td>\n",
       "      <td>10</td>\n",
       "      <td>0</td>\n",
       "      <td>106</td>\n",
       "      <td>...</td>\n",
       "      <td>Y</td>\n",
       "      <td>Y</td>\n",
       "      <td>Y</td>\n",
       "      <td>Y</td>\n",
       "      <td>Y</td>\n",
       "      <td>Y</td>\n",
       "      <td>Y</td>\n",
       "      <td>Y</td>\n",
       "      <td>Y</td>\n",
       "      <td>Y</td>\n",
       "    </tr>\n",
       "    <tr>\n",
       "      <th>9081</th>\n",
       "      <td>2020-08-23</td>\n",
       "      <td>BETHEL HEALTH CARE CENTER</td>\n",
       "      <td>BETHEL</td>\n",
       "      <td>23</td>\n",
       "      <td>61</td>\n",
       "      <td>66</td>\n",
       "      <td>0</td>\n",
       "      <td>44</td>\n",
       "      <td>16</td>\n",
       "      <td>161</td>\n",
       "      <td>...</td>\n",
       "      <td>Y</td>\n",
       "      <td>Y</td>\n",
       "      <td>Y</td>\n",
       "      <td>Y</td>\n",
       "      <td>Y</td>\n",
       "      <td>Y</td>\n",
       "      <td>Y</td>\n",
       "      <td>N</td>\n",
       "      <td>Y</td>\n",
       "      <td>Y</td>\n",
       "    </tr>\n",
       "  </tbody>\n",
       "</table>\n",
       "<p>9082 rows × 31 columns</p>\n",
       "</div>"
      ],
      "text/plain": [
       "      weekending                              providername providercity  \\\n",
       "0     2020-05-24            NORTHBRIDGE HEALTH CARE CENTER   BRIDGEPORT   \n",
       "1     2020-05-24  ORCHARD GROVE SPECIALTY CARE CENTER, LLC   UNCASVILLE   \n",
       "2     2020-07-19                    WATROUS NURSING CENTER      MADISON   \n",
       "3     2020-06-28                 APPLE REHAB SHELTON LAKES      SHELTON   \n",
       "4     2020-09-13                    REGALCARE AT GREENWICH    GREENWICH   \n",
       "...          ...                                       ...          ...   \n",
       "9077  2020-08-23            NOTRE DAME CONVALESCENT HOME I      NORWALK   \n",
       "9078  2021-01-24                    LEDGECREST HEALTH CARE   KENSINGTON   \n",
       "9079  2021-01-31        JOHN L. LEVITOW HEALTH CARE CENTER   ROCKY HILL   \n",
       "9080  2020-12-06                 APPLE REHAB SHELTON LAKES      SHELTON   \n",
       "9081  2020-08-23                 BETHEL HEALTH CARE CENTER       BETHEL   \n",
       "\n",
       "      residentstotaladmissionscovid19  residentstotalconfirmedcovid19  \\\n",
       "0                                  25                               0   \n",
       "1                                   6                              28   \n",
       "2                                   0                               1   \n",
       "3                                   1                               0   \n",
       "4                                  11                              12   \n",
       "...                               ...                             ...   \n",
       "9077                                3                              22   \n",
       "9078                                6                              26   \n",
       "9079                               12                              34   \n",
       "9080                                8                              21   \n",
       "9081                               23                              61   \n",
       "\n",
       "      residentstotalsuspectedcovid19  residentsweeklyalldeaths  \\\n",
       "0                                  0                         0   \n",
       "1                                  3                         0   \n",
       "2                                  1                         0   \n",
       "3                                  0                         1   \n",
       "4                                  0                         0   \n",
       "...                              ...                       ...   \n",
       "9077                              38                         0   \n",
       "9078                               1                         0   \n",
       "9079                               0                         0   \n",
       "9080                               0                         1   \n",
       "9081                              66                         0   \n",
       "\n",
       "      residentstotalalldeaths  residentstotalcovid19deaths  numberofallbeds  \\\n",
       "0                           0                            0                0   \n",
       "1                          19                            7              120   \n",
       "2                           0                            0               45   \n",
       "3                           2                            0              106   \n",
       "4                          28                           14               75   \n",
       "...                       ...                          ...              ...   \n",
       "9077                       17                           13               60   \n",
       "9078                       15                            5               55   \n",
       "9079                       20                            7              125   \n",
       "9080                       10                            0              106   \n",
       "9081                       44                           16              161   \n",
       "\n",
       "      ...  oneweeksupplyofn95masks  anycurrentsupplyofsurgicalmasks  \\\n",
       "0     ...                        Y                                Y   \n",
       "1     ...                        Y                                Y   \n",
       "2     ...                        Y                                Y   \n",
       "3     ...                        Y                                Y   \n",
       "4     ...                        Y                                Y   \n",
       "...   ...                      ...                              ...   \n",
       "9077  ...                        Y                                Y   \n",
       "9078  ...                        Y                                Y   \n",
       "9079  ...                        Y                                Y   \n",
       "9080  ...                        Y                                Y   \n",
       "9081  ...                        Y                                Y   \n",
       "\n",
       "      oneweeksupplyofsurgicalmasks  anycurrentsupplyofeyeprotection  \\\n",
       "0                                Y                                Y   \n",
       "1                                Y                                Y   \n",
       "2                                Y                                Y   \n",
       "3                                Y                                Y   \n",
       "4                                Y                                Y   \n",
       "...                            ...                              ...   \n",
       "9077                             Y                                Y   \n",
       "9078                             Y                                Y   \n",
       "9079                             Y                                Y   \n",
       "9080                             Y                                Y   \n",
       "9081                             Y                                Y   \n",
       "\n",
       "      oneweeksupplyofeyeprotection oneweeksupplyofgowns  \\\n",
       "0                                Y                    Y   \n",
       "1                                Y                    Y   \n",
       "2                                Y                    Y   \n",
       "3                                Y                    Y   \n",
       "4                                Y                    Y   \n",
       "...                            ...                  ...   \n",
       "9077                             Y                    Y   \n",
       "9078                             Y                    Y   \n",
       "9079                             Y                    Y   \n",
       "9080                             Y                    Y   \n",
       "9081                             Y                    Y   \n",
       "\n",
       "     anycurrentsupplyofhandsanitizer  \\\n",
       "0                                  Y   \n",
       "1                                  Y   \n",
       "2                                  Y   \n",
       "3                                  Y   \n",
       "4                                  Y   \n",
       "...                              ...   \n",
       "9077                               Y   \n",
       "9078                               Y   \n",
       "9079                               Y   \n",
       "9080                               Y   \n",
       "9081                               Y   \n",
       "\n",
       "     threeormoreconfirmedcovid19casesthisweekorinitialconfirmedcovid  \\\n",
       "0                                                     N                \n",
       "1                                                     N                \n",
       "2                                                     N                \n",
       "3                                                     N                \n",
       "4                                                     N                \n",
       "...                                                 ...                \n",
       "9077                                                  N                \n",
       "9078                                                  N                \n",
       "9079                                                  N                \n",
       "9080                                                  Y                \n",
       "9081                                                  N                \n",
       "\n",
       "     abletotestorobtainresourcestotestallcurrentresidentswithinnext7  \\\n",
       "0                                                     Y                \n",
       "1                                                     Y                \n",
       "2                                                     Y                \n",
       "3                                                     Y                \n",
       "4                                                     Y                \n",
       "...                                                 ...                \n",
       "9077                                                  Y                \n",
       "9078                                                  Y                \n",
       "9079                                                  Y                \n",
       "9080                                                  Y                \n",
       "9081                                                  Y                \n",
       "\n",
       "     abletotestorobtainresourcestotestallstaffandorpersonnelwithinne  \n",
       "0                                                     Y               \n",
       "1                                                     Y               \n",
       "2                                                     Y               \n",
       "3                                                     Y               \n",
       "4                                                     Y               \n",
       "...                                                 ...               \n",
       "9077                                                  Y               \n",
       "9078                                                  Y               \n",
       "9079                                                  Y               \n",
       "9080                                                  Y               \n",
       "9081                                                  Y               \n",
       "\n",
       "[9082 rows x 31 columns]"
      ]
     },
     "execution_count": 15,
     "metadata": {},
     "output_type": "execute_result"
    }
   ],
   "source": [
    "sql3 = \"\"\"SELECT * FROM nursingdata;\"\"\"\n",
    "dbConnection3 = psycopg2.connect(user = \"postgres\",password = \"aa\",host = \"localhost\",port = \"5432\",database = \"coviddb\")\n",
    "nursing_dataframe = sqlio.read_sql_query(sql3, dbConnection3)\n",
    "nursingTableStrData = pd.DataFrame().from_dict(nursing_dataframe)\n",
    "nursingTableStrData"
   ]
  },
  {
   "cell_type": "code",
   "execution_count": 16,
   "metadata": {},
   "outputs": [
    {
     "name": "stdout",
     "output_type": "stream",
     "text": [
      "weekending\n",
      "providername\n",
      "providercity\n",
      "residentstotaladmissionscovid19\n",
      "residentstotalconfirmedcovid19\n",
      "residentstotalsuspectedcovid19\n",
      "residentsweeklyalldeaths\n",
      "residentstotalalldeaths\n",
      "residentstotalcovid19deaths\n",
      "numberofallbeds\n",
      "totalnumberofoccupiedbeds\n",
      "staffweeklyconfirmedcovid19\n",
      "stafftotalconfirmedcovid19\n",
      "staffweeklysuspectedcovid19\n",
      "stafftotalsuspectedcovid19\n",
      "stafftotalcovid19deaths\n",
      "shortageofnursingstaff\n",
      "shortageofclinicalstaff\n",
      "shortageofaides\n",
      "shortageofotherstaff\n",
      "anycurrentsupplyofn95masks\n",
      "oneweeksupplyofn95masks\n",
      "anycurrentsupplyofsurgicalmasks\n",
      "oneweeksupplyofsurgicalmasks\n",
      "anycurrentsupplyofeyeprotection\n",
      "oneweeksupplyofeyeprotection\n",
      "oneweeksupplyofgowns\n",
      "anycurrentsupplyofhandsanitizer\n",
      "threeormoreconfirmedcovid19casesthisweekorinitialconfirmedcovid\n",
      "abletotestorobtainresourcestotestallcurrentresidentswithinnext7\n",
      "abletotestorobtainresourcestotestallstaffandorpersonnelwithinne\n"
     ]
    }
   ],
   "source": [
    "for column in nursingTableStrData:\n",
    "     print(column)"
   ]
  },
  {
   "cell_type": "markdown",
   "metadata": {},
   "source": [
    "<a id=section504></a>\n",
    "### 5.4 Loading Covid Hospital  Data on to Master Database"
   ]
  },
  {
   "cell_type": "code",
   "execution_count": 17,
   "metadata": {},
   "outputs": [
    {
     "name": "stdout",
     "output_type": "stream",
     "text": [
      "Table Created\n"
     ]
    }
   ],
   "source": [
    "dbConnection4 = psycopg2.connect(user = \"postgres\",password = \"aa\",host = \"localhost\",port = \"5432\",database = \"coviddb\")\n",
    "dbConnection4.set_isolation_level(0) # AUTOCOMMIT\n",
    "dbCursor4 = dbConnection4.cursor()\n",
    "\n",
    "try:\n",
    "    #dbCursor4.execute('CREATE DATABASE covidhospitaldb;')\n",
    "    #dbCursor4.execute(createCovidHospitalTable)\n",
    "    print(\"Table Created\")\n",
    "    dbCursor4.close()\n",
    "except (Exception , psycopg2.Error) as dbError :\n",
    "    print (\"Error while connecting to PostgreSQL\", dbError)\n",
    "finally:\n",
    "    if(dbConnection4): dbConnection4.close()"
   ]
  },
  {
   "cell_type": "code",
   "execution_count": 18,
   "metadata": {},
   "outputs": [
    {
     "name": "stdout",
     "output_type": "stream",
     "text": [
      "Connected!\n"
     ]
    }
   ],
   "source": [
    "try:\n",
    "    dbConnection4 = psycopg2.connect(user = \"postgres\",password = \"aa\",host = \"localhost\",port = \"5432\", database = \"coviddb\")\n",
    "    print(\"Connected!\")\n",
    "    dbConnection4.set_isolation_level(0) # AUTOCOMMIT\n",
    "    sql = \"COPY %s FROM STDIN WITH CSV HEADER DELIMITER AS ','\"\n",
    "    file = open(\"covidHospital1.csv\", \"r\")\n",
    "    with dbConnection4.cursor() as cur:\n",
    "        cur.execute(\"truncate \" + \"covidhospitaldata\" + \";\")\n",
    "        cur.copy_expert(sql=sql % \"covidhospitaldata\", file=file)\n",
    "        dbConnection4.commit()       \n",
    "except (Exception , psycopg2.Error) as dbError :\n",
    "    print (\"Error:\", dbError)\n",
    "finally:\n",
    "    if(dbConnection4): dbConnection4.close()"
   ]
  },
  {
   "cell_type": "code",
   "execution_count": 21,
   "metadata": {},
   "outputs": [
    {
     "data": {
      "text/html": [
       "<div>\n",
       "<style scoped>\n",
       "    .dataframe tbody tr th:only-of-type {\n",
       "        vertical-align: middle;\n",
       "    }\n",
       "\n",
       "    .dataframe tbody tr th {\n",
       "        vertical-align: top;\n",
       "    }\n",
       "\n",
       "    .dataframe thead th {\n",
       "        text-align: right;\n",
       "    }\n",
       "</style>\n",
       "<table border=\"1\" class=\"dataframe\">\n",
       "  <thead>\n",
       "    <tr style=\"text-align: right;\">\n",
       "      <th></th>\n",
       "      <th>state</th>\n",
       "      <th>date</th>\n",
       "      <th>critical_staffing_shortage_today_yes</th>\n",
       "      <th>critical_staffing_shortage_today_no</th>\n",
       "      <th>critical_staffing_shortage_today_not_reported</th>\n",
       "      <th>critical_staffing_shortage_anticipated_within_week_yes</th>\n",
       "      <th>critical_staffing_shortage_anticipated_within_week_no</th>\n",
       "      <th>critical_staffing_shortage_anticipated_within_week_not_reported</th>\n",
       "      <th>hospital_onset_covid</th>\n",
       "      <th>hospital_onset_covid_coverage</th>\n",
       "      <th>...</th>\n",
       "      <th>percent_of_inpatients_with_covid_numerator</th>\n",
       "      <th>percent_of_inpatients_with_covid_denominator</th>\n",
       "      <th>inpatient_bed_covid_utilization</th>\n",
       "      <th>inpatient_bed_covid_utilization_coverage</th>\n",
       "      <th>inpatient_bed_covid_utilization_numerator</th>\n",
       "      <th>inpatient_bed_covid_utilization_denominator</th>\n",
       "      <th>geocoded_state</th>\n",
       "      <th>latitude</th>\n",
       "      <th>longitude</th>\n",
       "      <th>state_desc</th>\n",
       "    </tr>\n",
       "  </thead>\n",
       "  <tbody>\n",
       "    <tr>\n",
       "      <th>0</th>\n",
       "      <td>IA</td>\n",
       "      <td>2021-01-03</td>\n",
       "      <td>6.0</td>\n",
       "      <td>63.0</td>\n",
       "      <td>57.0</td>\n",
       "      <td>6.0</td>\n",
       "      <td>62.0</td>\n",
       "      <td>58.0</td>\n",
       "      <td>2.0</td>\n",
       "      <td>124.0</td>\n",
       "      <td>...</td>\n",
       "      <td>594.0</td>\n",
       "      <td>4531.0</td>\n",
       "      <td>0.074028</td>\n",
       "      <td>124.0</td>\n",
       "      <td>594.0</td>\n",
       "      <td>8024.0</td>\n",
       "      <td>POINT (-93.500061 42.074659)</td>\n",
       "      <td>-93.500061</td>\n",
       "      <td>42.074659</td>\n",
       "      <td>Iowa</td>\n",
       "    </tr>\n",
       "    <tr>\n",
       "      <th>1</th>\n",
       "      <td>ID</td>\n",
       "      <td>2021-01-03</td>\n",
       "      <td>4.0</td>\n",
       "      <td>47.0</td>\n",
       "      <td>1.0</td>\n",
       "      <td>7.0</td>\n",
       "      <td>44.0</td>\n",
       "      <td>1.0</td>\n",
       "      <td>5.0</td>\n",
       "      <td>51.0</td>\n",
       "      <td>...</td>\n",
       "      <td>356.0</td>\n",
       "      <td>1941.0</td>\n",
       "      <td>0.097695</td>\n",
       "      <td>51.0</td>\n",
       "      <td>356.0</td>\n",
       "      <td>3644.0</td>\n",
       "      <td>POINT (-114.659366 44.389073)</td>\n",
       "      <td>-114.659366</td>\n",
       "      <td>44.389073</td>\n",
       "      <td>Idaho</td>\n",
       "    </tr>\n",
       "    <tr>\n",
       "      <th>2</th>\n",
       "      <td>IL</td>\n",
       "      <td>2021-01-03</td>\n",
       "      <td>19.0</td>\n",
       "      <td>171.0</td>\n",
       "      <td>17.0</td>\n",
       "      <td>17.0</td>\n",
       "      <td>173.0</td>\n",
       "      <td>17.0</td>\n",
       "      <td>73.0</td>\n",
       "      <td>202.0</td>\n",
       "      <td>...</td>\n",
       "      <td>4031.0</td>\n",
       "      <td>20611.0</td>\n",
       "      <td>0.125659</td>\n",
       "      <td>202.0</td>\n",
       "      <td>4031.0</td>\n",
       "      <td>32079.0</td>\n",
       "      <td>POINT (-89.148632 40.124144)</td>\n",
       "      <td>-89.148632</td>\n",
       "      <td>40.124144</td>\n",
       "      <td>Illinois</td>\n",
       "    </tr>\n",
       "    <tr>\n",
       "      <th>3</th>\n",
       "      <td>IN</td>\n",
       "      <td>2021-01-03</td>\n",
       "      <td>22.0</td>\n",
       "      <td>142.0</td>\n",
       "      <td>2.0</td>\n",
       "      <td>29.0</td>\n",
       "      <td>135.0</td>\n",
       "      <td>2.0</td>\n",
       "      <td>9.0</td>\n",
       "      <td>164.0</td>\n",
       "      <td>...</td>\n",
       "      <td>2817.0</td>\n",
       "      <td>11444.0</td>\n",
       "      <td>0.152633</td>\n",
       "      <td>164.0</td>\n",
       "      <td>2817.0</td>\n",
       "      <td>18456.0</td>\n",
       "      <td>POINT (-86.2818 39.919991)</td>\n",
       "      <td>-86.281800</td>\n",
       "      <td>39.919991</td>\n",
       "      <td>Indiana</td>\n",
       "    </tr>\n",
       "    <tr>\n",
       "      <th>4</th>\n",
       "      <td>KS</td>\n",
       "      <td>2021-01-03</td>\n",
       "      <td>10.0</td>\n",
       "      <td>136.0</td>\n",
       "      <td>4.0</td>\n",
       "      <td>13.0</td>\n",
       "      <td>133.0</td>\n",
       "      <td>4.0</td>\n",
       "      <td>14.0</td>\n",
       "      <td>147.0</td>\n",
       "      <td>...</td>\n",
       "      <td>1042.0</td>\n",
       "      <td>4940.0</td>\n",
       "      <td>0.119249</td>\n",
       "      <td>147.0</td>\n",
       "      <td>1042.0</td>\n",
       "      <td>8738.0</td>\n",
       "      <td>POINT (-98.38018 38.484729)</td>\n",
       "      <td>-98.380180</td>\n",
       "      <td>38.484729</td>\n",
       "      <td>Kansas</td>\n",
       "    </tr>\n",
       "    <tr>\n",
       "      <th>...</th>\n",
       "      <td>...</td>\n",
       "      <td>...</td>\n",
       "      <td>...</td>\n",
       "      <td>...</td>\n",
       "      <td>...</td>\n",
       "      <td>...</td>\n",
       "      <td>...</td>\n",
       "      <td>...</td>\n",
       "      <td>...</td>\n",
       "      <td>...</td>\n",
       "      <td>...</td>\n",
       "      <td>...</td>\n",
       "      <td>...</td>\n",
       "      <td>...</td>\n",
       "      <td>...</td>\n",
       "      <td>...</td>\n",
       "      <td>...</td>\n",
       "      <td>...</td>\n",
       "      <td>...</td>\n",
       "      <td>...</td>\n",
       "      <td>...</td>\n",
       "    </tr>\n",
       "    <tr>\n",
       "      <th>17503</th>\n",
       "      <td>NJ</td>\n",
       "      <td>2020-09-21</td>\n",
       "      <td>11.0</td>\n",
       "      <td>81.0</td>\n",
       "      <td>1.0</td>\n",
       "      <td>11.0</td>\n",
       "      <td>81.0</td>\n",
       "      <td>1.0</td>\n",
       "      <td>41.0</td>\n",
       "      <td>92.0</td>\n",
       "      <td>...</td>\n",
       "      <td>627.0</td>\n",
       "      <td>15286.0</td>\n",
       "      <td>0.028026</td>\n",
       "      <td>91.0</td>\n",
       "      <td>627.0</td>\n",
       "      <td>22372.0</td>\n",
       "      <td>POINT (-74.655514 40.110253)</td>\n",
       "      <td>-74.655514</td>\n",
       "      <td>40.110253</td>\n",
       "      <td>New Jersey</td>\n",
       "    </tr>\n",
       "    <tr>\n",
       "      <th>17504</th>\n",
       "      <td>NM</td>\n",
       "      <td>2020-09-21</td>\n",
       "      <td>13.0</td>\n",
       "      <td>36.0</td>\n",
       "      <td>2.0</td>\n",
       "      <td>13.0</td>\n",
       "      <td>36.0</td>\n",
       "      <td>2.0</td>\n",
       "      <td>1.0</td>\n",
       "      <td>49.0</td>\n",
       "      <td>...</td>\n",
       "      <td>122.0</td>\n",
       "      <td>2210.0</td>\n",
       "      <td>0.034620</td>\n",
       "      <td>50.0</td>\n",
       "      <td>122.0</td>\n",
       "      <td>3524.0</td>\n",
       "      <td>POINT (-106.108388 34.421369)</td>\n",
       "      <td>-106.108388</td>\n",
       "      <td>34.421369</td>\n",
       "      <td>New Mexico</td>\n",
       "    </tr>\n",
       "    <tr>\n",
       "      <th>17505</th>\n",
       "      <td>NV</td>\n",
       "      <td>2020-09-21</td>\n",
       "      <td>4.0</td>\n",
       "      <td>52.0</td>\n",
       "      <td>4.0</td>\n",
       "      <td>5.0</td>\n",
       "      <td>51.0</td>\n",
       "      <td>4.0</td>\n",
       "      <td>40.0</td>\n",
       "      <td>58.0</td>\n",
       "      <td>...</td>\n",
       "      <td>460.0</td>\n",
       "      <td>5618.0</td>\n",
       "      <td>0.055900</td>\n",
       "      <td>58.0</td>\n",
       "      <td>460.0</td>\n",
       "      <td>8229.0</td>\n",
       "      <td>POINT (-114.916992 39.283294)</td>\n",
       "      <td>-114.916992</td>\n",
       "      <td>39.283294</td>\n",
       "      <td>Nevada</td>\n",
       "    </tr>\n",
       "    <tr>\n",
       "      <th>17506</th>\n",
       "      <td>NY</td>\n",
       "      <td>2020-09-21</td>\n",
       "      <td>9.0</td>\n",
       "      <td>121.0</td>\n",
       "      <td>46.0</td>\n",
       "      <td>8.0</td>\n",
       "      <td>122.0</td>\n",
       "      <td>46.0</td>\n",
       "      <td>29.0</td>\n",
       "      <td>155.0</td>\n",
       "      <td>...</td>\n",
       "      <td>1272.0</td>\n",
       "      <td>30984.0</td>\n",
       "      <td>0.028809</td>\n",
       "      <td>156.0</td>\n",
       "      <td>1227.0</td>\n",
       "      <td>42591.0</td>\n",
       "      <td>POINT (-75.59655 42.921241)</td>\n",
       "      <td>-75.596550</td>\n",
       "      <td>42.921241</td>\n",
       "      <td>New York</td>\n",
       "    </tr>\n",
       "    <tr>\n",
       "      <th>17507</th>\n",
       "      <td>OH</td>\n",
       "      <td>2020-09-21</td>\n",
       "      <td>9.0</td>\n",
       "      <td>112.0</td>\n",
       "      <td>90.0</td>\n",
       "      <td>13.0</td>\n",
       "      <td>107.0</td>\n",
       "      <td>91.0</td>\n",
       "      <td>20.0</td>\n",
       "      <td>116.0</td>\n",
       "      <td>...</td>\n",
       "      <td>1167.0</td>\n",
       "      <td>19724.0</td>\n",
       "      <td>0.039024</td>\n",
       "      <td>206.0</td>\n",
       "      <td>1167.0</td>\n",
       "      <td>29905.0</td>\n",
       "      <td>POINT (-82.70936 40.415534)</td>\n",
       "      <td>-82.709360</td>\n",
       "      <td>40.415534</td>\n",
       "      <td>Ohio</td>\n",
       "    </tr>\n",
       "  </tbody>\n",
       "</table>\n",
       "<p>17508 rows × 44 columns</p>\n",
       "</div>"
      ],
      "text/plain": [
       "      state        date  critical_staffing_shortage_today_yes  \\\n",
       "0        IA  2021-01-03                                   6.0   \n",
       "1        ID  2021-01-03                                   4.0   \n",
       "2        IL  2021-01-03                                  19.0   \n",
       "3        IN  2021-01-03                                  22.0   \n",
       "4        KS  2021-01-03                                  10.0   \n",
       "...     ...         ...                                   ...   \n",
       "17503    NJ  2020-09-21                                  11.0   \n",
       "17504    NM  2020-09-21                                  13.0   \n",
       "17505    NV  2020-09-21                                   4.0   \n",
       "17506    NY  2020-09-21                                   9.0   \n",
       "17507    OH  2020-09-21                                   9.0   \n",
       "\n",
       "       critical_staffing_shortage_today_no  \\\n",
       "0                                     63.0   \n",
       "1                                     47.0   \n",
       "2                                    171.0   \n",
       "3                                    142.0   \n",
       "4                                    136.0   \n",
       "...                                    ...   \n",
       "17503                                 81.0   \n",
       "17504                                 36.0   \n",
       "17505                                 52.0   \n",
       "17506                                121.0   \n",
       "17507                                112.0   \n",
       "\n",
       "       critical_staffing_shortage_today_not_reported  \\\n",
       "0                                               57.0   \n",
       "1                                                1.0   \n",
       "2                                               17.0   \n",
       "3                                                2.0   \n",
       "4                                                4.0   \n",
       "...                                              ...   \n",
       "17503                                            1.0   \n",
       "17504                                            2.0   \n",
       "17505                                            4.0   \n",
       "17506                                           46.0   \n",
       "17507                                           90.0   \n",
       "\n",
       "       critical_staffing_shortage_anticipated_within_week_yes  \\\n",
       "0                                                    6.0        \n",
       "1                                                    7.0        \n",
       "2                                                   17.0        \n",
       "3                                                   29.0        \n",
       "4                                                   13.0        \n",
       "...                                                  ...        \n",
       "17503                                               11.0        \n",
       "17504                                               13.0        \n",
       "17505                                                5.0        \n",
       "17506                                                8.0        \n",
       "17507                                               13.0        \n",
       "\n",
       "       critical_staffing_shortage_anticipated_within_week_no  \\\n",
       "0                                                   62.0       \n",
       "1                                                   44.0       \n",
       "2                                                  173.0       \n",
       "3                                                  135.0       \n",
       "4                                                  133.0       \n",
       "...                                                  ...       \n",
       "17503                                               81.0       \n",
       "17504                                               36.0       \n",
       "17505                                               51.0       \n",
       "17506                                              122.0       \n",
       "17507                                              107.0       \n",
       "\n",
       "       critical_staffing_shortage_anticipated_within_week_not_reported  \\\n",
       "0                                                   58.0                 \n",
       "1                                                    1.0                 \n",
       "2                                                   17.0                 \n",
       "3                                                    2.0                 \n",
       "4                                                    4.0                 \n",
       "...                                                  ...                 \n",
       "17503                                                1.0                 \n",
       "17504                                                2.0                 \n",
       "17505                                                4.0                 \n",
       "17506                                               46.0                 \n",
       "17507                                               91.0                 \n",
       "\n",
       "       hospital_onset_covid  hospital_onset_covid_coverage  ...  \\\n",
       "0                       2.0                          124.0  ...   \n",
       "1                       5.0                           51.0  ...   \n",
       "2                      73.0                          202.0  ...   \n",
       "3                       9.0                          164.0  ...   \n",
       "4                      14.0                          147.0  ...   \n",
       "...                     ...                            ...  ...   \n",
       "17503                  41.0                           92.0  ...   \n",
       "17504                   1.0                           49.0  ...   \n",
       "17505                  40.0                           58.0  ...   \n",
       "17506                  29.0                          155.0  ...   \n",
       "17507                  20.0                          116.0  ...   \n",
       "\n",
       "       percent_of_inpatients_with_covid_numerator  \\\n",
       "0                                           594.0   \n",
       "1                                           356.0   \n",
       "2                                          4031.0   \n",
       "3                                          2817.0   \n",
       "4                                          1042.0   \n",
       "...                                           ...   \n",
       "17503                                       627.0   \n",
       "17504                                       122.0   \n",
       "17505                                       460.0   \n",
       "17506                                      1272.0   \n",
       "17507                                      1167.0   \n",
       "\n",
       "       percent_of_inpatients_with_covid_denominator  \\\n",
       "0                                            4531.0   \n",
       "1                                            1941.0   \n",
       "2                                           20611.0   \n",
       "3                                           11444.0   \n",
       "4                                            4940.0   \n",
       "...                                             ...   \n",
       "17503                                       15286.0   \n",
       "17504                                        2210.0   \n",
       "17505                                        5618.0   \n",
       "17506                                       30984.0   \n",
       "17507                                       19724.0   \n",
       "\n",
       "       inpatient_bed_covid_utilization  \\\n",
       "0                             0.074028   \n",
       "1                             0.097695   \n",
       "2                             0.125659   \n",
       "3                             0.152633   \n",
       "4                             0.119249   \n",
       "...                                ...   \n",
       "17503                         0.028026   \n",
       "17504                         0.034620   \n",
       "17505                         0.055900   \n",
       "17506                         0.028809   \n",
       "17507                         0.039024   \n",
       "\n",
       "       inpatient_bed_covid_utilization_coverage  \\\n",
       "0                                         124.0   \n",
       "1                                          51.0   \n",
       "2                                         202.0   \n",
       "3                                         164.0   \n",
       "4                                         147.0   \n",
       "...                                         ...   \n",
       "17503                                      91.0   \n",
       "17504                                      50.0   \n",
       "17505                                      58.0   \n",
       "17506                                     156.0   \n",
       "17507                                     206.0   \n",
       "\n",
       "       inpatient_bed_covid_utilization_numerator  \\\n",
       "0                                          594.0   \n",
       "1                                          356.0   \n",
       "2                                         4031.0   \n",
       "3                                         2817.0   \n",
       "4                                         1042.0   \n",
       "...                                          ...   \n",
       "17503                                      627.0   \n",
       "17504                                      122.0   \n",
       "17505                                      460.0   \n",
       "17506                                     1227.0   \n",
       "17507                                     1167.0   \n",
       "\n",
       "       inpatient_bed_covid_utilization_denominator  \\\n",
       "0                                           8024.0   \n",
       "1                                           3644.0   \n",
       "2                                          32079.0   \n",
       "3                                          18456.0   \n",
       "4                                           8738.0   \n",
       "...                                            ...   \n",
       "17503                                      22372.0   \n",
       "17504                                       3524.0   \n",
       "17505                                       8229.0   \n",
       "17506                                      42591.0   \n",
       "17507                                      29905.0   \n",
       "\n",
       "                      geocoded_state    latitude  longitude  state_desc  \n",
       "0       POINT (-93.500061 42.074659)  -93.500061  42.074659        Iowa  \n",
       "1      POINT (-114.659366 44.389073) -114.659366  44.389073       Idaho  \n",
       "2       POINT (-89.148632 40.124144)  -89.148632  40.124144    Illinois  \n",
       "3         POINT (-86.2818 39.919991)  -86.281800  39.919991     Indiana  \n",
       "4        POINT (-98.38018 38.484729)  -98.380180  38.484729      Kansas  \n",
       "...                              ...         ...        ...         ...  \n",
       "17503   POINT (-74.655514 40.110253)  -74.655514  40.110253  New Jersey  \n",
       "17504  POINT (-106.108388 34.421369) -106.108388  34.421369  New Mexico  \n",
       "17505  POINT (-114.916992 39.283294) -114.916992  39.283294      Nevada  \n",
       "17506    POINT (-75.59655 42.921241)  -75.596550  42.921241    New York  \n",
       "17507    POINT (-82.70936 40.415534)  -82.709360  40.415534        Ohio  \n",
       "\n",
       "[17508 rows x 44 columns]"
      ]
     },
     "execution_count": 21,
     "metadata": {},
     "output_type": "execute_result"
    }
   ],
   "source": [
    "sql4 = \"\"\"SELECT * FROM covidhospitaldata;\"\"\"\n",
    "dbConnection4 = psycopg2.connect(user = \"postgres\",password = \"aa\",host = \"localhost\",port = \"5432\",database = \"coviddb\")\n",
    "covidhospital_dataframe = sqlio.read_sql_query(sql4, dbConnection4)\n",
    "covidHospitalTableStrData = pd.DataFrame().from_dict(covidhospital_dataframe)\n",
    "covidHospitalTableStrData"
   ]
  },
  {
   "cell_type": "code",
   "execution_count": 22,
   "metadata": {},
   "outputs": [
    {
     "name": "stdout",
     "output_type": "stream",
     "text": [
      "state\n",
      "date\n",
      "critical_staffing_shortage_today_yes\n",
      "critical_staffing_shortage_today_no\n",
      "critical_staffing_shortage_today_not_reported\n",
      "critical_staffing_shortage_anticipated_within_week_yes\n",
      "critical_staffing_shortage_anticipated_within_week_no\n",
      "critical_staffing_shortage_anticipated_within_week_not_reported\n",
      "hospital_onset_covid\n",
      "hospital_onset_covid_coverage\n",
      "inpatient_beds\n",
      "inpatient_beds_coverage\n",
      "inpatient_beds_used\n",
      "inpatient_beds_used_coverage\n",
      "inpatient_beds_used_covid\n",
      "inpatient_beds_used_covid_coverage\n",
      "previous_day_admission_adult_covid_confirmed_coverage\n",
      "previous_day_admission_adult_covid_suspected_coverage\n",
      "previous_day_admission_pediatric_covid_confirmed_coverage\n",
      "previous_day_admission_pediatric_covid_suspected_coverage\n",
      "staffed_adult_icu_bed_occupancy_coverage\n",
      "staffed_icu_adult_patients_confirmed_and_suspected_covid_covera\n",
      "staffed_icu_adult_patients_confirmed_covid_coverage\n",
      "total_adult_patients_hospitalized_confirmed_and_suspected_covid\n",
      "total_adult_patients_hospitalized_confirmed_covid_coverage\n",
      "total_pediatric_patients_hospitalized_confirmed_and_suspected_c\n",
      "total_pediatric_patients_hospitalized_confirmed_covid_coverage\n",
      "total_staffed_adult_icu_beds_coverage\n",
      "inpatient_beds_utilization\n",
      "inpatient_beds_utilization_coverage\n",
      "inpatient_beds_utilization_numerator\n",
      "inpatient_beds_utilization_denominator\n",
      "percent_of_inpatients_with_covid\n",
      "percent_of_inpatients_with_covid_coverage\n",
      "percent_of_inpatients_with_covid_numerator\n",
      "percent_of_inpatients_with_covid_denominator\n",
      "inpatient_bed_covid_utilization\n",
      "inpatient_bed_covid_utilization_coverage\n",
      "inpatient_bed_covid_utilization_numerator\n",
      "inpatient_bed_covid_utilization_denominator\n",
      "geocoded_state\n",
      "latitude\n",
      "longitude\n",
      "state_desc\n"
     ]
    }
   ],
   "source": [
    "for column in covidHospitalTableStrData:\n",
    "     print(column)"
   ]
  },
  {
   "cell_type": "markdown",
   "metadata": {},
   "source": [
    "<a id=section6></a>\n",
    "## 6. Apply Joining and Lookup on Postgresql Database"
   ]
  },
  {
   "cell_type": "code",
   "execution_count": 23,
   "metadata": {},
   "outputs": [
    {
     "data": {
      "text/html": [
       "<div>\n",
       "<style scoped>\n",
       "    .dataframe tbody tr th:only-of-type {\n",
       "        vertical-align: middle;\n",
       "    }\n",
       "\n",
       "    .dataframe tbody tr th {\n",
       "        vertical-align: top;\n",
       "    }\n",
       "\n",
       "    .dataframe thead th {\n",
       "        text-align: right;\n",
       "    }\n",
       "</style>\n",
       "<table border=\"1\" class=\"dataframe\">\n",
       "  <thead>\n",
       "    <tr style=\"text-align: right;\">\n",
       "      <th></th>\n",
       "      <th>dataasof</th>\n",
       "      <th>startdate</th>\n",
       "      <th>enddate</th>\n",
       "      <th>groups</th>\n",
       "      <th>year</th>\n",
       "      <th>month</th>\n",
       "      <th>hhsregion</th>\n",
       "      <th>state</th>\n",
       "      <th>placeofdeath</th>\n",
       "      <th>agegroup</th>\n",
       "      <th>covid19deaths</th>\n",
       "      <th>totaldeaths</th>\n",
       "      <th>pneumoniadeaths</th>\n",
       "      <th>pneumoniaandcovid19deaths</th>\n",
       "      <th>influenzadeaths</th>\n",
       "      <th>pneumoniainfluenzaorcovid19deaths</th>\n",
       "    </tr>\n",
       "  </thead>\n",
       "  <tbody>\n",
       "    <tr>\n",
       "      <th>0</th>\n",
       "      <td>2021-03-24</td>\n",
       "      <td>2020-01-01</td>\n",
       "      <td>2021-03-20</td>\n",
       "      <td>By Total</td>\n",
       "      <td>2020</td>\n",
       "      <td>1</td>\n",
       "      <td>0</td>\n",
       "      <td>United States</td>\n",
       "      <td>Total - All Places of Death</td>\n",
       "      <td>All Ages</td>\n",
       "      <td>526027.0</td>\n",
       "      <td>4035809.0</td>\n",
       "      <td>453484.0</td>\n",
       "      <td>255848.0</td>\n",
       "      <td>9004.0</td>\n",
       "      <td>731429.0</td>\n",
       "    </tr>\n",
       "    <tr>\n",
       "      <th>1</th>\n",
       "      <td>2021-03-24</td>\n",
       "      <td>2020-01-01</td>\n",
       "      <td>2021-03-20</td>\n",
       "      <td>By Total</td>\n",
       "      <td>2020</td>\n",
       "      <td>1</td>\n",
       "      <td>0</td>\n",
       "      <td>United States</td>\n",
       "      <td>Total - All Places of Death</td>\n",
       "      <td>0-17 years</td>\n",
       "      <td>238.0</td>\n",
       "      <td>38250.0</td>\n",
       "      <td>646.0</td>\n",
       "      <td>44.0</td>\n",
       "      <td>179.0</td>\n",
       "      <td>1019.0</td>\n",
       "    </tr>\n",
       "    <tr>\n",
       "      <th>2</th>\n",
       "      <td>2021-03-24</td>\n",
       "      <td>2020-01-01</td>\n",
       "      <td>2021-03-20</td>\n",
       "      <td>By Total</td>\n",
       "      <td>2020</td>\n",
       "      <td>1</td>\n",
       "      <td>0</td>\n",
       "      <td>United States</td>\n",
       "      <td>Total - All Places of Death</td>\n",
       "      <td>18-29 years</td>\n",
       "      <td>1916.0</td>\n",
       "      <td>72834.0</td>\n",
       "      <td>2109.0</td>\n",
       "      <td>850.0</td>\n",
       "      <td>150.0</td>\n",
       "      <td>3313.0</td>\n",
       "    </tr>\n",
       "    <tr>\n",
       "      <th>3</th>\n",
       "      <td>2021-03-24</td>\n",
       "      <td>2020-01-01</td>\n",
       "      <td>2021-03-20</td>\n",
       "      <td>By Total</td>\n",
       "      <td>2020</td>\n",
       "      <td>1</td>\n",
       "      <td>0</td>\n",
       "      <td>United States</td>\n",
       "      <td>Total - All Places of Death</td>\n",
       "      <td>30-39 years</td>\n",
       "      <td>5583.0</td>\n",
       "      <td>103647.0</td>\n",
       "      <td>5088.0</td>\n",
       "      <td>2561.0</td>\n",
       "      <td>318.0</td>\n",
       "      <td>8406.0</td>\n",
       "    </tr>\n",
       "    <tr>\n",
       "      <th>4</th>\n",
       "      <td>2021-03-24</td>\n",
       "      <td>2020-01-01</td>\n",
       "      <td>2021-03-20</td>\n",
       "      <td>By Total</td>\n",
       "      <td>2020</td>\n",
       "      <td>1</td>\n",
       "      <td>0</td>\n",
       "      <td>United States</td>\n",
       "      <td>Total - All Places of Death</td>\n",
       "      <td>40-49 years</td>\n",
       "      <td>15134.0</td>\n",
       "      <td>156430.0</td>\n",
       "      <td>12934.0</td>\n",
       "      <td>7445.0</td>\n",
       "      <td>494.0</td>\n",
       "      <td>21048.0</td>\n",
       "    </tr>\n",
       "  </tbody>\n",
       "</table>\n",
       "</div>"
      ],
      "text/plain": [
       "     dataasof   startdate     enddate    groups  year  month  hhsregion  \\\n",
       "0  2021-03-24  2020-01-01  2021-03-20  By Total  2020      1          0   \n",
       "1  2021-03-24  2020-01-01  2021-03-20  By Total  2020      1          0   \n",
       "2  2021-03-24  2020-01-01  2021-03-20  By Total  2020      1          0   \n",
       "3  2021-03-24  2020-01-01  2021-03-20  By Total  2020      1          0   \n",
       "4  2021-03-24  2020-01-01  2021-03-20  By Total  2020      1          0   \n",
       "\n",
       "           state                 placeofdeath     agegroup  covid19deaths  \\\n",
       "0  United States  Total - All Places of Death     All Ages       526027.0   \n",
       "1  United States  Total - All Places of Death   0-17 years          238.0   \n",
       "2  United States  Total - All Places of Death  18-29 years         1916.0   \n",
       "3  United States  Total - All Places of Death  30-39 years         5583.0   \n",
       "4  United States  Total - All Places of Death  40-49 years        15134.0   \n",
       "\n",
       "   totaldeaths  pneumoniadeaths  pneumoniaandcovid19deaths  influenzadeaths  \\\n",
       "0    4035809.0         453484.0                   255848.0           9004.0   \n",
       "1      38250.0            646.0                       44.0            179.0   \n",
       "2      72834.0           2109.0                      850.0            150.0   \n",
       "3     103647.0           5088.0                     2561.0            318.0   \n",
       "4     156430.0          12934.0                     7445.0            494.0   \n",
       "\n",
       "   pneumoniainfluenzaorcovid19deaths  \n",
       "0                           731429.0  \n",
       "1                             1019.0  \n",
       "2                             3313.0  \n",
       "3                             8406.0  \n",
       "4                            21048.0  "
      ]
     },
     "metadata": {},
     "output_type": "display_data"
    },
    {
     "data": {
      "text/html": [
       "<div>\n",
       "<style scoped>\n",
       "    .dataframe tbody tr th:only-of-type {\n",
       "        vertical-align: middle;\n",
       "    }\n",
       "\n",
       "    .dataframe tbody tr th {\n",
       "        vertical-align: top;\n",
       "    }\n",
       "\n",
       "    .dataframe thead th {\n",
       "        text-align: right;\n",
       "    }\n",
       "</style>\n",
       "<table border=\"1\" class=\"dataframe\">\n",
       "  <thead>\n",
       "    <tr style=\"text-align: right;\">\n",
       "      <th></th>\n",
       "      <th>indicator</th>\n",
       "      <th>groups</th>\n",
       "      <th>state</th>\n",
       "      <th>subgroup</th>\n",
       "      <th>phase</th>\n",
       "      <th>timeperiod</th>\n",
       "      <th>timeperiodlabel</th>\n",
       "      <th>timeperiodstartdate</th>\n",
       "      <th>timeperiodenddate</th>\n",
       "      <th>value</th>\n",
       "      <th>lowci</th>\n",
       "      <th>highci</th>\n",
       "      <th>confidenceinterval</th>\n",
       "      <th>quartilerange</th>\n",
       "    </tr>\n",
       "  </thead>\n",
       "  <tbody>\n",
       "    <tr>\n",
       "      <th>0</th>\n",
       "      <td>Symptoms of Depressive Disorder</td>\n",
       "      <td>National Estimate</td>\n",
       "      <td>United States</td>\n",
       "      <td>United States</td>\n",
       "      <td>1</td>\n",
       "      <td>1.0</td>\n",
       "      <td>Apr 23 - May 5</td>\n",
       "      <td>2020-04-23</td>\n",
       "      <td>2020-05-05</td>\n",
       "      <td>23.5</td>\n",
       "      <td>22.7</td>\n",
       "      <td>24.3</td>\n",
       "      <td>23.50</td>\n",
       "      <td>27.85</td>\n",
       "    </tr>\n",
       "    <tr>\n",
       "      <th>1</th>\n",
       "      <td>Symptoms of Depressive Disorder</td>\n",
       "      <td>By Age</td>\n",
       "      <td>United States</td>\n",
       "      <td>18 - 29 years</td>\n",
       "      <td>1</td>\n",
       "      <td>1.0</td>\n",
       "      <td>Apr 23 - May 5</td>\n",
       "      <td>2020-04-23</td>\n",
       "      <td>2020-05-05</td>\n",
       "      <td>32.7</td>\n",
       "      <td>30.2</td>\n",
       "      <td>35.2</td>\n",
       "      <td>32.70</td>\n",
       "      <td>27.85</td>\n",
       "    </tr>\n",
       "    <tr>\n",
       "      <th>2</th>\n",
       "      <td>Symptoms of Depressive Disorder</td>\n",
       "      <td>By Age</td>\n",
       "      <td>United States</td>\n",
       "      <td>30 - 39 years</td>\n",
       "      <td>1</td>\n",
       "      <td>1.0</td>\n",
       "      <td>Apr 23 - May 5</td>\n",
       "      <td>2020-04-23</td>\n",
       "      <td>2020-05-05</td>\n",
       "      <td>25.7</td>\n",
       "      <td>24.1</td>\n",
       "      <td>27.3</td>\n",
       "      <td>25.70</td>\n",
       "      <td>27.85</td>\n",
       "    </tr>\n",
       "    <tr>\n",
       "      <th>3</th>\n",
       "      <td>Symptoms of Depressive Disorder</td>\n",
       "      <td>By Age</td>\n",
       "      <td>United States</td>\n",
       "      <td>40 - 49 years</td>\n",
       "      <td>1</td>\n",
       "      <td>1.0</td>\n",
       "      <td>Apr 23 - May 5</td>\n",
       "      <td>2020-04-23</td>\n",
       "      <td>2020-05-05</td>\n",
       "      <td>24.8</td>\n",
       "      <td>23.3</td>\n",
       "      <td>26.2</td>\n",
       "      <td>24.75</td>\n",
       "      <td>27.85</td>\n",
       "    </tr>\n",
       "    <tr>\n",
       "      <th>4</th>\n",
       "      <td>Symptoms of Depressive Disorder</td>\n",
       "      <td>By Age</td>\n",
       "      <td>United States</td>\n",
       "      <td>50 - 59 years</td>\n",
       "      <td>1</td>\n",
       "      <td>1.0</td>\n",
       "      <td>Apr 23 - May 5</td>\n",
       "      <td>2020-04-23</td>\n",
       "      <td>2020-05-05</td>\n",
       "      <td>23.2</td>\n",
       "      <td>21.5</td>\n",
       "      <td>25.0</td>\n",
       "      <td>23.25</td>\n",
       "      <td>27.85</td>\n",
       "    </tr>\n",
       "  </tbody>\n",
       "</table>\n",
       "</div>"
      ],
      "text/plain": [
       "                         indicator             groups          state  \\\n",
       "0  Symptoms of Depressive Disorder  National Estimate  United States   \n",
       "1  Symptoms of Depressive Disorder             By Age  United States   \n",
       "2  Symptoms of Depressive Disorder             By Age  United States   \n",
       "3  Symptoms of Depressive Disorder             By Age  United States   \n",
       "4  Symptoms of Depressive Disorder             By Age  United States   \n",
       "\n",
       "        subgroup phase  timeperiod timeperiodlabel timeperiodstartdate  \\\n",
       "0  United States     1         1.0  Apr 23 - May 5          2020-04-23   \n",
       "1  18 - 29 years     1         1.0  Apr 23 - May 5          2020-04-23   \n",
       "2  30 - 39 years     1         1.0  Apr 23 - May 5          2020-04-23   \n",
       "3  40 - 49 years     1         1.0  Apr 23 - May 5          2020-04-23   \n",
       "4  50 - 59 years     1         1.0  Apr 23 - May 5          2020-04-23   \n",
       "\n",
       "  timeperiodenddate  value  lowci  highci  confidenceinterval  quartilerange  \n",
       "0        2020-05-05   23.5   22.7    24.3               23.50          27.85  \n",
       "1        2020-05-05   32.7   30.2    35.2               32.70          27.85  \n",
       "2        2020-05-05   25.7   24.1    27.3               25.70          27.85  \n",
       "3        2020-05-05   24.8   23.3    26.2               24.75          27.85  \n",
       "4        2020-05-05   23.2   21.5    25.0               23.25          27.85  "
      ]
     },
     "metadata": {},
     "output_type": "display_data"
    },
    {
     "data": {
      "text/html": [
       "<div>\n",
       "<style scoped>\n",
       "    .dataframe tbody tr th:only-of-type {\n",
       "        vertical-align: middle;\n",
       "    }\n",
       "\n",
       "    .dataframe tbody tr th {\n",
       "        vertical-align: top;\n",
       "    }\n",
       "\n",
       "    .dataframe thead th {\n",
       "        text-align: right;\n",
       "    }\n",
       "</style>\n",
       "<table border=\"1\" class=\"dataframe\">\n",
       "  <thead>\n",
       "    <tr style=\"text-align: right;\">\n",
       "      <th></th>\n",
       "      <th>weekending</th>\n",
       "      <th>providername</th>\n",
       "      <th>providercity</th>\n",
       "      <th>residentstotaladmissionscovid19</th>\n",
       "      <th>residentstotalconfirmedcovid19</th>\n",
       "      <th>residentstotalsuspectedcovid19</th>\n",
       "      <th>residentsweeklyalldeaths</th>\n",
       "      <th>residentstotalalldeaths</th>\n",
       "      <th>residentstotalcovid19deaths</th>\n",
       "      <th>numberofallbeds</th>\n",
       "      <th>...</th>\n",
       "      <th>oneweeksupplyofn95masks</th>\n",
       "      <th>anycurrentsupplyofsurgicalmasks</th>\n",
       "      <th>oneweeksupplyofsurgicalmasks</th>\n",
       "      <th>anycurrentsupplyofeyeprotection</th>\n",
       "      <th>oneweeksupplyofeyeprotection</th>\n",
       "      <th>oneweeksupplyofgowns</th>\n",
       "      <th>anycurrentsupplyofhandsanitizer</th>\n",
       "      <th>threeormoreconfirmedcovid19casesthisweekorinitialconfirmedcovid</th>\n",
       "      <th>abletotestorobtainresourcestotestallcurrentresidentswithinnext7</th>\n",
       "      <th>abletotestorobtainresourcestotestallstaffandorpersonnelwithinne</th>\n",
       "    </tr>\n",
       "  </thead>\n",
       "  <tbody>\n",
       "    <tr>\n",
       "      <th>0</th>\n",
       "      <td>2020-05-24</td>\n",
       "      <td>NORTHBRIDGE HEALTH CARE CENTER</td>\n",
       "      <td>BRIDGEPORT</td>\n",
       "      <td>25</td>\n",
       "      <td>0</td>\n",
       "      <td>0</td>\n",
       "      <td>0</td>\n",
       "      <td>0</td>\n",
       "      <td>0</td>\n",
       "      <td>0</td>\n",
       "      <td>...</td>\n",
       "      <td>Y</td>\n",
       "      <td>Y</td>\n",
       "      <td>Y</td>\n",
       "      <td>Y</td>\n",
       "      <td>Y</td>\n",
       "      <td>Y</td>\n",
       "      <td>Y</td>\n",
       "      <td>N</td>\n",
       "      <td>Y</td>\n",
       "      <td>Y</td>\n",
       "    </tr>\n",
       "    <tr>\n",
       "      <th>1</th>\n",
       "      <td>2020-05-24</td>\n",
       "      <td>ORCHARD GROVE SPECIALTY CARE CENTER, LLC</td>\n",
       "      <td>UNCASVILLE</td>\n",
       "      <td>6</td>\n",
       "      <td>28</td>\n",
       "      <td>3</td>\n",
       "      <td>0</td>\n",
       "      <td>19</td>\n",
       "      <td>7</td>\n",
       "      <td>120</td>\n",
       "      <td>...</td>\n",
       "      <td>Y</td>\n",
       "      <td>Y</td>\n",
       "      <td>Y</td>\n",
       "      <td>Y</td>\n",
       "      <td>Y</td>\n",
       "      <td>Y</td>\n",
       "      <td>Y</td>\n",
       "      <td>N</td>\n",
       "      <td>Y</td>\n",
       "      <td>Y</td>\n",
       "    </tr>\n",
       "    <tr>\n",
       "      <th>2</th>\n",
       "      <td>2020-07-19</td>\n",
       "      <td>WATROUS NURSING CENTER</td>\n",
       "      <td>MADISON</td>\n",
       "      <td>0</td>\n",
       "      <td>1</td>\n",
       "      <td>1</td>\n",
       "      <td>0</td>\n",
       "      <td>0</td>\n",
       "      <td>0</td>\n",
       "      <td>45</td>\n",
       "      <td>...</td>\n",
       "      <td>Y</td>\n",
       "      <td>Y</td>\n",
       "      <td>Y</td>\n",
       "      <td>Y</td>\n",
       "      <td>Y</td>\n",
       "      <td>Y</td>\n",
       "      <td>Y</td>\n",
       "      <td>N</td>\n",
       "      <td>Y</td>\n",
       "      <td>Y</td>\n",
       "    </tr>\n",
       "    <tr>\n",
       "      <th>3</th>\n",
       "      <td>2020-06-28</td>\n",
       "      <td>APPLE REHAB SHELTON LAKES</td>\n",
       "      <td>SHELTON</td>\n",
       "      <td>1</td>\n",
       "      <td>0</td>\n",
       "      <td>0</td>\n",
       "      <td>1</td>\n",
       "      <td>2</td>\n",
       "      <td>0</td>\n",
       "      <td>106</td>\n",
       "      <td>...</td>\n",
       "      <td>Y</td>\n",
       "      <td>Y</td>\n",
       "      <td>Y</td>\n",
       "      <td>Y</td>\n",
       "      <td>Y</td>\n",
       "      <td>Y</td>\n",
       "      <td>Y</td>\n",
       "      <td>N</td>\n",
       "      <td>Y</td>\n",
       "      <td>Y</td>\n",
       "    </tr>\n",
       "    <tr>\n",
       "      <th>4</th>\n",
       "      <td>2020-09-13</td>\n",
       "      <td>REGALCARE AT GREENWICH</td>\n",
       "      <td>GREENWICH</td>\n",
       "      <td>11</td>\n",
       "      <td>12</td>\n",
       "      <td>0</td>\n",
       "      <td>0</td>\n",
       "      <td>28</td>\n",
       "      <td>14</td>\n",
       "      <td>75</td>\n",
       "      <td>...</td>\n",
       "      <td>Y</td>\n",
       "      <td>Y</td>\n",
       "      <td>Y</td>\n",
       "      <td>Y</td>\n",
       "      <td>Y</td>\n",
       "      <td>Y</td>\n",
       "      <td>Y</td>\n",
       "      <td>N</td>\n",
       "      <td>Y</td>\n",
       "      <td>Y</td>\n",
       "    </tr>\n",
       "  </tbody>\n",
       "</table>\n",
       "<p>5 rows × 31 columns</p>\n",
       "</div>"
      ],
      "text/plain": [
       "   weekending                              providername providercity  \\\n",
       "0  2020-05-24            NORTHBRIDGE HEALTH CARE CENTER   BRIDGEPORT   \n",
       "1  2020-05-24  ORCHARD GROVE SPECIALTY CARE CENTER, LLC   UNCASVILLE   \n",
       "2  2020-07-19                    WATROUS NURSING CENTER      MADISON   \n",
       "3  2020-06-28                 APPLE REHAB SHELTON LAKES      SHELTON   \n",
       "4  2020-09-13                    REGALCARE AT GREENWICH    GREENWICH   \n",
       "\n",
       "   residentstotaladmissionscovid19  residentstotalconfirmedcovid19  \\\n",
       "0                               25                               0   \n",
       "1                                6                              28   \n",
       "2                                0                               1   \n",
       "3                                1                               0   \n",
       "4                               11                              12   \n",
       "\n",
       "   residentstotalsuspectedcovid19  residentsweeklyalldeaths  \\\n",
       "0                               0                         0   \n",
       "1                               3                         0   \n",
       "2                               1                         0   \n",
       "3                               0                         1   \n",
       "4                               0                         0   \n",
       "\n",
       "   residentstotalalldeaths  residentstotalcovid19deaths  numberofallbeds  ...  \\\n",
       "0                        0                            0                0  ...   \n",
       "1                       19                            7              120  ...   \n",
       "2                        0                            0               45  ...   \n",
       "3                        2                            0              106  ...   \n",
       "4                       28                           14               75  ...   \n",
       "\n",
       "   oneweeksupplyofn95masks  anycurrentsupplyofsurgicalmasks  \\\n",
       "0                        Y                                Y   \n",
       "1                        Y                                Y   \n",
       "2                        Y                                Y   \n",
       "3                        Y                                Y   \n",
       "4                        Y                                Y   \n",
       "\n",
       "   oneweeksupplyofsurgicalmasks  anycurrentsupplyofeyeprotection  \\\n",
       "0                             Y                                Y   \n",
       "1                             Y                                Y   \n",
       "2                             Y                                Y   \n",
       "3                             Y                                Y   \n",
       "4                             Y                                Y   \n",
       "\n",
       "   oneweeksupplyofeyeprotection oneweeksupplyofgowns  \\\n",
       "0                             Y                    Y   \n",
       "1                             Y                    Y   \n",
       "2                             Y                    Y   \n",
       "3                             Y                    Y   \n",
       "4                             Y                    Y   \n",
       "\n",
       "  anycurrentsupplyofhandsanitizer  \\\n",
       "0                               Y   \n",
       "1                               Y   \n",
       "2                               Y   \n",
       "3                               Y   \n",
       "4                               Y   \n",
       "\n",
       "  threeormoreconfirmedcovid19casesthisweekorinitialconfirmedcovid  \\\n",
       "0                                                  N                \n",
       "1                                                  N                \n",
       "2                                                  N                \n",
       "3                                                  N                \n",
       "4                                                  N                \n",
       "\n",
       "  abletotestorobtainresourcestotestallcurrentresidentswithinnext7  \\\n",
       "0                                                  Y                \n",
       "1                                                  Y                \n",
       "2                                                  Y                \n",
       "3                                                  Y                \n",
       "4                                                  Y                \n",
       "\n",
       "  abletotestorobtainresourcestotestallstaffandorpersonnelwithinne  \n",
       "0                                                  Y               \n",
       "1                                                  Y               \n",
       "2                                                  Y               \n",
       "3                                                  Y               \n",
       "4                                                  Y               \n",
       "\n",
       "[5 rows x 31 columns]"
      ]
     },
     "metadata": {},
     "output_type": "display_data"
    },
    {
     "data": {
      "text/html": [
       "<div>\n",
       "<style scoped>\n",
       "    .dataframe tbody tr th:only-of-type {\n",
       "        vertical-align: middle;\n",
       "    }\n",
       "\n",
       "    .dataframe tbody tr th {\n",
       "        vertical-align: top;\n",
       "    }\n",
       "\n",
       "    .dataframe thead th {\n",
       "        text-align: right;\n",
       "    }\n",
       "</style>\n",
       "<table border=\"1\" class=\"dataframe\">\n",
       "  <thead>\n",
       "    <tr style=\"text-align: right;\">\n",
       "      <th></th>\n",
       "      <th>state</th>\n",
       "      <th>date</th>\n",
       "      <th>critical_staffing_shortage_today_yes</th>\n",
       "      <th>critical_staffing_shortage_today_no</th>\n",
       "      <th>critical_staffing_shortage_today_not_reported</th>\n",
       "      <th>critical_staffing_shortage_anticipated_within_week_yes</th>\n",
       "      <th>critical_staffing_shortage_anticipated_within_week_no</th>\n",
       "      <th>critical_staffing_shortage_anticipated_within_week_not_reported</th>\n",
       "      <th>hospital_onset_covid</th>\n",
       "      <th>hospital_onset_covid_coverage</th>\n",
       "      <th>...</th>\n",
       "      <th>percent_of_inpatients_with_covid_numerator</th>\n",
       "      <th>percent_of_inpatients_with_covid_denominator</th>\n",
       "      <th>inpatient_bed_covid_utilization</th>\n",
       "      <th>inpatient_bed_covid_utilization_coverage</th>\n",
       "      <th>inpatient_bed_covid_utilization_numerator</th>\n",
       "      <th>inpatient_bed_covid_utilization_denominator</th>\n",
       "      <th>geocoded_state</th>\n",
       "      <th>latitude</th>\n",
       "      <th>longitude</th>\n",
       "      <th>state_desc</th>\n",
       "    </tr>\n",
       "  </thead>\n",
       "  <tbody>\n",
       "    <tr>\n",
       "      <th>0</th>\n",
       "      <td>IA</td>\n",
       "      <td>2021-01-03</td>\n",
       "      <td>6.0</td>\n",
       "      <td>63.0</td>\n",
       "      <td>57.0</td>\n",
       "      <td>6.0</td>\n",
       "      <td>62.0</td>\n",
       "      <td>58.0</td>\n",
       "      <td>2.0</td>\n",
       "      <td>124.0</td>\n",
       "      <td>...</td>\n",
       "      <td>594.0</td>\n",
       "      <td>4531.0</td>\n",
       "      <td>0.074028</td>\n",
       "      <td>124.0</td>\n",
       "      <td>594.0</td>\n",
       "      <td>8024.0</td>\n",
       "      <td>POINT (-93.500061 42.074659)</td>\n",
       "      <td>-93.500061</td>\n",
       "      <td>42.074659</td>\n",
       "      <td>Iowa</td>\n",
       "    </tr>\n",
       "    <tr>\n",
       "      <th>1</th>\n",
       "      <td>ID</td>\n",
       "      <td>2021-01-03</td>\n",
       "      <td>4.0</td>\n",
       "      <td>47.0</td>\n",
       "      <td>1.0</td>\n",
       "      <td>7.0</td>\n",
       "      <td>44.0</td>\n",
       "      <td>1.0</td>\n",
       "      <td>5.0</td>\n",
       "      <td>51.0</td>\n",
       "      <td>...</td>\n",
       "      <td>356.0</td>\n",
       "      <td>1941.0</td>\n",
       "      <td>0.097695</td>\n",
       "      <td>51.0</td>\n",
       "      <td>356.0</td>\n",
       "      <td>3644.0</td>\n",
       "      <td>POINT (-114.659366 44.389073)</td>\n",
       "      <td>-114.659366</td>\n",
       "      <td>44.389073</td>\n",
       "      <td>Idaho</td>\n",
       "    </tr>\n",
       "    <tr>\n",
       "      <th>2</th>\n",
       "      <td>IL</td>\n",
       "      <td>2021-01-03</td>\n",
       "      <td>19.0</td>\n",
       "      <td>171.0</td>\n",
       "      <td>17.0</td>\n",
       "      <td>17.0</td>\n",
       "      <td>173.0</td>\n",
       "      <td>17.0</td>\n",
       "      <td>73.0</td>\n",
       "      <td>202.0</td>\n",
       "      <td>...</td>\n",
       "      <td>4031.0</td>\n",
       "      <td>20611.0</td>\n",
       "      <td>0.125659</td>\n",
       "      <td>202.0</td>\n",
       "      <td>4031.0</td>\n",
       "      <td>32079.0</td>\n",
       "      <td>POINT (-89.148632 40.124144)</td>\n",
       "      <td>-89.148632</td>\n",
       "      <td>40.124144</td>\n",
       "      <td>Illinois</td>\n",
       "    </tr>\n",
       "    <tr>\n",
       "      <th>3</th>\n",
       "      <td>IN</td>\n",
       "      <td>2021-01-03</td>\n",
       "      <td>22.0</td>\n",
       "      <td>142.0</td>\n",
       "      <td>2.0</td>\n",
       "      <td>29.0</td>\n",
       "      <td>135.0</td>\n",
       "      <td>2.0</td>\n",
       "      <td>9.0</td>\n",
       "      <td>164.0</td>\n",
       "      <td>...</td>\n",
       "      <td>2817.0</td>\n",
       "      <td>11444.0</td>\n",
       "      <td>0.152633</td>\n",
       "      <td>164.0</td>\n",
       "      <td>2817.0</td>\n",
       "      <td>18456.0</td>\n",
       "      <td>POINT (-86.2818 39.919991)</td>\n",
       "      <td>-86.281800</td>\n",
       "      <td>39.919991</td>\n",
       "      <td>Indiana</td>\n",
       "    </tr>\n",
       "    <tr>\n",
       "      <th>4</th>\n",
       "      <td>KS</td>\n",
       "      <td>2021-01-03</td>\n",
       "      <td>10.0</td>\n",
       "      <td>136.0</td>\n",
       "      <td>4.0</td>\n",
       "      <td>13.0</td>\n",
       "      <td>133.0</td>\n",
       "      <td>4.0</td>\n",
       "      <td>14.0</td>\n",
       "      <td>147.0</td>\n",
       "      <td>...</td>\n",
       "      <td>1042.0</td>\n",
       "      <td>4940.0</td>\n",
       "      <td>0.119249</td>\n",
       "      <td>147.0</td>\n",
       "      <td>1042.0</td>\n",
       "      <td>8738.0</td>\n",
       "      <td>POINT (-98.38018 38.484729)</td>\n",
       "      <td>-98.380180</td>\n",
       "      <td>38.484729</td>\n",
       "      <td>Kansas</td>\n",
       "    </tr>\n",
       "  </tbody>\n",
       "</table>\n",
       "<p>5 rows × 44 columns</p>\n",
       "</div>"
      ],
      "text/plain": [
       "  state        date  critical_staffing_shortage_today_yes  \\\n",
       "0    IA  2021-01-03                                   6.0   \n",
       "1    ID  2021-01-03                                   4.0   \n",
       "2    IL  2021-01-03                                  19.0   \n",
       "3    IN  2021-01-03                                  22.0   \n",
       "4    KS  2021-01-03                                  10.0   \n",
       "\n",
       "   critical_staffing_shortage_today_no  \\\n",
       "0                                 63.0   \n",
       "1                                 47.0   \n",
       "2                                171.0   \n",
       "3                                142.0   \n",
       "4                                136.0   \n",
       "\n",
       "   critical_staffing_shortage_today_not_reported  \\\n",
       "0                                           57.0   \n",
       "1                                            1.0   \n",
       "2                                           17.0   \n",
       "3                                            2.0   \n",
       "4                                            4.0   \n",
       "\n",
       "   critical_staffing_shortage_anticipated_within_week_yes  \\\n",
       "0                                                6.0        \n",
       "1                                                7.0        \n",
       "2                                               17.0        \n",
       "3                                               29.0        \n",
       "4                                               13.0        \n",
       "\n",
       "   critical_staffing_shortage_anticipated_within_week_no  \\\n",
       "0                                               62.0       \n",
       "1                                               44.0       \n",
       "2                                              173.0       \n",
       "3                                              135.0       \n",
       "4                                              133.0       \n",
       "\n",
       "   critical_staffing_shortage_anticipated_within_week_not_reported  \\\n",
       "0                                               58.0                 \n",
       "1                                                1.0                 \n",
       "2                                               17.0                 \n",
       "3                                                2.0                 \n",
       "4                                                4.0                 \n",
       "\n",
       "   hospital_onset_covid  hospital_onset_covid_coverage  ...  \\\n",
       "0                   2.0                          124.0  ...   \n",
       "1                   5.0                           51.0  ...   \n",
       "2                  73.0                          202.0  ...   \n",
       "3                   9.0                          164.0  ...   \n",
       "4                  14.0                          147.0  ...   \n",
       "\n",
       "   percent_of_inpatients_with_covid_numerator  \\\n",
       "0                                       594.0   \n",
       "1                                       356.0   \n",
       "2                                      4031.0   \n",
       "3                                      2817.0   \n",
       "4                                      1042.0   \n",
       "\n",
       "   percent_of_inpatients_with_covid_denominator  \\\n",
       "0                                        4531.0   \n",
       "1                                        1941.0   \n",
       "2                                       20611.0   \n",
       "3                                       11444.0   \n",
       "4                                        4940.0   \n",
       "\n",
       "   inpatient_bed_covid_utilization  inpatient_bed_covid_utilization_coverage  \\\n",
       "0                         0.074028                                     124.0   \n",
       "1                         0.097695                                      51.0   \n",
       "2                         0.125659                                     202.0   \n",
       "3                         0.152633                                     164.0   \n",
       "4                         0.119249                                     147.0   \n",
       "\n",
       "   inpatient_bed_covid_utilization_numerator  \\\n",
       "0                                      594.0   \n",
       "1                                      356.0   \n",
       "2                                     4031.0   \n",
       "3                                     2817.0   \n",
       "4                                     1042.0   \n",
       "\n",
       "   inpatient_bed_covid_utilization_denominator                 geocoded_state  \\\n",
       "0                                       8024.0   POINT (-93.500061 42.074659)   \n",
       "1                                       3644.0  POINT (-114.659366 44.389073)   \n",
       "2                                      32079.0   POINT (-89.148632 40.124144)   \n",
       "3                                      18456.0     POINT (-86.2818 39.919991)   \n",
       "4                                       8738.0    POINT (-98.38018 38.484729)   \n",
       "\n",
       "     latitude  longitude  state_desc  \n",
       "0  -93.500061  42.074659        Iowa  \n",
       "1 -114.659366  44.389073       Idaho  \n",
       "2  -89.148632  40.124144    Illinois  \n",
       "3  -86.281800  39.919991     Indiana  \n",
       "4  -98.380180  38.484729      Kansas  \n",
       "\n",
       "[5 rows x 44 columns]"
      ]
     },
     "metadata": {},
     "output_type": "display_data"
    }
   ],
   "source": [
    "display(covidTableStrData.head(), mentalStateTableStrData.head(), nursingTableStrData.head(), covidHospitalTableStrData.head())"
   ]
  },
  {
   "cell_type": "code",
   "execution_count": null,
   "metadata": {},
   "outputs": [],
   "source": [
    "# sql5 = \"\"\" select * from\n",
    "# (\n",
    "# select cd.enddate, cd.state,  sum(cd.totaldeaths) as TotalDeaths, sum(cd.covid19deaths) as CovidDeaths, sum(cd.pneumoniadeaths) as PneumoniaDeaths, sum(cd.pneumoniaandcovid19deaths) as PneumoniaandCovidDeaths, sum(cd.influenzadeaths) as InfluenzaDeaths , sum(cd.pneumoniainfluenzaorcovid19deaths)as PICDeaths \n",
    "# from coviddata cd\n",
    "# group by  cd.enddate,cd.state)a\n",
    "\n",
    "# join\n",
    "# (\n",
    "# select ms.state, ms.indicator, sum(ms.confidenceinterval) as ConfidenceInterval, sum(ms.quartilerange) as QuartileRange from mentalstatedata ms\n",
    "# group by ms.state, ms.indicator\n",
    "# ) b on a.state = b.state \n",
    "\n",
    "# join\n",
    "# (select state_desc, sum(critical_staffing_shortage_today_yes) as StaffShortage, sum(critical_staffing_shortage_today_no)as NoStaffShortage , sum(hospital_onset_covid_coverage) as hospital_onset_covid_coverage, sum(inpatient_beds_used_coverage)as inpatient_beds_used_coverage,  sum(inpatient_beds_used_covid) as inpatient_beds_used_covid\n",
    "#  from covidhospitaldata \n",
    "# group by state_desc)d on d.state_desc = a.state\n",
    "\n",
    "# left join\n",
    "\n",
    "# (select weekending, sum(residentstotalalldeaths) as ResidentTotalDeath, sum(residentstotalcovid19deaths)as ResidentTotalCovidDeaths , sum(stafftotalconfirmedcovid19) as TotalConfirmedCovid19, sum(stafftotalsuspectedcovid19)as StaffSuspectedCovid,  sum(numberofallbeds) as Numberofallbeds, sum(totalnumberofoccupiedbeds) as TotalOccupiedBeds\n",
    "#  from nursingdata \n",
    "#  group by weekending)c on a.enddate = c.weekending and a.state = 'Connecticut'; \"\"\"\n",
    "# dbConnection5 = psycopg2.connect(user = \"postgres\",password = \"aa\",host = \"localhost\",port = \"5432\",database = \"coviddb\")\n",
    "# covidDataFrame = sqlio.read_sql_query(sql5, dbConnection5)\n",
    "# covidTableStrData = pd.DataFrame().from_dict(covidDataFrame)\n",
    "# covidTableStrData"
   ]
  },
  {
   "cell_type": "code",
   "execution_count": 24,
   "metadata": {},
   "outputs": [],
   "source": [
    "sql5 = \"\"\" SELECT * FROM \n",
    "(SELECT \n",
    " enddate,\n",
    " groups,\n",
    " state,\n",
    " placeofdeath,\n",
    " AgeGroup,\n",
    " SUM(covid19deaths) covid19deaths,\n",
    " SUM(totaldeaths) totaldeaths,\n",
    " SUM(pneumoniadeaths) pneumoniadeaths,\n",
    " SUM(pneumoniaandcovid19deaths) pneumoniaandcovid19deaths,\n",
    " SUM(influenzadeaths) influenzadeaths,\n",
    " SUM(pneumoniainfluenzaorcovid19deaths) pneumoniainfluenzaorcovid19deaths\n",
    " from public.coviddata\n",
    " where AgeGroup='All Ages'\n",
    " and placeofdeath='Total - All Places of Death'\n",
    " and groups='By Month'\n",
    " group by\n",
    "  enddate,\n",
    " groups,\n",
    " state,\n",
    " placeofdeath,\n",
    " AgeGroup) COVID\n",
    " \n",
    " LEFT OUTER JOIN\n",
    " \n",
    " (SELECT \n",
    " indicator, \n",
    " groups, \n",
    " subgroup, \n",
    " timeperiodenddate, \n",
    " SUM(value) as value, \n",
    " SUM(lowci) lowci, \n",
    " SUM(highci) highci, \n",
    " SUM(confidenceinterval) confidenceinterval, \n",
    " SUM(quartilerange) quartilerange\n",
    " from public.mentalstatedata\n",
    " where indicator='Symptoms of Anxiety Disorder or Depressive Disorder'\n",
    "  and groups='By State'\n",
    "  group by \n",
    "   indicator, \n",
    " groups, \n",
    " subgroup, \n",
    " timeperiodenddate ) MENTAL\n",
    " \n",
    " ON MENTAL.subgroup=COVID.state AND MENTAL.timeperiodenddate=COVID.enddate\n",
    "\n",
    " JOIN\n",
    "\n",
    "(SELECT\n",
    "state_desc,\n",
    "date,\n",
    "sum(critical_staffing_shortage_today_yes) critical_staffing_shortage_today_yes,\n",
    "sum(critical_staffing_shortage_today_no) critical_staffing_shortage_today_no,\n",
    "sum(critical_staffing_shortage_today_not_reported) critical_staffing_shortage_today_not_reported,\n",
    "sum(hospital_onset_covid) hospital_onset_covid,\n",
    "sum(hospital_onset_covid_coverage) hospital_onset_covid_coverage,\n",
    "sum(inpatient_beds) inpatient_beds,\n",
    "sum(inpatient_beds_coverage) inpatient_beds_coverage,\n",
    "sum(inpatient_beds_used) inpatient_beds_used,\n",
    "sum(inpatient_beds_used_coverage) inpatient_beds_used_coverage,\n",
    "sum(inpatient_beds_used_covid) inpatient_beds_used_covid,\n",
    "sum(inpatient_beds_used_covid_coverage) inpatient_beds_used_covid_coverage,\n",
    "sum(staffed_adult_icu_bed_occupancy_coverage) staffed_adult_icu_bed_occupancy_coverage,\n",
    "sum(staffed_icu_adult_patients_confirmed_and_suspected_covid_covera) staffed_icu_adult_patients_conf_and_sus_covid_coverage,\n",
    "sum(staffed_icu_adult_patients_confirmed_covid_coverage) staffed_icu_adult_patients_confirmed_covid_coverage,\n",
    "sum(inpatient_beds_utilization) inpatient_beds_utilization,\n",
    "sum(percent_of_inpatients_with_covid) percent_of_inpatients_with_covid,\n",
    "sum(inpatient_bed_covid_utilization) inpatient_bed_covid_utilization\n",
    "from public.covidhospitaldata\n",
    "group by \n",
    "state_desc,\n",
    "date) COVID_HOSPITAL\n",
    "\n",
    " ON COVID.state=COVID_HOSPITAL.state_desc AND COVID.enddate=COVID_HOSPITAL.date\n",
    "\n",
    "LEFT OUTER JOIN\n",
    " \n",
    "(SELECT\n",
    "weekending, \n",
    "-- providername,\n",
    "-- providercity,\n",
    "sum(residentstotaladmissionscovid19) residentstotaladmissionscovid19,\n",
    "sum(residentstotalconfirmedcovid19) residentstotalconfirmedcovid19,\n",
    "sum(residentstotalsuspectedcovid19) residentstotalsuspectedcovid19,\n",
    "sum(residentsweeklyalldeaths) residentsweeklyalldeaths,\n",
    "sum(residentstotalalldeaths) residentstotalalldeaths,\n",
    "sum(residentstotalcovid19deaths) residentstotalcovid19deaths,\n",
    "sum(numberofallbeds) numberofallbeds,\n",
    "sum(totalnumberofoccupiedbeds) totalnumberofoccupiedbeds\n",
    "from public.nursingdata\n",
    "group by weekending) NURSING\n",
    "\n",
    "ON COVID.state='Connecticut'\n",
    "AND COVID.enddate=NURSING.weekending \"\"\""
   ]
  },
  {
   "cell_type": "code",
   "execution_count": 25,
   "metadata": {
    "scrolled": false
   },
   "outputs": [],
   "source": [
    "\n",
    "dbConnection5 = psycopg2.connect(user = \"postgres\",password = \"aa\",host = \"localhost\",port = \"5432\",database = \"coviddb\")\n",
    "covidDataFrame = sqlio.read_sql_query(sql5, dbConnection5)\n"
   ]
  },
  {
   "cell_type": "code",
   "execution_count": 26,
   "metadata": {},
   "outputs": [
    {
     "data": {
      "text/plain": [
       "Index(['enddate', 'groups', 'state', 'placeofdeath', 'agegroup',\n",
       "       'covid19deaths', 'totaldeaths', 'pneumoniadeaths',\n",
       "       'pneumoniaandcovid19deaths', 'influenzadeaths',\n",
       "       'pneumoniainfluenzaorcovid19deaths', 'indicator', 'groups', 'subgroup',\n",
       "       'timeperiodenddate', 'value', 'lowci', 'highci', 'confidenceinterval',\n",
       "       'quartilerange', 'state_desc', 'date',\n",
       "       'critical_staffing_shortage_today_yes',\n",
       "       'critical_staffing_shortage_today_no',\n",
       "       'critical_staffing_shortage_today_not_reported', 'hospital_onset_covid',\n",
       "       'hospital_onset_covid_coverage', 'inpatient_beds',\n",
       "       'inpatient_beds_coverage', 'inpatient_beds_used',\n",
       "       'inpatient_beds_used_coverage', 'inpatient_beds_used_covid',\n",
       "       'inpatient_beds_used_covid_coverage',\n",
       "       'staffed_adult_icu_bed_occupancy_coverage',\n",
       "       'staffed_icu_adult_patients_conf_and_sus_covid_coverage',\n",
       "       'staffed_icu_adult_patients_confirmed_covid_coverage',\n",
       "       'inpatient_beds_utilization', 'percent_of_inpatients_with_covid',\n",
       "       'inpatient_bed_covid_utilization', 'weekending',\n",
       "       'residentstotaladmissionscovid19', 'residentstotalconfirmedcovid19',\n",
       "       'residentstotalsuspectedcovid19', 'residentsweeklyalldeaths',\n",
       "       'residentstotalalldeaths', 'residentstotalcovid19deaths',\n",
       "       'numberofallbeds', 'totalnumberofoccupiedbeds'],\n",
       "      dtype='object')"
      ]
     },
     "execution_count": 26,
     "metadata": {},
     "output_type": "execute_result"
    }
   ],
   "source": [
    "covidTableStrData = pd.DataFrame().from_dict(covidDataFrame)\n",
    "covidTableStrData\n",
    "covidTableStrData.columns"
   ]
  },
  {
   "cell_type": "markdown",
   "metadata": {},
   "source": [
    "<a id=section8></a>\n",
    "## 8. Visualization"
   ]
  },
  {
   "cell_type": "markdown",
   "metadata": {},
   "source": [
    "<a id=section801></a>\n",
    "## 8.1 Total Deaths & Covid Deaths vs State (Pyschological Influence)"
   ]
  },
  {
   "cell_type": "code",
   "execution_count": 29,
   "metadata": {},
   "outputs": [],
   "source": [
    "import numpy as np \n",
    "Deaths_MentalHealth = pd.DataFrame(covidTableStrData[['state','indicator','totaldeaths','covid19deaths']][covidTableStrData['indicator'].notnull()])\n",
    "DM1 = pd.DataFrame(covidTableStrData[['state','indicator','totaldeaths','covid19deaths']][covidTableStrData['indicator'].notnull()])\n",
    "Deaths_MentalHealth\n",
    "\n",
    "\n",
    "# covidTableStrData.to_csv(r'/Users/adityaraj/Desktop/Database and Analytics Programming Folder/CA Project/Result.csv')\n",
    "Deaths_MentalHealth1 = pd.DataFrame(covidTableStrData[['state','indicator','totaldeaths','covid19deaths']][covidTableStrData['indicator'].isnull()])\n",
    "DM2 = pd.DataFrame(covidTableStrData[['state','indicator','totaldeaths','covid19deaths']][covidTableStrData['indicator'].isnull()])"
   ]
  },
  {
   "cell_type": "code",
   "execution_count": 31,
   "metadata": {},
   "outputs": [
    {
     "name": "stderr",
     "output_type": "stream",
     "text": [
      "C:\\Users\\ashwi\\anaconda3\\lib\\site-packages\\ipykernel_launcher.py:1: FutureWarning: Indexing with multiple keys (implicitly converted to a tuple of keys) will be deprecated, use a list instead.\n",
      "  \"\"\"Entry point for launching an IPython kernel.\n",
      "C:\\Users\\ashwi\\anaconda3\\lib\\site-packages\\ipykernel_launcher.py:2: FutureWarning: Indexing with multiple keys (implicitly converted to a tuple of keys) will be deprecated, use a list instead.\n",
      "  \n"
     ]
    }
   ],
   "source": [
    "DM1 = pd.DataFrame(Deaths_MentalHealth.groupby(['state','indicator'], as_index=False)['totaldeaths','covid19deaths'].sum().sort_values('totaldeaths'))\n",
    "DM2 = pd.DataFrame(Deaths_MentalHealth1.groupby(['state'], as_index=False)['totaldeaths','covid19deaths'].sum().sort_values('totaldeaths'))"
   ]
  },
  {
   "cell_type": "code",
   "execution_count": 45,
   "metadata": {
    "scrolled": false
   },
   "outputs": [
    {
     "data": {
      "image/png": "[encoded data removed]",
      "text/plain": [
       "<Figure size 1080x576 with 4 Axes>"
      ]
     },
     "metadata": {},
     "output_type": "display_data"
    }
   ],
   "source": [
    "import numpy as np\n",
    "import matplotlib.pyplot as plt\n",
    "\n",
    "def two_scales(ax1, time, data1, data2, c1, c2,t):\n",
    "    ax2 = ax1.twinx()\n",
    "    ax1.plot(time, data1, color=c1)\n",
    "#     ax1.set_title('Total Deaths Against COVID Deaths Amongst People with Anxiety or Depressive Disorder')\n",
    "    ax1.set_xlabel('States')\n",
    "    ax1.set_ylabel('Total Deaths',color=c1)\n",
    "    ax1.legend(['Total Deaths'])\n",
    "#     ax1.legend(ax1.plot(time, data1, color=c1))\n",
    "#     ax1.legend(loc=\"upper left\")\n",
    "    \n",
    "    ax1.set_title(t)\n",
    "    \n",
    "    ax2.plot(time, data2, color=c2)\n",
    "#     ax2.set_title('Total Deaths Against COVID Deaths Amongst People without Anxiety or Depressive Disorder',fontsize=5)\n",
    "    ax2.set_ylabel('COVID-19 Deaths',color=c2)\n",
    "    ax2.legend(['COVID-19 Deaths'],loc='upper center')\n",
    "#     ax2.set_xticklabels(rotation=90)\n",
    "#     ax2.legend(loc=\"upper left\")\n",
    "#     ax2.set_title('Without Anxiety/Depressive Disorder')\n",
    "    return ax1, ax2\n",
    "\n",
    "\n",
    "\n",
    "# # Create some mock data\n",
    "# t = np.arange(0.01, 10.0, 0.01)\n",
    "# s1 = np.exp(t)\n",
    "# s2 = np.sin(2 * np.pi * t)\n",
    "\n",
    "# Create axes\n",
    "fig, (ax1, ax2) = plt.subplots(1,2, figsize=(15,8))\n",
    "ax1, ax1a = two_scales(ax1, DM1['state'], DM1['totaldeaths'], DM1['covid19deaths'], 'r', 'b','With Anxiety/Depressive Disorder')\n",
    "ax2, ax2a = two_scales(ax2, DM2['state'], DM2['totaldeaths'], DM2['covid19deaths'], 'orange', 'limegreen','Without Anxiety/Depressive Disorder')\n",
    "fig.suptitle('Total Deaths & COVID Deaths vs State (Pyschological Influence)',y =1.02, fontsize=16, )\n",
    "\n",
    "# Change color of each axis\n",
    "def color_y_axis(ax, color):\n",
    "    \"\"\"Color your axes.\"\"\"\n",
    "    for t in ax.get_yticklabels():\n",
    "        t.set_color(color)\n",
    "#     for i in ax.get_xticklabels():\n",
    "#         i.set_xticklabels(rotation=90)\n",
    "        ax.set_xticklabels(labels=DM1['state'].unique(),rotation=90)\n",
    "\n",
    "\n",
    "color_y_axis(ax1, 'r')\n",
    "color_y_axis(ax1a, 'b')\n",
    "color_y_axis(ax2, 'orange')\n",
    "color_y_axis(ax2a, 'limegreen')\n",
    "\n",
    "\n",
    "plt.tight_layout()\n",
    "plt.show()"
   ]
  },
  {
   "cell_type": "code",
   "execution_count": 87,
   "metadata": {
    "scrolled": true
   },
   "outputs": [
    {
     "data": {
      "application/vnd.plotly.v1+json": {
       "config": {
        "plotlyServerURL": "https://plot.ly"
       },
       "data": [
        {
         "marker": {
          "color": "red"
         },
         "name": "Total Deaths",
         "type": "scatter",
         "x": [
          "Alaska",
          "District of Columbia",
          "Delaware",
          "Hawaii",
          "Idaho",
          "Iowa",
          "Connecticut",
          "Arkansas",
          "Colorado",
          "Alabama",
          "Indiana",
          "Arizona",
          "Georgia",
          "Illinois",
          "Florida",
          "California"
         ],
         "xaxis": "x",
         "y": [
          369,
          587,
          801,
          954,
          1229,
          2505,
          2591,
          2905,
          3591,
          4898,
          5928,
          6544,
          7669,
          9725,
          18798,
          23972
         ],
         "yaxis": "y"
        },
        {
         "marker": {
          "color": "blue"
         },
         "name": "Covid-19 Deaths",
         "type": "scatter",
         "x": [
          "Alaska",
          "District of Columbia",
          "Delaware",
          "Hawaii",
          "Idaho",
          "Iowa",
          "Connecticut",
          "Arkansas",
          "Colorado",
          "Alabama",
          "Indiana",
          "Arizona",
          "Georgia",
          "Illinois",
          "Florida",
          "California"
         ],
         "xaxis": "x",
         "y": [
          0,
          116,
          61,
          0,
          11,
          158,
          282,
          169,
          184,
          397,
          459,
          898,
          512,
          1157,
          1081,
          2054
         ],
         "yaxis": "y2"
        },
        {
         "marker": {
          "color": "orange"
         },
         "name": "Total Deaths",
         "type": "scatter",
         "x": [
          "Alaska",
          "District of Columbia",
          "Delaware",
          "Hawaii",
          "Idaho",
          "Iowa",
          "Connecticut",
          "Arkansas",
          "Colorado",
          "Alabama",
          "Indiana",
          "Arizona",
          "Georgia",
          "Illinois",
          "Florida",
          "California"
         ],
         "xaxis": "x2",
         "y": [
          3701,
          5989,
          8634,
          9269,
          13032,
          28248,
          29672,
          30928,
          38331,
          51492,
          58868,
          62803,
          82784,
          106704,
          191243,
          270183
         ],
         "yaxis": "y3"
        },
        {
         "marker": {
          "color": "limegreen"
         },
         "name": "Covid-19 Deaths",
         "type": "scatter",
         "x": [
          "Alaska",
          "District of Columbia",
          "Delaware",
          "Hawaii",
          "Idaho",
          "Iowa",
          "Connecticut",
          "Arkansas",
          "Colorado",
          "Alabama",
          "Indiana",
          "Arizona",
          "Georgia",
          "Illinois",
          "Florida",
          "California"
         ],
         "xaxis": "x2",
         "y": [
          252,
          1099,
          1238,
          342,
          1616,
          5158,
          7154,
          4831,
          5726,
          7720,
          10603,
          11092,
          12243,
          18205,
          19665,
          49435
         ],
         "yaxis": "y4"
        }
       ],
       "layout": {
        "annotations": [
         {
          "font": {
           "size": 16
          },
          "showarrow": false,
          "text": "With Anxiety/Depressive Disorder",
          "x": 0.185,
          "xanchor": "center",
          "xref": "paper",
          "y": 1,
          "yanchor": "bottom",
          "yref": "paper"
         },
         {
          "font": {
           "size": 16
          },
          "showarrow": false,
          "text": "Without Anxiety/Depressive Disorder",
          "x": 0.7550000000000001,
          "xanchor": "center",
          "xref": "paper",
          "y": 1,
          "yanchor": "bottom",
          "yref": "paper"
         }
        ],
        "height": 600,
        "template": {
         "data": {
          "bar": [
           {
            "error_x": {
             "color": "#2a3f5f"
            },
            "error_y": {
             "color": "#2a3f5f"
            },
            "marker": {
             "line": {
              "color": "#E5ECF6",
              "width": 0.5
             }
            },
            "type": "bar"
           }
          ],
          "barpolar": [
           {
            "marker": {
             "line": {
              "color": "#E5ECF6",
              "width": 0.5
             }
            },
            "type": "barpolar"
           }
          ],
          "carpet": [
           {
            "aaxis": {
             "endlinecolor": "#2a3f5f",
             "gridcolor": "white",
             "linecolor": "white",
             "minorgridcolor": "white",
             "startlinecolor": "#2a3f5f"
            },
            "baxis": {
             "endlinecolor": "#2a3f5f",
             "gridcolor": "white",
             "linecolor": "white",
             "minorgridcolor": "white",
             "startlinecolor": "#2a3f5f"
            },
            "type": "carpet"
           }
          ],
          "choropleth": [
           {
            "colorbar": {
             "outlinewidth": 0,
             "ticks": ""
            },
            "type": "choropleth"
           }
          ],
          "contour": [
           {
            "colorbar": {
             "outlinewidth": 0,
             "ticks": ""
            },
            "colorscale": [
             [
              0,
              "#0d0887"
             ],
             [
              0.1111111111111111,
              "#46039f"
             ],
             [
              0.2222222222222222,
              "#7201a8"
             ],
             [
              0.3333333333333333,
              "#9c179e"
             ],
             [
              0.4444444444444444,
              "#bd3786"
             ],
             [
              0.5555555555555556,
              "#d8576b"
             ],
             [
              0.6666666666666666,
              "#ed7953"
             ],
             [
              0.7777777777777778,
              "#fb9f3a"
             ],
             [
              0.8888888888888888,
              "#fdca26"
             ],
             [
              1,
              "#f0f921"
             ]
            ],
            "type": "contour"
           }
          ],
          "contourcarpet": [
           {
            "colorbar": {
             "outlinewidth": 0,
             "ticks": ""
            },
            "type": "contourcarpet"
           }
          ],
          "heatmap": [
           {
            "colorbar": {
             "outlinewidth": 0,
             "ticks": ""
            },
            "colorscale": [
             [
              0,
              "#0d0887"
             ],
             [
              0.1111111111111111,
              "#46039f"
             ],
             [
              0.2222222222222222,
              "#7201a8"
             ],
             [
              0.3333333333333333,
              "#9c179e"
             ],
             [
              0.4444444444444444,
              "#bd3786"
             ],
             [
              0.5555555555555556,
              "#d8576b"
             ],
             [
              0.6666666666666666,
              "#ed7953"
             ],
             [
              0.7777777777777778,
              "#fb9f3a"
             ],
             [
              0.8888888888888888,
              "#fdca26"
             ],
             [
              1,
              "#f0f921"
             ]
            ],
            "type": "heatmap"
           }
          ],
          "heatmapgl": [
           {
            "colorbar": {
             "outlinewidth": 0,
             "ticks": ""
            },
            "colorscale": [
             [
              0,
              "#0d0887"
             ],
             [
              0.1111111111111111,
              "#46039f"
             ],
             [
              0.2222222222222222,
              "#7201a8"
             ],
             [
              0.3333333333333333,
              "#9c179e"
             ],
             [
              0.4444444444444444,
              "#bd3786"
             ],
             [
              0.5555555555555556,
              "#d8576b"
             ],
             [
              0.6666666666666666,
              "#ed7953"
             ],
             [
              0.7777777777777778,
              "#fb9f3a"
             ],
             [
              0.8888888888888888,
              "#fdca26"
             ],
             [
              1,
              "#f0f921"
             ]
            ],
            "type": "heatmapgl"
           }
          ],
          "histogram": [
           {
            "marker": {
             "colorbar": {
              "outlinewidth": 0,
              "ticks": ""
             }
            },
            "type": "histogram"
           }
          ],
          "histogram2d": [
           {
            "colorbar": {
             "outlinewidth": 0,
             "ticks": ""
            },
            "colorscale": [
             [
              0,
              "#0d0887"
             ],
             [
              0.1111111111111111,
              "#46039f"
             ],
             [
              0.2222222222222222,
              "#7201a8"
             ],
             [
              0.3333333333333333,
              "#9c179e"
             ],
             [
              0.4444444444444444,
              "#bd3786"
             ],
             [
              0.5555555555555556,
              "#d8576b"
             ],
             [
              0.6666666666666666,
              "#ed7953"
             ],
             [
              0.7777777777777778,
              "#fb9f3a"
             ],
             [
              0.8888888888888888,
              "#fdca26"
             ],
             [
              1,
              "#f0f921"
             ]
            ],
            "type": "histogram2d"
           }
          ],
          "histogram2dcontour": [
           {
            "colorbar": {
             "outlinewidth": 0,
             "ticks": ""
            },
            "colorscale": [
             [
              0,
              "#0d0887"
             ],
             [
              0.1111111111111111,
              "#46039f"
             ],
             [
              0.2222222222222222,
              "#7201a8"
             ],
             [
              0.3333333333333333,
              "#9c179e"
             ],
             [
              0.4444444444444444,
              "#bd3786"
             ],
             [
              0.5555555555555556,
              "#d8576b"
             ],
             [
              0.6666666666666666,
              "#ed7953"
             ],
             [
              0.7777777777777778,
              "#fb9f3a"
             ],
             [
              0.8888888888888888,
              "#fdca26"
             ],
             [
              1,
              "#f0f921"
             ]
            ],
            "type": "histogram2dcontour"
           }
          ],
          "mesh3d": [
           {
            "colorbar": {
             "outlinewidth": 0,
             "ticks": ""
            },
            "type": "mesh3d"
           }
          ],
          "parcoords": [
           {
            "line": {
             "colorbar": {
              "outlinewidth": 0,
              "ticks": ""
             }
            },
            "type": "parcoords"
           }
          ],
          "pie": [
           {
            "automargin": true,
            "type": "pie"
           }
          ],
          "scatter": [
           {
            "marker": {
             "colorbar": {
              "outlinewidth": 0,
              "ticks": ""
             }
            },
            "type": "scatter"
           }
          ],
          "scatter3d": [
           {
            "line": {
             "colorbar": {
              "outlinewidth": 0,
              "ticks": ""
             }
            },
            "marker": {
             "colorbar": {
              "outlinewidth": 0,
              "ticks": ""
             }
            },
            "type": "scatter3d"
           }
          ],
          "scattercarpet": [
           {
            "marker": {
             "colorbar": {
              "outlinewidth": 0,
              "ticks": ""
             }
            },
            "type": "scattercarpet"
           }
          ],
          "scattergeo": [
           {
            "marker": {
             "colorbar": {
              "outlinewidth": 0,
              "ticks": ""
             }
            },
            "type": "scattergeo"
           }
          ],
          "scattergl": [
           {
            "marker": {
             "colorbar": {
              "outlinewidth": 0,
              "ticks": ""
             }
            },
            "type": "scattergl"
           }
          ],
          "scattermapbox": [
           {
            "marker": {
             "colorbar": {
              "outlinewidth": 0,
              "ticks": ""
             }
            },
            "type": "scattermapbox"
           }
          ],
          "scatterpolar": [
           {
            "marker": {
             "colorbar": {
              "outlinewidth": 0,
              "ticks": ""
             }
            },
            "type": "scatterpolar"
           }
          ],
          "scatterpolargl": [
           {
            "marker": {
             "colorbar": {
              "outlinewidth": 0,
              "ticks": ""
             }
            },
            "type": "scatterpolargl"
           }
          ],
          "scatterternary": [
           {
            "marker": {
             "colorbar": {
              "outlinewidth": 0,
              "ticks": ""
             }
            },
            "type": "scatterternary"
           }
          ],
          "surface": [
           {
            "colorbar": {
             "outlinewidth": 0,
             "ticks": ""
            },
            "colorscale": [
             [
              0,
              "#0d0887"
             ],
             [
              0.1111111111111111,
              "#46039f"
             ],
             [
              0.2222222222222222,
              "#7201a8"
             ],
             [
              0.3333333333333333,
              "#9c179e"
             ],
             [
              0.4444444444444444,
              "#bd3786"
             ],
             [
              0.5555555555555556,
              "#d8576b"
             ],
             [
              0.6666666666666666,
              "#ed7953"
             ],
             [
              0.7777777777777778,
              "#fb9f3a"
             ],
             [
              0.8888888888888888,
              "#fdca26"
             ],
             [
              1,
              "#f0f921"
             ]
            ],
            "type": "surface"
           }
          ],
          "table": [
           {
            "cells": {
             "fill": {
              "color": "#EBF0F8"
             },
             "line": {
              "color": "white"
             }
            },
            "header": {
             "fill": {
              "color": "#C8D4E3"
             },
             "line": {
              "color": "white"
             }
            },
            "type": "table"
           }
          ]
         },
         "layout": {
          "annotationdefaults": {
           "arrowcolor": "#2a3f5f",
           "arrowhead": 0,
           "arrowwidth": 1
          },
          "autotypenumbers": "strict",
          "coloraxis": {
           "colorbar": {
            "outlinewidth": 0,
            "ticks": ""
           }
          },
          "colorscale": {
           "diverging": [
            [
             0,
             "#8e0152"
            ],
            [
             0.1,
             "#c51b7d"
            ],
            [
             0.2,
             "#de77ae"
            ],
            [
             0.3,
             "#f1b6da"
            ],
            [
             0.4,
             "#fde0ef"
            ],
            [
             0.5,
             "#f7f7f7"
            ],
            [
             0.6,
             "#e6f5d0"
            ],
            [
             0.7,
             "#b8e186"
            ],
            [
             0.8,
             "#7fbc41"
            ],
            [
             0.9,
             "#4d9221"
            ],
            [
             1,
             "#276419"
            ]
           ],
           "sequential": [
            [
             0,
             "#0d0887"
            ],
            [
             0.1111111111111111,
             "#46039f"
            ],
            [
             0.2222222222222222,
             "#7201a8"
            ],
            [
             0.3333333333333333,
             "#9c179e"
            ],
            [
             0.4444444444444444,
             "#bd3786"
            ],
            [
             0.5555555555555556,
             "#d8576b"
            ],
            [
             0.6666666666666666,
             "#ed7953"
            ],
            [
             0.7777777777777778,
             "#fb9f3a"
            ],
            [
             0.8888888888888888,
             "#fdca26"
            ],
            [
             1,
             "#f0f921"
            ]
           ],
           "sequentialminus": [
            [
             0,
             "#0d0887"
            ],
            [
             0.1111111111111111,
             "#46039f"
            ],
            [
             0.2222222222222222,
             "#7201a8"
            ],
            [
             0.3333333333333333,
             "#9c179e"
            ],
            [
             0.4444444444444444,
             "#bd3786"
            ],
            [
             0.5555555555555556,
             "#d8576b"
            ],
            [
             0.6666666666666666,
             "#ed7953"
            ],
            [
             0.7777777777777778,
             "#fb9f3a"
            ],
            [
             0.8888888888888888,
             "#fdca26"
            ],
            [
             1,
             "#f0f921"
            ]
           ]
          },
          "colorway": [
           "#636efa",
           "#EF553B",
           "#00cc96",
           "#ab63fa",
           "#FFA15A",
           "#19d3f3",
           "#FF6692",
           "#B6E880",
           "#FF97FF",
           "#FECB52"
          ],
          "font": {
           "color": "#2a3f5f"
          },
          "geo": {
           "bgcolor": "white",
           "lakecolor": "white",
           "landcolor": "#E5ECF6",
           "showlakes": true,
           "showland": true,
           "subunitcolor": "white"
          },
          "hoverlabel": {
           "align": "left"
          },
          "hovermode": "closest",
          "mapbox": {
           "style": "light"
          },
          "paper_bgcolor": "white",
          "plot_bgcolor": "#E5ECF6",
          "polar": {
           "angularaxis": {
            "gridcolor": "white",
            "linecolor": "white",
            "ticks": ""
           },
           "bgcolor": "#E5ECF6",
           "radialaxis": {
            "gridcolor": "white",
            "linecolor": "white",
            "ticks": ""
           }
          },
          "scene": {
           "xaxis": {
            "backgroundcolor": "#E5ECF6",
            "gridcolor": "white",
            "gridwidth": 2,
            "linecolor": "white",
            "showbackground": true,
            "ticks": "",
            "zerolinecolor": "white"
           },
           "yaxis": {
            "backgroundcolor": "#E5ECF6",
            "gridcolor": "white",
            "gridwidth": 2,
            "linecolor": "white",
            "showbackground": true,
            "ticks": "",
            "zerolinecolor": "white"
           },
           "zaxis": {
            "backgroundcolor": "#E5ECF6",
            "gridcolor": "white",
            "gridwidth": 2,
            "linecolor": "white",
            "showbackground": true,
            "ticks": "",
            "zerolinecolor": "white"
           }
          },
          "shapedefaults": {
           "line": {
            "color": "#2a3f5f"
           }
          },
          "ternary": {
           "aaxis": {
            "gridcolor": "white",
            "linecolor": "white",
            "ticks": ""
           },
           "baxis": {
            "gridcolor": "white",
            "linecolor": "white",
            "ticks": ""
           },
           "bgcolor": "#E5ECF6",
           "caxis": {
            "gridcolor": "white",
            "linecolor": "white",
            "ticks": ""
           }
          },
          "title": {
           "x": 0.05
          },
          "xaxis": {
           "automargin": true,
           "gridcolor": "white",
           "linecolor": "white",
           "ticks": "",
           "title": {
            "standoff": 15
           },
           "zerolinecolor": "white",
           "zerolinewidth": 2
          },
          "yaxis": {
           "automargin": true,
           "gridcolor": "white",
           "linecolor": "white",
           "ticks": "",
           "title": {
            "standoff": 15
           },
           "zerolinecolor": "white",
           "zerolinewidth": 2
          }
         }
        },
        "title": {
         "text": "Total Deaths & COVID Deaths vs State (Pyschological Influence)"
        },
        "width": 1100,
        "xaxis": {
         "anchor": "y",
         "domain": [
          0,
          0.37
         ]
        },
        "xaxis2": {
         "anchor": "y3",
         "domain": [
          0.5700000000000001,
          0.9400000000000001
         ]
        },
        "yaxis": {
         "anchor": "x",
         "domain": [
          0,
          1
         ]
        },
        "yaxis2": {
         "anchor": "x",
         "overlaying": "y",
         "side": "right"
        },
        "yaxis3": {
         "anchor": "x2",
         "domain": [
          0,
          1
         ]
        },
        "yaxis4": {
         "anchor": "x2",
         "overlaying": "y3",
         "side": "right"
        }
       }
      },
      "text/html": [
       "<div>                            <div id=\"4ad5e466-b226-4629-9c84-7c91bdbea7e5\" class=\"plotly-graph-div\" style=\"height:600px; width:1100px;\"></div>            <script type=\"text/javascript\">                require([\"plotly\"], function(Plotly) {                    window.PLOTLYENV=window.PLOTLYENV || {};                                    if (document.getElementById(\"4ad5e466-b226-4629-9c84-7c91bdbea7e5\")) {                    Plotly.newPlot(                        \"4ad5e466-b226-4629-9c84-7c91bdbea7e5\",                        [{\"marker\": {\"color\": \"red\"}, \"name\": \"Total Deaths\", \"type\": \"scatter\", \"x\": [\"Alaska\", \"District of Columbia\", \"Delaware\", \"Hawaii\", \"Idaho\", \"Iowa\", \"Connecticut\", \"Arkansas\", \"Colorado\", \"Alabama\", \"Indiana\", \"Arizona\", \"Georgia\", \"Illinois\", \"Florida\", \"California\"], \"xaxis\": \"x\", \"y\": [369.0, 587.0, 801.0, 954.0, 1229.0, 2505.0, 2591.0, 2905.0, 3591.0, 4898.0, 5928.0, 6544.0, 7669.0, 9725.0, 18798.0, 23972.0], \"yaxis\": \"y\"}, {\"marker\": {\"color\": \"blue\"}, \"name\": \"Covid-19 Deaths\", \"type\": \"scatter\", \"x\": [\"Alaska\", \"District of Columbia\", \"Delaware\", \"Hawaii\", \"Idaho\", \"Iowa\", \"Connecticut\", \"Arkansas\", \"Colorado\", \"Alabama\", \"Indiana\", \"Arizona\", \"Georgia\", \"Illinois\", \"Florida\", \"California\"], \"xaxis\": \"x\", \"y\": [0.0, 116.0, 61.0, 0.0, 11.0, 158.0, 282.0, 169.0, 184.0, 397.0, 459.0, 898.0, 512.0, 1157.0, 1081.0, 2054.0], \"yaxis\": \"y2\"}, {\"marker\": {\"color\": \"orange\"}, \"name\": \"Total Deaths\", \"type\": \"scatter\", \"x\": [\"Alaska\", \"District of Columbia\", \"Delaware\", \"Hawaii\", \"Idaho\", \"Iowa\", \"Connecticut\", \"Arkansas\", \"Colorado\", \"Alabama\", \"Indiana\", \"Arizona\", \"Georgia\", \"Illinois\", \"Florida\", \"California\"], \"xaxis\": \"x2\", \"y\": [3701.0, 5989.0, 8634.0, 9269.0, 13032.0, 28248.0, 29672.0, 30928.0, 38331.0, 51492.0, 58868.0, 62803.0, 82784.0, 106704.0, 191243.0, 270183.0], \"yaxis\": \"y3\"}, {\"marker\": {\"color\": \"limegreen\"}, \"name\": \"Covid-19 Deaths\", \"type\": \"scatter\", \"x\": [\"Alaska\", \"District of Columbia\", \"Delaware\", \"Hawaii\", \"Idaho\", \"Iowa\", \"Connecticut\", \"Arkansas\", \"Colorado\", \"Alabama\", \"Indiana\", \"Arizona\", \"Georgia\", \"Illinois\", \"Florida\", \"California\"], \"xaxis\": \"x2\", \"y\": [252.0, 1099.0, 1238.0, 342.0, 1616.0, 5158.0, 7154.0, 4831.0, 5726.0, 7720.0, 10603.0, 11092.0, 12243.0, 18205.0, 19665.0, 49435.0], \"yaxis\": \"y4\"}],                        {\"annotations\": [{\"font\": {\"size\": 16}, \"showarrow\": false, \"text\": \"With Anxiety/Depressive Disorder\", \"x\": 0.185, \"xanchor\": \"center\", \"xref\": \"paper\", \"y\": 1.0, \"yanchor\": \"bottom\", \"yref\": \"paper\"}, {\"font\": {\"size\": 16}, \"showarrow\": false, \"text\": \"Without Anxiety/Depressive Disorder\", \"x\": 0.7550000000000001, \"xanchor\": \"center\", \"xref\": \"paper\", \"y\": 1.0, \"yanchor\": \"bottom\", \"yref\": \"paper\"}], \"height\": 600, \"template\": {\"data\": {\"bar\": [{\"error_x\": {\"color\": \"#2a3f5f\"}, \"error_y\": {\"color\": \"#2a3f5f\"}, \"marker\": {\"line\": {\"color\": \"#E5ECF6\", \"width\": 0.5}}, \"type\": \"bar\"}], \"barpolar\": [{\"marker\": {\"line\": {\"color\": \"#E5ECF6\", \"width\": 0.5}}, \"type\": \"barpolar\"}], \"carpet\": [{\"aaxis\": {\"endlinecolor\": \"#2a3f5f\", \"gridcolor\": \"white\", \"linecolor\": \"white\", \"minorgridcolor\": \"white\", \"startlinecolor\": \"#2a3f5f\"}, \"baxis\": {\"endlinecolor\": \"#2a3f5f\", \"gridcolor\": \"white\", \"linecolor\": \"white\", \"minorgridcolor\": \"white\", \"startlinecolor\": \"#2a3f5f\"}, \"type\": \"carpet\"}], \"choropleth\": [{\"colorbar\": {\"outlinewidth\": 0, \"ticks\": \"\"}, \"type\": \"choropleth\"}], \"contour\": [{\"colorbar\": {\"outlinewidth\": 0, \"ticks\": \"\"}, \"colorscale\": [[0.0, \"#0d0887\"], [0.1111111111111111, \"#46039f\"], [0.2222222222222222, \"#7201a8\"], [0.3333333333333333, \"#9c179e\"], [0.4444444444444444, \"#bd3786\"], [0.5555555555555556, \"#d8576b\"], [0.6666666666666666, \"#ed7953\"], [0.7777777777777778, \"#fb9f3a\"], [0.8888888888888888, \"#fdca26\"], [1.0, \"#f0f921\"]], \"type\": \"contour\"}], \"contourcarpet\": [{\"colorbar\": {\"outlinewidth\": 0, \"ticks\": \"\"}, \"type\": \"contourcarpet\"}], \"heatmap\": [{\"colorbar\": {\"outlinewidth\": 0, \"ticks\": \"\"}, \"colorscale\": [[0.0, \"#0d0887\"], [0.1111111111111111, \"#46039f\"], [0.2222222222222222, \"#7201a8\"], [0.3333333333333333, \"#9c179e\"], [0.4444444444444444, \"#bd3786\"], [0.5555555555555556, \"#d8576b\"], [0.6666666666666666, \"#ed7953\"], [0.7777777777777778, \"#fb9f3a\"], [0.8888888888888888, \"#fdca26\"], [1.0, \"#f0f921\"]], \"type\": \"heatmap\"}], \"heatmapgl\": [{\"colorbar\": {\"outlinewidth\": 0, \"ticks\": \"\"}, \"colorscale\": [[0.0, \"#0d0887\"], [0.1111111111111111, \"#46039f\"], [0.2222222222222222, \"#7201a8\"], [0.3333333333333333, \"#9c179e\"], [0.4444444444444444, \"#bd3786\"], [0.5555555555555556, \"#d8576b\"], [0.6666666666666666, \"#ed7953\"], [0.7777777777777778, \"#fb9f3a\"], [0.8888888888888888, \"#fdca26\"], [1.0, \"#f0f921\"]], \"type\": \"heatmapgl\"}], \"histogram\": [{\"marker\": {\"colorbar\": {\"outlinewidth\": 0, \"ticks\": \"\"}}, \"type\": \"histogram\"}], \"histogram2d\": [{\"colorbar\": {\"outlinewidth\": 0, \"ticks\": \"\"}, \"colorscale\": [[0.0, \"#0d0887\"], [0.1111111111111111, \"#46039f\"], [0.2222222222222222, \"#7201a8\"], [0.3333333333333333, \"#9c179e\"], [0.4444444444444444, \"#bd3786\"], [0.5555555555555556, \"#d8576b\"], [0.6666666666666666, \"#ed7953\"], [0.7777777777777778, \"#fb9f3a\"], [0.8888888888888888, \"#fdca26\"], [1.0, \"#f0f921\"]], \"type\": \"histogram2d\"}], \"histogram2dcontour\": [{\"colorbar\": {\"outlinewidth\": 0, \"ticks\": \"\"}, \"colorscale\": [[0.0, \"#0d0887\"], [0.1111111111111111, \"#46039f\"], [0.2222222222222222, \"#7201a8\"], [0.3333333333333333, \"#9c179e\"], [0.4444444444444444, \"#bd3786\"], [0.5555555555555556, \"#d8576b\"], [0.6666666666666666, \"#ed7953\"], [0.7777777777777778, \"#fb9f3a\"], [0.8888888888888888, \"#fdca26\"], [1.0, \"#f0f921\"]], \"type\": \"histogram2dcontour\"}], \"mesh3d\": [{\"colorbar\": {\"outlinewidth\": 0, \"ticks\": \"\"}, \"type\": \"mesh3d\"}], \"parcoords\": [{\"line\": {\"colorbar\": {\"outlinewidth\": 0, \"ticks\": \"\"}}, \"type\": \"parcoords\"}], \"pie\": [{\"automargin\": true, \"type\": \"pie\"}], \"scatter\": [{\"marker\": {\"colorbar\": {\"outlinewidth\": 0, \"ticks\": \"\"}}, \"type\": \"scatter\"}], \"scatter3d\": [{\"line\": {\"colorbar\": {\"outlinewidth\": 0, \"ticks\": \"\"}}, \"marker\": {\"colorbar\": {\"outlinewidth\": 0, \"ticks\": \"\"}}, \"type\": \"scatter3d\"}], \"scattercarpet\": [{\"marker\": {\"colorbar\": {\"outlinewidth\": 0, \"ticks\": \"\"}}, \"type\": \"scattercarpet\"}], \"scattergeo\": [{\"marker\": {\"colorbar\": {\"outlinewidth\": 0, \"ticks\": \"\"}}, \"type\": \"scattergeo\"}], \"scattergl\": [{\"marker\": {\"colorbar\": {\"outlinewidth\": 0, \"ticks\": \"\"}}, \"type\": \"scattergl\"}], \"scattermapbox\": [{\"marker\": {\"colorbar\": {\"outlinewidth\": 0, \"ticks\": \"\"}}, \"type\": \"scattermapbox\"}], \"scatterpolar\": [{\"marker\": {\"colorbar\": {\"outlinewidth\": 0, \"ticks\": \"\"}}, \"type\": \"scatterpolar\"}], \"scatterpolargl\": [{\"marker\": {\"colorbar\": {\"outlinewidth\": 0, \"ticks\": \"\"}}, \"type\": \"scatterpolargl\"}], \"scatterternary\": [{\"marker\": {\"colorbar\": {\"outlinewidth\": 0, \"ticks\": \"\"}}, \"type\": \"scatterternary\"}], \"surface\": [{\"colorbar\": {\"outlinewidth\": 0, \"ticks\": \"\"}, \"colorscale\": [[0.0, \"#0d0887\"], [0.1111111111111111, \"#46039f\"], [0.2222222222222222, \"#7201a8\"], [0.3333333333333333, \"#9c179e\"], [0.4444444444444444, \"#bd3786\"], [0.5555555555555556, \"#d8576b\"], [0.6666666666666666, \"#ed7953\"], [0.7777777777777778, \"#fb9f3a\"], [0.8888888888888888, \"#fdca26\"], [1.0, \"#f0f921\"]], \"type\": \"surface\"}], \"table\": [{\"cells\": {\"fill\": {\"color\": \"#EBF0F8\"}, \"line\": {\"color\": \"white\"}}, \"header\": {\"fill\": {\"color\": \"#C8D4E3\"}, \"line\": {\"color\": \"white\"}}, \"type\": \"table\"}]}, \"layout\": {\"annotationdefaults\": {\"arrowcolor\": \"#2a3f5f\", \"arrowhead\": 0, \"arrowwidth\": 1}, \"autotypenumbers\": \"strict\", \"coloraxis\": {\"colorbar\": {\"outlinewidth\": 0, \"ticks\": \"\"}}, \"colorscale\": {\"diverging\": [[0, \"#8e0152\"], [0.1, \"#c51b7d\"], [0.2, \"#de77ae\"], [0.3, \"#f1b6da\"], [0.4, \"#fde0ef\"], [0.5, \"#f7f7f7\"], [0.6, \"#e6f5d0\"], [0.7, \"#b8e186\"], [0.8, \"#7fbc41\"], [0.9, \"#4d9221\"], [1, \"#276419\"]], \"sequential\": [[0.0, \"#0d0887\"], [0.1111111111111111, \"#46039f\"], [0.2222222222222222, \"#7201a8\"], [0.3333333333333333, \"#9c179e\"], [0.4444444444444444, \"#bd3786\"], [0.5555555555555556, \"#d8576b\"], [0.6666666666666666, \"#ed7953\"], [0.7777777777777778, \"#fb9f3a\"], [0.8888888888888888, \"#fdca26\"], [1.0, \"#f0f921\"]], \"sequentialminus\": [[0.0, \"#0d0887\"], [0.1111111111111111, \"#46039f\"], [0.2222222222222222, \"#7201a8\"], [0.3333333333333333, \"#9c179e\"], [0.4444444444444444, \"#bd3786\"], [0.5555555555555556, \"#d8576b\"], [0.6666666666666666, \"#ed7953\"], [0.7777777777777778, \"#fb9f3a\"], [0.8888888888888888, \"#fdca26\"], [1.0, \"#f0f921\"]]}, \"colorway\": [\"#636efa\", \"#EF553B\", \"#00cc96\", \"#ab63fa\", \"#FFA15A\", \"#19d3f3\", \"#FF6692\", \"#B6E880\", \"#FF97FF\", \"#FECB52\"], \"font\": {\"color\": \"#2a3f5f\"}, \"geo\": {\"bgcolor\": \"white\", \"lakecolor\": \"white\", \"landcolor\": \"#E5ECF6\", \"showlakes\": true, \"showland\": true, \"subunitcolor\": \"white\"}, \"hoverlabel\": {\"align\": \"left\"}, \"hovermode\": \"closest\", \"mapbox\": {\"style\": \"light\"}, \"paper_bgcolor\": \"white\", \"plot_bgcolor\": \"#E5ECF6\", \"polar\": {\"angularaxis\": {\"gridcolor\": \"white\", \"linecolor\": \"white\", \"ticks\": \"\"}, \"bgcolor\": \"#E5ECF6\", \"radialaxis\": {\"gridcolor\": \"white\", \"linecolor\": \"white\", \"ticks\": \"\"}}, \"scene\": {\"xaxis\": {\"backgroundcolor\": \"#E5ECF6\", \"gridcolor\": \"white\", \"gridwidth\": 2, \"linecolor\": \"white\", \"showbackground\": true, \"ticks\": \"\", \"zerolinecolor\": \"white\"}, \"yaxis\": {\"backgroundcolor\": \"#E5ECF6\", \"gridcolor\": \"white\", \"gridwidth\": 2, \"linecolor\": \"white\", \"showbackground\": true, \"ticks\": \"\", \"zerolinecolor\": \"white\"}, \"zaxis\": {\"backgroundcolor\": \"#E5ECF6\", \"gridcolor\": \"white\", \"gridwidth\": 2, \"linecolor\": \"white\", \"showbackground\": true, \"ticks\": \"\", \"zerolinecolor\": \"white\"}}, \"shapedefaults\": {\"line\": {\"color\": \"#2a3f5f\"}}, \"ternary\": {\"aaxis\": {\"gridcolor\": \"white\", \"linecolor\": \"white\", \"ticks\": \"\"}, \"baxis\": {\"gridcolor\": \"white\", \"linecolor\": \"white\", \"ticks\": \"\"}, \"bgcolor\": \"#E5ECF6\", \"caxis\": {\"gridcolor\": \"white\", \"linecolor\": \"white\", \"ticks\": \"\"}}, \"title\": {\"x\": 0.05}, \"xaxis\": {\"automargin\": true, \"gridcolor\": \"white\", \"linecolor\": \"white\", \"ticks\": \"\", \"title\": {\"standoff\": 15}, \"zerolinecolor\": \"white\", \"zerolinewidth\": 2}, \"yaxis\": {\"automargin\": true, \"gridcolor\": \"white\", \"linecolor\": \"white\", \"ticks\": \"\", \"title\": {\"standoff\": 15}, \"zerolinecolor\": \"white\", \"zerolinewidth\": 2}}}, \"title\": {\"text\": \"Total Deaths & COVID Deaths vs State (Pyschological Influence)\"}, \"width\": 1100, \"xaxis\": {\"anchor\": \"y\", \"domain\": [0.0, 0.37]}, \"xaxis2\": {\"anchor\": \"y3\", \"domain\": [0.5700000000000001, 0.9400000000000001]}, \"yaxis\": {\"anchor\": \"x\", \"domain\": [0.0, 1.0]}, \"yaxis2\": {\"anchor\": \"x\", \"overlaying\": \"y\", \"side\": \"right\"}, \"yaxis3\": {\"anchor\": \"x2\", \"domain\": [0.0, 1.0]}, \"yaxis4\": {\"anchor\": \"x2\", \"overlaying\": \"y3\", \"side\": \"right\"}},                        {\"responsive\": true}                    ).then(function(){\n",
       "                            \n",
       "var gd = document.getElementById('4ad5e466-b226-4629-9c84-7c91bdbea7e5');\n",
       "var x = new MutationObserver(function (mutations, observer) {{\n",
       "        var display = window.getComputedStyle(gd).display;\n",
       "        if (!display || display === 'none') {{\n",
       "            console.log([gd, 'removed!']);\n",
       "            Plotly.purge(gd);\n",
       "            observer.disconnect();\n",
       "        }}\n",
       "}});\n",
       "\n",
       "// Listen for the removal of the full notebook cells\n",
       "var notebookContainer = gd.closest('#notebook-container');\n",
       "if (notebookContainer) {{\n",
       "    x.observe(notebookContainer, {childList: true});\n",
       "}}\n",
       "\n",
       "// Listen for the clearing of the current output cell\n",
       "var outputEl = gd.closest('.output');\n",
       "if (outputEl) {{\n",
       "    x.observe(outputEl, {childList: true});\n",
       "}}\n",
       "\n",
       "                        })                };                });            </script>        </div>"
      ]
     },
     "metadata": {},
     "output_type": "display_data"
    }
   ],
   "source": [
    "fig = make_subplots(rows=1, cols=2,\n",
    "                    specs=[[{\"secondary_y\": True}, {\"secondary_y\": True}]],subplot_titles=(\"With Anxiety/Depressive Disorder\", \"Without Anxiety/Depressive Disorder\")\n",
    "                   )\n",
    "\n",
    "# Top left\n",
    "fig.add_trace(\n",
    "    go.Scatter(x=DM1['state'], y=DM1['totaldeaths'], name=\"Total Deaths\",marker_color='red'),\n",
    "    row=1, col=1, secondary_y=False)\n",
    "\n",
    "fig.add_trace(\n",
    "    go.Scatter(x=DM1['state'], y=DM1['covid19deaths'], name=\"Covid-19 Deaths\",marker_color='blue'),\n",
    "    row=1, col=1, secondary_y=True,\n",
    ")\n",
    "\n",
    "# Top right\n",
    "fig.add_trace(\n",
    "    go.Scatter(x=DM2['state'], y=DM2['totaldeaths'], name=\"Total Deaths\",marker_color='orange'),\n",
    "    row=1, col=2, secondary_y=False,\n",
    ")\n",
    "\n",
    "fig.add_trace(\n",
    "    go.Scatter(x=DM2['state'], y = DM2['covid19deaths'], name=\"Covid-19 Deaths\", marker_color='limegreen'),\n",
    "    row=1, col=2, secondary_y=True,\n",
    ")\n",
    "fig.update_layout(height=600, width=1100, title_text=\"Total Deaths & COVID Deaths vs State (Pyschological Influence)\")\n",
    "#fig.update_annotations(dict(font_size=8))\n",
    "\n",
    "\n",
    "fig.show()"
   ]
  },
  {
   "cell_type": "markdown",
   "metadata": {},
   "source": [
    "<a id=section802></a>\n",
    "## 8.2 Inpatient Beds Utilization vs Inpatient Covid-19 Patient Beds"
   ]
  },
  {
   "cell_type": "code",
   "execution_count": 103,
   "metadata": {
    "scrolled": true
   },
   "outputs": [
    {
     "data": {
      "text/plain": [
       "<matplotlib.axes._subplots.AxesSubplot at 0x1d903e88c08>"
      ]
     },
     "execution_count": 103,
     "metadata": {},
     "output_type": "execute_result"
    },
    {
     "data": {
      "image/png": "[encoded data removed]",
      "text/plain": [
       "<Figure size 720x360 with 1 Axes>"
      ]
     },
     "metadata": {
      "needs_background": "light"
     },
     "output_type": "display_data"
    }
   ],
   "source": [
    "plt.rcParams[\"figure.figsize\"] = (10,5)\n",
    "# covidTableStrData.plot(x=\"state\", y=[\"totaldeaths\", \"covid19deaths\"])\n",
    "#plt.figure(figsize=(100,100))\n",
    "# covidTableStrData.plot(x=\"state\", y=[\"critical_staffing_shortage_today_yes\",\"critical_staffing_shortage_today_no\"])\n",
    "import datetime\n",
    "# [covidTableStrData['date']==datetime.date(2020,6,30)]\n",
    "covidTableStrData.plot(x=\"date\", y=['inpatient_beds_utilization', 'percent_of_inpatients_with_covid'],color=[\"purple\",\"green\",\"red\"])\n",
    "\n",
    "\n",
    "# covidTableStrData.to_csv(\"RESULT.csv\")"
   ]
  },
  {
   "cell_type": "code",
   "execution_count": 71,
   "metadata": {},
   "outputs": [
    {
     "data": {
      "application/vnd.plotly.v1+json": {
       "config": {
        "plotlyServerURL": "https://plot.ly"
       },
       "data": [
        {
         "marker": {
          "color": "orange"
         },
         "name": "inpatient_beds_utilization",
         "type": "bar",
         "x": [
          "2021-01-31",
          "2021-02-28",
          "2020-05-31",
          "2020-12-31",
          "2020-12-31",
          "2020-12-31",
          "2020-12-31",
          "2020-12-31",
          "2020-12-31",
          "2020-12-31",
          "2020-12-31",
          "2020-12-31",
          "2020-12-31",
          "2020-12-31",
          "2020-12-31",
          "2020-12-31",
          "2020-12-31",
          "2020-12-31",
          "2020-12-31",
          "2020-11-30",
          "2020-11-30",
          "2020-11-30",
          "2020-11-30",
          "2020-11-30",
          "2020-11-30",
          "2020-11-30",
          "2020-11-30",
          "2020-11-30",
          "2020-11-30",
          "2020-11-30",
          "2020-11-30",
          "2020-11-30",
          "2020-11-30",
          "2020-11-30",
          "2020-11-30",
          "2020-05-31",
          "2020-05-31",
          "2020-05-31",
          "2020-05-31",
          "2020-05-31",
          "2020-05-31",
          "2020-05-31",
          "2020-05-31",
          "2020-05-31",
          "2020-05-31",
          "2020-05-31",
          "2020-05-31",
          "2020-05-31",
          "2020-05-31",
          "2020-05-31",
          "2020-09-30",
          "2020-09-30",
          "2020-09-30",
          "2020-09-30",
          "2020-09-30",
          "2020-09-30",
          "2020-09-30",
          "2020-09-30",
          "2020-09-30",
          "2020-09-30",
          "2020-09-30",
          "2020-09-30",
          "2020-09-30",
          "2020-09-30",
          "2020-09-30",
          "2020-09-30",
          "2020-03-31",
          "2020-03-31",
          "2020-03-31",
          "2020-03-31",
          "2020-03-31",
          "2020-03-31",
          "2020-03-31",
          "2020-03-31",
          "2020-03-31",
          "2020-03-31",
          "2020-03-31",
          "2020-03-31",
          "2020-03-31",
          "2020-03-31",
          "2020-03-31",
          "2020-03-31",
          "2021-03-20",
          "2021-03-20",
          "2021-03-20",
          "2021-03-20",
          "2021-03-20",
          "2021-03-20",
          "2021-03-20",
          "2021-03-20",
          "2021-03-20",
          "2021-03-20",
          "2021-03-20",
          "2021-03-20",
          "2021-03-20",
          "2021-03-20",
          "2021-03-20",
          "2021-03-20",
          "2020-04-30",
          "2020-04-30",
          "2020-04-30",
          "2020-04-30",
          "2020-04-30",
          "2020-04-30",
          "2020-04-30",
          "2020-04-30",
          "2020-04-30",
          "2020-04-30",
          "2020-04-30",
          "2020-04-30",
          "2020-04-30",
          "2020-04-30",
          "2020-04-30",
          "2020-04-30",
          "2021-02-28",
          "2021-02-28",
          "2021-02-28",
          "2021-02-28",
          "2021-02-28",
          "2021-02-28",
          "2021-02-28",
          "2021-02-28",
          "2021-02-28",
          "2021-02-28",
          "2021-02-28",
          "2021-02-28",
          "2021-02-28",
          "2021-02-28",
          "2021-02-28",
          "2020-10-31",
          "2020-10-31",
          "2020-10-31",
          "2020-10-31",
          "2020-10-31",
          "2020-10-31",
          "2020-10-31",
          "2020-10-31",
          "2020-10-31",
          "2020-10-31",
          "2020-10-31",
          "2020-10-31",
          "2020-10-31",
          "2020-10-31",
          "2020-10-31",
          "2020-10-31",
          "2020-06-30",
          "2020-06-30",
          "2020-06-30",
          "2020-06-30",
          "2020-06-30",
          "2020-06-30",
          "2020-06-30",
          "2020-06-30",
          "2020-06-30",
          "2020-06-30",
          "2020-06-30",
          "2020-06-30",
          "2020-06-30",
          "2020-06-30",
          "2020-06-30",
          "2020-06-30",
          "2021-01-31",
          "2021-01-31",
          "2021-01-31",
          "2021-01-31",
          "2021-01-31",
          "2021-01-31",
          "2021-01-31",
          "2021-01-31",
          "2021-01-31",
          "2021-01-31",
          "2021-01-31",
          "2021-01-31",
          "2021-01-31",
          "2021-01-31",
          "2021-01-31"
         ],
         "y": [
          0.7618878637331441,
          0.7470964683574307,
          0.5391033373542421,
          0.7731107103380068,
          0.7808978131075897,
          0.5674157303370787,
          0.5286236297198539,
          0.7842484747642817,
          0.7299539170506912,
          0.7879208809017377,
          0.7199612403100775,
          0.6769694685261968,
          0.8282678742488897,
          0.6162561576354679,
          0.7794811320754716,
          0.666101982043029,
          0.6839984001476787,
          0.6645919778699861,
          0.7770291743469141,
          0.7344113372093023,
          0.5973574408901252,
          0.5845297392323469,
          0.7065118556340491,
          0.6804469273743017,
          0.709019349578198,
          0.7701500833796554,
          0.6796395455139088,
          0.6787420382165605,
          0.7625346496133832,
          0.590546421663443,
          0.7135272112947991,
          0.6616181614201808,
          0.7255251684502576,
          0.6335084513476473,
          0.6630581867388363,
          0.5536716272261527,
          0.7182340272792535,
          0.6312709030100334,
          0.5915507455224539,
          0.7086569426027657,
          0.64357243044003,
          0.5358744394618834,
          0.4130846174641795,
          0.4841246722982814,
          0.6036936253736004,
          0.6322602057749751,
          0.5393523334026766,
          0.4540351941747573,
          0.652904953145917,
          0.6003521126760564,
          0.7195320116997075,
          0.7724486116119726,
          0.7137149847473637,
          0.8027816411682893,
          0.596824810780875,
          0.6750663129973474,
          0.5142857142857142,
          0.6788791368065061,
          0.6593769614482508,
          0.7512690355329951,
          0.6603719924918947,
          0.6929234127706021,
          0.7743476662991547,
          0.650809100863852,
          0.7769827072152653,
          0.7672836807073798,
          0.4978950322761718,
          0.5653846153846154,
          0.490632318501171,
          0.6394088669950739,
          0.519650655021834,
          0.2943699731903485,
          0.5666771258236586,
          0.7325402916346891,
          0.4570508231925554,
          0.5161739130434783,
          0.4098746081504702,
          0.5798004987531172,
          0.6417352281226627,
          0.29862475442043224,
          0.6033843300880853,
          0.5605526161081716,
          0.7441793618855993,
          0.7081947384336257,
          0.7439444740387929,
          0.6811108709747137,
          0.67511895091099,
          0.7497443065593891,
          0.5910484365419988,
          0.8005427408412483,
          0.7747598149685684,
          0.6487235471951629,
          0.6646252370441758,
          0.6897399404838919,
          0.610411988930082,
          0.737667770611818,
          0.6891993957703928,
          0.5750309023485785,
          0.5573009639414495,
          0.5814077429669953,
          0.7152542372881356,
          0.4916333481415667,
          0.5055254102699841,
          0.39912039582188014,
          0.35499693439607605,
          0.6042877178922059,
          0.5600560056005601,
          0.625285739405662,
          0.4852426543413668,
          0.6304933944459423,
          0.5006388959877331,
          0.6221507106462859,
          0.6159779614325069,
          0.4375200770960488,
          0.5639097744360902,
          0.7535113925179471,
          0.6754617414248021,
          0.5965535248041776,
          0.7086041572816784,
          0.6522429411947825,
          0.6377654196157735,
          0.539111474516217,
          0.5768307322929171,
          0.7442653705124925,
          0.6663543191800878,
          0.679324894514768,
          0.7284660328002381,
          0.6806362802080147,
          0.7635036496350365,
          0.6765263557072431,
          0.7545739910313901,
          0.6183779852103285,
          0.7144746333253186,
          0.6709941622375185,
          0.6506799146523996,
          0.6336281276962901,
          0.715049504950495,
          0.6955794350427901,
          0.7152847152847153,
          0.5245579567779961,
          0.6309444072337576,
          0.7885620016497114,
          0.6875,
          0.7033717848553089,
          0.63577784596502,
          0.7249835297562404,
          0.7133022259619062,
          0.5653537818055071,
          0.7245543415756182,
          0.5302547770700637,
          0.6186216037110669,
          0.4642014162077104,
          0.5906753055908089,
          0.7438440492476059,
          0.5114142915034445,
          0.6536384330412272,
          0.7751814392240878,
          0.6312392993546688,
          0.8100732416976021,
          0.6743483188515299,
          0.6133040935672515,
          0.7802345203582709,
          0.6871466264606106,
          0.5777640518838789,
          0.6381892337868551,
          0.648966766084363,
          0.7406953492872347,
          0.6240588782674901,
          0.7615106675843083,
          0.5554057697492586,
          0.5502104630186411,
          0.7293465210679778,
          0.7074209245742092,
          0.7809903124859628,
          0.7580514208389716,
          0.6630692855601122
         ]
        },
        {
         "marker": {
          "color": "brown"
         },
         "name": "percent_of_inpatients_with_covid",
         "type": "bar",
         "x": [
          "2021-01-31",
          "2021-02-28",
          "2020-05-31",
          "2020-12-31",
          "2020-12-31",
          "2020-12-31",
          "2020-12-31",
          "2020-12-31",
          "2020-12-31",
          "2020-12-31",
          "2020-12-31",
          "2020-12-31",
          "2020-12-31",
          "2020-12-31",
          "2020-12-31",
          "2020-12-31",
          "2020-12-31",
          "2020-12-31",
          "2020-12-31",
          "2020-11-30",
          "2020-11-30",
          "2020-11-30",
          "2020-11-30",
          "2020-11-30",
          "2020-11-30",
          "2020-11-30",
          "2020-11-30",
          "2020-11-30",
          "2020-11-30",
          "2020-11-30",
          "2020-11-30",
          "2020-11-30",
          "2020-11-30",
          "2020-11-30",
          "2020-11-30",
          "2020-05-31",
          "2020-05-31",
          "2020-05-31",
          "2020-05-31",
          "2020-05-31",
          "2020-05-31",
          "2020-05-31",
          "2020-05-31",
          "2020-05-31",
          "2020-05-31",
          "2020-05-31",
          "2020-05-31",
          "2020-05-31",
          "2020-05-31",
          "2020-05-31",
          "2020-09-30",
          "2020-09-30",
          "2020-09-30",
          "2020-09-30",
          "2020-09-30",
          "2020-09-30",
          "2020-09-30",
          "2020-09-30",
          "2020-09-30",
          "2020-09-30",
          "2020-09-30",
          "2020-09-30",
          "2020-09-30",
          "2020-09-30",
          "2020-09-30",
          "2020-09-30",
          "2020-03-31",
          "2020-03-31",
          "2020-03-31",
          "2020-03-31",
          "2020-03-31",
          "2020-03-31",
          "2020-03-31",
          "2020-03-31",
          "2020-03-31",
          "2020-03-31",
          "2020-03-31",
          "2020-03-31",
          "2020-03-31",
          "2020-03-31",
          "2020-03-31",
          "2020-03-31",
          "2021-03-20",
          "2021-03-20",
          "2021-03-20",
          "2021-03-20",
          "2021-03-20",
          "2021-03-20",
          "2021-03-20",
          "2021-03-20",
          "2021-03-20",
          "2021-03-20",
          "2021-03-20",
          "2021-03-20",
          "2021-03-20",
          "2021-03-20",
          "2021-03-20",
          "2021-03-20",
          "2020-04-30",
          "2020-04-30",
          "2020-04-30",
          "2020-04-30",
          "2020-04-30",
          "2020-04-30",
          "2020-04-30",
          "2020-04-30",
          "2020-04-30",
          "2020-04-30",
          "2020-04-30",
          "2020-04-30",
          "2020-04-30",
          "2020-04-30",
          "2020-04-30",
          "2020-04-30",
          "2021-02-28",
          "2021-02-28",
          "2021-02-28",
          "2021-02-28",
          "2021-02-28",
          "2021-02-28",
          "2021-02-28",
          "2021-02-28",
          "2021-02-28",
          "2021-02-28",
          "2021-02-28",
          "2021-02-28",
          "2021-02-28",
          "2021-02-28",
          "2021-02-28",
          "2020-10-31",
          "2020-10-31",
          "2020-10-31",
          "2020-10-31",
          "2020-10-31",
          "2020-10-31",
          "2020-10-31",
          "2020-10-31",
          "2020-10-31",
          "2020-10-31",
          "2020-10-31",
          "2020-10-31",
          "2020-10-31",
          "2020-10-31",
          "2020-10-31",
          "2020-10-31",
          "2020-06-30",
          "2020-06-30",
          "2020-06-30",
          "2020-06-30",
          "2020-06-30",
          "2020-06-30",
          "2020-06-30",
          "2020-06-30",
          "2020-06-30",
          "2020-06-30",
          "2020-06-30",
          "2020-06-30",
          "2020-06-30",
          "2020-06-30",
          "2020-06-30",
          "2020-06-30",
          "2021-01-31",
          "2021-01-31",
          "2021-01-31",
          "2021-01-31",
          "2021-01-31",
          "2021-01-31",
          "2021-01-31",
          "2021-01-31",
          "2021-01-31",
          "2021-01-31",
          "2021-01-31",
          "2021-01-31",
          "2021-01-31",
          "2021-01-31",
          "2021-01-31"
         ],
         "y": [
          0.16106333072713058,
          0.08060131137054212,
          0.1253030020510908,
          0.3663852647735994,
          0.15839085081194576,
          0.16203259827420902,
          0.09216589861751152,
          0.11674571324334185,
          0.20884729902169288,
          0.3973727727095372,
          0.1864127174565087,
          0.06347438752783964,
          0.2656914893617021,
          0.12183768467921473,
          0.1939273725968874,
          0.1530454895913647,
          0.18874954561977464,
          0.2277827104689644,
          0.2610052285376961,
          0.1216545623602141,
          0.17578579743888242,
          0.2378764675855028,
          0.266055969398027,
          0.16712630998345285,
          0.20205816554809844,
          0.08336448598130841,
          0.20991703646536755,
          0.03636363636363636,
          0.16578540108331186,
          0.245369406867846,
          0.2297596727458667,
          0.2979324256177509,
          0.1763103513056547,
          0.3155021834061135,
          0.2631289524333242,
          0.04340163031504737,
          0.19440279860069964,
          0.12582781456953646,
          0.10519774292177284,
          0.1724137931034483,
          0.08835290222346738,
          0.026986506746626688,
          0.01963350785340314,
          0.07906558849955078,
          0.20121185250868248,
          0.09881889763779528,
          0.11572392319667878,
          0.1089208152355496,
          0.11375379316000984,
          0.001955034213098729,
          0.08188548119051216,
          0.047726249437190456,
          0.07367197438259421,
          0.058676207513416824,
          0.05821307678603242,
          0.03899721448467967,
          0.07047443574389682,
          0.07327673337376188,
          0.09319314872402387,
          0.08659902029391182,
          0.08152976966536289,
          0.0422292824993381,
          0.032695374800637965,
          0.08467512786512597,
          0.1014799154334038,
          0.14227121250961292,
          0.08568207440811725,
          0.11884753901560625,
          0.12171837708830548,
          0.17565485362095531,
          0.15126050420168066,
          0.08196721311475409,
          0.16777408637873753,
          0.04871660555264536,
          0.14956930305403288,
          0.2715633423180593,
          0.0994263862332696,
          0.15053763440860216,
          0.3543123543123543,
          0.13157894736842105,
          0.18684719535783365,
          0.04662379421221865,
          0.07993605115907274,
          0.05133735979292493,
          0.06671351305310677,
          0.04186564788283986,
          0.057207837648705386,
          0.07660890232364954,
          0.042531120331950216,
          0.04832076764907471,
          0.07122991347342399,
          0.05562099201675173,
          0.057261646036095626,
          0.05162356601205522,
          0.05052686128865089,
          0.08114387846291332,
          0.01753424657534246,
          0.041158536585365856,
          0.1985906470211403,
          0.12339024626408032,
          0.28345996493278786,
          0.037018877175778384,
          0.16732377538829152,
          0.0248790601243953,
          0.02797202797202797,
          0.11295999999999999,
          0.3256010836437521,
          0.25635779011984805,
          0.17639609978472834,
          0.09193584820420148,
          0.1606886657101865,
          0.24232605729877216,
          0.023549201009251473,
          0.13321917808219175,
          0.047882952782088234,
          0.1479463537300922,
          0.01953125,
          0.06777866031241726,
          0.08205176294073517,
          0.06679849522523391,
          0.0627754774943235,
          0.07308286155429748,
          0.023933402705515087,
          0.09762391890635172,
          0.1116478797638218,
          0.08653999680664218,
          0.117593277896295,
          0.08032490974729242,
          0.09881889763779528,
          0.043454038997214485,
          0.10722456351595423,
          0.14274338044993032,
          0.0839267548321465,
          0.10420762878489973,
          0.1641914997557401,
          0.15061326014237927,
          0.10710280373831776,
          0.0851203912716328,
          0.07749230694084892,
          0.1279733587059943,
          0.1040339702760085,
          0.06149445834823025,
          0.0668804397617957,
          0.07101985122584621,
          0.11727183513248282,
          0.15599757673667206,
          0.10408801639521087,
          0.04113029827315542,
          0.014285714285714284,
          0.048507462686567165,
          0.08857007351197534,
          0.03389830508474576,
          0.07417613962567457,
          0.08275862068965517,
          0.04872267579668159,
          0.14950037557189358,
          0.15023821437117932,
          0.0826204882119758,
          0.5926430517711172,
          0.057703081232493,
          0.049378511833815766,
          0.2580373674465578,
          0.05211190345584202,
          0.08201687946331962,
          0.12766272189349112,
          0.13284804367606914,
          0.2000541174348336,
          0.08740923414166324,
          0.15609005990222855,
          0.10295566502463054,
          0.049180327868852465,
          0.29705577275991385,
          0.15130434782608695,
          0.2922370002714336,
          0.11825192802056556,
          0.1612534682552636
         ]
        }
       ],
       "layout": {
        "template": {
         "data": {
          "bar": [
           {
            "error_x": {
             "color": "#2a3f5f"
            },
            "error_y": {
             "color": "#2a3f5f"
            },
            "marker": {
             "line": {
              "color": "#E5ECF6",
              "width": 0.5
             }
            },
            "type": "bar"
           }
          ],
          "barpolar": [
           {
            "marker": {
             "line": {
              "color": "#E5ECF6",
              "width": 0.5
             }
            },
            "type": "barpolar"
           }
          ],
          "carpet": [
           {
            "aaxis": {
             "endlinecolor": "#2a3f5f",
             "gridcolor": "white",
             "linecolor": "white",
             "minorgridcolor": "white",
             "startlinecolor": "#2a3f5f"
            },
            "baxis": {
             "endlinecolor": "#2a3f5f",
             "gridcolor": "white",
             "linecolor": "white",
             "minorgridcolor": "white",
             "startlinecolor": "#2a3f5f"
            },
            "type": "carpet"
           }
          ],
          "choropleth": [
           {
            "colorbar": {
             "outlinewidth": 0,
             "ticks": ""
            },
            "type": "choropleth"
           }
          ],
          "contour": [
           {
            "colorbar": {
             "outlinewidth": 0,
             "ticks": ""
            },
            "colorscale": [
             [
              0,
              "#0d0887"
             ],
             [
              0.1111111111111111,
              "#46039f"
             ],
             [
              0.2222222222222222,
              "#7201a8"
             ],
             [
              0.3333333333333333,
              "#9c179e"
             ],
             [
              0.4444444444444444,
              "#bd3786"
             ],
             [
              0.5555555555555556,
              "#d8576b"
             ],
             [
              0.6666666666666666,
              "#ed7953"
             ],
             [
              0.7777777777777778,
              "#fb9f3a"
             ],
             [
              0.8888888888888888,
              "#fdca26"
             ],
             [
              1,
              "#f0f921"
             ]
            ],
            "type": "contour"
           }
          ],
          "contourcarpet": [
           {
            "colorbar": {
             "outlinewidth": 0,
             "ticks": ""
            },
            "type": "contourcarpet"
           }
          ],
          "heatmap": [
           {
            "colorbar": {
             "outlinewidth": 0,
             "ticks": ""
            },
            "colorscale": [
             [
              0,
              "#0d0887"
             ],
             [
              0.1111111111111111,
              "#46039f"
             ],
             [
              0.2222222222222222,
              "#7201a8"
             ],
             [
              0.3333333333333333,
              "#9c179e"
             ],
             [
              0.4444444444444444,
              "#bd3786"
             ],
             [
              0.5555555555555556,
              "#d8576b"
             ],
             [
              0.6666666666666666,
              "#ed7953"
             ],
             [
              0.7777777777777778,
              "#fb9f3a"
             ],
             [
              0.8888888888888888,
              "#fdca26"
             ],
             [
              1,
              "#f0f921"
             ]
            ],
            "type": "heatmap"
           }
          ],
          "heatmapgl": [
           {
            "colorbar": {
             "outlinewidth": 0,
             "ticks": ""
            },
            "colorscale": [
             [
              0,
              "#0d0887"
             ],
             [
              0.1111111111111111,
              "#46039f"
             ],
             [
              0.2222222222222222,
              "#7201a8"
             ],
             [
              0.3333333333333333,
              "#9c179e"
             ],
             [
              0.4444444444444444,
              "#bd3786"
             ],
             [
              0.5555555555555556,
              "#d8576b"
             ],
             [
              0.6666666666666666,
              "#ed7953"
             ],
             [
              0.7777777777777778,
              "#fb9f3a"
             ],
             [
              0.8888888888888888,
              "#fdca26"
             ],
             [
              1,
              "#f0f921"
             ]
            ],
            "type": "heatmapgl"
           }
          ],
          "histogram": [
           {
            "marker": {
             "colorbar": {
              "outlinewidth": 0,
              "ticks": ""
             }
            },
            "type": "histogram"
           }
          ],
          "histogram2d": [
           {
            "colorbar": {
             "outlinewidth": 0,
             "ticks": ""
            },
            "colorscale": [
             [
              0,
              "#0d0887"
             ],
             [
              0.1111111111111111,
              "#46039f"
             ],
             [
              0.2222222222222222,
              "#7201a8"
             ],
             [
              0.3333333333333333,
              "#9c179e"
             ],
             [
              0.4444444444444444,
              "#bd3786"
             ],
             [
              0.5555555555555556,
              "#d8576b"
             ],
             [
              0.6666666666666666,
              "#ed7953"
             ],
             [
              0.7777777777777778,
              "#fb9f3a"
             ],
             [
              0.8888888888888888,
              "#fdca26"
             ],
             [
              1,
              "#f0f921"
             ]
            ],
            "type": "histogram2d"
           }
          ],
          "histogram2dcontour": [
           {
            "colorbar": {
             "outlinewidth": 0,
             "ticks": ""
            },
            "colorscale": [
             [
              0,
              "#0d0887"
             ],
             [
              0.1111111111111111,
              "#46039f"
             ],
             [
              0.2222222222222222,
              "#7201a8"
             ],
             [
              0.3333333333333333,
              "#9c179e"
             ],
             [
              0.4444444444444444,
              "#bd3786"
             ],
             [
              0.5555555555555556,
              "#d8576b"
             ],
             [
              0.6666666666666666,
              "#ed7953"
             ],
             [
              0.7777777777777778,
              "#fb9f3a"
             ],
             [
              0.8888888888888888,
              "#fdca26"
             ],
             [
              1,
              "#f0f921"
             ]
            ],
            "type": "histogram2dcontour"
           }
          ],
          "mesh3d": [
           {
            "colorbar": {
             "outlinewidth": 0,
             "ticks": ""
            },
            "type": "mesh3d"
           }
          ],
          "parcoords": [
           {
            "line": {
             "colorbar": {
              "outlinewidth": 0,
              "ticks": ""
             }
            },
            "type": "parcoords"
           }
          ],
          "pie": [
           {
            "automargin": true,
            "type": "pie"
           }
          ],
          "scatter": [
           {
            "marker": {
             "colorbar": {
              "outlinewidth": 0,
              "ticks": ""
             }
            },
            "type": "scatter"
           }
          ],
          "scatter3d": [
           {
            "line": {
             "colorbar": {
              "outlinewidth": 0,
              "ticks": ""
             }
            },
            "marker": {
             "colorbar": {
              "outlinewidth": 0,
              "ticks": ""
             }
            },
            "type": "scatter3d"
           }
          ],
          "scattercarpet": [
           {
            "marker": {
             "colorbar": {
              "outlinewidth": 0,
              "ticks": ""
             }
            },
            "type": "scattercarpet"
           }
          ],
          "scattergeo": [
           {
            "marker": {
             "colorbar": {
              "outlinewidth": 0,
              "ticks": ""
             }
            },
            "type": "scattergeo"
           }
          ],
          "scattergl": [
           {
            "marker": {
             "colorbar": {
              "outlinewidth": 0,
              "ticks": ""
             }
            },
            "type": "scattergl"
           }
          ],
          "scattermapbox": [
           {
            "marker": {
             "colorbar": {
              "outlinewidth": 0,
              "ticks": ""
             }
            },
            "type": "scattermapbox"
           }
          ],
          "scatterpolar": [
           {
            "marker": {
             "colorbar": {
              "outlinewidth": 0,
              "ticks": ""
             }
            },
            "type": "scatterpolar"
           }
          ],
          "scatterpolargl": [
           {
            "marker": {
             "colorbar": {
              "outlinewidth": 0,
              "ticks": ""
             }
            },
            "type": "scatterpolargl"
           }
          ],
          "scatterternary": [
           {
            "marker": {
             "colorbar": {
              "outlinewidth": 0,
              "ticks": ""
             }
            },
            "type": "scatterternary"
           }
          ],
          "surface": [
           {
            "colorbar": {
             "outlinewidth": 0,
             "ticks": ""
            },
            "colorscale": [
             [
              0,
              "#0d0887"
             ],
             [
              0.1111111111111111,
              "#46039f"
             ],
             [
              0.2222222222222222,
              "#7201a8"
             ],
             [
              0.3333333333333333,
              "#9c179e"
             ],
             [
              0.4444444444444444,
              "#bd3786"
             ],
             [
              0.5555555555555556,
              "#d8576b"
             ],
             [
              0.6666666666666666,
              "#ed7953"
             ],
             [
              0.7777777777777778,
              "#fb9f3a"
             ],
             [
              0.8888888888888888,
              "#fdca26"
             ],
             [
              1,
              "#f0f921"
             ]
            ],
            "type": "surface"
           }
          ],
          "table": [
           {
            "cells": {
             "fill": {
              "color": "#EBF0F8"
             },
             "line": {
              "color": "white"
             }
            },
            "header": {
             "fill": {
              "color": "#C8D4E3"
             },
             "line": {
              "color": "white"
             }
            },
            "type": "table"
           }
          ]
         },
         "layout": {
          "annotationdefaults": {
           "arrowcolor": "#2a3f5f",
           "arrowhead": 0,
           "arrowwidth": 1
          },
          "autotypenumbers": "strict",
          "coloraxis": {
           "colorbar": {
            "outlinewidth": 0,
            "ticks": ""
           }
          },
          "colorscale": {
           "diverging": [
            [
             0,
             "#8e0152"
            ],
            [
             0.1,
             "#c51b7d"
            ],
            [
             0.2,
             "#de77ae"
            ],
            [
             0.3,
             "#f1b6da"
            ],
            [
             0.4,
             "#fde0ef"
            ],
            [
             0.5,
             "#f7f7f7"
            ],
            [
             0.6,
             "#e6f5d0"
            ],
            [
             0.7,
             "#b8e186"
            ],
            [
             0.8,
             "#7fbc41"
            ],
            [
             0.9,
             "#4d9221"
            ],
            [
             1,
             "#276419"
            ]
           ],
           "sequential": [
            [
             0,
             "#0d0887"
            ],
            [
             0.1111111111111111,
             "#46039f"
            ],
            [
             0.2222222222222222,
             "#7201a8"
            ],
            [
             0.3333333333333333,
             "#9c179e"
            ],
            [
             0.4444444444444444,
             "#bd3786"
            ],
            [
             0.5555555555555556,
             "#d8576b"
            ],
            [
             0.6666666666666666,
             "#ed7953"
            ],
            [
             0.7777777777777778,
             "#fb9f3a"
            ],
            [
             0.8888888888888888,
             "#fdca26"
            ],
            [
             1,
             "#f0f921"
            ]
           ],
           "sequentialminus": [
            [
             0,
             "#0d0887"
            ],
            [
             0.1111111111111111,
             "#46039f"
            ],
            [
             0.2222222222222222,
             "#7201a8"
            ],
            [
             0.3333333333333333,
             "#9c179e"
            ],
            [
             0.4444444444444444,
             "#bd3786"
            ],
            [
             0.5555555555555556,
             "#d8576b"
            ],
            [
             0.6666666666666666,
             "#ed7953"
            ],
            [
             0.7777777777777778,
             "#fb9f3a"
            ],
            [
             0.8888888888888888,
             "#fdca26"
            ],
            [
             1,
             "#f0f921"
            ]
           ]
          },
          "colorway": [
           "#636efa",
           "#EF553B",
           "#00cc96",
           "#ab63fa",
           "#FFA15A",
           "#19d3f3",
           "#FF6692",
           "#B6E880",
           "#FF97FF",
           "#FECB52"
          ],
          "font": {
           "color": "#2a3f5f"
          },
          "geo": {
           "bgcolor": "white",
           "lakecolor": "white",
           "landcolor": "#E5ECF6",
           "showlakes": true,
           "showland": true,
           "subunitcolor": "white"
          },
          "hoverlabel": {
           "align": "left"
          },
          "hovermode": "closest",
          "mapbox": {
           "style": "light"
          },
          "paper_bgcolor": "white",
          "plot_bgcolor": "#E5ECF6",
          "polar": {
           "angularaxis": {
            "gridcolor": "white",
            "linecolor": "white",
            "ticks": ""
           },
           "bgcolor": "#E5ECF6",
           "radialaxis": {
            "gridcolor": "white",
            "linecolor": "white",
            "ticks": ""
           }
          },
          "scene": {
           "xaxis": {
            "backgroundcolor": "#E5ECF6",
            "gridcolor": "white",
            "gridwidth": 2,
            "linecolor": "white",
            "showbackground": true,
            "ticks": "",
            "zerolinecolor": "white"
           },
           "yaxis": {
            "backgroundcolor": "#E5ECF6",
            "gridcolor": "white",
            "gridwidth": 2,
            "linecolor": "white",
            "showbackground": true,
            "ticks": "",
            "zerolinecolor": "white"
           },
           "zaxis": {
            "backgroundcolor": "#E5ECF6",
            "gridcolor": "white",
            "gridwidth": 2,
            "linecolor": "white",
            "showbackground": true,
            "ticks": "",
            "zerolinecolor": "white"
           }
          },
          "shapedefaults": {
           "line": {
            "color": "#2a3f5f"
           }
          },
          "ternary": {
           "aaxis": {
            "gridcolor": "white",
            "linecolor": "white",
            "ticks": ""
           },
           "baxis": {
            "gridcolor": "white",
            "linecolor": "white",
            "ticks": ""
           },
           "bgcolor": "#E5ECF6",
           "caxis": {
            "gridcolor": "white",
            "linecolor": "white",
            "ticks": ""
           }
          },
          "title": {
           "x": 0.05
          },
          "xaxis": {
           "automargin": true,
           "gridcolor": "white",
           "linecolor": "white",
           "ticks": "",
           "title": {
            "standoff": 15
           },
           "zerolinecolor": "white",
           "zerolinewidth": 2
          },
          "yaxis": {
           "automargin": true,
           "gridcolor": "white",
           "linecolor": "white",
           "ticks": "",
           "title": {
            "standoff": 15
           },
           "zerolinecolor": "white",
           "zerolinewidth": 2
          }
         }
        },
        "title": {
         "text": "Inpatient Bed Utilisation vs Percent of Inpatient beds with Covid-19",
         "x": 0.45,
         "xanchor": "center",
         "y": 0.9,
         "yanchor": "top"
        }
       }
      },
      "text/html": [
       "<div>                            <div id=\"409cf252-7c52-484a-a6e6-ef7cf84ae84e\" class=\"plotly-graph-div\" style=\"height:525px; width:100%;\"></div>            <script type=\"text/javascript\">                require([\"plotly\"], function(Plotly) {                    window.PLOTLYENV=window.PLOTLYENV || {};                                    if (document.getElementById(\"409cf252-7c52-484a-a6e6-ef7cf84ae84e\")) {                    Plotly.newPlot(                        \"409cf252-7c52-484a-a6e6-ef7cf84ae84e\",                        [{\"marker\": {\"color\": \"orange\"}, \"name\": \"inpatient_beds_utilization\", \"type\": \"bar\", \"x\": [\"2021-01-31\", \"2021-02-28\", \"2020-05-31\", \"2020-12-31\", \"2020-12-31\", \"2020-12-31\", \"2020-12-31\", \"2020-12-31\", \"2020-12-31\", \"2020-12-31\", \"2020-12-31\", \"2020-12-31\", \"2020-12-31\", \"2020-12-31\", \"2020-12-31\", \"2020-12-31\", \"2020-12-31\", \"2020-12-31\", \"2020-12-31\", \"2020-11-30\", \"2020-11-30\", \"2020-11-30\", \"2020-11-30\", \"2020-11-30\", \"2020-11-30\", \"2020-11-30\", \"2020-11-30\", \"2020-11-30\", \"2020-11-30\", \"2020-11-30\", \"2020-11-30\", \"2020-11-30\", \"2020-11-30\", \"2020-11-30\", \"2020-11-30\", \"2020-05-31\", \"2020-05-31\", \"2020-05-31\", \"2020-05-31\", \"2020-05-31\", \"2020-05-31\", \"2020-05-31\", \"2020-05-31\", \"2020-05-31\", \"2020-05-31\", \"2020-05-31\", \"2020-05-31\", \"2020-05-31\", \"2020-05-31\", \"2020-05-31\", \"2020-09-30\", \"2020-09-30\", \"2020-09-30\", \"2020-09-30\", \"2020-09-30\", \"2020-09-30\", \"2020-09-30\", \"2020-09-30\", \"2020-09-30\", \"2020-09-30\", \"2020-09-30\", \"2020-09-30\", \"2020-09-30\", \"2020-09-30\", \"2020-09-30\", \"2020-09-30\", \"2020-03-31\", \"2020-03-31\", \"2020-03-31\", \"2020-03-31\", \"2020-03-31\", \"2020-03-31\", \"2020-03-31\", \"2020-03-31\", \"2020-03-31\", \"2020-03-31\", \"2020-03-31\", \"2020-03-31\", \"2020-03-31\", \"2020-03-31\", \"2020-03-31\", \"2020-03-31\", \"2021-03-20\", \"2021-03-20\", \"2021-03-20\", \"2021-03-20\", \"2021-03-20\", \"2021-03-20\", \"2021-03-20\", \"2021-03-20\", \"2021-03-20\", \"2021-03-20\", \"2021-03-20\", \"2021-03-20\", \"2021-03-20\", \"2021-03-20\", \"2021-03-20\", \"2021-03-20\", \"2020-04-30\", \"2020-04-30\", \"2020-04-30\", \"2020-04-30\", \"2020-04-30\", \"2020-04-30\", \"2020-04-30\", \"2020-04-30\", \"2020-04-30\", \"2020-04-30\", \"2020-04-30\", \"2020-04-30\", \"2020-04-30\", \"2020-04-30\", \"2020-04-30\", \"2020-04-30\", \"2021-02-28\", \"2021-02-28\", \"2021-02-28\", \"2021-02-28\", \"2021-02-28\", \"2021-02-28\", \"2021-02-28\", \"2021-02-28\", \"2021-02-28\", \"2021-02-28\", \"2021-02-28\", \"2021-02-28\", \"2021-02-28\", \"2021-02-28\", \"2021-02-28\", \"2020-10-31\", \"2020-10-31\", \"2020-10-31\", \"2020-10-31\", \"2020-10-31\", \"2020-10-31\", \"2020-10-31\", \"2020-10-31\", \"2020-10-31\", \"2020-10-31\", \"2020-10-31\", \"2020-10-31\", \"2020-10-31\", \"2020-10-31\", \"2020-10-31\", \"2020-10-31\", \"2020-06-30\", \"2020-06-30\", \"2020-06-30\", \"2020-06-30\", \"2020-06-30\", \"2020-06-30\", \"2020-06-30\", \"2020-06-30\", \"2020-06-30\", \"2020-06-30\", \"2020-06-30\", \"2020-06-30\", \"2020-06-30\", \"2020-06-30\", \"2020-06-30\", \"2020-06-30\", \"2021-01-31\", \"2021-01-31\", \"2021-01-31\", \"2021-01-31\", \"2021-01-31\", \"2021-01-31\", \"2021-01-31\", \"2021-01-31\", \"2021-01-31\", \"2021-01-31\", \"2021-01-31\", \"2021-01-31\", \"2021-01-31\", \"2021-01-31\", \"2021-01-31\"], \"y\": [0.7618878637331441, 0.7470964683574307, 0.5391033373542421, 0.7731107103380068, 0.7808978131075897, 0.5674157303370787, 0.5286236297198539, 0.7842484747642817, 0.7299539170506912, 0.7879208809017377, 0.7199612403100775, 0.6769694685261968, 0.8282678742488897, 0.6162561576354679, 0.7794811320754716, 0.666101982043029, 0.6839984001476787, 0.6645919778699861, 0.7770291743469141, 0.7344113372093023, 0.5973574408901252, 0.5845297392323469, 0.7065118556340491, 0.6804469273743017, 0.709019349578198, 0.7701500833796554, 0.6796395455139088, 0.6787420382165605, 0.7625346496133832, 0.590546421663443, 0.7135272112947991, 0.6616181614201808, 0.7255251684502576, 0.6335084513476473, 0.6630581867388363, 0.5536716272261527, 0.7182340272792535, 0.6312709030100334, 0.5915507455224539, 0.7086569426027657, 0.64357243044003, 0.5358744394618834, 0.4130846174641795, 0.4841246722982814, 0.6036936253736004, 0.6322602057749751, 0.5393523334026766, 0.4540351941747573, 0.652904953145917, 0.6003521126760564, 0.7195320116997075, 0.7724486116119726, 0.7137149847473637, 0.8027816411682893, 0.596824810780875, 0.6750663129973474, 0.5142857142857142, 0.6788791368065061, 0.6593769614482508, 0.7512690355329951, 0.6603719924918947, 0.6929234127706021, 0.7743476662991547, 0.650809100863852, 0.7769827072152653, 0.7672836807073798, 0.4978950322761718, 0.5653846153846154, 0.490632318501171, 0.6394088669950739, 0.519650655021834, 0.2943699731903485, 0.5666771258236586, 0.7325402916346891, 0.4570508231925554, 0.5161739130434783, 0.4098746081504702, 0.5798004987531172, 0.6417352281226627, 0.29862475442043224, 0.6033843300880853, 0.5605526161081716, 0.7441793618855993, 0.7081947384336257, 0.7439444740387929, 0.6811108709747137, 0.67511895091099, 0.7497443065593891, 0.5910484365419988, 0.8005427408412483, 0.7747598149685684, 0.6487235471951629, 0.6646252370441758, 0.6897399404838919, 0.610411988930082, 0.737667770611818, 0.6891993957703928, 0.5750309023485785, 0.5573009639414495, 0.5814077429669953, 0.7152542372881356, 0.4916333481415667, 0.5055254102699841, 0.39912039582188014, 0.35499693439607605, 0.6042877178922059, 0.5600560056005601, 0.625285739405662, 0.4852426543413668, 0.6304933944459423, 0.5006388959877331, 0.6221507106462859, 0.6159779614325069, 0.4375200770960488, 0.5639097744360902, 0.7535113925179471, 0.6754617414248021, 0.5965535248041776, 0.7086041572816784, 0.6522429411947825, 0.6377654196157735, 0.539111474516217, 0.5768307322929171, 0.7442653705124925, 0.6663543191800878, 0.679324894514768, 0.7284660328002381, 0.6806362802080147, 0.7635036496350365, 0.6765263557072431, 0.7545739910313901, 0.6183779852103285, 0.7144746333253186, 0.6709941622375185, 0.6506799146523996, 0.6336281276962901, 0.715049504950495, 0.6955794350427901, 0.7152847152847153, 0.5245579567779961, 0.6309444072337576, 0.7885620016497114, 0.6875, 0.7033717848553089, 0.63577784596502, 0.7249835297562404, 0.7133022259619062, 0.5653537818055071, 0.7245543415756182, 0.5302547770700637, 0.6186216037110669, 0.4642014162077104, 0.5906753055908089, 0.7438440492476059, 0.5114142915034445, 0.6536384330412272, 0.7751814392240878, 0.6312392993546688, 0.8100732416976021, 0.6743483188515299, 0.6133040935672515, 0.7802345203582709, 0.6871466264606106, 0.5777640518838789, 0.6381892337868551, 0.648966766084363, 0.7406953492872347, 0.6240588782674901, 0.7615106675843083, 0.5554057697492586, 0.5502104630186411, 0.7293465210679778, 0.7074209245742092, 0.7809903124859628, 0.7580514208389716, 0.6630692855601122]}, {\"marker\": {\"color\": \"brown\"}, \"name\": \"percent_of_inpatients_with_covid\", \"type\": \"bar\", \"x\": [\"2021-01-31\", \"2021-02-28\", \"2020-05-31\", \"2020-12-31\", \"2020-12-31\", \"2020-12-31\", \"2020-12-31\", \"2020-12-31\", \"2020-12-31\", \"2020-12-31\", \"2020-12-31\", \"2020-12-31\", \"2020-12-31\", \"2020-12-31\", \"2020-12-31\", \"2020-12-31\", \"2020-12-31\", \"2020-12-31\", \"2020-12-31\", \"2020-11-30\", \"2020-11-30\", \"2020-11-30\", \"2020-11-30\", \"2020-11-30\", \"2020-11-30\", \"2020-11-30\", \"2020-11-30\", \"2020-11-30\", \"2020-11-30\", \"2020-11-30\", \"2020-11-30\", \"2020-11-30\", \"2020-11-30\", \"2020-11-30\", \"2020-11-30\", \"2020-05-31\", \"2020-05-31\", \"2020-05-31\", \"2020-05-31\", \"2020-05-31\", \"2020-05-31\", \"2020-05-31\", \"2020-05-31\", \"2020-05-31\", \"2020-05-31\", \"2020-05-31\", \"2020-05-31\", \"2020-05-31\", \"2020-05-31\", \"2020-05-31\", \"2020-09-30\", \"2020-09-30\", \"2020-09-30\", \"2020-09-30\", \"2020-09-30\", \"2020-09-30\", \"2020-09-30\", \"2020-09-30\", \"2020-09-30\", \"2020-09-30\", \"2020-09-30\", \"2020-09-30\", \"2020-09-30\", \"2020-09-30\", \"2020-09-30\", \"2020-09-30\", \"2020-03-31\", \"2020-03-31\", \"2020-03-31\", \"2020-03-31\", \"2020-03-31\", \"2020-03-31\", \"2020-03-31\", \"2020-03-31\", \"2020-03-31\", \"2020-03-31\", \"2020-03-31\", \"2020-03-31\", \"2020-03-31\", \"2020-03-31\", \"2020-03-31\", \"2020-03-31\", \"2021-03-20\", \"2021-03-20\", \"2021-03-20\", \"2021-03-20\", \"2021-03-20\", \"2021-03-20\", \"2021-03-20\", \"2021-03-20\", \"2021-03-20\", \"2021-03-20\", \"2021-03-20\", \"2021-03-20\", \"2021-03-20\", \"2021-03-20\", \"2021-03-20\", \"2021-03-20\", \"2020-04-30\", \"2020-04-30\", \"2020-04-30\", \"2020-04-30\", \"2020-04-30\", \"2020-04-30\", \"2020-04-30\", \"2020-04-30\", \"2020-04-30\", \"2020-04-30\", \"2020-04-30\", \"2020-04-30\", \"2020-04-30\", \"2020-04-30\", \"2020-04-30\", \"2020-04-30\", \"2021-02-28\", \"2021-02-28\", \"2021-02-28\", \"2021-02-28\", \"2021-02-28\", \"2021-02-28\", \"2021-02-28\", \"2021-02-28\", \"2021-02-28\", \"2021-02-28\", \"2021-02-28\", \"2021-02-28\", \"2021-02-28\", \"2021-02-28\", \"2021-02-28\", \"2020-10-31\", \"2020-10-31\", \"2020-10-31\", \"2020-10-31\", \"2020-10-31\", \"2020-10-31\", \"2020-10-31\", \"2020-10-31\", \"2020-10-31\", \"2020-10-31\", \"2020-10-31\", \"2020-10-31\", \"2020-10-31\", \"2020-10-31\", \"2020-10-31\", \"2020-10-31\", \"2020-06-30\", \"2020-06-30\", \"2020-06-30\", \"2020-06-30\", \"2020-06-30\", \"2020-06-30\", \"2020-06-30\", \"2020-06-30\", \"2020-06-30\", \"2020-06-30\", \"2020-06-30\", \"2020-06-30\", \"2020-06-30\", \"2020-06-30\", \"2020-06-30\", \"2020-06-30\", \"2021-01-31\", \"2021-01-31\", \"2021-01-31\", \"2021-01-31\", \"2021-01-31\", \"2021-01-31\", \"2021-01-31\", \"2021-01-31\", \"2021-01-31\", \"2021-01-31\", \"2021-01-31\", \"2021-01-31\", \"2021-01-31\", \"2021-01-31\", \"2021-01-31\"], \"y\": [0.16106333072713058, 0.08060131137054212, 0.1253030020510908, 0.3663852647735994, 0.15839085081194576, 0.16203259827420902, 0.09216589861751152, 0.11674571324334185, 0.20884729902169288, 0.3973727727095372, 0.1864127174565087, 0.06347438752783964, 0.2656914893617021, 0.12183768467921473, 0.1939273725968874, 0.1530454895913647, 0.18874954561977464, 0.2277827104689644, 0.2610052285376961, 0.1216545623602141, 0.17578579743888242, 0.2378764675855028, 0.266055969398027, 0.16712630998345285, 0.20205816554809844, 0.08336448598130841, 0.20991703646536755, 0.03636363636363636, 0.16578540108331186, 0.245369406867846, 0.2297596727458667, 0.2979324256177509, 0.1763103513056547, 0.3155021834061135, 0.2631289524333242, 0.04340163031504737, 0.19440279860069964, 0.12582781456953646, 0.10519774292177284, 0.1724137931034483, 0.08835290222346738, 0.026986506746626688, 0.01963350785340314, 0.07906558849955078, 0.20121185250868248, 0.09881889763779528, 0.11572392319667878, 0.1089208152355496, 0.11375379316000984, 0.001955034213098729, 0.08188548119051216, 0.047726249437190456, 0.07367197438259421, 0.058676207513416824, 0.05821307678603242, 0.03899721448467967, 0.07047443574389682, 0.07327673337376188, 0.09319314872402387, 0.08659902029391182, 0.08152976966536289, 0.0422292824993381, 0.032695374800637965, 0.08467512786512597, 0.1014799154334038, 0.14227121250961292, 0.08568207440811725, 0.11884753901560625, 0.12171837708830548, 0.17565485362095531, 0.15126050420168066, 0.08196721311475409, 0.16777408637873753, 0.04871660555264536, 0.14956930305403288, 0.2715633423180593, 0.0994263862332696, 0.15053763440860216, 0.3543123543123543, 0.13157894736842105, 0.18684719535783365, 0.04662379421221865, 0.07993605115907274, 0.05133735979292493, 0.06671351305310677, 0.04186564788283986, 0.057207837648705386, 0.07660890232364954, 0.042531120331950216, 0.04832076764907471, 0.07122991347342399, 0.05562099201675173, 0.057261646036095626, 0.05162356601205522, 0.05052686128865089, 0.08114387846291332, 0.01753424657534246, 0.041158536585365856, 0.1985906470211403, 0.12339024626408032, 0.28345996493278786, 0.037018877175778384, 0.16732377538829152, 0.0248790601243953, 0.02797202797202797, 0.11295999999999999, 0.3256010836437521, 0.25635779011984805, 0.17639609978472834, 0.09193584820420148, 0.1606886657101865, 0.24232605729877216, 0.023549201009251473, 0.13321917808219175, 0.047882952782088234, 0.1479463537300922, 0.01953125, 0.06777866031241726, 0.08205176294073517, 0.06679849522523391, 0.0627754774943235, 0.07308286155429748, 0.023933402705515087, 0.09762391890635172, 0.1116478797638218, 0.08653999680664218, 0.117593277896295, 0.08032490974729242, 0.09881889763779528, 0.043454038997214485, 0.10722456351595423, 0.14274338044993032, 0.0839267548321465, 0.10420762878489973, 0.1641914997557401, 0.15061326014237927, 0.10710280373831776, 0.0851203912716328, 0.07749230694084892, 0.1279733587059943, 0.1040339702760085, 0.06149445834823025, 0.0668804397617957, 0.07101985122584621, 0.11727183513248282, 0.15599757673667206, 0.10408801639521087, 0.04113029827315542, 0.014285714285714284, 0.048507462686567165, 0.08857007351197534, 0.03389830508474576, 0.07417613962567457, 0.08275862068965517, 0.04872267579668159, 0.14950037557189358, 0.15023821437117932, 0.0826204882119758, 0.5926430517711172, 0.057703081232493, 0.049378511833815766, 0.2580373674465578, 0.05211190345584202, 0.08201687946331962, 0.12766272189349112, 0.13284804367606914, 0.2000541174348336, 0.08740923414166324, 0.15609005990222855, 0.10295566502463054, 0.049180327868852465, 0.29705577275991385, 0.15130434782608695, 0.2922370002714336, 0.11825192802056556, 0.1612534682552636]}],                        {\"template\": {\"data\": {\"bar\": [{\"error_x\": {\"color\": \"#2a3f5f\"}, \"error_y\": {\"color\": \"#2a3f5f\"}, \"marker\": {\"line\": {\"color\": \"#E5ECF6\", \"width\": 0.5}}, \"type\": \"bar\"}], \"barpolar\": [{\"marker\": {\"line\": {\"color\": \"#E5ECF6\", \"width\": 0.5}}, \"type\": \"barpolar\"}], \"carpet\": [{\"aaxis\": {\"endlinecolor\": \"#2a3f5f\", \"gridcolor\": \"white\", \"linecolor\": \"white\", \"minorgridcolor\": \"white\", \"startlinecolor\": \"#2a3f5f\"}, \"baxis\": {\"endlinecolor\": \"#2a3f5f\", \"gridcolor\": \"white\", \"linecolor\": \"white\", \"minorgridcolor\": \"white\", \"startlinecolor\": \"#2a3f5f\"}, \"type\": \"carpet\"}], \"choropleth\": [{\"colorbar\": {\"outlinewidth\": 0, \"ticks\": \"\"}, \"type\": \"choropleth\"}], \"contour\": [{\"colorbar\": {\"outlinewidth\": 0, \"ticks\": \"\"}, \"colorscale\": [[0.0, \"#0d0887\"], [0.1111111111111111, \"#46039f\"], [0.2222222222222222, \"#7201a8\"], [0.3333333333333333, \"#9c179e\"], [0.4444444444444444, \"#bd3786\"], [0.5555555555555556, \"#d8576b\"], [0.6666666666666666, \"#ed7953\"], [0.7777777777777778, \"#fb9f3a\"], [0.8888888888888888, \"#fdca26\"], [1.0, \"#f0f921\"]], \"type\": \"contour\"}], \"contourcarpet\": [{\"colorbar\": {\"outlinewidth\": 0, \"ticks\": \"\"}, \"type\": \"contourcarpet\"}], \"heatmap\": [{\"colorbar\": {\"outlinewidth\": 0, \"ticks\": \"\"}, \"colorscale\": [[0.0, \"#0d0887\"], [0.1111111111111111, \"#46039f\"], [0.2222222222222222, \"#7201a8\"], [0.3333333333333333, \"#9c179e\"], [0.4444444444444444, \"#bd3786\"], [0.5555555555555556, \"#d8576b\"], [0.6666666666666666, \"#ed7953\"], [0.7777777777777778, \"#fb9f3a\"], [0.8888888888888888, \"#fdca26\"], [1.0, \"#f0f921\"]], \"type\": \"heatmap\"}], \"heatmapgl\": [{\"colorbar\": {\"outlinewidth\": 0, \"ticks\": \"\"}, \"colorscale\": [[0.0, \"#0d0887\"], [0.1111111111111111, \"#46039f\"], [0.2222222222222222, \"#7201a8\"], [0.3333333333333333, \"#9c179e\"], [0.4444444444444444, \"#bd3786\"], [0.5555555555555556, \"#d8576b\"], [0.6666666666666666, \"#ed7953\"], [0.7777777777777778, \"#fb9f3a\"], [0.8888888888888888, \"#fdca26\"], [1.0, \"#f0f921\"]], \"type\": \"heatmapgl\"}], \"histogram\": [{\"marker\": {\"colorbar\": {\"outlinewidth\": 0, \"ticks\": \"\"}}, \"type\": \"histogram\"}], \"histogram2d\": [{\"colorbar\": {\"outlinewidth\": 0, \"ticks\": \"\"}, \"colorscale\": [[0.0, \"#0d0887\"], [0.1111111111111111, \"#46039f\"], [0.2222222222222222, \"#7201a8\"], [0.3333333333333333, \"#9c179e\"], [0.4444444444444444, \"#bd3786\"], [0.5555555555555556, \"#d8576b\"], [0.6666666666666666, \"#ed7953\"], [0.7777777777777778, \"#fb9f3a\"], [0.8888888888888888, \"#fdca26\"], [1.0, \"#f0f921\"]], \"type\": \"histogram2d\"}], \"histogram2dcontour\": [{\"colorbar\": {\"outlinewidth\": 0, \"ticks\": \"\"}, \"colorscale\": [[0.0, \"#0d0887\"], [0.1111111111111111, \"#46039f\"], [0.2222222222222222, \"#7201a8\"], [0.3333333333333333, \"#9c179e\"], [0.4444444444444444, \"#bd3786\"], [0.5555555555555556, \"#d8576b\"], [0.6666666666666666, \"#ed7953\"], [0.7777777777777778, \"#fb9f3a\"], [0.8888888888888888, \"#fdca26\"], [1.0, \"#f0f921\"]], \"type\": \"histogram2dcontour\"}], \"mesh3d\": [{\"colorbar\": {\"outlinewidth\": 0, \"ticks\": \"\"}, \"type\": \"mesh3d\"}], \"parcoords\": [{\"line\": {\"colorbar\": {\"outlinewidth\": 0, \"ticks\": \"\"}}, \"type\": \"parcoords\"}], \"pie\": [{\"automargin\": true, \"type\": \"pie\"}], \"scatter\": [{\"marker\": {\"colorbar\": {\"outlinewidth\": 0, \"ticks\": \"\"}}, \"type\": \"scatter\"}], \"scatter3d\": [{\"line\": {\"colorbar\": {\"outlinewidth\": 0, \"ticks\": \"\"}}, \"marker\": {\"colorbar\": {\"outlinewidth\": 0, \"ticks\": \"\"}}, \"type\": \"scatter3d\"}], \"scattercarpet\": [{\"marker\": {\"colorbar\": {\"outlinewidth\": 0, \"ticks\": \"\"}}, \"type\": \"scattercarpet\"}], \"scattergeo\": [{\"marker\": {\"colorbar\": {\"outlinewidth\": 0, \"ticks\": \"\"}}, \"type\": \"scattergeo\"}], \"scattergl\": [{\"marker\": {\"colorbar\": {\"outlinewidth\": 0, \"ticks\": \"\"}}, \"type\": \"scattergl\"}], \"scattermapbox\": [{\"marker\": {\"colorbar\": {\"outlinewidth\": 0, \"ticks\": \"\"}}, \"type\": \"scattermapbox\"}], \"scatterpolar\": [{\"marker\": {\"colorbar\": {\"outlinewidth\": 0, \"ticks\": \"\"}}, \"type\": \"scatterpolar\"}], \"scatterpolargl\": [{\"marker\": {\"colorbar\": {\"outlinewidth\": 0, \"ticks\": \"\"}}, \"type\": \"scatterpolargl\"}], \"scatterternary\": [{\"marker\": {\"colorbar\": {\"outlinewidth\": 0, \"ticks\": \"\"}}, \"type\": \"scatterternary\"}], \"surface\": [{\"colorbar\": {\"outlinewidth\": 0, \"ticks\": \"\"}, \"colorscale\": [[0.0, \"#0d0887\"], [0.1111111111111111, \"#46039f\"], [0.2222222222222222, \"#7201a8\"], [0.3333333333333333, \"#9c179e\"], [0.4444444444444444, \"#bd3786\"], [0.5555555555555556, \"#d8576b\"], [0.6666666666666666, \"#ed7953\"], [0.7777777777777778, \"#fb9f3a\"], [0.8888888888888888, \"#fdca26\"], [1.0, \"#f0f921\"]], \"type\": \"surface\"}], \"table\": [{\"cells\": {\"fill\": {\"color\": \"#EBF0F8\"}, \"line\": {\"color\": \"white\"}}, \"header\": {\"fill\": {\"color\": \"#C8D4E3\"}, \"line\": {\"color\": \"white\"}}, \"type\": \"table\"}]}, \"layout\": {\"annotationdefaults\": {\"arrowcolor\": \"#2a3f5f\", \"arrowhead\": 0, \"arrowwidth\": 1}, \"autotypenumbers\": \"strict\", \"coloraxis\": {\"colorbar\": {\"outlinewidth\": 0, \"ticks\": \"\"}}, \"colorscale\": {\"diverging\": [[0, \"#8e0152\"], [0.1, \"#c51b7d\"], [0.2, \"#de77ae\"], [0.3, \"#f1b6da\"], [0.4, \"#fde0ef\"], [0.5, \"#f7f7f7\"], [0.6, \"#e6f5d0\"], [0.7, \"#b8e186\"], [0.8, \"#7fbc41\"], [0.9, \"#4d9221\"], [1, \"#276419\"]], \"sequential\": [[0.0, \"#0d0887\"], [0.1111111111111111, \"#46039f\"], [0.2222222222222222, \"#7201a8\"], [0.3333333333333333, \"#9c179e\"], [0.4444444444444444, \"#bd3786\"], [0.5555555555555556, \"#d8576b\"], [0.6666666666666666, \"#ed7953\"], [0.7777777777777778, \"#fb9f3a\"], [0.8888888888888888, \"#fdca26\"], [1.0, \"#f0f921\"]], \"sequentialminus\": [[0.0, \"#0d0887\"], [0.1111111111111111, \"#46039f\"], [0.2222222222222222, \"#7201a8\"], [0.3333333333333333, \"#9c179e\"], [0.4444444444444444, \"#bd3786\"], [0.5555555555555556, \"#d8576b\"], [0.6666666666666666, \"#ed7953\"], [0.7777777777777778, \"#fb9f3a\"], [0.8888888888888888, \"#fdca26\"], [1.0, \"#f0f921\"]]}, \"colorway\": [\"#636efa\", \"#EF553B\", \"#00cc96\", \"#ab63fa\", \"#FFA15A\", \"#19d3f3\", \"#FF6692\", \"#B6E880\", \"#FF97FF\", \"#FECB52\"], \"font\": {\"color\": \"#2a3f5f\"}, \"geo\": {\"bgcolor\": \"white\", \"lakecolor\": \"white\", \"landcolor\": \"#E5ECF6\", \"showlakes\": true, \"showland\": true, \"subunitcolor\": \"white\"}, \"hoverlabel\": {\"align\": \"left\"}, \"hovermode\": \"closest\", \"mapbox\": {\"style\": \"light\"}, \"paper_bgcolor\": \"white\", \"plot_bgcolor\": \"#E5ECF6\", \"polar\": {\"angularaxis\": {\"gridcolor\": \"white\", \"linecolor\": \"white\", \"ticks\": \"\"}, \"bgcolor\": \"#E5ECF6\", \"radialaxis\": {\"gridcolor\": \"white\", \"linecolor\": \"white\", \"ticks\": \"\"}}, \"scene\": {\"xaxis\": {\"backgroundcolor\": \"#E5ECF6\", \"gridcolor\": \"white\", \"gridwidth\": 2, \"linecolor\": \"white\", \"showbackground\": true, \"ticks\": \"\", \"zerolinecolor\": \"white\"}, \"yaxis\": {\"backgroundcolor\": \"#E5ECF6\", \"gridcolor\": \"white\", \"gridwidth\": 2, \"linecolor\": \"white\", \"showbackground\": true, \"ticks\": \"\", \"zerolinecolor\": \"white\"}, \"zaxis\": {\"backgroundcolor\": \"#E5ECF6\", \"gridcolor\": \"white\", \"gridwidth\": 2, \"linecolor\": \"white\", \"showbackground\": true, \"ticks\": \"\", \"zerolinecolor\": \"white\"}}, \"shapedefaults\": {\"line\": {\"color\": \"#2a3f5f\"}}, \"ternary\": {\"aaxis\": {\"gridcolor\": \"white\", \"linecolor\": \"white\", \"ticks\": \"\"}, \"baxis\": {\"gridcolor\": \"white\", \"linecolor\": \"white\", \"ticks\": \"\"}, \"bgcolor\": \"#E5ECF6\", \"caxis\": {\"gridcolor\": \"white\", \"linecolor\": \"white\", \"ticks\": \"\"}}, \"title\": {\"x\": 0.05}, \"xaxis\": {\"automargin\": true, \"gridcolor\": \"white\", \"linecolor\": \"white\", \"ticks\": \"\", \"title\": {\"standoff\": 15}, \"zerolinecolor\": \"white\", \"zerolinewidth\": 2}, \"yaxis\": {\"automargin\": true, \"gridcolor\": \"white\", \"linecolor\": \"white\", \"ticks\": \"\", \"title\": {\"standoff\": 15}, \"zerolinecolor\": \"white\", \"zerolinewidth\": 2}}}, \"title\": {\"text\": \"Inpatient Bed Utilisation vs Percent of Inpatient beds with Covid-19\", \"x\": 0.45, \"xanchor\": \"center\", \"y\": 0.9, \"yanchor\": \"top\"}},                        {\"responsive\": true}                    ).then(function(){\n",
       "                            \n",
       "var gd = document.getElementById('409cf252-7c52-484a-a6e6-ef7cf84ae84e');\n",
       "var x = new MutationObserver(function (mutations, observer) {{\n",
       "        var display = window.getComputedStyle(gd).display;\n",
       "        if (!display || display === 'none') {{\n",
       "            console.log([gd, 'removed!']);\n",
       "            Plotly.purge(gd);\n",
       "            observer.disconnect();\n",
       "        }}\n",
       "}});\n",
       "\n",
       "// Listen for the removal of the full notebook cells\n",
       "var notebookContainer = gd.closest('#notebook-container');\n",
       "if (notebookContainer) {{\n",
       "    x.observe(notebookContainer, {childList: true});\n",
       "}}\n",
       "\n",
       "// Listen for the clearing of the current output cell\n",
       "var outputEl = gd.closest('.output');\n",
       "if (outputEl) {{\n",
       "    x.observe(outputEl, {childList: true});\n",
       "}}\n",
       "\n",
       "                        })                };                });            </script>        </div>"
      ]
     },
     "metadata": {},
     "output_type": "display_data"
    }
   ],
   "source": [
    "fig = go.Figure()\n",
    "fig.add_trace(go.Bar(x=covidTableStrData['date'], y=covidTableStrData['inpatient_beds_utilization'],name='inpatient_beds_utilization',\n",
    "    marker_color='orange'))\n",
    "fig.add_trace(go.Bar(x=covidTableStrData['date'], y=covidTableStrData['percent_of_inpatients_with_covid'], name ='percent_of_inpatients_with_covid',marker_color='brown' ))\n",
    "fig.update_layout(\n",
    "    title={'text': \"Inpatient Bed Utilisation vs Percent of Inpatient beds with Covid-19\",'y':0.9,'x':0.45,'xanchor': 'center', 'yanchor': 'top'})\n",
    "fig.write_html(\"Inpatient Bed Utilisation vs Percent of Inpatient beds with covid.html\") #Interactive graphs will be visible in the mentioned html file\n",
    "fig.show()"
   ]
  },
  {
   "cell_type": "markdown",
   "metadata": {},
   "source": [
    "<a id=section803></a>\n",
    "## 8.3 Distribution of Pneumonia Deaths , Inpatient Beds Used based on Cities"
   ]
  },
  {
   "cell_type": "code",
   "execution_count": null,
   "metadata": {
    "scrolled": false
   },
   "outputs": [],
   "source": [
    "covidTableStrData.columns"
   ]
  },
  {
   "cell_type": "code",
   "execution_count": null,
   "metadata": {
    "scrolled": false
   },
   "outputs": [],
   "source": [
    "covidTableStrData.columns"
   ]
  },
  {
   "cell_type": "code",
   "execution_count": 104,
   "metadata": {},
   "outputs": [
    {
     "data": {
      "text/plain": [
       "<seaborn.axisgrid.PairGrid at 0x1d903d16bc8>"
      ]
     },
     "execution_count": 104,
     "metadata": {},
     "output_type": "execute_result"
    },
    {
     "data": {
      "image/png": "[encoded data removed]",
      "text/plain": [
       "<Figure size 675x540 with 12 Axes>"
      ]
     },
     "metadata": {
      "needs_background": "light"
     },
     "output_type": "display_data"
    }
   ],
   "source": [
    "import seaborn as sns\n",
    "b = pd.DataFrame(covidTableStrData[['state_desc','pneumoniadeaths','inpatient_beds_used', 'inpatient_beds_used_covid']] )\n",
    "sns.pairplot(b, hue = 'state_desc')\n"
   ]
  },
  {
   "cell_type": "code",
   "execution_count": 105,
   "metadata": {},
   "outputs": [
    {
     "data": {
      "application/vnd.plotly.v1+json": {
       "config": {
        "plotlyServerURL": "https://plot.ly"
       },
       "data": [
        {
         "dimensions": [
          {
           "axis": {
            "matches": true
           },
           "label": "pneumoniadeaths",
           "values": [
            478,
            184,
            477,
            520,
            293,
            121,
            203,
            12,
            692,
            149,
            157
           ]
          },
          {
           "axis": {
            "matches": true
           },
           "label": "inpatient_beds_used",
           "values": [
            6441,
            6304,
            5363,
            6610,
            5913,
            6321,
            858,
            6532,
            5906,
            5943,
            5873
           ]
          },
          {
           "axis": {
            "matches": true
           },
           "label": "inpatient_beds_used_covid",
           "values": [
            1030,
            504,
            682,
            1271,
            1348,
            205,
            314,
            461,
            1940,
            495,
            291
           ]
          }
         ],
         "hovertemplate": "state_desc=Connecticut<br>%{xaxis.title.text}=%{x}<br>%{yaxis.title.text}=%{y}<extra></extra>",
         "legendgroup": "Connecticut",
         "marker": {
          "color": "#636efa",
          "symbol": "circle"
         },
         "name": "Connecticut",
         "showlegend": true,
         "type": "splom"
        },
        {
         "dimensions": [
          {
           "axis": {
            "matches": true
           },
           "label": "pneumoniadeaths",
           "values": [
            2313,
            755,
            564,
            380,
            435,
            242,
            540,
            1188,
            387,
            740,
            2750
           ]
          },
          {
           "axis": {
            "matches": true
           },
           "label": "inpatient_beds_used",
           "values": [
            13289,
            10101,
            8102,
            10083,
            3818,
            11635,
            7385,
            11378,
            10813,
            8074,
            12757
           ]
          },
          {
           "axis": {
            "matches": true
           },
           "label": "inpatient_beds_used_covid",
           "values": [
            4774,
            2643,
            1310,
            725,
            186,
            654,
            722,
            1248,
            905,
            4843,
            3723
           ]
          }
         ],
         "hovertemplate": "state_desc=Arizona<br>%{xaxis.title.text}=%{x}<br>%{yaxis.title.text}=%{y}<extra></extra>",
         "legendgroup": "Arizona",
         "marker": {
          "color": "#EF553B",
          "symbol": "circle"
         },
         "name": "Arizona",
         "showlegend": true,
         "type": "splom"
        },
        {
         "dimensions": [
          {
           "axis": {
            "matches": true
           },
           "label": "pneumoniadeaths",
           "values": [
            3200,
            2146,
            1585,
            2176,
            1514,
            866,
            1907,
            2968,
            1823,
            1507,
            4498
           ]
          },
          {
           "axis": {
            "matches": true
           },
           "label": "inpatient_beds_used",
           "values": [
            45385,
            40422,
            39460,
            45527,
            1806,
            43983,
            16740,
            43640,
            41528,
            46676,
            44259
           ]
          },
          {
           "axis": {
            "matches": true
           },
           "label": "inpatient_beds_used_covid",
           "values": [
            7091,
            4841,
            3518,
            2614,
            1251,
            3320,
            3814,
            4199,
            3173,
            7008,
            6801
           ]
          }
         ],
         "hovertemplate": "state_desc=Florida<br>%{xaxis.title.text}=%{x}<br>%{yaxis.title.text}=%{y}<extra></extra>",
         "legendgroup": "Florida",
         "marker": {
          "color": "#00cc96",
          "symbol": "circle"
         },
         "name": "Florida",
         "showlegend": true,
         "type": "splom"
        },
        {
         "dimensions": [
          {
           "axis": {
            "matches": true
           },
           "label": "pneumoniadeaths",
           "values": [
            243,
            212,
            48,
            82,
            75,
            37,
            66,
            88,
            122,
            45,
            182
           ]
          },
          {
           "axis": {
            "matches": true
           },
           "label": "inpatient_beds_used",
           "values": [
            2121,
            1995,
            1528,
            2207,
            549,
            2950,
            1460,
            1978,
            2136,
            1770,
            2060
           ]
          },
          {
           "axis": {
            "matches": true
           },
           "label": "inpatient_beds_used_covid",
           "values": [
            338,
            466,
            31,
            153,
            45,
            141,
            37,
            142,
            269,
            61,
            209
           ]
          }
         ],
         "hovertemplate": "state_desc=Idaho<br>%{xaxis.title.text}=%{x}<br>%{yaxis.title.text}=%{y}<extra></extra>",
         "legendgroup": "Idaho",
         "marker": {
          "color": "#ab63fa",
          "symbol": "circle"
         },
         "name": "Idaho",
         "showlegend": true,
         "type": "splom"
        },
        {
         "dimensions": [
          {
           "axis": {
            "matches": true
           },
           "label": "pneumoniadeaths",
           "values": [
            66,
            60,
            15,
            16,
            28,
            0,
            15,
            0,
            35,
            12,
            30
           ]
          },
          {
           "axis": {
            "matches": true
           },
           "label": "inpatient_beds_used",
           "values": [
            868,
            859,
            956,
            1077,
            119,
            964,
            667,
            961,
            942,
            999,
            915
           ]
          },
          {
           "axis": {
            "matches": true
           },
           "label": "inpatient_beds_used_covid",
           "values": [
            80,
            151,
            18,
            42,
            18,
            41,
            12,
            23,
            98,
            39,
            45
           ]
          }
         ],
         "hovertemplate": "state_desc=Alaska<br>%{xaxis.title.text}=%{x}<br>%{yaxis.title.text}=%{y}<extra></extra>",
         "legendgroup": "Alaska",
         "marker": {
          "color": "#FFA15A",
          "symbol": "circle"
         },
         "name": "Alaska",
         "showlegend": true,
         "type": "splom"
        },
        {
         "dimensions": [
          {
           "axis": {
            "matches": true
           },
           "label": "pneumoniadeaths",
           "values": [
            151,
            82,
            297,
            56,
            58,
            15,
            304,
            81,
            67,
            138,
            129
           ]
          },
          {
           "axis": {
            "matches": true
           },
           "label": "inpatient_beds_used",
           "values": [
            2828,
            2771,
            2001,
            2886,
            649,
            2589,
            1711,
            2615,
            2868,
            2175,
            2801
           ]
          },
          {
           "axis": {
            "matches": true
           },
           "label": "inpatient_beds_used_covid",
           "values": [
            320,
            223,
            404,
            164,
            114,
            200,
            499,
            251,
            172,
            186,
            322
           ]
          }
         ],
         "hovertemplate": "state_desc=District of Columbia<br>%{xaxis.title.text}=%{x}<br>%{yaxis.title.text}=%{y}<extra></extra>",
         "legendgroup": "District of Columbia",
         "marker": {
          "color": "#19d3f3",
          "symbol": "circle"
         },
         "name": "District of Columbia",
         "showlegend": true,
         "type": "splom"
        },
        {
         "dimensions": [
          {
           "axis": {
            "matches": true
           },
           "label": "pneumoniadeaths",
           "values": [
            155,
            75,
            122,
            45,
            58,
            13,
            124,
            52,
            62,
            55,
            165
           ]
          },
          {
           "axis": {
            "matches": true
           },
           "label": "inpatient_beds_used",
           "values": [
            2376,
            1827,
            1510,
            2232,
            419,
            2342,
            1561,
            2225,
            2200,
            1785,
            2326
           ]
          },
          {
           "axis": {
            "matches": true
           },
           "label": "inpatient_beds_used_covid",
           "values": [
            491,
            303,
            205,
            106,
            51,
            119,
            311,
            178,
            146,
            103,
            348
           ]
          }
         ],
         "hovertemplate": "state_desc=Delaware<br>%{xaxis.title.text}=%{x}<br>%{yaxis.title.text}=%{y}<extra></extra>",
         "legendgroup": "Delaware",
         "marker": {
          "color": "#FF6692",
          "symbol": "circle"
         },
         "name": "Delaware",
         "showlegend": true,
         "type": "splom"
        },
        {
         "dimensions": [
          {
           "axis": {
            "matches": true
           },
           "label": "pneumoniadeaths",
           "values": [
            8944,
            2715,
            2572,
            2345,
            2239,
            754,
            2904,
            5054,
            2049,
            2324,
            13155
           ]
          },
          {
           "axis": {
            "matches": true
           },
           "label": "inpatient_beds_used",
           "values": [
            54454,
            45217,
            40229,
            46250,
            7497,
            47483,
            30983,
            46506,
            46009,
            43933,
            52160
           ]
          },
          {
           "axis": {
            "matches": true
           },
           "label": "inpatient_beds_used_covid",
           "values": [
            21387,
            9032,
            4430,
            3359,
            1023,
            3133,
            4095,
            5402,
            3227,
            6805,
            15073
           ]
          }
         ],
         "hovertemplate": "state_desc=California<br>%{xaxis.title.text}=%{x}<br>%{yaxis.title.text}=%{y}<extra></extra>",
         "legendgroup": "California",
         "marker": {
          "color": "#B6E880",
          "symbol": "circle"
         },
         "name": "California",
         "showlegend": true,
         "type": "splom"
        },
        {
         "dimensions": [
          {
           "axis": {
            "matches": true
           },
           "label": "pneumoniadeaths",
           "values": [
            701,
            512,
            173,
            355,
            195,
            97,
            214,
            388,
            482,
            206,
            771
           ]
          },
          {
           "axis": {
            "matches": true
           },
           "label": "inpatient_beds_used",
           "values": [
            6687,
            5204,
            4539,
            6754,
            1774,
            6303,
            4079,
            6279,
            6236,
            4793,
            6144
           ]
          },
          {
           "axis": {
            "matches": true
           },
           "label": "inpatient_beds_used_covid",
           "values": [
            1243,
            1088,
            201,
            542,
            153,
            263,
            158,
            542,
            717,
            414,
            988
           ]
          }
         ],
         "hovertemplate": "state_desc=Arkansas<br>%{xaxis.title.text}=%{x}<br>%{yaxis.title.text}=%{y}<extra></extra>",
         "legendgroup": "Arkansas",
         "marker": {
          "color": "#FF97FF",
          "symbol": "circle"
         },
         "name": "Arkansas",
         "showlegend": true,
         "type": "splom"
        },
        {
         "dimensions": [
          {
           "axis": {
            "matches": true
           },
           "label": "pneumoniadeaths",
           "values": [
            72,
            66,
            56,
            101,
            75,
            15,
            56,
            53,
            81,
            40,
            85
           ]
          },
          {
           "axis": {
            "matches": true
           },
           "label": "inpatient_beds_used",
           "values": [
            1796,
            1705,
            1935,
            1947,
            1907,
            1825,
            1924,
            1792,
            1795,
            2130,
            1823
           ]
          },
          {
           "axis": {
            "matches": true
           },
           "label": "inpatient_beds_used_covid",
           "values": [
            114,
            62,
            2,
            173,
            29,
            32,
            28,
            35,
            78,
            18,
            95
           ]
          }
         ],
         "hovertemplate": "state_desc=Hawaii<br>%{xaxis.title.text}=%{x}<br>%{yaxis.title.text}=%{y}<extra></extra>",
         "legendgroup": "Hawaii",
         "marker": {
          "color": "#FECB52",
          "symbol": "circle"
         },
         "name": "Hawaii",
         "showlegend": true,
         "type": "splom"
        },
        {
         "dimensions": [
          {
           "axis": {
            "matches": true
           },
           "label": "pneumoniadeaths",
           "values": [
            1418,
            818,
            689,
            846,
            575,
            191,
            944,
            1193,
            715,
            548,
            2584
           ]
          },
          {
           "axis": {
            "matches": true
           },
           "label": "inpatient_beds_used",
           "values": [
            19022,
            15680,
            12193,
            15793,
            2603,
            16928,
            11728,
            16899,
            16827,
            9904,
            18032
           ]
          },
          {
           "axis": {
            "matches": true
           },
           "label": "inpatient_beds_used_covid",
           "values": [
            4995,
            2571,
            1463,
            2222,
            483,
            1362,
            2861,
            2471,
            1781,
            1659,
            4599
           ]
          }
         ],
         "hovertemplate": "state_desc=Georgia<br>%{xaxis.title.text}=%{x}<br>%{yaxis.title.text}=%{y}<extra></extra>",
         "legendgroup": "Georgia",
         "marker": {
          "color": "#636efa",
          "symbol": "circle"
         },
         "name": "Georgia",
         "showlegend": true,
         "type": "splom"
        },
        {
         "dimensions": [
          {
           "axis": {
            "matches": true
           },
           "label": "pneumoniadeaths",
           "values": [
            628,
            694,
            240,
            201,
            198,
            53,
            201,
            210,
            312,
            160,
            387
           ]
          },
          {
           "axis": {
            "matches": true
           },
           "label": "inpatient_beds_used",
           "values": [
            5004,
            4885,
            2993,
            5349,
            152,
            4652,
            2920,
            4575,
            5101,
            4866,
            4677
           ]
          },
          {
           "axis": {
            "matches": true
           },
           "label": "inpatient_beds_used_covid",
           "values": [
            602,
            1179,
            333,
            447,
            61,
            189,
            397,
            216,
            717,
            136,
            379
           ]
          }
         ],
         "hovertemplate": "state_desc=Iowa<br>%{xaxis.title.text}=%{x}<br>%{yaxis.title.text}=%{y}<extra></extra>",
         "legendgroup": "Iowa",
         "marker": {
          "color": "#EF553B",
          "symbol": "circle"
         },
         "name": "Iowa",
         "showlegend": true,
         "type": "splom"
        },
        {
         "dimensions": [
          {
           "axis": {
            "matches": true
           },
           "label": "pneumoniadeaths",
           "values": [
            993,
            659,
            375,
            179,
            305,
            50,
            713,
            286,
            281,
            235,
            504
           ]
          },
          {
           "axis": {
            "matches": true
           },
           "label": "inpatient_beds_used",
           "values": [
            7864,
            7350,
            3339,
            7631,
            465,
            7725,
            3485,
            7569,
            7725,
            3811,
            7377
           ]
          },
          {
           "axis": {
            "matches": true
           },
           "label": "inpatient_beds_used_covid",
           "values": [
            1191,
            1914,
            268,
            319,
            70,
            425,
            575,
            470,
            795,
            185,
            638
           ]
          }
         ],
         "hovertemplate": "state_desc=Colorado<br>%{xaxis.title.text}=%{x}<br>%{yaxis.title.text}=%{y}<extra></extra>",
         "legendgroup": "Colorado",
         "marker": {
          "color": "#00cc96",
          "symbol": "circle"
         },
         "name": "Colorado",
         "showlegend": true,
         "type": "splom"
        },
        {
         "dimensions": [
          {
           "axis": {
            "matches": true
           },
           "label": "pneumoniadeaths",
           "values": [
            2512,
            2036,
            1905,
            671,
            886,
            318,
            1972,
            967,
            955,
            935,
            1820
           ]
          },
          {
           "axis": {
            "matches": true
           },
           "label": "inpatient_beds_used",
           "values": [
            22232,
            20051,
            13533,
            20500,
            523,
            21379,
            15914,
            20952,
            20758,
            17471,
            20498
           ]
          },
          {
           "axis": {
            "matches": true
           },
           "label": "inpatient_beds_used_covid",
           "values": [
            4154,
            5908,
            2923,
            1894,
            53,
            1212,
            3573,
            1385,
            3361,
            1547,
            2589
           ]
          }
         ],
         "hovertemplate": "state_desc=Illinois<br>%{xaxis.title.text}=%{x}<br>%{yaxis.title.text}=%{y}<extra></extra>",
         "legendgroup": "Illinois",
         "marker": {
          "color": "#ab63fa",
          "symbol": "circle"
         },
         "name": "Illinois",
         "showlegend": true,
         "type": "splom"
        },
        {
         "dimensions": [
          {
           "axis": {
            "matches": true
           },
           "label": "pneumoniadeaths",
           "values": [
            1728,
            1287,
            679,
            493,
            530,
            0,
            969,
            380,
            782,
            478,
            1260
           ]
          },
          {
           "axis": {
            "matches": true
           },
           "label": "inpatient_beds_used",
           "values": [
            12493,
            11094,
            7778,
            11610,
            1484,
            11690,
            7897,
            11424,
            11750,
            8843,
            12185
           ]
          },
          {
           "axis": {
            "matches": true
           },
           "label": "inpatient_beds_used_covid",
           "values": [
            2822,
            3468,
            908,
            938,
            403,
            585,
            1421,
            768,
            1756,
            650,
            1606
           ]
          }
         ],
         "hovertemplate": "state_desc=Indiana<br>%{xaxis.title.text}=%{x}<br>%{yaxis.title.text}=%{y}<extra></extra>",
         "legendgroup": "Indiana",
         "marker": {
          "color": "#FFA15A",
          "symbol": "circle"
         },
         "name": "Indiana",
         "showlegend": true,
         "type": "splom"
        },
        {
         "dimensions": [
          {
           "axis": {
            "matches": true
           },
           "label": "pneumoniadeaths",
           "values": [
            850,
            457,
            399,
            425,
            287,
            111,
            352,
            500,
            439,
            350,
            1133
           ]
          },
          {
           "axis": {
            "matches": true
           },
           "label": "inpatient_beds_used",
           "values": [
            12225,
            10983,
            7620,
            11544,
            1277,
            10662,
            4677,
            11011,
            10833,
            9325,
            11483
           ]
          },
          {
           "axis": {
            "matches": true
           },
           "label": "inpatient_beds_used_covid",
           "values": [
            3095,
            1877,
            763,
            994,
            191,
            531,
            416,
            875,
            1172,
            973,
            2218
           ]
          }
         ],
         "hovertemplate": "state_desc=Alabama<br>%{xaxis.title.text}=%{x}<br>%{yaxis.title.text}=%{y}<extra></extra>",
         "legendgroup": "Alabama",
         "marker": {
          "color": "#19d3f3",
          "symbol": "circle"
         },
         "name": "Alabama",
         "showlegend": true,
         "type": "splom"
        }
       ],
       "layout": {
        "dragmode": "select",
        "legend": {
         "title": {
          "text": "state_desc"
         },
         "tracegroupgap": 0
        },
        "margin": {
         "t": 60
        },
        "template": {
         "data": {
          "bar": [
           {
            "error_x": {
             "color": "#2a3f5f"
            },
            "error_y": {
             "color": "#2a3f5f"
            },
            "marker": {
             "line": {
              "color": "#E5ECF6",
              "width": 0.5
             }
            },
            "type": "bar"
           }
          ],
          "barpolar": [
           {
            "marker": {
             "line": {
              "color": "#E5ECF6",
              "width": 0.5
             }
            },
            "type": "barpolar"
           }
          ],
          "carpet": [
           {
            "aaxis": {
             "endlinecolor": "#2a3f5f",
             "gridcolor": "white",
             "linecolor": "white",
             "minorgridcolor": "white",
             "startlinecolor": "#2a3f5f"
            },
            "baxis": {
             "endlinecolor": "#2a3f5f",
             "gridcolor": "white",
             "linecolor": "white",
             "minorgridcolor": "white",
             "startlinecolor": "#2a3f5f"
            },
            "type": "carpet"
           }
          ],
          "choropleth": [
           {
            "colorbar": {
             "outlinewidth": 0,
             "ticks": ""
            },
            "type": "choropleth"
           }
          ],
          "contour": [
           {
            "colorbar": {
             "outlinewidth": 0,
             "ticks": ""
            },
            "colorscale": [
             [
              0,
              "#0d0887"
             ],
             [
              0.1111111111111111,
              "#46039f"
             ],
             [
              0.2222222222222222,
              "#7201a8"
             ],
             [
              0.3333333333333333,
              "#9c179e"
             ],
             [
              0.4444444444444444,
              "#bd3786"
             ],
             [
              0.5555555555555556,
              "#d8576b"
             ],
             [
              0.6666666666666666,
              "#ed7953"
             ],
             [
              0.7777777777777778,
              "#fb9f3a"
             ],
             [
              0.8888888888888888,
              "#fdca26"
             ],
             [
              1,
              "#f0f921"
             ]
            ],
            "type": "contour"
           }
          ],
          "contourcarpet": [
           {
            "colorbar": {
             "outlinewidth": 0,
             "ticks": ""
            },
            "type": "contourcarpet"
           }
          ],
          "heatmap": [
           {
            "colorbar": {
             "outlinewidth": 0,
             "ticks": ""
            },
            "colorscale": [
             [
              0,
              "#0d0887"
             ],
             [
              0.1111111111111111,
              "#46039f"
             ],
             [
              0.2222222222222222,
              "#7201a8"
             ],
             [
              0.3333333333333333,
              "#9c179e"
             ],
             [
              0.4444444444444444,
              "#bd3786"
             ],
             [
              0.5555555555555556,
              "#d8576b"
             ],
             [
              0.6666666666666666,
              "#ed7953"
             ],
             [
              0.7777777777777778,
              "#fb9f3a"
             ],
             [
              0.8888888888888888,
              "#fdca26"
             ],
             [
              1,
              "#f0f921"
             ]
            ],
            "type": "heatmap"
           }
          ],
          "heatmapgl": [
           {
            "colorbar": {
             "outlinewidth": 0,
             "ticks": ""
            },
            "colorscale": [
             [
              0,
              "#0d0887"
             ],
             [
              0.1111111111111111,
              "#46039f"
             ],
             [
              0.2222222222222222,
              "#7201a8"
             ],
             [
              0.3333333333333333,
              "#9c179e"
             ],
             [
              0.4444444444444444,
              "#bd3786"
             ],
             [
              0.5555555555555556,
              "#d8576b"
             ],
             [
              0.6666666666666666,
              "#ed7953"
             ],
             [
              0.7777777777777778,
              "#fb9f3a"
             ],
             [
              0.8888888888888888,
              "#fdca26"
             ],
             [
              1,
              "#f0f921"
             ]
            ],
            "type": "heatmapgl"
           }
          ],
          "histogram": [
           {
            "marker": {
             "colorbar": {
              "outlinewidth": 0,
              "ticks": ""
             }
            },
            "type": "histogram"
           }
          ],
          "histogram2d": [
           {
            "colorbar": {
             "outlinewidth": 0,
             "ticks": ""
            },
            "colorscale": [
             [
              0,
              "#0d0887"
             ],
             [
              0.1111111111111111,
              "#46039f"
             ],
             [
              0.2222222222222222,
              "#7201a8"
             ],
             [
              0.3333333333333333,
              "#9c179e"
             ],
             [
              0.4444444444444444,
              "#bd3786"
             ],
             [
              0.5555555555555556,
              "#d8576b"
             ],
             [
              0.6666666666666666,
              "#ed7953"
             ],
             [
              0.7777777777777778,
              "#fb9f3a"
             ],
             [
              0.8888888888888888,
              "#fdca26"
             ],
             [
              1,
              "#f0f921"
             ]
            ],
            "type": "histogram2d"
           }
          ],
          "histogram2dcontour": [
           {
            "colorbar": {
             "outlinewidth": 0,
             "ticks": ""
            },
            "colorscale": [
             [
              0,
              "#0d0887"
             ],
             [
              0.1111111111111111,
              "#46039f"
             ],
             [
              0.2222222222222222,
              "#7201a8"
             ],
             [
              0.3333333333333333,
              "#9c179e"
             ],
             [
              0.4444444444444444,
              "#bd3786"
             ],
             [
              0.5555555555555556,
              "#d8576b"
             ],
             [
              0.6666666666666666,
              "#ed7953"
             ],
             [
              0.7777777777777778,
              "#fb9f3a"
             ],
             [
              0.8888888888888888,
              "#fdca26"
             ],
             [
              1,
              "#f0f921"
             ]
            ],
            "type": "histogram2dcontour"
           }
          ],
          "mesh3d": [
           {
            "colorbar": {
             "outlinewidth": 0,
             "ticks": ""
            },
            "type": "mesh3d"
           }
          ],
          "parcoords": [
           {
            "line": {
             "colorbar": {
              "outlinewidth": 0,
              "ticks": ""
             }
            },
            "type": "parcoords"
           }
          ],
          "pie": [
           {
            "automargin": true,
            "type": "pie"
           }
          ],
          "scatter": [
           {
            "marker": {
             "colorbar": {
              "outlinewidth": 0,
              "ticks": ""
             }
            },
            "type": "scatter"
           }
          ],
          "scatter3d": [
           {
            "line": {
             "colorbar": {
              "outlinewidth": 0,
              "ticks": ""
             }
            },
            "marker": {
             "colorbar": {
              "outlinewidth": 0,
              "ticks": ""
             }
            },
            "type": "scatter3d"
           }
          ],
          "scattercarpet": [
           {
            "marker": {
             "colorbar": {
              "outlinewidth": 0,
              "ticks": ""
             }
            },
            "type": "scattercarpet"
           }
          ],
          "scattergeo": [
           {
            "marker": {
             "colorbar": {
              "outlinewidth": 0,
              "ticks": ""
             }
            },
            "type": "scattergeo"
           }
          ],
          "scattergl": [
           {
            "marker": {
             "colorbar": {
              "outlinewidth": 0,
              "ticks": ""
             }
            },
            "type": "scattergl"
           }
          ],
          "scattermapbox": [
           {
            "marker": {
             "colorbar": {
              "outlinewidth": 0,
              "ticks": ""
             }
            },
            "type": "scattermapbox"
           }
          ],
          "scatterpolar": [
           {
            "marker": {
             "colorbar": {
              "outlinewidth": 0,
              "ticks": ""
             }
            },
            "type": "scatterpolar"
           }
          ],
          "scatterpolargl": [
           {
            "marker": {
             "colorbar": {
              "outlinewidth": 0,
              "ticks": ""
             }
            },
            "type": "scatterpolargl"
           }
          ],
          "scatterternary": [
           {
            "marker": {
             "colorbar": {
              "outlinewidth": 0,
              "ticks": ""
             }
            },
            "type": "scatterternary"
           }
          ],
          "surface": [
           {
            "colorbar": {
             "outlinewidth": 0,
             "ticks": ""
            },
            "colorscale": [
             [
              0,
              "#0d0887"
             ],
             [
              0.1111111111111111,
              "#46039f"
             ],
             [
              0.2222222222222222,
              "#7201a8"
             ],
             [
              0.3333333333333333,
              "#9c179e"
             ],
             [
              0.4444444444444444,
              "#bd3786"
             ],
             [
              0.5555555555555556,
              "#d8576b"
             ],
             [
              0.6666666666666666,
              "#ed7953"
             ],
             [
              0.7777777777777778,
              "#fb9f3a"
             ],
             [
              0.8888888888888888,
              "#fdca26"
             ],
             [
              1,
              "#f0f921"
             ]
            ],
            "type": "surface"
           }
          ],
          "table": [
           {
            "cells": {
             "fill": {
              "color": "#EBF0F8"
             },
             "line": {
              "color": "white"
             }
            },
            "header": {
             "fill": {
              "color": "#C8D4E3"
             },
             "line": {
              "color": "white"
             }
            },
            "type": "table"
           }
          ]
         },
         "layout": {
          "annotationdefaults": {
           "arrowcolor": "#2a3f5f",
           "arrowhead": 0,
           "arrowwidth": 1
          },
          "autotypenumbers": "strict",
          "coloraxis": {
           "colorbar": {
            "outlinewidth": 0,
            "ticks": ""
           }
          },
          "colorscale": {
           "diverging": [
            [
             0,
             "#8e0152"
            ],
            [
             0.1,
             "#c51b7d"
            ],
            [
             0.2,
             "#de77ae"
            ],
            [
             0.3,
             "#f1b6da"
            ],
            [
             0.4,
             "#fde0ef"
            ],
            [
             0.5,
             "#f7f7f7"
            ],
            [
             0.6,
             "#e6f5d0"
            ],
            [
             0.7,
             "#b8e186"
            ],
            [
             0.8,
             "#7fbc41"
            ],
            [
             0.9,
             "#4d9221"
            ],
            [
             1,
             "#276419"
            ]
           ],
           "sequential": [
            [
             0,
             "#0d0887"
            ],
            [
             0.1111111111111111,
             "#46039f"
            ],
            [
             0.2222222222222222,
             "#7201a8"
            ],
            [
             0.3333333333333333,
             "#9c179e"
            ],
            [
             0.4444444444444444,
             "#bd3786"
            ],
            [
             0.5555555555555556,
             "#d8576b"
            ],
            [
             0.6666666666666666,
             "#ed7953"
            ],
            [
             0.7777777777777778,
             "#fb9f3a"
            ],
            [
             0.8888888888888888,
             "#fdca26"
            ],
            [
             1,
             "#f0f921"
            ]
           ],
           "sequentialminus": [
            [
             0,
             "#0d0887"
            ],
            [
             0.1111111111111111,
             "#46039f"
            ],
            [
             0.2222222222222222,
             "#7201a8"
            ],
            [
             0.3333333333333333,
             "#9c179e"
            ],
            [
             0.4444444444444444,
             "#bd3786"
            ],
            [
             0.5555555555555556,
             "#d8576b"
            ],
            [
             0.6666666666666666,
             "#ed7953"
            ],
            [
             0.7777777777777778,
             "#fb9f3a"
            ],
            [
             0.8888888888888888,
             "#fdca26"
            ],
            [
             1,
             "#f0f921"
            ]
           ]
          },
          "colorway": [
           "#636efa",
           "#EF553B",
           "#00cc96",
           "#ab63fa",
           "#FFA15A",
           "#19d3f3",
           "#FF6692",
           "#B6E880",
           "#FF97FF",
           "#FECB52"
          ],
          "font": {
           "color": "#2a3f5f"
          },
          "geo": {
           "bgcolor": "white",
           "lakecolor": "white",
           "landcolor": "#E5ECF6",
           "showlakes": true,
           "showland": true,
           "subunitcolor": "white"
          },
          "hoverlabel": {
           "align": "left"
          },
          "hovermode": "closest",
          "mapbox": {
           "style": "light"
          },
          "paper_bgcolor": "white",
          "plot_bgcolor": "#E5ECF6",
          "polar": {
           "angularaxis": {
            "gridcolor": "white",
            "linecolor": "white",
            "ticks": ""
           },
           "bgcolor": "#E5ECF6",
           "radialaxis": {
            "gridcolor": "white",
            "linecolor": "white",
            "ticks": ""
           }
          },
          "scene": {
           "xaxis": {
            "backgroundcolor": "#E5ECF6",
            "gridcolor": "white",
            "gridwidth": 2,
            "linecolor": "white",
            "showbackground": true,
            "ticks": "",
            "zerolinecolor": "white"
           },
           "yaxis": {
            "backgroundcolor": "#E5ECF6",
            "gridcolor": "white",
            "gridwidth": 2,
            "linecolor": "white",
            "showbackground": true,
            "ticks": "",
            "zerolinecolor": "white"
           },
           "zaxis": {
            "backgroundcolor": "#E5ECF6",
            "gridcolor": "white",
            "gridwidth": 2,
            "linecolor": "white",
            "showbackground": true,
            "ticks": "",
            "zerolinecolor": "white"
           }
          },
          "shapedefaults": {
           "line": {
            "color": "#2a3f5f"
           }
          },
          "ternary": {
           "aaxis": {
            "gridcolor": "white",
            "linecolor": "white",
            "ticks": ""
           },
           "baxis": {
            "gridcolor": "white",
            "linecolor": "white",
            "ticks": ""
           },
           "bgcolor": "#E5ECF6",
           "caxis": {
            "gridcolor": "white",
            "linecolor": "white",
            "ticks": ""
           }
          },
          "title": {
           "x": 0.05
          },
          "xaxis": {
           "automargin": true,
           "gridcolor": "white",
           "linecolor": "white",
           "ticks": "",
           "title": {
            "standoff": 15
           },
           "zerolinecolor": "white",
           "zerolinewidth": 2
          },
          "yaxis": {
           "automargin": true,
           "gridcolor": "white",
           "linecolor": "white",
           "ticks": "",
           "title": {
            "standoff": 15
           },
           "zerolinecolor": "white",
           "zerolinewidth": 2
          }
         }
        }
       }
      },
      "text/html": [
       "<div>                            <div id=\"20210680-4da8-41d7-b52d-4299eb51ba1f\" class=\"plotly-graph-div\" style=\"height:525px; width:100%;\"></div>            <script type=\"text/javascript\">                require([\"plotly\"], function(Plotly) {                    window.PLOTLYENV=window.PLOTLYENV || {};                                    if (document.getElementById(\"20210680-4da8-41d7-b52d-4299eb51ba1f\")) {                    Plotly.newPlot(                        \"20210680-4da8-41d7-b52d-4299eb51ba1f\",                        [{\"dimensions\": [{\"axis\": {\"matches\": true}, \"label\": \"pneumoniadeaths\", \"values\": [478.0, 184.0, 477.0, 520.0, 293.0, 121.0, 203.0, 12.0, 692.0, 149.0, 157.0]}, {\"axis\": {\"matches\": true}, \"label\": \"inpatient_beds_used\", \"values\": [6441.0, 6304.0, 5363.0, 6610.0, 5913.0, 6321.0, 858.0, 6532.0, 5906.0, 5943.0, 5873.0]}, {\"axis\": {\"matches\": true}, \"label\": \"inpatient_beds_used_covid\", \"values\": [1030.0, 504.0, 682.0, 1271.0, 1348.0, 205.0, 314.0, 461.0, 1940.0, 495.0, 291.0]}], \"hovertemplate\": \"state_desc=Connecticut<br>%{xaxis.title.text}=%{x}<br>%{yaxis.title.text}=%{y}<extra></extra>\", \"legendgroup\": \"Connecticut\", \"marker\": {\"color\": \"#636efa\", \"symbol\": \"circle\"}, \"name\": \"Connecticut\", \"showlegend\": true, \"type\": \"splom\"}, {\"dimensions\": [{\"axis\": {\"matches\": true}, \"label\": \"pneumoniadeaths\", \"values\": [2313.0, 755.0, 564.0, 380.0, 435.0, 242.0, 540.0, 1188.0, 387.0, 740.0, 2750.0]}, {\"axis\": {\"matches\": true}, \"label\": \"inpatient_beds_used\", \"values\": [13289.0, 10101.0, 8102.0, 10083.0, 3818.0, 11635.0, 7385.0, 11378.0, 10813.0, 8074.0, 12757.0]}, {\"axis\": {\"matches\": true}, \"label\": \"inpatient_beds_used_covid\", \"values\": [4774.0, 2643.0, 1310.0, 725.0, 186.0, 654.0, 722.0, 1248.0, 905.0, 4843.0, 3723.0]}], \"hovertemplate\": \"state_desc=Arizona<br>%{xaxis.title.text}=%{x}<br>%{yaxis.title.text}=%{y}<extra></extra>\", \"legendgroup\": \"Arizona\", \"marker\": {\"color\": \"#EF553B\", \"symbol\": \"circle\"}, \"name\": \"Arizona\", \"showlegend\": true, \"type\": \"splom\"}, {\"dimensions\": [{\"axis\": {\"matches\": true}, \"label\": \"pneumoniadeaths\", \"values\": [3200.0, 2146.0, 1585.0, 2176.0, 1514.0, 866.0, 1907.0, 2968.0, 1823.0, 1507.0, 4498.0]}, {\"axis\": {\"matches\": true}, \"label\": \"inpatient_beds_used\", \"values\": [45385.0, 40422.0, 39460.0, 45527.0, 1806.0, 43983.0, 16740.0, 43640.0, 41528.0, 46676.0, 44259.0]}, {\"axis\": {\"matches\": true}, \"label\": \"inpatient_beds_used_covid\", \"values\": [7091.0, 4841.0, 3518.0, 2614.0, 1251.0, 3320.0, 3814.0, 4199.0, 3173.0, 7008.0, 6801.0]}], \"hovertemplate\": \"state_desc=Florida<br>%{xaxis.title.text}=%{x}<br>%{yaxis.title.text}=%{y}<extra></extra>\", \"legendgroup\": \"Florida\", \"marker\": {\"color\": \"#00cc96\", \"symbol\": \"circle\"}, \"name\": \"Florida\", \"showlegend\": true, \"type\": \"splom\"}, {\"dimensions\": [{\"axis\": {\"matches\": true}, \"label\": \"pneumoniadeaths\", \"values\": [243.0, 212.0, 48.0, 82.0, 75.0, 37.0, 66.0, 88.0, 122.0, 45.0, 182.0]}, {\"axis\": {\"matches\": true}, \"label\": \"inpatient_beds_used\", \"values\": [2121.0, 1995.0, 1528.0, 2207.0, 549.0, 2950.0, 1460.0, 1978.0, 2136.0, 1770.0, 2060.0]}, {\"axis\": {\"matches\": true}, \"label\": \"inpatient_beds_used_covid\", \"values\": [338.0, 466.0, 31.0, 153.0, 45.0, 141.0, 37.0, 142.0, 269.0, 61.0, 209.0]}], \"hovertemplate\": \"state_desc=Idaho<br>%{xaxis.title.text}=%{x}<br>%{yaxis.title.text}=%{y}<extra></extra>\", \"legendgroup\": \"Idaho\", \"marker\": {\"color\": \"#ab63fa\", \"symbol\": \"circle\"}, \"name\": \"Idaho\", \"showlegend\": true, \"type\": \"splom\"}, {\"dimensions\": [{\"axis\": {\"matches\": true}, \"label\": \"pneumoniadeaths\", \"values\": [66.0, 60.0, 15.0, 16.0, 28.0, 0.0, 15.0, 0.0, 35.0, 12.0, 30.0]}, {\"axis\": {\"matches\": true}, \"label\": \"inpatient_beds_used\", \"values\": [868.0, 859.0, 956.0, 1077.0, 119.0, 964.0, 667.0, 961.0, 942.0, 999.0, 915.0]}, {\"axis\": {\"matches\": true}, \"label\": \"inpatient_beds_used_covid\", \"values\": [80.0, 151.0, 18.0, 42.0, 18.0, 41.0, 12.0, 23.0, 98.0, 39.0, 45.0]}], \"hovertemplate\": \"state_desc=Alaska<br>%{xaxis.title.text}=%{x}<br>%{yaxis.title.text}=%{y}<extra></extra>\", \"legendgroup\": \"Alaska\", \"marker\": {\"color\": \"#FFA15A\", \"symbol\": \"circle\"}, \"name\": \"Alaska\", \"showlegend\": true, \"type\": \"splom\"}, {\"dimensions\": [{\"axis\": {\"matches\": true}, \"label\": \"pneumoniadeaths\", \"values\": [151.0, 82.0, 297.0, 56.0, 58.0, 15.0, 304.0, 81.0, 67.0, 138.0, 129.0]}, {\"axis\": {\"matches\": true}, \"label\": \"inpatient_beds_used\", \"values\": [2828.0, 2771.0, 2001.0, 2886.0, 649.0, 2589.0, 1711.0, 2615.0, 2868.0, 2175.0, 2801.0]}, {\"axis\": {\"matches\": true}, \"label\": \"inpatient_beds_used_covid\", \"values\": [320.0, 223.0, 404.0, 164.0, 114.0, 200.0, 499.0, 251.0, 172.0, 186.0, 322.0]}], \"hovertemplate\": \"state_desc=District of Columbia<br>%{xaxis.title.text}=%{x}<br>%{yaxis.title.text}=%{y}<extra></extra>\", \"legendgroup\": \"District of Columbia\", \"marker\": {\"color\": \"#19d3f3\", \"symbol\": \"circle\"}, \"name\": \"District of Columbia\", \"showlegend\": true, \"type\": \"splom\"}, {\"dimensions\": [{\"axis\": {\"matches\": true}, \"label\": \"pneumoniadeaths\", \"values\": [155.0, 75.0, 122.0, 45.0, 58.0, 13.0, 124.0, 52.0, 62.0, 55.0, 165.0]}, {\"axis\": {\"matches\": true}, \"label\": \"inpatient_beds_used\", \"values\": [2376.0, 1827.0, 1510.0, 2232.0, 419.0, 2342.0, 1561.0, 2225.0, 2200.0, 1785.0, 2326.0]}, {\"axis\": {\"matches\": true}, \"label\": \"inpatient_beds_used_covid\", \"values\": [491.0, 303.0, 205.0, 106.0, 51.0, 119.0, 311.0, 178.0, 146.0, 103.0, 348.0]}], \"hovertemplate\": \"state_desc=Delaware<br>%{xaxis.title.text}=%{x}<br>%{yaxis.title.text}=%{y}<extra></extra>\", \"legendgroup\": \"Delaware\", \"marker\": {\"color\": \"#FF6692\", \"symbol\": \"circle\"}, \"name\": \"Delaware\", \"showlegend\": true, \"type\": \"splom\"}, {\"dimensions\": [{\"axis\": {\"matches\": true}, \"label\": \"pneumoniadeaths\", \"values\": [8944.0, 2715.0, 2572.0, 2345.0, 2239.0, 754.0, 2904.0, 5054.0, 2049.0, 2324.0, 13155.0]}, {\"axis\": {\"matches\": true}, \"label\": \"inpatient_beds_used\", \"values\": [54454.0, 45217.0, 40229.0, 46250.0, 7497.0, 47483.0, 30983.0, 46506.0, 46009.0, 43933.0, 52160.0]}, {\"axis\": {\"matches\": true}, \"label\": \"inpatient_beds_used_covid\", \"values\": [21387.0, 9032.0, 4430.0, 3359.0, 1023.0, 3133.0, 4095.0, 5402.0, 3227.0, 6805.0, 15073.0]}], \"hovertemplate\": \"state_desc=California<br>%{xaxis.title.text}=%{x}<br>%{yaxis.title.text}=%{y}<extra></extra>\", \"legendgroup\": \"California\", \"marker\": {\"color\": \"#B6E880\", \"symbol\": \"circle\"}, \"name\": \"California\", \"showlegend\": true, \"type\": \"splom\"}, {\"dimensions\": [{\"axis\": {\"matches\": true}, \"label\": \"pneumoniadeaths\", \"values\": [701.0, 512.0, 173.0, 355.0, 195.0, 97.0, 214.0, 388.0, 482.0, 206.0, 771.0]}, {\"axis\": {\"matches\": true}, \"label\": \"inpatient_beds_used\", \"values\": [6687.0, 5204.0, 4539.0, 6754.0, 1774.0, 6303.0, 4079.0, 6279.0, 6236.0, 4793.0, 6144.0]}, {\"axis\": {\"matches\": true}, \"label\": \"inpatient_beds_used_covid\", \"values\": [1243.0, 1088.0, 201.0, 542.0, 153.0, 263.0, 158.0, 542.0, 717.0, 414.0, 988.0]}], \"hovertemplate\": \"state_desc=Arkansas<br>%{xaxis.title.text}=%{x}<br>%{yaxis.title.text}=%{y}<extra></extra>\", \"legendgroup\": \"Arkansas\", \"marker\": {\"color\": \"#FF97FF\", \"symbol\": \"circle\"}, \"name\": \"Arkansas\", \"showlegend\": true, \"type\": \"splom\"}, {\"dimensions\": [{\"axis\": {\"matches\": true}, \"label\": \"pneumoniadeaths\", \"values\": [72.0, 66.0, 56.0, 101.0, 75.0, 15.0, 56.0, 53.0, 81.0, 40.0, 85.0]}, {\"axis\": {\"matches\": true}, \"label\": \"inpatient_beds_used\", \"values\": [1796.0, 1705.0, 1935.0, 1947.0, 1907.0, 1825.0, 1924.0, 1792.0, 1795.0, 2130.0, 1823.0]}, {\"axis\": {\"matches\": true}, \"label\": \"inpatient_beds_used_covid\", \"values\": [114.0, 62.0, 2.0, 173.0, 29.0, 32.0, 28.0, 35.0, 78.0, 18.0, 95.0]}], \"hovertemplate\": \"state_desc=Hawaii<br>%{xaxis.title.text}=%{x}<br>%{yaxis.title.text}=%{y}<extra></extra>\", \"legendgroup\": \"Hawaii\", \"marker\": {\"color\": \"#FECB52\", \"symbol\": \"circle\"}, \"name\": \"Hawaii\", \"showlegend\": true, \"type\": \"splom\"}, {\"dimensions\": [{\"axis\": {\"matches\": true}, \"label\": \"pneumoniadeaths\", \"values\": [1418.0, 818.0, 689.0, 846.0, 575.0, 191.0, 944.0, 1193.0, 715.0, 548.0, 2584.0]}, {\"axis\": {\"matches\": true}, \"label\": \"inpatient_beds_used\", \"values\": [19022.0, 15680.0, 12193.0, 15793.0, 2603.0, 16928.0, 11728.0, 16899.0, 16827.0, 9904.0, 18032.0]}, {\"axis\": {\"matches\": true}, \"label\": \"inpatient_beds_used_covid\", \"values\": [4995.0, 2571.0, 1463.0, 2222.0, 483.0, 1362.0, 2861.0, 2471.0, 1781.0, 1659.0, 4599.0]}], \"hovertemplate\": \"state_desc=Georgia<br>%{xaxis.title.text}=%{x}<br>%{yaxis.title.text}=%{y}<extra></extra>\", \"legendgroup\": \"Georgia\", \"marker\": {\"color\": \"#636efa\", \"symbol\": \"circle\"}, \"name\": \"Georgia\", \"showlegend\": true, \"type\": \"splom\"}, {\"dimensions\": [{\"axis\": {\"matches\": true}, \"label\": \"pneumoniadeaths\", \"values\": [628.0, 694.0, 240.0, 201.0, 198.0, 53.0, 201.0, 210.0, 312.0, 160.0, 387.0]}, {\"axis\": {\"matches\": true}, \"label\": \"inpatient_beds_used\", \"values\": [5004.0, 4885.0, 2993.0, 5349.0, 152.0, 4652.0, 2920.0, 4575.0, 5101.0, 4866.0, 4677.0]}, {\"axis\": {\"matches\": true}, \"label\": \"inpatient_beds_used_covid\", \"values\": [602.0, 1179.0, 333.0, 447.0, 61.0, 189.0, 397.0, 216.0, 717.0, 136.0, 379.0]}], \"hovertemplate\": \"state_desc=Iowa<br>%{xaxis.title.text}=%{x}<br>%{yaxis.title.text}=%{y}<extra></extra>\", \"legendgroup\": \"Iowa\", \"marker\": {\"color\": \"#EF553B\", \"symbol\": \"circle\"}, \"name\": \"Iowa\", \"showlegend\": true, \"type\": \"splom\"}, {\"dimensions\": [{\"axis\": {\"matches\": true}, \"label\": \"pneumoniadeaths\", \"values\": [993.0, 659.0, 375.0, 179.0, 305.0, 50.0, 713.0, 286.0, 281.0, 235.0, 504.0]}, {\"axis\": {\"matches\": true}, \"label\": \"inpatient_beds_used\", \"values\": [7864.0, 7350.0, 3339.0, 7631.0, 465.0, 7725.0, 3485.0, 7569.0, 7725.0, 3811.0, 7377.0]}, {\"axis\": {\"matches\": true}, \"label\": \"inpatient_beds_used_covid\", \"values\": [1191.0, 1914.0, 268.0, 319.0, 70.0, 425.0, 575.0, 470.0, 795.0, 185.0, 638.0]}], \"hovertemplate\": \"state_desc=Colorado<br>%{xaxis.title.text}=%{x}<br>%{yaxis.title.text}=%{y}<extra></extra>\", \"legendgroup\": \"Colorado\", \"marker\": {\"color\": \"#00cc96\", \"symbol\": \"circle\"}, \"name\": \"Colorado\", \"showlegend\": true, \"type\": \"splom\"}, {\"dimensions\": [{\"axis\": {\"matches\": true}, \"label\": \"pneumoniadeaths\", \"values\": [2512.0, 2036.0, 1905.0, 671.0, 886.0, 318.0, 1972.0, 967.0, 955.0, 935.0, 1820.0]}, {\"axis\": {\"matches\": true}, \"label\": \"inpatient_beds_used\", \"values\": [22232.0, 20051.0, 13533.0, 20500.0, 523.0, 21379.0, 15914.0, 20952.0, 20758.0, 17471.0, 20498.0]}, {\"axis\": {\"matches\": true}, \"label\": \"inpatient_beds_used_covid\", \"values\": [4154.0, 5908.0, 2923.0, 1894.0, 53.0, 1212.0, 3573.0, 1385.0, 3361.0, 1547.0, 2589.0]}], \"hovertemplate\": \"state_desc=Illinois<br>%{xaxis.title.text}=%{x}<br>%{yaxis.title.text}=%{y}<extra></extra>\", \"legendgroup\": \"Illinois\", \"marker\": {\"color\": \"#ab63fa\", \"symbol\": \"circle\"}, \"name\": \"Illinois\", \"showlegend\": true, \"type\": \"splom\"}, {\"dimensions\": [{\"axis\": {\"matches\": true}, \"label\": \"pneumoniadeaths\", \"values\": [1728.0, 1287.0, 679.0, 493.0, 530.0, 0.0, 969.0, 380.0, 782.0, 478.0, 1260.0]}, {\"axis\": {\"matches\": true}, \"label\": \"inpatient_beds_used\", \"values\": [12493.0, 11094.0, 7778.0, 11610.0, 1484.0, 11690.0, 7897.0, 11424.0, 11750.0, 8843.0, 12185.0]}, {\"axis\": {\"matches\": true}, \"label\": \"inpatient_beds_used_covid\", \"values\": [2822.0, 3468.0, 908.0, 938.0, 403.0, 585.0, 1421.0, 768.0, 1756.0, 650.0, 1606.0]}], \"hovertemplate\": \"state_desc=Indiana<br>%{xaxis.title.text}=%{x}<br>%{yaxis.title.text}=%{y}<extra></extra>\", \"legendgroup\": \"Indiana\", \"marker\": {\"color\": \"#FFA15A\", \"symbol\": \"circle\"}, \"name\": \"Indiana\", \"showlegend\": true, \"type\": \"splom\"}, {\"dimensions\": [{\"axis\": {\"matches\": true}, \"label\": \"pneumoniadeaths\", \"values\": [850.0, 457.0, 399.0, 425.0, 287.0, 111.0, 352.0, 500.0, 439.0, 350.0, 1133.0]}, {\"axis\": {\"matches\": true}, \"label\": \"inpatient_beds_used\", \"values\": [12225.0, 10983.0, 7620.0, 11544.0, 1277.0, 10662.0, 4677.0, 11011.0, 10833.0, 9325.0, 11483.0]}, {\"axis\": {\"matches\": true}, \"label\": \"inpatient_beds_used_covid\", \"values\": [3095.0, 1877.0, 763.0, 994.0, 191.0, 531.0, 416.0, 875.0, 1172.0, 973.0, 2218.0]}], \"hovertemplate\": \"state_desc=Alabama<br>%{xaxis.title.text}=%{x}<br>%{yaxis.title.text}=%{y}<extra></extra>\", \"legendgroup\": \"Alabama\", \"marker\": {\"color\": \"#19d3f3\", \"symbol\": \"circle\"}, \"name\": \"Alabama\", \"showlegend\": true, \"type\": \"splom\"}],                        {\"dragmode\": \"select\", \"legend\": {\"title\": {\"text\": \"state_desc\"}, \"tracegroupgap\": 0}, \"margin\": {\"t\": 60}, \"template\": {\"data\": {\"bar\": [{\"error_x\": {\"color\": \"#2a3f5f\"}, \"error_y\": {\"color\": \"#2a3f5f\"}, \"marker\": {\"line\": {\"color\": \"#E5ECF6\", \"width\": 0.5}}, \"type\": \"bar\"}], \"barpolar\": [{\"marker\": {\"line\": {\"color\": \"#E5ECF6\", \"width\": 0.5}}, \"type\": \"barpolar\"}], \"carpet\": [{\"aaxis\": {\"endlinecolor\": \"#2a3f5f\", \"gridcolor\": \"white\", \"linecolor\": \"white\", \"minorgridcolor\": \"white\", \"startlinecolor\": \"#2a3f5f\"}, \"baxis\": {\"endlinecolor\": \"#2a3f5f\", \"gridcolor\": \"white\", \"linecolor\": \"white\", \"minorgridcolor\": \"white\", \"startlinecolor\": \"#2a3f5f\"}, \"type\": \"carpet\"}], \"choropleth\": [{\"colorbar\": {\"outlinewidth\": 0, \"ticks\": \"\"}, \"type\": \"choropleth\"}], \"contour\": [{\"colorbar\": {\"outlinewidth\": 0, \"ticks\": \"\"}, \"colorscale\": [[0.0, \"#0d0887\"], [0.1111111111111111, \"#46039f\"], [0.2222222222222222, \"#7201a8\"], [0.3333333333333333, \"#9c179e\"], [0.4444444444444444, \"#bd3786\"], [0.5555555555555556, \"#d8576b\"], [0.6666666666666666, \"#ed7953\"], [0.7777777777777778, \"#fb9f3a\"], [0.8888888888888888, \"#fdca26\"], [1.0, \"#f0f921\"]], \"type\": \"contour\"}], \"contourcarpet\": [{\"colorbar\": {\"outlinewidth\": 0, \"ticks\": \"\"}, \"type\": \"contourcarpet\"}], \"heatmap\": [{\"colorbar\": {\"outlinewidth\": 0, \"ticks\": \"\"}, \"colorscale\": [[0.0, \"#0d0887\"], [0.1111111111111111, \"#46039f\"], [0.2222222222222222, \"#7201a8\"], [0.3333333333333333, \"#9c179e\"], [0.4444444444444444, \"#bd3786\"], [0.5555555555555556, \"#d8576b\"], [0.6666666666666666, \"#ed7953\"], [0.7777777777777778, \"#fb9f3a\"], [0.8888888888888888, \"#fdca26\"], [1.0, \"#f0f921\"]], \"type\": \"heatmap\"}], \"heatmapgl\": [{\"colorbar\": {\"outlinewidth\": 0, \"ticks\": \"\"}, \"colorscale\": [[0.0, \"#0d0887\"], [0.1111111111111111, \"#46039f\"], [0.2222222222222222, \"#7201a8\"], [0.3333333333333333, \"#9c179e\"], [0.4444444444444444, \"#bd3786\"], [0.5555555555555556, \"#d8576b\"], [0.6666666666666666, \"#ed7953\"], [0.7777777777777778, \"#fb9f3a\"], [0.8888888888888888, \"#fdca26\"], [1.0, \"#f0f921\"]], \"type\": \"heatmapgl\"}], \"histogram\": [{\"marker\": {\"colorbar\": {\"outlinewidth\": 0, \"ticks\": \"\"}}, \"type\": \"histogram\"}], \"histogram2d\": [{\"colorbar\": {\"outlinewidth\": 0, \"ticks\": \"\"}, \"colorscale\": [[0.0, \"#0d0887\"], [0.1111111111111111, \"#46039f\"], [0.2222222222222222, \"#7201a8\"], [0.3333333333333333, \"#9c179e\"], [0.4444444444444444, \"#bd3786\"], [0.5555555555555556, \"#d8576b\"], [0.6666666666666666, \"#ed7953\"], [0.7777777777777778, \"#fb9f3a\"], [0.8888888888888888, \"#fdca26\"], [1.0, \"#f0f921\"]], \"type\": \"histogram2d\"}], \"histogram2dcontour\": [{\"colorbar\": {\"outlinewidth\": 0, \"ticks\": \"\"}, \"colorscale\": [[0.0, \"#0d0887\"], [0.1111111111111111, \"#46039f\"], [0.2222222222222222, \"#7201a8\"], [0.3333333333333333, \"#9c179e\"], [0.4444444444444444, \"#bd3786\"], [0.5555555555555556, \"#d8576b\"], [0.6666666666666666, \"#ed7953\"], [0.7777777777777778, \"#fb9f3a\"], [0.8888888888888888, \"#fdca26\"], [1.0, \"#f0f921\"]], \"type\": \"histogram2dcontour\"}], \"mesh3d\": [{\"colorbar\": {\"outlinewidth\": 0, \"ticks\": \"\"}, \"type\": \"mesh3d\"}], \"parcoords\": [{\"line\": {\"colorbar\": {\"outlinewidth\": 0, \"ticks\": \"\"}}, \"type\": \"parcoords\"}], \"pie\": [{\"automargin\": true, \"type\": \"pie\"}], \"scatter\": [{\"marker\": {\"colorbar\": {\"outlinewidth\": 0, \"ticks\": \"\"}}, \"type\": \"scatter\"}], \"scatter3d\": [{\"line\": {\"colorbar\": {\"outlinewidth\": 0, \"ticks\": \"\"}}, \"marker\": {\"colorbar\": {\"outlinewidth\": 0, \"ticks\": \"\"}}, \"type\": \"scatter3d\"}], \"scattercarpet\": [{\"marker\": {\"colorbar\": {\"outlinewidth\": 0, \"ticks\": \"\"}}, \"type\": \"scattercarpet\"}], \"scattergeo\": [{\"marker\": {\"colorbar\": {\"outlinewidth\": 0, \"ticks\": \"\"}}, \"type\": \"scattergeo\"}], \"scattergl\": [{\"marker\": {\"colorbar\": {\"outlinewidth\": 0, \"ticks\": \"\"}}, \"type\": \"scattergl\"}], \"scattermapbox\": [{\"marker\": {\"colorbar\": {\"outlinewidth\": 0, \"ticks\": \"\"}}, \"type\": \"scattermapbox\"}], \"scatterpolar\": [{\"marker\": {\"colorbar\": {\"outlinewidth\": 0, \"ticks\": \"\"}}, \"type\": \"scatterpolar\"}], \"scatterpolargl\": [{\"marker\": {\"colorbar\": {\"outlinewidth\": 0, \"ticks\": \"\"}}, \"type\": \"scatterpolargl\"}], \"scatterternary\": [{\"marker\": {\"colorbar\": {\"outlinewidth\": 0, \"ticks\": \"\"}}, \"type\": \"scatterternary\"}], \"surface\": [{\"colorbar\": {\"outlinewidth\": 0, \"ticks\": \"\"}, \"colorscale\": [[0.0, \"#0d0887\"], [0.1111111111111111, \"#46039f\"], [0.2222222222222222, \"#7201a8\"], [0.3333333333333333, \"#9c179e\"], [0.4444444444444444, \"#bd3786\"], [0.5555555555555556, \"#d8576b\"], [0.6666666666666666, \"#ed7953\"], [0.7777777777777778, \"#fb9f3a\"], [0.8888888888888888, \"#fdca26\"], [1.0, \"#f0f921\"]], \"type\": \"surface\"}], \"table\": [{\"cells\": {\"fill\": {\"color\": \"#EBF0F8\"}, \"line\": {\"color\": \"white\"}}, \"header\": {\"fill\": {\"color\": \"#C8D4E3\"}, \"line\": {\"color\": \"white\"}}, \"type\": \"table\"}]}, \"layout\": {\"annotationdefaults\": {\"arrowcolor\": \"#2a3f5f\", \"arrowhead\": 0, \"arrowwidth\": 1}, \"autotypenumbers\": \"strict\", \"coloraxis\": {\"colorbar\": {\"outlinewidth\": 0, \"ticks\": \"\"}}, \"colorscale\": {\"diverging\": [[0, \"#8e0152\"], [0.1, \"#c51b7d\"], [0.2, \"#de77ae\"], [0.3, \"#f1b6da\"], [0.4, \"#fde0ef\"], [0.5, \"#f7f7f7\"], [0.6, \"#e6f5d0\"], [0.7, \"#b8e186\"], [0.8, \"#7fbc41\"], [0.9, \"#4d9221\"], [1, \"#276419\"]], \"sequential\": [[0.0, \"#0d0887\"], [0.1111111111111111, \"#46039f\"], [0.2222222222222222, \"#7201a8\"], [0.3333333333333333, \"#9c179e\"], [0.4444444444444444, \"#bd3786\"], [0.5555555555555556, \"#d8576b\"], [0.6666666666666666, \"#ed7953\"], [0.7777777777777778, \"#fb9f3a\"], [0.8888888888888888, \"#fdca26\"], [1.0, \"#f0f921\"]], \"sequentialminus\": [[0.0, \"#0d0887\"], [0.1111111111111111, \"#46039f\"], [0.2222222222222222, \"#7201a8\"], [0.3333333333333333, \"#9c179e\"], [0.4444444444444444, \"#bd3786\"], [0.5555555555555556, \"#d8576b\"], [0.6666666666666666, \"#ed7953\"], [0.7777777777777778, \"#fb9f3a\"], [0.8888888888888888, \"#fdca26\"], [1.0, \"#f0f921\"]]}, \"colorway\": [\"#636efa\", \"#EF553B\", \"#00cc96\", \"#ab63fa\", \"#FFA15A\", \"#19d3f3\", \"#FF6692\", \"#B6E880\", \"#FF97FF\", \"#FECB52\"], \"font\": {\"color\": \"#2a3f5f\"}, \"geo\": {\"bgcolor\": \"white\", \"lakecolor\": \"white\", \"landcolor\": \"#E5ECF6\", \"showlakes\": true, \"showland\": true, \"subunitcolor\": \"white\"}, \"hoverlabel\": {\"align\": \"left\"}, \"hovermode\": \"closest\", \"mapbox\": {\"style\": \"light\"}, \"paper_bgcolor\": \"white\", \"plot_bgcolor\": \"#E5ECF6\", \"polar\": {\"angularaxis\": {\"gridcolor\": \"white\", \"linecolor\": \"white\", \"ticks\": \"\"}, \"bgcolor\": \"#E5ECF6\", \"radialaxis\": {\"gridcolor\": \"white\", \"linecolor\": \"white\", \"ticks\": \"\"}}, \"scene\": {\"xaxis\": {\"backgroundcolor\": \"#E5ECF6\", \"gridcolor\": \"white\", \"gridwidth\": 2, \"linecolor\": \"white\", \"showbackground\": true, \"ticks\": \"\", \"zerolinecolor\": \"white\"}, \"yaxis\": {\"backgroundcolor\": \"#E5ECF6\", \"gridcolor\": \"white\", \"gridwidth\": 2, \"linecolor\": \"white\", \"showbackground\": true, \"ticks\": \"\", \"zerolinecolor\": \"white\"}, \"zaxis\": {\"backgroundcolor\": \"#E5ECF6\", \"gridcolor\": \"white\", \"gridwidth\": 2, \"linecolor\": \"white\", \"showbackground\": true, \"ticks\": \"\", \"zerolinecolor\": \"white\"}}, \"shapedefaults\": {\"line\": {\"color\": \"#2a3f5f\"}}, \"ternary\": {\"aaxis\": {\"gridcolor\": \"white\", \"linecolor\": \"white\", \"ticks\": \"\"}, \"baxis\": {\"gridcolor\": \"white\", \"linecolor\": \"white\", \"ticks\": \"\"}, \"bgcolor\": \"#E5ECF6\", \"caxis\": {\"gridcolor\": \"white\", \"linecolor\": \"white\", \"ticks\": \"\"}}, \"title\": {\"x\": 0.05}, \"xaxis\": {\"automargin\": true, \"gridcolor\": \"white\", \"linecolor\": \"white\", \"ticks\": \"\", \"title\": {\"standoff\": 15}, \"zerolinecolor\": \"white\", \"zerolinewidth\": 2}, \"yaxis\": {\"automargin\": true, \"gridcolor\": \"white\", \"linecolor\": \"white\", \"ticks\": \"\", \"title\": {\"standoff\": 15}, \"zerolinecolor\": \"white\", \"zerolinewidth\": 2}}}},                        {\"responsive\": true}                    ).then(function(){\n",
       "                            \n",
       "var gd = document.getElementById('20210680-4da8-41d7-b52d-4299eb51ba1f');\n",
       "var x = new MutationObserver(function (mutations, observer) {{\n",
       "        var display = window.getComputedStyle(gd).display;\n",
       "        if (!display || display === 'none') {{\n",
       "            console.log([gd, 'removed!']);\n",
       "            Plotly.purge(gd);\n",
       "            observer.disconnect();\n",
       "        }}\n",
       "}});\n",
       "\n",
       "// Listen for the removal of the full notebook cells\n",
       "var notebookContainer = gd.closest('#notebook-container');\n",
       "if (notebookContainer) {{\n",
       "    x.observe(notebookContainer, {childList: true});\n",
       "}}\n",
       "\n",
       "// Listen for the clearing of the current output cell\n",
       "var outputEl = gd.closest('.output');\n",
       "if (outputEl) {{\n",
       "    x.observe(outputEl, {childList: true});\n",
       "}}\n",
       "\n",
       "                        })                };                });            </script>        </div>"
      ]
     },
     "metadata": {},
     "output_type": "display_data"
    }
   ],
   "source": [
    "fig = px.scatter_matrix(covidTableStrData,\n",
    "    dimensions=[\"pneumoniadeaths\", \"inpatient_beds_used\", \"inpatient_beds_used_covid\"],\n",
    "    color=\"state_desc\")\n",
    "fig.show(width=1000, height=1000 )"
   ]
  },
  {
   "cell_type": "code",
   "execution_count": null,
   "metadata": {},
   "outputs": [],
   "source": [
    "covidTableStrData.info()"
   ]
  },
  {
   "cell_type": "markdown",
   "metadata": {},
   "source": [
    "<a id=section804></a>\n",
    "## 8.4 Connecticut Covid-19 Deaths"
   ]
  },
  {
   "cell_type": "code",
   "execution_count": 109,
   "metadata": {},
   "outputs": [
    {
     "name": "stderr",
     "output_type": "stream",
     "text": [
      "C:\\Users\\ashwi\\anaconda3\\lib\\site-packages\\ipykernel_launcher.py:1: UserWarning:\n",
      "\n",
      "Boolean Series key will be reindexed to match DataFrame index.\n",
      "\n"
     ]
    },
    {
     "data": {
      "text/html": [
       "<div>\n",
       "<style scoped>\n",
       "    .dataframe tbody tr th:only-of-type {\n",
       "        vertical-align: middle;\n",
       "    }\n",
       "\n",
       "    .dataframe tbody tr th {\n",
       "        vertical-align: top;\n",
       "    }\n",
       "\n",
       "    .dataframe thead th {\n",
       "        text-align: right;\n",
       "    }\n",
       "</style>\n",
       "<table border=\"1\" class=\"dataframe\">\n",
       "  <thead>\n",
       "    <tr style=\"text-align: right;\">\n",
       "      <th></th>\n",
       "      <th>enddate</th>\n",
       "      <th>groups</th>\n",
       "      <th>state</th>\n",
       "      <th>placeofdeath</th>\n",
       "      <th>agegroup</th>\n",
       "      <th>covid19deaths</th>\n",
       "      <th>totaldeaths</th>\n",
       "      <th>pneumoniadeaths</th>\n",
       "      <th>pneumoniaandcovid19deaths</th>\n",
       "      <th>influenzadeaths</th>\n",
       "      <th>...</th>\n",
       "      <th>inpatient_bed_covid_utilization</th>\n",
       "      <th>weekending</th>\n",
       "      <th>residentstotaladmissionscovid19</th>\n",
       "      <th>residentstotalconfirmedcovid19</th>\n",
       "      <th>residentstotalsuspectedcovid19</th>\n",
       "      <th>residentsweeklyalldeaths</th>\n",
       "      <th>residentstotalalldeaths</th>\n",
       "      <th>residentstotalcovid19deaths</th>\n",
       "      <th>numberofallbeds</th>\n",
       "      <th>totalnumberofoccupiedbeds</th>\n",
       "    </tr>\n",
       "  </thead>\n",
       "  <tbody>\n",
       "    <tr>\n",
       "      <th>2</th>\n",
       "      <td>2020-05-31</td>\n",
       "      <td>By Month</td>\n",
       "      <td>Connecticut</td>\n",
       "      <td>Total - All Places of Death</td>\n",
       "      <td>All Ages</td>\n",
       "      <td>1531.0</td>\n",
       "      <td>4015.0</td>\n",
       "      <td>477.0</td>\n",
       "      <td>350.0</td>\n",
       "      <td>0.0</td>\n",
       "      <td>...</td>\n",
       "      <td>0.067901</td>\n",
       "      <td>2020-05-31</td>\n",
       "      <td>1489.0</td>\n",
       "      <td>5939.0</td>\n",
       "      <td>2605.0</td>\n",
       "      <td>266.0</td>\n",
       "      <td>2672.0</td>\n",
       "      <td>1665.0</td>\n",
       "      <td>24540.0</td>\n",
       "      <td>17766.0</td>\n",
       "    </tr>\n",
       "    <tr>\n",
       "      <th>0</th>\n",
       "      <td>2021-01-31</td>\n",
       "      <td>By Month</td>\n",
       "      <td>Connecticut</td>\n",
       "      <td>Total - All Places of Death</td>\n",
       "      <td>All Ages</td>\n",
       "      <td>979.0</td>\n",
       "      <td>3588.0</td>\n",
       "      <td>478.0</td>\n",
       "      <td>371.0</td>\n",
       "      <td>0.0</td>\n",
       "      <td>...</td>\n",
       "      <td>0.123191</td>\n",
       "      <td>2021-01-31</td>\n",
       "      <td>5098.0</td>\n",
       "      <td>11241.0</td>\n",
       "      <td>3598.0</td>\n",
       "      <td>149.0</td>\n",
       "      <td>6951.0</td>\n",
       "      <td>2802.0</td>\n",
       "      <td>24533.0</td>\n",
       "      <td>17810.0</td>\n",
       "    </tr>\n",
       "    <tr>\n",
       "      <th>1</th>\n",
       "      <td>2021-02-28</td>\n",
       "      <td>By Month</td>\n",
       "      <td>Connecticut</td>\n",
       "      <td>Total - All Places of Death</td>\n",
       "      <td>All Ages</td>\n",
       "      <td>329.0</td>\n",
       "      <td>1427.0</td>\n",
       "      <td>184.0</td>\n",
       "      <td>138.0</td>\n",
       "      <td>0.0</td>\n",
       "      <td>...</td>\n",
       "      <td>0.060395</td>\n",
       "      <td>2021-02-28</td>\n",
       "      <td>5577.0</td>\n",
       "      <td>11438.0</td>\n",
       "      <td>3598.0</td>\n",
       "      <td>104.0</td>\n",
       "      <td>7371.0</td>\n",
       "      <td>2865.0</td>\n",
       "      <td>24533.0</td>\n",
       "      <td>17923.0</td>\n",
       "    </tr>\n",
       "  </tbody>\n",
       "</table>\n",
       "<p>3 rows × 48 columns</p>\n",
       "</div>"
      ],
      "text/plain": [
       "      enddate    groups        state                 placeofdeath  agegroup  \\\n",
       "2  2020-05-31  By Month  Connecticut  Total - All Places of Death  All Ages   \n",
       "0  2021-01-31  By Month  Connecticut  Total - All Places of Death  All Ages   \n",
       "1  2021-02-28  By Month  Connecticut  Total - All Places of Death  All Ages   \n",
       "\n",
       "   covid19deaths  totaldeaths  pneumoniadeaths  pneumoniaandcovid19deaths  \\\n",
       "2         1531.0       4015.0            477.0                      350.0   \n",
       "0          979.0       3588.0            478.0                      371.0   \n",
       "1          329.0       1427.0            184.0                      138.0   \n",
       "\n",
       "   influenzadeaths  ...  inpatient_bed_covid_utilization  weekending  \\\n",
       "2              0.0  ...                         0.067901  2020-05-31   \n",
       "0              0.0  ...                         0.123191  2021-01-31   \n",
       "1              0.0  ...                         0.060395  2021-02-28   \n",
       "\n",
       "  residentstotaladmissionscovid19 residentstotalconfirmedcovid19  \\\n",
       "2                          1489.0                         5939.0   \n",
       "0                          5098.0                        11241.0   \n",
       "1                          5577.0                        11438.0   \n",
       "\n",
       "  residentstotalsuspectedcovid19  residentsweeklyalldeaths  \\\n",
       "2                         2605.0                     266.0   \n",
       "0                         3598.0                     149.0   \n",
       "1                         3598.0                     104.0   \n",
       "\n",
       "   residentstotalalldeaths  residentstotalcovid19deaths  numberofallbeds  \\\n",
       "2                   2672.0                       1665.0          24540.0   \n",
       "0                   6951.0                       2802.0          24533.0   \n",
       "1                   7371.0                       2865.0          24533.0   \n",
       "\n",
       "   totalnumberofoccupiedbeds  \n",
       "2                    17766.0  \n",
       "0                    17810.0  \n",
       "1                    17923.0  \n",
       "\n",
       "[3 rows x 48 columns]"
      ]
     },
     "execution_count": 109,
     "metadata": {},
     "output_type": "execute_result"
    }
   ],
   "source": [
    "dm1 = covidTableStrData.sort_values(by=['date'])[covidTableStrData['residentstotaladmissionscovid19'].notnull()]\n",
    "dm1"
   ]
  },
  {
   "cell_type": "code",
   "execution_count": 111,
   "metadata": {},
   "outputs": [
    {
     "name": "stderr",
     "output_type": "stream",
     "text": [
      "C:\\Users\\ashwi\\anaconda3\\lib\\site-packages\\ipykernel_launcher.py:1: UserWarning:\n",
      "\n",
      "Boolean Series key will be reindexed to match DataFrame index.\n",
      "\n"
     ]
    },
    {
     "data": {
      "text/html": [
       "<div>\n",
       "<style scoped>\n",
       "    .dataframe tbody tr th:only-of-type {\n",
       "        vertical-align: middle;\n",
       "    }\n",
       "\n",
       "    .dataframe tbody tr th {\n",
       "        vertical-align: top;\n",
       "    }\n",
       "\n",
       "    .dataframe thead th {\n",
       "        text-align: right;\n",
       "    }\n",
       "</style>\n",
       "<table border=\"1\" class=\"dataframe\">\n",
       "  <thead>\n",
       "    <tr style=\"text-align: right;\">\n",
       "      <th></th>\n",
       "      <th>enddate</th>\n",
       "      <th>groups</th>\n",
       "      <th>state</th>\n",
       "      <th>placeofdeath</th>\n",
       "      <th>agegroup</th>\n",
       "      <th>covid19deaths</th>\n",
       "      <th>totaldeaths</th>\n",
       "      <th>pneumoniadeaths</th>\n",
       "      <th>pneumoniaandcovid19deaths</th>\n",
       "      <th>influenzadeaths</th>\n",
       "      <th>...</th>\n",
       "      <th>inpatient_bed_covid_utilization</th>\n",
       "      <th>weekending</th>\n",
       "      <th>residentstotaladmissionscovid19</th>\n",
       "      <th>residentstotalconfirmedcovid19</th>\n",
       "      <th>residentstotalsuspectedcovid19</th>\n",
       "      <th>residentsweeklyalldeaths</th>\n",
       "      <th>residentstotalalldeaths</th>\n",
       "      <th>residentstotalcovid19deaths</th>\n",
       "      <th>numberofallbeds</th>\n",
       "      <th>totalnumberofoccupiedbeds</th>\n",
       "    </tr>\n",
       "  </thead>\n",
       "  <tbody>\n",
       "    <tr>\n",
       "      <th>2</th>\n",
       "      <td>2020-05-31</td>\n",
       "      <td>By Month</td>\n",
       "      <td>Connecticut</td>\n",
       "      <td>Total - All Places of Death</td>\n",
       "      <td>All Ages</td>\n",
       "      <td>1531.0</td>\n",
       "      <td>4015.0</td>\n",
       "      <td>477.0</td>\n",
       "      <td>350.0</td>\n",
       "      <td>0.0</td>\n",
       "      <td>...</td>\n",
       "      <td>0.067901</td>\n",
       "      <td>2020-05-31</td>\n",
       "      <td>1489.0</td>\n",
       "      <td>5939.0</td>\n",
       "      <td>2605.0</td>\n",
       "      <td>266.0</td>\n",
       "      <td>2672.0</td>\n",
       "      <td>1665.0</td>\n",
       "      <td>24540.0</td>\n",
       "      <td>17766.0</td>\n",
       "    </tr>\n",
       "    <tr>\n",
       "      <th>0</th>\n",
       "      <td>2021-01-31</td>\n",
       "      <td>By Month</td>\n",
       "      <td>Connecticut</td>\n",
       "      <td>Total - All Places of Death</td>\n",
       "      <td>All Ages</td>\n",
       "      <td>979.0</td>\n",
       "      <td>3588.0</td>\n",
       "      <td>478.0</td>\n",
       "      <td>371.0</td>\n",
       "      <td>0.0</td>\n",
       "      <td>...</td>\n",
       "      <td>0.123191</td>\n",
       "      <td>2021-01-31</td>\n",
       "      <td>5098.0</td>\n",
       "      <td>11241.0</td>\n",
       "      <td>3598.0</td>\n",
       "      <td>149.0</td>\n",
       "      <td>6951.0</td>\n",
       "      <td>2802.0</td>\n",
       "      <td>24533.0</td>\n",
       "      <td>17810.0</td>\n",
       "    </tr>\n",
       "    <tr>\n",
       "      <th>1</th>\n",
       "      <td>2021-02-28</td>\n",
       "      <td>By Month</td>\n",
       "      <td>Connecticut</td>\n",
       "      <td>Total - All Places of Death</td>\n",
       "      <td>All Ages</td>\n",
       "      <td>329.0</td>\n",
       "      <td>1427.0</td>\n",
       "      <td>184.0</td>\n",
       "      <td>138.0</td>\n",
       "      <td>0.0</td>\n",
       "      <td>...</td>\n",
       "      <td>0.060395</td>\n",
       "      <td>2021-02-28</td>\n",
       "      <td>5577.0</td>\n",
       "      <td>11438.0</td>\n",
       "      <td>3598.0</td>\n",
       "      <td>104.0</td>\n",
       "      <td>7371.0</td>\n",
       "      <td>2865.0</td>\n",
       "      <td>24533.0</td>\n",
       "      <td>17923.0</td>\n",
       "    </tr>\n",
       "  </tbody>\n",
       "</table>\n",
       "<p>3 rows × 48 columns</p>\n",
       "</div>"
      ],
      "text/plain": [
       "      enddate    groups        state                 placeofdeath  agegroup  \\\n",
       "2  2020-05-31  By Month  Connecticut  Total - All Places of Death  All Ages   \n",
       "0  2021-01-31  By Month  Connecticut  Total - All Places of Death  All Ages   \n",
       "1  2021-02-28  By Month  Connecticut  Total - All Places of Death  All Ages   \n",
       "\n",
       "   covid19deaths  totaldeaths  pneumoniadeaths  pneumoniaandcovid19deaths  \\\n",
       "2         1531.0       4015.0            477.0                      350.0   \n",
       "0          979.0       3588.0            478.0                      371.0   \n",
       "1          329.0       1427.0            184.0                      138.0   \n",
       "\n",
       "   influenzadeaths  ...  inpatient_bed_covid_utilization  weekending  \\\n",
       "2              0.0  ...                         0.067901  2020-05-31   \n",
       "0              0.0  ...                         0.123191  2021-01-31   \n",
       "1              0.0  ...                         0.060395  2021-02-28   \n",
       "\n",
       "  residentstotaladmissionscovid19 residentstotalconfirmedcovid19  \\\n",
       "2                          1489.0                         5939.0   \n",
       "0                          5098.0                        11241.0   \n",
       "1                          5577.0                        11438.0   \n",
       "\n",
       "  residentstotalsuspectedcovid19  residentsweeklyalldeaths  \\\n",
       "2                         2605.0                     266.0   \n",
       "0                         3598.0                     149.0   \n",
       "1                         3598.0                     104.0   \n",
       "\n",
       "   residentstotalalldeaths  residentstotalcovid19deaths  numberofallbeds  \\\n",
       "2                   2672.0                       1665.0          24540.0   \n",
       "0                   6951.0                       2802.0          24533.0   \n",
       "1                   7371.0                       2865.0          24533.0   \n",
       "\n",
       "   totalnumberofoccupiedbeds  \n",
       "2                    17766.0  \n",
       "0                    17810.0  \n",
       "1                    17923.0  \n",
       "\n",
       "[3 rows x 48 columns]"
      ]
     },
     "execution_count": 111,
     "metadata": {},
     "output_type": "execute_result"
    }
   ],
   "source": [
    "dm2 = covidTableStrData.sort_values(by=['date'])[covidTableStrData['residentstotalconfirmedcovid19'].notnull()]\n",
    "dm2"
   ]
  },
  {
   "cell_type": "code",
   "execution_count": 112,
   "metadata": {},
   "outputs": [
    {
     "data": {
      "application/vnd.plotly.v1+json": {
       "config": {
        "plotlyServerURL": "https://plot.ly"
       },
       "data": [
        {
         "marker": {
          "color": "#4f5266"
         },
         "name": "residentstotaladmissionscovid19",
         "text": [
          1489,
          5098,
          5577
         ],
         "textposition": "auto",
         "type": "bar",
         "x": [
          "2020-05-31",
          "2021-01-31",
          "2021-02-28"
         ],
         "y": [
          1489,
          5098,
          5577
         ]
        },
        {
         "marker": {
          "color": "#855d89"
         },
         "name": "residentstotalconfirmedcovid19",
         "text": [
          5939,
          11241,
          11438
         ],
         "textposition": "auto",
         "type": "bar",
         "x": [
          "2020-05-31",
          "2021-01-31",
          "2021-02-28"
         ],
         "y": [
          5939,
          11241,
          11438
         ]
        },
        {
         "marker": {
          "color": "#ce6086"
         },
         "name": "residentstotalsuspectedcovid19",
         "text": [
          2605,
          3598,
          3598
         ],
         "textposition": "auto",
         "type": "bar",
         "x": [
          "2020-05-31",
          "2021-01-31",
          "2021-02-28"
         ],
         "y": [
          2605,
          3598,
          3598
         ]
        },
        {
         "marker": {
          "color": "#ff735c"
         },
         "name": "inpatient_beds_used",
         "text": [
          5363,
          6441,
          6304
         ],
         "textposition": "auto",
         "type": "bar",
         "x": [
          "2020-05-31",
          "2021-01-31",
          "2021-02-28"
         ],
         "y": [
          5363,
          6441,
          6304
         ]
        },
        {
         "marker": {
          "color": "#ffa600"
         },
         "name": "inpatient_beds_used_covid",
         "text": [
          682,
          1030,
          504
         ],
         "textposition": "auto",
         "type": "bar",
         "x": [
          "2020-05-31",
          "2021-01-31",
          "2021-02-28"
         ],
         "y": [
          682,
          1030,
          504
         ]
        }
       ],
       "layout": {
        "barmode": "group",
        "template": {
         "data": {
          "bar": [
           {
            "error_x": {
             "color": "#2a3f5f"
            },
            "error_y": {
             "color": "#2a3f5f"
            },
            "marker": {
             "line": {
              "color": "#E5ECF6",
              "width": 0.5
             }
            },
            "type": "bar"
           }
          ],
          "barpolar": [
           {
            "marker": {
             "line": {
              "color": "#E5ECF6",
              "width": 0.5
             }
            },
            "type": "barpolar"
           }
          ],
          "carpet": [
           {
            "aaxis": {
             "endlinecolor": "#2a3f5f",
             "gridcolor": "white",
             "linecolor": "white",
             "minorgridcolor": "white",
             "startlinecolor": "#2a3f5f"
            },
            "baxis": {
             "endlinecolor": "#2a3f5f",
             "gridcolor": "white",
             "linecolor": "white",
             "minorgridcolor": "white",
             "startlinecolor": "#2a3f5f"
            },
            "type": "carpet"
           }
          ],
          "choropleth": [
           {
            "colorbar": {
             "outlinewidth": 0,
             "ticks": ""
            },
            "type": "choropleth"
           }
          ],
          "contour": [
           {
            "colorbar": {
             "outlinewidth": 0,
             "ticks": ""
            },
            "colorscale": [
             [
              0,
              "#0d0887"
             ],
             [
              0.1111111111111111,
              "#46039f"
             ],
             [
              0.2222222222222222,
              "#7201a8"
             ],
             [
              0.3333333333333333,
              "#9c179e"
             ],
             [
              0.4444444444444444,
              "#bd3786"
             ],
             [
              0.5555555555555556,
              "#d8576b"
             ],
             [
              0.6666666666666666,
              "#ed7953"
             ],
             [
              0.7777777777777778,
              "#fb9f3a"
             ],
             [
              0.8888888888888888,
              "#fdca26"
             ],
             [
              1,
              "#f0f921"
             ]
            ],
            "type": "contour"
           }
          ],
          "contourcarpet": [
           {
            "colorbar": {
             "outlinewidth": 0,
             "ticks": ""
            },
            "type": "contourcarpet"
           }
          ],
          "heatmap": [
           {
            "colorbar": {
             "outlinewidth": 0,
             "ticks": ""
            },
            "colorscale": [
             [
              0,
              "#0d0887"
             ],
             [
              0.1111111111111111,
              "#46039f"
             ],
             [
              0.2222222222222222,
              "#7201a8"
             ],
             [
              0.3333333333333333,
              "#9c179e"
             ],
             [
              0.4444444444444444,
              "#bd3786"
             ],
             [
              0.5555555555555556,
              "#d8576b"
             ],
             [
              0.6666666666666666,
              "#ed7953"
             ],
             [
              0.7777777777777778,
              "#fb9f3a"
             ],
             [
              0.8888888888888888,
              "#fdca26"
             ],
             [
              1,
              "#f0f921"
             ]
            ],
            "type": "heatmap"
           }
          ],
          "heatmapgl": [
           {
            "colorbar": {
             "outlinewidth": 0,
             "ticks": ""
            },
            "colorscale": [
             [
              0,
              "#0d0887"
             ],
             [
              0.1111111111111111,
              "#46039f"
             ],
             [
              0.2222222222222222,
              "#7201a8"
             ],
             [
              0.3333333333333333,
              "#9c179e"
             ],
             [
              0.4444444444444444,
              "#bd3786"
             ],
             [
              0.5555555555555556,
              "#d8576b"
             ],
             [
              0.6666666666666666,
              "#ed7953"
             ],
             [
              0.7777777777777778,
              "#fb9f3a"
             ],
             [
              0.8888888888888888,
              "#fdca26"
             ],
             [
              1,
              "#f0f921"
             ]
            ],
            "type": "heatmapgl"
           }
          ],
          "histogram": [
           {
            "marker": {
             "colorbar": {
              "outlinewidth": 0,
              "ticks": ""
             }
            },
            "type": "histogram"
           }
          ],
          "histogram2d": [
           {
            "colorbar": {
             "outlinewidth": 0,
             "ticks": ""
            },
            "colorscale": [
             [
              0,
              "#0d0887"
             ],
             [
              0.1111111111111111,
              "#46039f"
             ],
             [
              0.2222222222222222,
              "#7201a8"
             ],
             [
              0.3333333333333333,
              "#9c179e"
             ],
             [
              0.4444444444444444,
              "#bd3786"
             ],
             [
              0.5555555555555556,
              "#d8576b"
             ],
             [
              0.6666666666666666,
              "#ed7953"
             ],
             [
              0.7777777777777778,
              "#fb9f3a"
             ],
             [
              0.8888888888888888,
              "#fdca26"
             ],
             [
              1,
              "#f0f921"
             ]
            ],
            "type": "histogram2d"
           }
          ],
          "histogram2dcontour": [
           {
            "colorbar": {
             "outlinewidth": 0,
             "ticks": ""
            },
            "colorscale": [
             [
              0,
              "#0d0887"
             ],
             [
              0.1111111111111111,
              "#46039f"
             ],
             [
              0.2222222222222222,
              "#7201a8"
             ],
             [
              0.3333333333333333,
              "#9c179e"
             ],
             [
              0.4444444444444444,
              "#bd3786"
             ],
             [
              0.5555555555555556,
              "#d8576b"
             ],
             [
              0.6666666666666666,
              "#ed7953"
             ],
             [
              0.7777777777777778,
              "#fb9f3a"
             ],
             [
              0.8888888888888888,
              "#fdca26"
             ],
             [
              1,
              "#f0f921"
             ]
            ],
            "type": "histogram2dcontour"
           }
          ],
          "mesh3d": [
           {
            "colorbar": {
             "outlinewidth": 0,
             "ticks": ""
            },
            "type": "mesh3d"
           }
          ],
          "parcoords": [
           {
            "line": {
             "colorbar": {
              "outlinewidth": 0,
              "ticks": ""
             }
            },
            "type": "parcoords"
           }
          ],
          "pie": [
           {
            "automargin": true,
            "type": "pie"
           }
          ],
          "scatter": [
           {
            "marker": {
             "colorbar": {
              "outlinewidth": 0,
              "ticks": ""
             }
            },
            "type": "scatter"
           }
          ],
          "scatter3d": [
           {
            "line": {
             "colorbar": {
              "outlinewidth": 0,
              "ticks": ""
             }
            },
            "marker": {
             "colorbar": {
              "outlinewidth": 0,
              "ticks": ""
             }
            },
            "type": "scatter3d"
           }
          ],
          "scattercarpet": [
           {
            "marker": {
             "colorbar": {
              "outlinewidth": 0,
              "ticks": ""
             }
            },
            "type": "scattercarpet"
           }
          ],
          "scattergeo": [
           {
            "marker": {
             "colorbar": {
              "outlinewidth": 0,
              "ticks": ""
             }
            },
            "type": "scattergeo"
           }
          ],
          "scattergl": [
           {
            "marker": {
             "colorbar": {
              "outlinewidth": 0,
              "ticks": ""
             }
            },
            "type": "scattergl"
           }
          ],
          "scattermapbox": [
           {
            "marker": {
             "colorbar": {
              "outlinewidth": 0,
              "ticks": ""
             }
            },
            "type": "scattermapbox"
           }
          ],
          "scatterpolar": [
           {
            "marker": {
             "colorbar": {
              "outlinewidth": 0,
              "ticks": ""
             }
            },
            "type": "scatterpolar"
           }
          ],
          "scatterpolargl": [
           {
            "marker": {
             "colorbar": {
              "outlinewidth": 0,
              "ticks": ""
             }
            },
            "type": "scatterpolargl"
           }
          ],
          "scatterternary": [
           {
            "marker": {
             "colorbar": {
              "outlinewidth": 0,
              "ticks": ""
             }
            },
            "type": "scatterternary"
           }
          ],
          "surface": [
           {
            "colorbar": {
             "outlinewidth": 0,
             "ticks": ""
            },
            "colorscale": [
             [
              0,
              "#0d0887"
             ],
             [
              0.1111111111111111,
              "#46039f"
             ],
             [
              0.2222222222222222,
              "#7201a8"
             ],
             [
              0.3333333333333333,
              "#9c179e"
             ],
             [
              0.4444444444444444,
              "#bd3786"
             ],
             [
              0.5555555555555556,
              "#d8576b"
             ],
             [
              0.6666666666666666,
              "#ed7953"
             ],
             [
              0.7777777777777778,
              "#fb9f3a"
             ],
             [
              0.8888888888888888,
              "#fdca26"
             ],
             [
              1,
              "#f0f921"
             ]
            ],
            "type": "surface"
           }
          ],
          "table": [
           {
            "cells": {
             "fill": {
              "color": "#EBF0F8"
             },
             "line": {
              "color": "white"
             }
            },
            "header": {
             "fill": {
              "color": "#C8D4E3"
             },
             "line": {
              "color": "white"
             }
            },
            "type": "table"
           }
          ]
         },
         "layout": {
          "annotationdefaults": {
           "arrowcolor": "#2a3f5f",
           "arrowhead": 0,
           "arrowwidth": 1
          },
          "autotypenumbers": "strict",
          "coloraxis": {
           "colorbar": {
            "outlinewidth": 0,
            "ticks": ""
           }
          },
          "colorscale": {
           "diverging": [
            [
             0,
             "#8e0152"
            ],
            [
             0.1,
             "#c51b7d"
            ],
            [
             0.2,
             "#de77ae"
            ],
            [
             0.3,
             "#f1b6da"
            ],
            [
             0.4,
             "#fde0ef"
            ],
            [
             0.5,
             "#f7f7f7"
            ],
            [
             0.6,
             "#e6f5d0"
            ],
            [
             0.7,
             "#b8e186"
            ],
            [
             0.8,
             "#7fbc41"
            ],
            [
             0.9,
             "#4d9221"
            ],
            [
             1,
             "#276419"
            ]
           ],
           "sequential": [
            [
             0,
             "#0d0887"
            ],
            [
             0.1111111111111111,
             "#46039f"
            ],
            [
             0.2222222222222222,
             "#7201a8"
            ],
            [
             0.3333333333333333,
             "#9c179e"
            ],
            [
             0.4444444444444444,
             "#bd3786"
            ],
            [
             0.5555555555555556,
             "#d8576b"
            ],
            [
             0.6666666666666666,
             "#ed7953"
            ],
            [
             0.7777777777777778,
             "#fb9f3a"
            ],
            [
             0.8888888888888888,
             "#fdca26"
            ],
            [
             1,
             "#f0f921"
            ]
           ],
           "sequentialminus": [
            [
             0,
             "#0d0887"
            ],
            [
             0.1111111111111111,
             "#46039f"
            ],
            [
             0.2222222222222222,
             "#7201a8"
            ],
            [
             0.3333333333333333,
             "#9c179e"
            ],
            [
             0.4444444444444444,
             "#bd3786"
            ],
            [
             0.5555555555555556,
             "#d8576b"
            ],
            [
             0.6666666666666666,
             "#ed7953"
            ],
            [
             0.7777777777777778,
             "#fb9f3a"
            ],
            [
             0.8888888888888888,
             "#fdca26"
            ],
            [
             1,
             "#f0f921"
            ]
           ]
          },
          "colorway": [
           "#636efa",
           "#EF553B",
           "#00cc96",
           "#ab63fa",
           "#FFA15A",
           "#19d3f3",
           "#FF6692",
           "#B6E880",
           "#FF97FF",
           "#FECB52"
          ],
          "font": {
           "color": "#2a3f5f"
          },
          "geo": {
           "bgcolor": "white",
           "lakecolor": "white",
           "landcolor": "#E5ECF6",
           "showlakes": true,
           "showland": true,
           "subunitcolor": "white"
          },
          "hoverlabel": {
           "align": "left"
          },
          "hovermode": "closest",
          "mapbox": {
           "style": "light"
          },
          "paper_bgcolor": "white",
          "plot_bgcolor": "#E5ECF6",
          "polar": {
           "angularaxis": {
            "gridcolor": "white",
            "linecolor": "white",
            "ticks": ""
           },
           "bgcolor": "#E5ECF6",
           "radialaxis": {
            "gridcolor": "white",
            "linecolor": "white",
            "ticks": ""
           }
          },
          "scene": {
           "xaxis": {
            "backgroundcolor": "#E5ECF6",
            "gridcolor": "white",
            "gridwidth": 2,
            "linecolor": "white",
            "showbackground": true,
            "ticks": "",
            "zerolinecolor": "white"
           },
           "yaxis": {
            "backgroundcolor": "#E5ECF6",
            "gridcolor": "white",
            "gridwidth": 2,
            "linecolor": "white",
            "showbackground": true,
            "ticks": "",
            "zerolinecolor": "white"
           },
           "zaxis": {
            "backgroundcolor": "#E5ECF6",
            "gridcolor": "white",
            "gridwidth": 2,
            "linecolor": "white",
            "showbackground": true,
            "ticks": "",
            "zerolinecolor": "white"
           }
          },
          "shapedefaults": {
           "line": {
            "color": "#2a3f5f"
           }
          },
          "ternary": {
           "aaxis": {
            "gridcolor": "white",
            "linecolor": "white",
            "ticks": ""
           },
           "baxis": {
            "gridcolor": "white",
            "linecolor": "white",
            "ticks": ""
           },
           "bgcolor": "#E5ECF6",
           "caxis": {
            "gridcolor": "white",
            "linecolor": "white",
            "ticks": ""
           }
          },
          "title": {
           "x": 0.05
          },
          "xaxis": {
           "automargin": true,
           "gridcolor": "white",
           "linecolor": "white",
           "ticks": "",
           "title": {
            "standoff": 15
           },
           "zerolinecolor": "white",
           "zerolinewidth": 2
          },
          "yaxis": {
           "automargin": true,
           "gridcolor": "white",
           "linecolor": "white",
           "ticks": "",
           "title": {
            "standoff": 15
           },
           "zerolinecolor": "white",
           "zerolinewidth": 2
          }
         }
        },
        "title": {
         "text": "Connecticut Covid-19 Details",
         "x": 0.45,
         "xanchor": "center",
         "y": 0.9,
         "yanchor": "top"
        },
        "xaxis": {
         "categoryorder": "category ascending",
         "type": "category"
        }
       }
      },
      "text/html": [
       "<div>                            <div id=\"6db465cf-4d7e-46a8-986e-86875f979efe\" class=\"plotly-graph-div\" style=\"height:525px; width:100%;\"></div>            <script type=\"text/javascript\">                require([\"plotly\"], function(Plotly) {                    window.PLOTLYENV=window.PLOTLYENV || {};                                    if (document.getElementById(\"6db465cf-4d7e-46a8-986e-86875f979efe\")) {                    Plotly.newPlot(                        \"6db465cf-4d7e-46a8-986e-86875f979efe\",                        [{\"marker\": {\"color\": \"#4f5266\"}, \"name\": \"residentstotaladmissionscovid19\", \"text\": [1489.0, 5098.0, 5577.0], \"textposition\": \"auto\", \"type\": \"bar\", \"x\": [\"2020-05-31\", \"2021-01-31\", \"2021-02-28\"], \"y\": [1489.0, 5098.0, 5577.0]}, {\"marker\": {\"color\": \"#855d89\"}, \"name\": \"residentstotalconfirmedcovid19\", \"text\": [5939.0, 11241.0, 11438.0], \"textposition\": \"auto\", \"type\": \"bar\", \"x\": [\"2020-05-31\", \"2021-01-31\", \"2021-02-28\"], \"y\": [5939.0, 11241.0, 11438.0]}, {\"marker\": {\"color\": \"#ce6086\"}, \"name\": \"residentstotalsuspectedcovid19\", \"text\": [2605.0, 3598.0, 3598.0], \"textposition\": \"auto\", \"type\": \"bar\", \"x\": [\"2020-05-31\", \"2021-01-31\", \"2021-02-28\"], \"y\": [2605.0, 3598.0, 3598.0]}, {\"marker\": {\"color\": \"#ff735c\"}, \"name\": \"inpatient_beds_used\", \"text\": [5363.0, 6441.0, 6304.0], \"textposition\": \"auto\", \"type\": \"bar\", \"x\": [\"2020-05-31\", \"2021-01-31\", \"2021-02-28\"], \"y\": [5363.0, 6441.0, 6304.0]}, {\"marker\": {\"color\": \"#ffa600\"}, \"name\": \"inpatient_beds_used_covid\", \"text\": [682.0, 1030.0, 504.0], \"textposition\": \"auto\", \"type\": \"bar\", \"x\": [\"2020-05-31\", \"2021-01-31\", \"2021-02-28\"], \"y\": [682.0, 1030.0, 504.0]}],                        {\"barmode\": \"group\", \"template\": {\"data\": {\"bar\": [{\"error_x\": {\"color\": \"#2a3f5f\"}, \"error_y\": {\"color\": \"#2a3f5f\"}, \"marker\": {\"line\": {\"color\": \"#E5ECF6\", \"width\": 0.5}}, \"type\": \"bar\"}], \"barpolar\": [{\"marker\": {\"line\": {\"color\": \"#E5ECF6\", \"width\": 0.5}}, \"type\": \"barpolar\"}], \"carpet\": [{\"aaxis\": {\"endlinecolor\": \"#2a3f5f\", \"gridcolor\": \"white\", \"linecolor\": \"white\", \"minorgridcolor\": \"white\", \"startlinecolor\": \"#2a3f5f\"}, \"baxis\": {\"endlinecolor\": \"#2a3f5f\", \"gridcolor\": \"white\", \"linecolor\": \"white\", \"minorgridcolor\": \"white\", \"startlinecolor\": \"#2a3f5f\"}, \"type\": \"carpet\"}], \"choropleth\": [{\"colorbar\": {\"outlinewidth\": 0, \"ticks\": \"\"}, \"type\": \"choropleth\"}], \"contour\": [{\"colorbar\": {\"outlinewidth\": 0, \"ticks\": \"\"}, \"colorscale\": [[0.0, \"#0d0887\"], [0.1111111111111111, \"#46039f\"], [0.2222222222222222, \"#7201a8\"], [0.3333333333333333, \"#9c179e\"], [0.4444444444444444, \"#bd3786\"], [0.5555555555555556, \"#d8576b\"], [0.6666666666666666, \"#ed7953\"], [0.7777777777777778, \"#fb9f3a\"], [0.8888888888888888, \"#fdca26\"], [1.0, \"#f0f921\"]], \"type\": \"contour\"}], \"contourcarpet\": [{\"colorbar\": {\"outlinewidth\": 0, \"ticks\": \"\"}, \"type\": \"contourcarpet\"}], \"heatmap\": [{\"colorbar\": {\"outlinewidth\": 0, \"ticks\": \"\"}, \"colorscale\": [[0.0, \"#0d0887\"], [0.1111111111111111, \"#46039f\"], [0.2222222222222222, \"#7201a8\"], [0.3333333333333333, \"#9c179e\"], [0.4444444444444444, \"#bd3786\"], [0.5555555555555556, \"#d8576b\"], [0.6666666666666666, \"#ed7953\"], [0.7777777777777778, \"#fb9f3a\"], [0.8888888888888888, \"#fdca26\"], [1.0, \"#f0f921\"]], \"type\": \"heatmap\"}], \"heatmapgl\": [{\"colorbar\": {\"outlinewidth\": 0, \"ticks\": \"\"}, \"colorscale\": [[0.0, \"#0d0887\"], [0.1111111111111111, \"#46039f\"], [0.2222222222222222, \"#7201a8\"], [0.3333333333333333, \"#9c179e\"], [0.4444444444444444, \"#bd3786\"], [0.5555555555555556, \"#d8576b\"], [0.6666666666666666, \"#ed7953\"], [0.7777777777777778, \"#fb9f3a\"], [0.8888888888888888, \"#fdca26\"], [1.0, \"#f0f921\"]], \"type\": \"heatmapgl\"}], \"histogram\": [{\"marker\": {\"colorbar\": {\"outlinewidth\": 0, \"ticks\": \"\"}}, \"type\": \"histogram\"}], \"histogram2d\": [{\"colorbar\": {\"outlinewidth\": 0, \"ticks\": \"\"}, \"colorscale\": [[0.0, \"#0d0887\"], [0.1111111111111111, \"#46039f\"], [0.2222222222222222, \"#7201a8\"], [0.3333333333333333, \"#9c179e\"], [0.4444444444444444, \"#bd3786\"], [0.5555555555555556, \"#d8576b\"], [0.6666666666666666, \"#ed7953\"], [0.7777777777777778, \"#fb9f3a\"], [0.8888888888888888, \"#fdca26\"], [1.0, \"#f0f921\"]], \"type\": \"histogram2d\"}], \"histogram2dcontour\": [{\"colorbar\": {\"outlinewidth\": 0, \"ticks\": \"\"}, \"colorscale\": [[0.0, \"#0d0887\"], [0.1111111111111111, \"#46039f\"], [0.2222222222222222, \"#7201a8\"], [0.3333333333333333, \"#9c179e\"], [0.4444444444444444, \"#bd3786\"], [0.5555555555555556, \"#d8576b\"], [0.6666666666666666, \"#ed7953\"], [0.7777777777777778, \"#fb9f3a\"], [0.8888888888888888, \"#fdca26\"], [1.0, \"#f0f921\"]], \"type\": \"histogram2dcontour\"}], \"mesh3d\": [{\"colorbar\": {\"outlinewidth\": 0, \"ticks\": \"\"}, \"type\": \"mesh3d\"}], \"parcoords\": [{\"line\": {\"colorbar\": {\"outlinewidth\": 0, \"ticks\": \"\"}}, \"type\": \"parcoords\"}], \"pie\": [{\"automargin\": true, \"type\": \"pie\"}], \"scatter\": [{\"marker\": {\"colorbar\": {\"outlinewidth\": 0, \"ticks\": \"\"}}, \"type\": \"scatter\"}], \"scatter3d\": [{\"line\": {\"colorbar\": {\"outlinewidth\": 0, \"ticks\": \"\"}}, \"marker\": {\"colorbar\": {\"outlinewidth\": 0, \"ticks\": \"\"}}, \"type\": \"scatter3d\"}], \"scattercarpet\": [{\"marker\": {\"colorbar\": {\"outlinewidth\": 0, \"ticks\": \"\"}}, \"type\": \"scattercarpet\"}], \"scattergeo\": [{\"marker\": {\"colorbar\": {\"outlinewidth\": 0, \"ticks\": \"\"}}, \"type\": \"scattergeo\"}], \"scattergl\": [{\"marker\": {\"colorbar\": {\"outlinewidth\": 0, \"ticks\": \"\"}}, \"type\": \"scattergl\"}], \"scattermapbox\": [{\"marker\": {\"colorbar\": {\"outlinewidth\": 0, \"ticks\": \"\"}}, \"type\": \"scattermapbox\"}], \"scatterpolar\": [{\"marker\": {\"colorbar\": {\"outlinewidth\": 0, \"ticks\": \"\"}}, \"type\": \"scatterpolar\"}], \"scatterpolargl\": [{\"marker\": {\"colorbar\": {\"outlinewidth\": 0, \"ticks\": \"\"}}, \"type\": \"scatterpolargl\"}], \"scatterternary\": [{\"marker\": {\"colorbar\": {\"outlinewidth\": 0, \"ticks\": \"\"}}, \"type\": \"scatterternary\"}], \"surface\": [{\"colorbar\": {\"outlinewidth\": 0, \"ticks\": \"\"}, \"colorscale\": [[0.0, \"#0d0887\"], [0.1111111111111111, \"#46039f\"], [0.2222222222222222, \"#7201a8\"], [0.3333333333333333, \"#9c179e\"], [0.4444444444444444, \"#bd3786\"], [0.5555555555555556, \"#d8576b\"], [0.6666666666666666, \"#ed7953\"], [0.7777777777777778, \"#fb9f3a\"], [0.8888888888888888, \"#fdca26\"], [1.0, \"#f0f921\"]], \"type\": \"surface\"}], \"table\": [{\"cells\": {\"fill\": {\"color\": \"#EBF0F8\"}, \"line\": {\"color\": \"white\"}}, \"header\": {\"fill\": {\"color\": \"#C8D4E3\"}, \"line\": {\"color\": \"white\"}}, \"type\": \"table\"}]}, \"layout\": {\"annotationdefaults\": {\"arrowcolor\": \"#2a3f5f\", \"arrowhead\": 0, \"arrowwidth\": 1}, \"autotypenumbers\": \"strict\", \"coloraxis\": {\"colorbar\": {\"outlinewidth\": 0, \"ticks\": \"\"}}, \"colorscale\": {\"diverging\": [[0, \"#8e0152\"], [0.1, \"#c51b7d\"], [0.2, \"#de77ae\"], [0.3, \"#f1b6da\"], [0.4, \"#fde0ef\"], [0.5, \"#f7f7f7\"], [0.6, \"#e6f5d0\"], [0.7, \"#b8e186\"], [0.8, \"#7fbc41\"], [0.9, \"#4d9221\"], [1, \"#276419\"]], \"sequential\": [[0.0, \"#0d0887\"], [0.1111111111111111, \"#46039f\"], [0.2222222222222222, \"#7201a8\"], [0.3333333333333333, \"#9c179e\"], [0.4444444444444444, \"#bd3786\"], [0.5555555555555556, \"#d8576b\"], [0.6666666666666666, \"#ed7953\"], [0.7777777777777778, \"#fb9f3a\"], [0.8888888888888888, \"#fdca26\"], [1.0, \"#f0f921\"]], \"sequentialminus\": [[0.0, \"#0d0887\"], [0.1111111111111111, \"#46039f\"], [0.2222222222222222, \"#7201a8\"], [0.3333333333333333, \"#9c179e\"], [0.4444444444444444, \"#bd3786\"], [0.5555555555555556, \"#d8576b\"], [0.6666666666666666, \"#ed7953\"], [0.7777777777777778, \"#fb9f3a\"], [0.8888888888888888, \"#fdca26\"], [1.0, \"#f0f921\"]]}, \"colorway\": [\"#636efa\", \"#EF553B\", \"#00cc96\", \"#ab63fa\", \"#FFA15A\", \"#19d3f3\", \"#FF6692\", \"#B6E880\", \"#FF97FF\", \"#FECB52\"], \"font\": {\"color\": \"#2a3f5f\"}, \"geo\": {\"bgcolor\": \"white\", \"lakecolor\": \"white\", \"landcolor\": \"#E5ECF6\", \"showlakes\": true, \"showland\": true, \"subunitcolor\": \"white\"}, \"hoverlabel\": {\"align\": \"left\"}, \"hovermode\": \"closest\", \"mapbox\": {\"style\": \"light\"}, \"paper_bgcolor\": \"white\", \"plot_bgcolor\": \"#E5ECF6\", \"polar\": {\"angularaxis\": {\"gridcolor\": \"white\", \"linecolor\": \"white\", \"ticks\": \"\"}, \"bgcolor\": \"#E5ECF6\", \"radialaxis\": {\"gridcolor\": \"white\", \"linecolor\": \"white\", \"ticks\": \"\"}}, \"scene\": {\"xaxis\": {\"backgroundcolor\": \"#E5ECF6\", \"gridcolor\": \"white\", \"gridwidth\": 2, \"linecolor\": \"white\", \"showbackground\": true, \"ticks\": \"\", \"zerolinecolor\": \"white\"}, \"yaxis\": {\"backgroundcolor\": \"#E5ECF6\", \"gridcolor\": \"white\", \"gridwidth\": 2, \"linecolor\": \"white\", \"showbackground\": true, \"ticks\": \"\", \"zerolinecolor\": \"white\"}, \"zaxis\": {\"backgroundcolor\": \"#E5ECF6\", \"gridcolor\": \"white\", \"gridwidth\": 2, \"linecolor\": \"white\", \"showbackground\": true, \"ticks\": \"\", \"zerolinecolor\": \"white\"}}, \"shapedefaults\": {\"line\": {\"color\": \"#2a3f5f\"}}, \"ternary\": {\"aaxis\": {\"gridcolor\": \"white\", \"linecolor\": \"white\", \"ticks\": \"\"}, \"baxis\": {\"gridcolor\": \"white\", \"linecolor\": \"white\", \"ticks\": \"\"}, \"bgcolor\": \"#E5ECF6\", \"caxis\": {\"gridcolor\": \"white\", \"linecolor\": \"white\", \"ticks\": \"\"}}, \"title\": {\"x\": 0.05}, \"xaxis\": {\"automargin\": true, \"gridcolor\": \"white\", \"linecolor\": \"white\", \"ticks\": \"\", \"title\": {\"standoff\": 15}, \"zerolinecolor\": \"white\", \"zerolinewidth\": 2}, \"yaxis\": {\"automargin\": true, \"gridcolor\": \"white\", \"linecolor\": \"white\", \"ticks\": \"\", \"title\": {\"standoff\": 15}, \"zerolinecolor\": \"white\", \"zerolinewidth\": 2}}}, \"title\": {\"text\": \"Connecticut Covid-19 Details\", \"x\": 0.45, \"xanchor\": \"center\", \"y\": 0.9, \"yanchor\": \"top\"}, \"xaxis\": {\"categoryorder\": \"category ascending\", \"type\": \"category\"}},                        {\"responsive\": true}                    ).then(function(){\n",
       "                            \n",
       "var gd = document.getElementById('6db465cf-4d7e-46a8-986e-86875f979efe');\n",
       "var x = new MutationObserver(function (mutations, observer) {{\n",
       "        var display = window.getComputedStyle(gd).display;\n",
       "        if (!display || display === 'none') {{\n",
       "            console.log([gd, 'removed!']);\n",
       "            Plotly.purge(gd);\n",
       "            observer.disconnect();\n",
       "        }}\n",
       "}});\n",
       "\n",
       "// Listen for the removal of the full notebook cells\n",
       "var notebookContainer = gd.closest('#notebook-container');\n",
       "if (notebookContainer) {{\n",
       "    x.observe(notebookContainer, {childList: true});\n",
       "}}\n",
       "\n",
       "// Listen for the clearing of the current output cell\n",
       "var outputEl = gd.closest('.output');\n",
       "if (outputEl) {{\n",
       "    x.observe(outputEl, {childList: true});\n",
       "}}\n",
       "\n",
       "                        })                };                });            </script>        </div>"
      ]
     },
     "metadata": {},
     "output_type": "display_data"
    }
   ],
   "source": [
    "fig = go.Figure()\n",
    "fig.add_trace(go.Bar(\n",
    "    x=dm2[\"enddate\"],\n",
    "    y=dm2[\"residentstotaladmissionscovid19\"],\n",
    "    name='residentstotaladmissionscovid19',\n",
    "    marker_color='#4f5266', text= dm2[\"residentstotaladmissionscovid19\"],\n",
    "    textposition='auto'\n",
    "))\n",
    "fig.add_trace(go.Bar(\n",
    "    x=dm2[\"enddate\"],\n",
    "    y=dm2[\"residentstotalconfirmedcovid19\"],\n",
    "    \n",
    "    name='residentstotalconfirmedcovid19',\n",
    "    marker_color='#855d89', text= dm2[\"residentstotalconfirmedcovid19\"], textposition='auto'\n",
    "))\n",
    "fig.add_trace(go.Bar(\n",
    "    x=dm2[\"enddate\"],\n",
    "    y=dm2[\"residentstotalsuspectedcovid19\"],\n",
    "    \n",
    "    name='residentstotalsuspectedcovid19',\n",
    "    marker_color='#ce6086', text= dm2[\"residentstotalsuspectedcovid19\"], textposition='auto'\n",
    "))\n",
    "fig.add_trace(go.Bar(\n",
    "    x=dm2[\"enddate\"],\n",
    "    y=dm2[\"inpatient_beds_used\"],\n",
    "    name='inpatient_beds_used',\n",
    "    marker_color='#ff735c', text= dm2[\"inpatient_beds_used\"], textposition='auto'\n",
    "))\n",
    "fig.add_trace(go.Bar(\n",
    "    x=dm2[\"enddate\"],\n",
    "    y=dm2[\"inpatient_beds_used_covid\"],\n",
    "    name='inpatient_beds_used_covid',\n",
    "    marker_color='#ffa600', text= dm2[\"inpatient_beds_used_covid\"], textposition='auto'\n",
    "    \n",
    "))\n",
    "\n",
    "fig.update_layout(barmode = 'group',\n",
    "    title={'text': \"Connecticut Covid-19 Details\",'y':0.9,'x':0.45,'xanchor': 'center', 'yanchor': 'top'}, xaxis = dict(type=\"category\", categoryorder='category ascending'))\n",
    "\n",
    "fig.show()\n"
   ]
  },
  {
   "cell_type": "code",
   "execution_count": null,
   "metadata": {},
   "outputs": [],
   "source": []
  }
 ],
 "metadata": {
  "kernelspec": {
   "display_name": "Python 3",
   "language": "python",
   "name": "python3"
  },
  "language_info": {
   "codemirror_mode": {
    "name": "ipython",
    "version": 3
   },
   "file_extension": ".py",
   "mimetype": "text/x-python",
   "name": "python",
   "nbconvert_exporter": "python",
   "pygments_lexer": "ipython3",
   "version": "3.7.6"
  }
 },
 "nbformat": 4,
 "nbformat_minor": 4
}
